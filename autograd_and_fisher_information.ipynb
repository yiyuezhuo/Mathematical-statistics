{
 "cells": [
  {
   "cell_type": "markdown",
   "metadata": {},
   "source": [
    "这里尝试利用autograd计算对数似然函数的Hessian矩阵，并计算Fisher信息阵，比较渐进正态（无论是贝叶斯意义上的还是频率主义的），数值积分（特别是那个书上提到的数值积分方法）与Laplace近似之间的关系。"
   ]
  },
  {
   "cell_type": "code",
   "execution_count": 1,
   "metadata": {},
   "outputs": [],
   "source": [
    "import autograd.numpy as np  "
   ]
  },
  {
   "cell_type": "code",
   "execution_count": 2,
   "metadata": {},
   "outputs": [],
   "source": [
    "from autograd import grad,hessian,jacobian"
   ]
  },
  {
   "cell_type": "code",
   "execution_count": 3,
   "metadata": {},
   "outputs": [],
   "source": [
    "import autograd"
   ]
  },
  {
   "cell_type": "code",
   "execution_count": 4,
   "metadata": {},
   "outputs": [],
   "source": [
    "def quad(x):\n",
    "    return x.T @ np.array([[2.,1.],[1.,2.]]) @ x"
   ]
  },
  {
   "cell_type": "code",
   "execution_count": 5,
   "metadata": {},
   "outputs": [
    {
     "data": {
      "text/plain": [
       "14.0"
      ]
     },
     "execution_count": 5,
     "metadata": {},
     "output_type": "execute_result"
    }
   ],
   "source": [
    "quad(np.array([1,2]))"
   ]
  },
  {
   "cell_type": "code",
   "execution_count": 6,
   "metadata": {},
   "outputs": [],
   "source": [
    "hess_quad = autograd.hessian(quad)"
   ]
  },
  {
   "cell_type": "code",
   "execution_count": 7,
   "metadata": {
    "scrolled": false
   },
   "outputs": [
    {
     "data": {
      "text/plain": [
       "array([[4., 2.],\n",
       "       [2., 4.]])"
      ]
     },
     "execution_count": 7,
     "metadata": {},
     "output_type": "execute_result"
    }
   ],
   "source": [
    "hess_quad(np.array([1.,2.]))"
   ]
  },
  {
   "cell_type": "code",
   "execution_count": 8,
   "metadata": {},
   "outputs": [],
   "source": [
    "# 原书数据，不过好像有问题就不用了。\n",
    "#days = np.array([21, 24, 25, 26, 28, 31, 33, 34, 35, 37, 43, 49, 51, 55, 25, 29, 43, 44, 46, 46, 51, 55, 56, 58],dtype=np.float32)\n",
    "#response = np.array([1]*14 + [0]*10,dtype=np.float32)"
   ]
  },
  {
   "cell_type": "code",
   "execution_count": 9,
   "metadata": {},
   "outputs": [],
   "source": [
    "#days = np.array([11, 16, 20, 20, 21, 24, 25, 26, 28, 31, 33, 34, 35, 37, 43, 49, 51, 55, 20, 20, 25, 29, 43, 44, 46, 46, 51, 55, 56, 58, 72],dtype=np.float32)\n",
    "#response = np.array([1]*18 + [0]*13,dtype=np.float32)"
   ]
  },
  {
   "cell_type": "code",
   "execution_count": 10,
   "metadata": {},
   "outputs": [],
   "source": [
    "def loglikelihood(params):\n",
    "    alpha, beta = params\n",
    "    return np.sum(y * (alpha + beta * x) - np.log(1.+np.exp(alpha+beta*x)))"
   ]
  },
  {
   "cell_type": "code",
   "execution_count": 11,
   "metadata": {},
   "outputs": [],
   "source": [
    "hess_loglikelihood = hessian(loglikelihood)\n",
    "grad_loglikelihood = grad(loglikelihood)"
   ]
  },
  {
   "cell_type": "code",
   "execution_count": 12,
   "metadata": {},
   "outputs": [],
   "source": [
    "def exact_grad_loglikelihood(params):\n",
    "    alpha,beta = params\n",
    "    P = np.exp(alpha+beta*x)/(1.+np.exp(alpha+beta*x))\n",
    "    return np.array([np.sum(y-P), np.sum(x*(y-P))])\n",
    "\n",
    "def exact_hess_loglikelihood(params):\n",
    "    alpha, beta = params\n",
    "    P = np.exp(alpha+beta*x)/(1.+np.exp(alpha+beta*x))\n",
    "    return np.array([[-np.sum(P*(1-P)),-np.sum(x*P*(1-P))],\n",
    "                     [-np.sum(x*P*(1-P)),-np.sum(x**2*P*(1-P))]])"
   ]
  },
  {
   "cell_type": "code",
   "execution_count": 13,
   "metadata": {},
   "outputs": [],
   "source": [
    "def newton_raphson(f, x0, grad, hess, n_iter, verbose=True):\n",
    "    x = x0\n",
    "    for i in range(n_iter):\n",
    "        if verbose:\n",
    "            print(x)\n",
    "        x = x + np.linalg.inv(-hess(x)) @ grad(x)\n",
    "    return x\n",
    "\n",
    "def newton_raphson_1d(f, x0, grad, hess, n_iter, verbose=True):\n",
    "    x = x0\n",
    "    for i in range(n_iter):\n",
    "        if verbose:\n",
    "            print(x)\n",
    "        x = x + 1./(-hess(x)) * grad(x)\n",
    "    return x"
   ]
  },
  {
   "cell_type": "code",
   "execution_count": 14,
   "metadata": {},
   "outputs": [],
   "source": [
    "import statsmodels.api as sm\n",
    "import matplotlib.pyplot as plt"
   ]
  },
  {
   "cell_type": "code",
   "execution_count": 15,
   "metadata": {},
   "outputs": [],
   "source": [
    "spector_data = sm.datasets.spector.load()\n"
   ]
  },
  {
   "cell_type": "code",
   "execution_count": 16,
   "metadata": {},
   "outputs": [
    {
     "data": {
      "text/plain": [
       "<matplotlib.collections.PathCollection at 0x2bf45200be0>"
      ]
     },
     "execution_count": 16,
     "metadata": {},
     "output_type": "execute_result"
    },
    {
     "data": {
      "image/png": "[encoded data removed]",
      "text/plain": [
       "<Figure size 432x288 with 1 Axes>"
      ]
     },
     "metadata": {},
     "output_type": "display_data"
    }
   ],
   "source": [
    "plt.scatter(spector_data.exog[:,0], spector_data.endog)"
   ]
  },
  {
   "cell_type": "code",
   "execution_count": 17,
   "metadata": {},
   "outputs": [
    {
     "data": {
      "text/plain": [
       "(32, 2)"
      ]
     },
     "execution_count": 17,
     "metadata": {},
     "output_type": "execute_result"
    }
   ],
   "source": [
    "x = spector_data.exog[:,0]\n",
    "x = np.vstack([np.ones_like(x),x]).T\n",
    "x.shape"
   ]
  },
  {
   "cell_type": "code",
   "execution_count": 18,
   "metadata": {},
   "outputs": [
    {
     "data": {
      "text/plain": [
       "array([[1.  , 2.66],\n",
       "       [1.  , 2.89],\n",
       "       [1.  , 3.28]])"
      ]
     },
     "execution_count": 18,
     "metadata": {},
     "output_type": "execute_result"
    }
   ],
   "source": [
    "x[:3,:]"
   ]
  },
  {
   "cell_type": "code",
   "execution_count": 19,
   "metadata": {},
   "outputs": [
    {
     "name": "stdout",
     "output_type": "stream",
     "text": [
      "Parameters:  [-9.70319229  2.84006002]\n"
     ]
    }
   ],
   "source": [
    "logit_mod = sm.Logit(spector_data.endog, x)\n",
    "logit_res = logit_mod.fit(disp=0)\n",
    "print('Parameters: ', logit_res.params)\n"
   ]
  },
  {
   "cell_type": "code",
   "execution_count": 20,
   "metadata": {},
   "outputs": [
    {
     "data": {
      "text/html": [
       "<table class=\"simpletable\">\n",
       "<caption>Logit Regression Results</caption>\n",
       "<tr>\n",
       "  <th>Dep. Variable:</th>         <td>y</td>        <th>  No. Observations:  </th>  <td>    32</td> \n",
       "</tr>\n",
       "<tr>\n",
       "  <th>Model:</th>               <td>Logit</td>      <th>  Df Residuals:      </th>  <td>    30</td> \n",
       "</tr>\n",
       "<tr>\n",
       "  <th>Method:</th>               <td>MLE</td>       <th>  Df Model:          </th>  <td>     1</td> \n",
       "</tr>\n",
       "<tr>\n",
       "  <th>Date:</th>          <td>Fri, 14 Dec 2018</td> <th>  Pseudo R-squ.:     </th>  <td>0.2128</td> \n",
       "</tr>\n",
       "<tr>\n",
       "  <th>Time:</th>              <td>17:58:24</td>     <th>  Log-Likelihood:    </th> <td> -16.209</td>\n",
       "</tr>\n",
       "<tr>\n",
       "  <th>converged:</th>           <td>True</td>       <th>  LL-Null:           </th> <td> -20.592</td>\n",
       "</tr>\n",
       "<tr>\n",
       "  <th> </th>                      <td> </td>        <th>  LLR p-value:       </th> <td>0.003070</td>\n",
       "</tr>\n",
       "</table>\n",
       "<table class=\"simpletable\">\n",
       "<tr>\n",
       "    <td></td>       <th>coef</th>     <th>std err</th>      <th>z</th>      <th>P>|z|</th>  <th>[0.025</th>    <th>0.975]</th>  \n",
       "</tr>\n",
       "<tr>\n",
       "  <th>const</th> <td>   -9.7032</td> <td>    3.671</td> <td>   -2.643</td> <td> 0.008</td> <td>  -16.898</td> <td>   -2.508</td>\n",
       "</tr>\n",
       "<tr>\n",
       "  <th>x1</th>    <td>    2.8401</td> <td>    1.127</td> <td>    2.520</td> <td> 0.012</td> <td>    0.631</td> <td>    5.049</td>\n",
       "</tr>\n",
       "</table>"
      ],
      "text/plain": [
       "<class 'statsmodels.iolib.summary.Summary'>\n",
       "\"\"\"\n",
       "                           Logit Regression Results                           \n",
       "==============================================================================\n",
       "Dep. Variable:                      y   No. Observations:                   32\n",
       "Model:                          Logit   Df Residuals:                       30\n",
       "Method:                           MLE   Df Model:                            1\n",
       "Date:                Fri, 14 Dec 2018   Pseudo R-squ.:                  0.2128\n",
       "Time:                        17:58:24   Log-Likelihood:                -16.209\n",
       "converged:                       True   LL-Null:                       -20.592\n",
       "                                        LLR p-value:                  0.003070\n",
       "==============================================================================\n",
       "                 coef    std err          z      P>|z|      [0.025      0.975]\n",
       "------------------------------------------------------------------------------\n",
       "const         -9.7032      3.671     -2.643      0.008     -16.898      -2.508\n",
       "x1             2.8401      1.127      2.520      0.012       0.631       5.049\n",
       "==============================================================================\n",
       "\"\"\""
      ]
     },
     "execution_count": 20,
     "metadata": {},
     "output_type": "execute_result"
    }
   ],
   "source": [
    "logit_res.summary()"
   ]
  },
  {
   "cell_type": "code",
   "execution_count": 21,
   "metadata": {},
   "outputs": [],
   "source": [
    "x = spector_data.exog[:,0]\n",
    "y = spector_data.endog"
   ]
  },
  {
   "cell_type": "code",
   "execution_count": 22,
   "metadata": {},
   "outputs": [
    {
     "name": "stdout",
     "output_type": "stream",
     "text": [
      "[0.1 0.1]\n",
      "[-7.2871188   2.12754974]\n",
      "[-9.37246301  2.74297315]\n",
      "[-9.69616043  2.83800321]\n"
     ]
    },
    {
     "data": {
      "text/plain": [
       "array([-9.70318902,  2.84005907])"
      ]
     },
     "execution_count": 22,
     "metadata": {},
     "output_type": "execute_result"
    }
   ],
   "source": [
    "newton_raphson(loglikelihood, np.array([0.1,0.1]), exact_grad_loglikelihood, exact_hess_loglikelihood, 4)"
   ]
  },
  {
   "cell_type": "code",
   "execution_count": 23,
   "metadata": {},
   "outputs": [
    {
     "name": "stdout",
     "output_type": "stream",
     "text": [
      "[0.1 0.1]\n",
      "[-7.2871188   2.12754974]\n",
      "[-9.37246301  2.74297315]\n",
      "[-9.69616043  2.83800321]\n",
      "[-9.70318902  2.84005907]\n",
      "[-9.70319229  2.84006002]\n",
      "[-9.70319229  2.84006002]\n",
      "[-9.70319229  2.84006002]\n",
      "[-9.70319229  2.84006002]\n",
      "[-9.70319229  2.84006002]\n"
     ]
    },
    {
     "data": {
      "text/plain": [
       "array([-9.70319229,  2.84006002])"
      ]
     },
     "execution_count": 23,
     "metadata": {},
     "output_type": "execute_result"
    }
   ],
   "source": [
    "newton_raphson(loglikelihood, np.array([0.1,0.1]), exact_grad_loglikelihood, exact_hess_loglikelihood, 10)"
   ]
  },
  {
   "cell_type": "code",
   "execution_count": 24,
   "metadata": {},
   "outputs": [
    {
     "name": "stdout",
     "output_type": "stream",
     "text": [
      "[0.1 0.1]\n",
      "[-7.2871188   2.12754974]\n",
      "[-9.37246301  2.74297315]\n",
      "[-9.69616043  2.83800321]\n",
      "[-9.70318902  2.84005907]\n",
      "[-9.70319229  2.84006002]\n",
      "[-9.70319229  2.84006002]\n",
      "[-9.70319229  2.84006002]\n",
      "[-9.70319229  2.84006002]\n",
      "[-9.70319229  2.84006002]\n"
     ]
    },
    {
     "data": {
      "text/plain": [
       "array([-9.70319229,  2.84006002])"
      ]
     },
     "execution_count": 24,
     "metadata": {},
     "output_type": "execute_result"
    }
   ],
   "source": [
    "hat_theta = newton_raphson(loglikelihood, np.array([0.1,0.1]), grad_loglikelihood, hess_loglikelihood, 10)\n",
    "hat_theta"
   ]
  },
  {
   "cell_type": "markdown",
   "metadata": {},
   "source": [
    "Observed Fisher information matrix\n",
    "\n",
    "$$\n",
    "I(\\hat{\\theta} \\mid Y) =  -\\frac{\\partial^2 l(\\theta \\mid Y)}{\\partial \\theta^2} \\Big|_\\hat{\\theta}\n",
    "$$"
   ]
  },
  {
   "cell_type": "code",
   "execution_count": 25,
   "metadata": {},
   "outputs": [
    {
     "data": {
      "text/plain": [
       "array([[ 5.34385706, 17.28619571],\n",
       "       [17.28619571, 56.7043715 ]])"
      ]
     },
     "execution_count": 25,
     "metadata": {},
     "output_type": "execute_result"
    }
   ],
   "source": [
    "I = -exact_hess_loglikelihood(hat_theta)\n",
    "I"
   ]
  },
  {
   "cell_type": "code",
   "execution_count": 26,
   "metadata": {},
   "outputs": [
    {
     "data": {
      "text/plain": [
       "array([[ 5.34385706, 17.28619571],\n",
       "       [17.28619571, 56.7043715 ]])"
      ]
     },
     "execution_count": 26,
     "metadata": {},
     "output_type": "execute_result"
    }
   ],
   "source": [
    "I = -hess_loglikelihood(hat_theta)\n",
    "I"
   ]
  },
  {
   "cell_type": "code",
   "execution_count": 27,
   "metadata": {},
   "outputs": [
    {
     "data": {
      "text/plain": [
       "array([[13.47699445, -4.1084304 ],\n",
       "       [-4.1084304 ,  1.27008077]])"
      ]
     },
     "execution_count": 27,
     "metadata": {},
     "output_type": "execute_result"
    }
   ],
   "source": [
    "C = np.linalg.inv(I)\n",
    "C"
   ]
  },
  {
   "cell_type": "markdown",
   "metadata": {},
   "source": [
    "Expected Fisher information matrix\n",
    "$$\n",
    "J(\\theta) = E\\left(-\\frac{\\partial^2 l(\\theta \\mid Y)}{\\partial \\theta^2} \\middle| \\theta \\right)\n",
    "$$\n",
    "\n",
    "特别地，我们考虑期望费舍尔信息阵在$\\hat{\\theta}$处的估计值:\n",
    "\n",
    "$$\n",
    "\\hat{J}(\\hat{\\theta}) = \\frac{1}{n} \\sum_{i=1}^n \\left(-\\frac{\\partial^2 l(\\theta \\mid Y_i)}{\\partial \\theta^2} \\middle| \\hat{\\theta} \\right)\n",
    "$$"
   ]
  },
  {
   "cell_type": "code",
   "execution_count": 28,
   "metadata": {},
   "outputs": [
    {
     "data": {
      "text/plain": [
       "array([[0.16699553, 0.54019362],\n",
       "       [0.54019362, 1.77201161]])"
      ]
     },
     "execution_count": 28,
     "metadata": {},
     "output_type": "execute_result"
    }
   ],
   "source": [
    "_x = x\n",
    "_y = y\n",
    "hess_list = []\n",
    "for i in range(_y.shape[0]):\n",
    "    x = _x[i]\n",
    "    y = _y[i]\n",
    "    hess_list.append(-hess_loglikelihood(hat_theta))\n",
    "J = np.array(hess_list).mean(0)\n",
    "x = _x\n",
    "y = _y\n",
    "J"
   ]
  },
  {
   "cell_type": "code",
   "execution_count": 29,
   "metadata": {},
   "outputs": [
    {
     "data": {
      "text/plain": [
       "array([[ 431.26382236, -131.46977275],\n",
       "       [-131.46977275,   40.6425847 ]])"
      ]
     },
     "execution_count": 29,
     "metadata": {},
     "output_type": "execute_result"
    }
   ],
   "source": [
    "np.linalg.inv(J)"
   ]
  },
  {
   "cell_type": "markdown",
   "metadata": {},
   "source": [
    "EMMM，那么算好像不对，还是应该用一次实验，但由n个样本那种(那就是Observed information matrix)，这和n次实验，每次一个样本看起来不等价。"
   ]
  },
  {
   "cell_type": "code",
   "execution_count": 30,
   "metadata": {},
   "outputs": [],
   "source": [
    "def likelihood(params):\n",
    "    return np.exp(loglikelihood(params))"
   ]
  },
  {
   "cell_type": "code",
   "execution_count": 31,
   "metadata": {},
   "outputs": [],
   "source": [
    "def trapezoidal_rule(f, left, right, m):\n",
    "    xs = np.linspace(left, right, m, True)\n",
    "    ys = np.empty_like(xs)\n",
    "    for i,x in enumerate(xs):\n",
    "        ys[i] = f(x)\n",
    "    ys[0] /= 2\n",
    "    ys[-1] /=2\n",
    "    return (right - left)/m * np.sum(ys)"
   ]
  },
  {
   "cell_type": "code",
   "execution_count": 32,
   "metadata": {},
   "outputs": [
    {
     "data": {
      "text/plain": [
       "9.81451256937128e-08"
      ]
     },
     "execution_count": 32,
     "metadata": {},
     "output_type": "execute_result"
    }
   ],
   "source": [
    "trapezoidal_rule(lambda alpha: likelihood([alpha, 2.8]), -20, 0, 100)"
   ]
  },
  {
   "cell_type": "code",
   "execution_count": 33,
   "metadata": {},
   "outputs": [
    {
     "data": {
      "text/plain": [
       "[<matplotlib.lines.Line2D at 0x2bf452ef128>]"
      ]
     },
     "execution_count": 33,
     "metadata": {},
     "output_type": "execute_result"
    },
    {
     "data": {
      "image/png": "[encoded data removed]",
      "text/plain": [
       "<Figure size 432x288 with 1 Axes>"
      ]
     },
     "metadata": {},
     "output_type": "display_data"
    }
   ],
   "source": [
    "plt.plot(np.linspace(-20,0,100,True),[likelihood([alpha,2.8]) for alpha in np.linspace(-20,0,100,True)])"
   ]
  },
  {
   "cell_type": "code",
   "execution_count": 34,
   "metadata": {},
   "outputs": [
    {
     "data": {
      "text/plain": [
       "2.0321935618951474e-06"
      ]
     },
     "execution_count": 34,
     "metadata": {},
     "output_type": "execute_result"
    }
   ],
   "source": [
    "betas = np.linspace(-12,16,200)\n",
    "p_betas = np.array([trapezoidal_rule(lambda alpha: likelihood([alpha, beta]), -20, 0, 100) for beta in betas])\n",
    "p_betas.sum()"
   ]
  },
  {
   "cell_type": "code",
   "execution_count": 35,
   "metadata": {},
   "outputs": [
    {
     "data": {
      "text/plain": [
       "7.107142857142893"
      ]
     },
     "execution_count": 35,
     "metadata": {},
     "output_type": "execute_result"
    }
   ],
   "source": [
    "step = betas[1] - betas[0]\n",
    "w = np.ones_like(p_betas)\n",
    "w[0] = w[-1] = 0.5\n",
    "p_betas = p_betas / np.sum(p_betas * w * step)\n",
    "p_betas.sum()"
   ]
  },
  {
   "cell_type": "code",
   "execution_count": 36,
   "metadata": {},
   "outputs": [
    {
     "data": {
      "text/plain": [
       "array([7.09108492e-192, 1.43914314e-189, 2.92075614e-187, 5.92770529e-185,\n",
       "       1.20303402e-182, 2.44157019e-180, 4.95519238e-178, 1.00566150e-175,\n",
       "       2.04100060e-173, 4.14223217e-171, 8.40670374e-169, 1.70614936e-166,\n",
       "       3.46264807e-164, 7.02748067e-162, 1.42623459e-159, 2.89455810e-157,\n",
       "       5.87453609e-155, 1.19224328e-152, 2.41967026e-150, 4.91074623e-148,\n",
       "       9.96641109e-146, 2.02269361e-143, 4.10507793e-141, 8.33129879e-139,\n",
       "       1.69084584e-136, 3.43158939e-134, 6.96444668e-132, 1.41344176e-129,\n",
       "       2.86859486e-127, 5.82184330e-125, 1.18154918e-122, 2.39796639e-120,\n",
       "       4.86669773e-118, 9.87701346e-116, 2.00455006e-113, 4.06825486e-111,\n",
       "       8.25656446e-109, 1.67567801e-106, 3.40080496e-104, 6.90196616e-102,\n",
       "       1.40076039e-099, 2.84285544e-097, 5.76959810e-095, 1.17094408e-092,\n",
       "       2.37643801e-090, 4.82299109e-088, 9.78826976e-086, 1.98652808e-083,\n",
       "       4.03164727e-081, 8.18217973e-079, 1.66055645e-076, 3.37004483e-074,\n",
       "       6.83933814e-072, 1.38799330e-069, 2.81678356e-067, 5.71622656e-065,\n",
       "       1.15998137e-062, 2.35381419e-060, 4.77599920e-058, 9.68979837e-056,\n",
       "       1.96564748e-053, 3.98667491e-051, 8.08336838e-049, 1.63830586e-046,\n",
       "       3.31846930e-044, 6.71586910e-042, 1.35741829e-039, 2.73851153e-037,\n",
       "       5.50964167e-035, 1.10401120e-032, 2.19897950e-030, 4.34116763e-028,\n",
       "       8.45754060e-026, 1.61550026e-023, 2.99608021e-021, 5.31641860e-019,\n",
       "       8.83031386e-017, 1.32870989e-014, 1.72598484e-012, 1.80473171e-010,\n",
       "       1.37645187e-008, 6.71200424e-007, 1.78306393e-005, 2.20169249e-004,\n",
       "       1.16495158e-003, 2.97918946e-003, 5.20664640e-003, 8.22495161e-003,\n",
       "       1.25654988e-002, 1.86483347e-002, 2.68966370e-002, 3.77187444e-002,\n",
       "       5.14594301e-002, 6.83448922e-002, 8.84294476e-002, 1.11552543e-001,\n",
       "       1.37314211e-001, 1.65074914e-001, 1.93982219e-001, 2.23022598e-001,\n",
       "       2.51092740e-001, 2.77081884e-001, 2.99955288e-001, 3.18829230e-001,\n",
       "       3.33029712e-001, 3.42129760e-001, 3.45963381e-001, 3.44617232e-001,\n",
       "       3.38403447e-001, 3.27818671e-001, 3.13494949e-001, 2.96148019e-001,\n",
       "       2.76527765e-001, 2.55374446e-001, 2.33383054e-001, 2.11176893e-001,\n",
       "       1.89290450e-001, 1.68160788e-001, 1.48126213e-001, 1.29430642e-001,\n",
       "       1.12232090e-001, 9.66137410e-002, 8.25962361e-002, 7.01481399e-002,\n",
       "       5.91652403e-002, 4.92341072e-002, 3.89575202e-002, 2.64972087e-002,\n",
       "       1.33964492e-002, 4.44005879e-003, 8.92164333e-004, 1.04247556e-004,\n",
       "       6.92981061e-006, 2.58809677e-007, 5.39455273e-009, 6.27845716e-011,\n",
       "       4.12702120e-013, 1.57232810e-015, 3.61746987e-018, 5.30276613e-021,\n",
       "       5.26489915e-024, 3.77046925e-027, 2.06726020e-030, 9.14654370e-034,\n",
       "       3.41271592e-037, 1.11245038e-040, 3.25714637e-044, 8.75179072e-048,\n",
       "       2.19396572e-051, 5.19609931e-055, 1.17347701e-058, 2.54402780e-062,\n",
       "       5.31924518e-066, 1.07618878e-069, 2.11214339e-073, 4.03011488e-077,\n",
       "       7.49312541e-081, 1.36099308e-084, 2.42156079e-088, 4.23286479e-092,\n",
       "       7.28971446e-096, 1.24017166e-099, 2.08921008e-103, 3.49219901e-107,\n",
       "       5.80190481e-111, 9.59391143e-115, 1.58070392e-118, 2.59721658e-122,\n",
       "       4.25850852e-126, 6.97140560e-130, 1.13989732e-133, 1.86218117e-137,\n",
       "       3.04008604e-141, 4.96055895e-145, 8.09116545e-149, 1.31937582e-152,\n",
       "       2.15096757e-156, 3.50614835e-160, 5.71445938e-164, 9.31282501e-168,\n",
       "       1.51760548e-171, 2.47294670e-175, 4.02953088e-179, 6.56571691e-183,\n",
       "       1.06979557e-186, 1.74306140e-190, 2.84000779e-194, 4.62724613e-198,\n",
       "       7.53915805e-202, 1.22834676e-205, 2.00132463e-209, 3.26071555e-213,\n",
       "       5.31260353e-217, 8.65568090e-221, 1.41024502e-224, 2.29766940e-228,\n",
       "       3.74352063e-232, 6.09919774e-236, 9.93722314e-240, 1.61903879e-243])"
      ]
     },
     "execution_count": 36,
     "metadata": {},
     "output_type": "execute_result"
    }
   ],
   "source": [
    "p_betas"
   ]
  },
  {
   "cell_type": "code",
   "execution_count": 37,
   "metadata": {},
   "outputs": [
    {
     "data": {
      "text/plain": [
       "[<matplotlib.lines.Line2D at 0x2bf4535b198>]"
      ]
     },
     "execution_count": 37,
     "metadata": {},
     "output_type": "execute_result"
    },
    {
     "data": {
      "image/png": "[encoded data removed]",
      "text/plain": [
       "<Figure size 432x288 with 1 Axes>"
      ]
     },
     "metadata": {},
     "output_type": "display_data"
    }
   ],
   "source": [
    "plt.plot(betas, p_betas)"
   ]
  },
  {
   "cell_type": "code",
   "execution_count": 38,
   "metadata": {},
   "outputs": [],
   "source": [
    "import scipy.stats as stats"
   ]
  },
  {
   "cell_type": "code",
   "execution_count": 39,
   "metadata": {},
   "outputs": [
    {
     "data": {
      "text/plain": [
       "[<matplotlib.lines.Line2D at 0x2bf453b19b0>]"
      ]
     },
     "execution_count": 39,
     "metadata": {},
     "output_type": "execute_result"
    },
    {
     "data": {
      "image/png": "[encoded data removed]",
      "text/plain": [
       "<Figure size 432x288 with 1 Axes>"
      ]
     },
     "metadata": {},
     "output_type": "display_data"
    }
   ],
   "source": [
    "plt.plot(betas,stats.norm(hat_theta[1], np.sqrt(C[1,1])).pdf(betas))"
   ]
  },
  {
   "cell_type": "code",
   "execution_count": 40,
   "metadata": {},
   "outputs": [
    {
     "data": {
      "image/png": "[encoded data removed]",
      "text/plain": [
       "<Figure size 432x288 with 1 Axes>"
      ]
     },
     "metadata": {},
     "output_type": "display_data"
    }
   ],
   "source": [
    "plt.plot(betas, p_betas, label='Integration')\n",
    "plt.plot(betas, stats.norm(hat_theta[1], np.sqrt(C[1,1])).pdf(betas), label='Normal')\n",
    "plt.xlabel(r'$\\beta$')\n",
    "plt.ylabel(r'$p(\\beta|Y)$')\n",
    "plt.legend()\n",
    "plt.show()"
   ]
  },
  {
   "cell_type": "code",
   "execution_count": 41,
   "metadata": {},
   "outputs": [],
   "source": [
    "betas1 = betas\n",
    "p_betas_integration = p_betas\n",
    "p_betas_normal = stats.norm(hat_theta[1], np.sqrt(C[1,1])).pdf(betas)"
   ]
  },
  {
   "cell_type": "markdown",
   "metadata": {},
   "source": [
    "当统计量被近似为正态分布时，Delta方法可以进一步得到它们函数的分布。"
   ]
  },
  {
   "cell_type": "code",
   "execution_count": 42,
   "metadata": {},
   "outputs": [],
   "source": [
    "def odd(params):\n",
    "    alpha,beta = params\n",
    "    return -alpha/beta"
   ]
  },
  {
   "cell_type": "code",
   "execution_count": 43,
   "metadata": {},
   "outputs": [],
   "source": [
    "grad_odd = grad(odd)"
   ]
  },
  {
   "cell_type": "code",
   "execution_count": 44,
   "metadata": {},
   "outputs": [
    {
     "data": {
      "text/plain": [
       "[array(-1.), array(1.)]"
      ]
     },
     "execution_count": 44,
     "metadata": {},
     "output_type": "execute_result"
    }
   ],
   "source": [
    "grad_odd([1.,1.])"
   ]
  },
  {
   "cell_type": "code",
   "execution_count": 45,
   "metadata": {},
   "outputs": [
    {
     "data": {
      "text/plain": [
       "array([-0.35210523, -1.20298331])"
      ]
     },
     "execution_count": 45,
     "metadata": {},
     "output_type": "execute_result"
    }
   ],
   "source": [
    "grad_odd(hat_theta)"
   ]
  },
  {
   "cell_type": "code",
   "execution_count": 46,
   "metadata": {},
   "outputs": [],
   "source": [
    "odd_normal_approx_mean = odd(hat_theta)\n",
    "odd_normal_approx_std = np.sqrt(grad_odd(hat_theta).T @ C @ grad_odd(hat_theta))"
   ]
  },
  {
   "cell_type": "code",
   "execution_count": 47,
   "metadata": {},
   "outputs": [
    {
     "data": {
      "text/plain": [
       "3.4165447970668836"
      ]
     },
     "execution_count": 47,
     "metadata": {},
     "output_type": "execute_result"
    }
   ],
   "source": [
    "odd_normal_approx_mean"
   ]
  },
  {
   "cell_type": "code",
   "execution_count": 48,
   "metadata": {},
   "outputs": [
    {
     "data": {
      "text/plain": [
       "0.16853037367101031"
      ]
     },
     "execution_count": 48,
     "metadata": {},
     "output_type": "execute_result"
    }
   ],
   "source": [
    "odd_normal_approx_std"
   ]
  },
  {
   "cell_type": "code",
   "execution_count": 49,
   "metadata": {},
   "outputs": [],
   "source": [
    "grid_like = np.empty([100,100])\n",
    "grid_odd = np.empty([100,100])\n",
    "alpha_space = np.linspace(-20,0,100)\n",
    "beta_space = np.linspace(-10,10,100)\n",
    "for i,alpha in enumerate(alpha_space):\n",
    "    for j,beta in enumerate(beta_space):\n",
    "        grid_like[i,j] = likelihood([alpha, beta])\n",
    "        grid_odd[i,j] = odd([alpha,beta])"
   ]
  },
  {
   "cell_type": "code",
   "execution_count": 50,
   "metadata": {},
   "outputs": [
    {
     "data": {
      "text/plain": [
       "7.083803027854572e-06"
      ]
     },
     "execution_count": 50,
     "metadata": {},
     "output_type": "execute_result"
    }
   ],
   "source": [
    "np.sum(grid_like)"
   ]
  },
  {
   "cell_type": "code",
   "execution_count": 51,
   "metadata": {},
   "outputs": [],
   "source": [
    "w = np.ones([100,100]) * 0.5\n",
    "w[1:-1,1:-1] = 1 \n",
    "step = (alpha_space[1] - alpha_space[0]) * (beta_space[1] - beta_space[0])"
   ]
  },
  {
   "cell_type": "code",
   "execution_count": 52,
   "metadata": {},
   "outputs": [
    {
     "data": {
      "text/plain": [
       "24.526274616710317"
      ]
     },
     "execution_count": 52,
     "metadata": {},
     "output_type": "execute_result"
    }
   ],
   "source": [
    "grid_like /= np.sum(grid_like * w * step)\n",
    "grid_like.sum()"
   ]
  },
  {
   "cell_type": "code",
   "execution_count": 53,
   "metadata": {},
   "outputs": [
    {
     "data": {
      "text/plain": [
       "84.5774831906883"
      ]
     },
     "execution_count": 53,
     "metadata": {},
     "output_type": "execute_result"
    }
   ],
   "source": [
    "np.sum(grid_odd * grid_like)"
   ]
  },
  {
   "cell_type": "markdown",
   "metadata": {},
   "source": [
    "突然发现直接那么算要么只能算moment之类的函数，要么只能直方近似。要想算函数的分布还是得用他那个变换方法（因为不是可逆变换）\n",
    "\n",
    "可逆变换的密度函数$Y = g(X)$：\n",
    "\n",
    "$$\n",
    "f_Y(y) = \\frac{f_X(x)}{ \\left| \\det \\frac{\\partial g(x)}{\\partial x} \\right|} \\Big|_{x = g^{-1}(y)} 1(y \\in R_Y)\n",
    "$$\n",
    "\n",
    "$R(y)$为使$y=g(x)$的$x$不为0的集合。"
   ]
  },
  {
   "cell_type": "code",
   "execution_count": 54,
   "metadata": {},
   "outputs": [],
   "source": [
    "def g(params):\n",
    "    alpha,beta = params\n",
    "    rho = -alpha/beta\n",
    "    return np.array([rho, alpha])\n",
    "\n",
    "def g_inv(params):\n",
    "    rho, alpha = params\n",
    "    beta = -1./rho * alpha\n",
    "    return np.array([alpha, beta])"
   ]
  },
  {
   "cell_type": "code",
   "execution_count": 55,
   "metadata": {},
   "outputs": [],
   "source": [
    "jacc_g = jacobian(g)"
   ]
  },
  {
   "cell_type": "code",
   "execution_count": 56,
   "metadata": {},
   "outputs": [
    {
     "data": {
      "text/plain": [
       "array([[-0.35210523, -1.20298331],\n",
       "       [ 1.        ,  0.        ]])"
      ]
     },
     "execution_count": 56,
     "metadata": {},
     "output_type": "execute_result"
    }
   ],
   "source": [
    "jacc_g(hat_theta)"
   ]
  },
  {
   "cell_type": "code",
   "execution_count": 57,
   "metadata": {},
   "outputs": [],
   "source": [
    "def likelihood_g(params):\n",
    "    inv_params = g_inv(params)\n",
    "    return likelihood(inv_params)/np.abs(np.linalg.det(jacc_g(inv_params)))\n",
    "    "
   ]
  },
  {
   "cell_type": "code",
   "execution_count": 58,
   "metadata": {},
   "outputs": [
    {
     "data": {
      "text/plain": [
       "3.4165447970668836"
      ]
     },
     "execution_count": 58,
     "metadata": {},
     "output_type": "execute_result"
    }
   ],
   "source": [
    "odd(hat_theta)"
   ]
  },
  {
   "cell_type": "code",
   "execution_count": 126,
   "metadata": {},
   "outputs": [],
   "source": [
    "#rhos = np.linspace(-7,13,100,True)\n",
    "rhos = np.linspace(2.,5.,100,True)\n",
    "p_rhos = np.empty_like(rhos)\n",
    "alpha_space = np.linspace(-15,-5,100,True)\n",
    "w = np.ones_like(alpha_space) * 0.5\n",
    "w[1:-1] = 1.\n",
    "for i, rho in enumerate(rhos):\n",
    "    like_list = [likelihood_g(np.array([rho, alpha])) for alpha in alpha_space]\n",
    "    p_rhos[i] = np.sum(np.array(like_list) * w)"
   ]
  },
  {
   "cell_type": "code",
   "execution_count": 127,
   "metadata": {},
   "outputs": [
    {
     "data": {
      "text/plain": [
       "array([1.20923329e-23, 9.21708480e-23, 6.46434431e-22, 4.18364934e-21,\n",
       "       2.50548901e-20, 1.39220216e-19, 7.19640254e-19, 3.46922004e-18,\n",
       "       1.56359629e-17, 6.60455994e-17, 2.62071666e-16, 9.79190597e-16,\n",
       "       3.45291671e-15, 1.15177354e-14, 3.64244842e-14, 1.09457170e-13,\n",
       "       3.13255082e-13, 8.55730528e-13, 2.23640446e-12, 5.60453968e-12,\n",
       "       1.34997451e-11, 3.13293184e-11, 7.02247710e-11, 1.52424548e-10,\n",
       "       3.21216733e-10, 6.59049405e-10, 1.32023701e-09, 2.58975433e-09,\n",
       "       4.98854137e-09, 9.46069689e-09, 1.77001945e-08, 3.26999605e-08,\n",
       "       5.96141807e-08, 1.06967488e-07, 1.88049424e-07, 3.21951537e-07,\n",
       "       5.33223244e-07, 8.48859543e-07, 1.29177155e-06, 1.87132715e-06,\n",
       "       2.57362384e-06, 3.35572060e-06, 4.14776027e-06, 4.86426925e-06,\n",
       "       5.42197216e-06, 5.75832746e-06, 5.84448947e-06, 5.68879221e-06,\n",
       "       5.33072891e-06, 4.82872358e-06, 4.24636437e-06, 3.64107046e-06,\n",
       "       3.05727024e-06, 2.52420242e-06, 2.05716615e-06, 1.66062372e-06,\n",
       "       1.33177672e-06, 1.06373488e-06, 8.47892465e-07, 6.75476661e-07,\n",
       "       5.38413958e-07, 4.29715224e-07, 3.43562458e-07, 2.75234783e-07,\n",
       "       2.20964060e-07, 1.77772845e-07, 1.43321691e-07, 1.15777018e-07,\n",
       "       9.37022224e-08, 7.59704941e-08, 6.16962348e-08, 5.01816470e-08,\n",
       "       4.08753528e-08, 3.33403961e-08, 2.72294919e-08, 2.22658503e-08,\n",
       "       1.82282801e-08, 1.49395804e-08, 1.22574634e-08, 1.00674319e-08,\n",
       "       8.27717013e-09, 6.81211247e-09, 5.61193022e-09, 4.62773884e-09,\n",
       "       3.81987100e-09, 3.15609653e-09, 2.61019599e-09, 2.16081527e-09,\n",
       "       1.79054397e-09, 1.48517243e-09, 1.23309197e-09, 1.02480976e-09,\n",
       "       8.52556082e-10, 7.09965856e-10, 5.91820138e-10, 4.93836034e-10,\n",
       "       4.12495809e-10, 3.44907734e-10, 2.88692668e-10, 2.41891536e-10])"
      ]
     },
     "execution_count": 127,
     "metadata": {},
     "output_type": "execute_result"
    }
   ],
   "source": [
    "p_rhos"
   ]
  },
  {
   "cell_type": "code",
   "execution_count": 128,
   "metadata": {},
   "outputs": [
    {
     "data": {
      "text/plain": [
       "33.00005185834298"
      ]
     },
     "execution_count": 128,
     "metadata": {},
     "output_type": "execute_result"
    }
   ],
   "source": [
    "w = np.ones_like(p_rhos) * 0.5\n",
    "w[1:-1] = 1.\n",
    "p_rhos = p_rhos/ np.sum(p_rhos * w * (rhos[1] - rhos[0]))\n",
    "p_rhos.sum()"
   ]
  },
  {
   "cell_type": "code",
   "execution_count": 129,
   "metadata": {},
   "outputs": [
    {
     "data": {
      "image/png": "[encoded data removed]",
      "text/plain": [
       "<Figure size 432x288 with 1 Axes>"
      ]
     },
     "metadata": {},
     "output_type": "display_data"
    }
   ],
   "source": [
    "plt.plot(rhos, p_rhos, label='integration (flat prior)')\n",
    "plt.plot(rhos, stats.norm(odd_normal_approx_mean, odd_normal_approx_std).pdf(rhos), label='Delta Method')\n",
    "plt.legend()\n",
    "plt.show()"
   ]
  },
  {
   "cell_type": "code",
   "execution_count": 130,
   "metadata": {},
   "outputs": [],
   "source": [
    "rhos1 = rhos\n",
    "p_rhos_delta = stats.norm(odd_normal_approx_mean, odd_normal_approx_std).pdf(rhos)\n",
    "p_rhos_int = p_rhos"
   ]
  },
  {
   "cell_type": "markdown",
   "metadata": {},
   "source": [
    "# Laplace's Method\n",
    "\n",
    "Laplace's method本身指一种利用多项式增长被指数下降控制的积分的近似（如正态分布的多项式函数，不过正态分布的多项式函数的积分有类似，但更有效的方法。）如：\n",
    "\n",
    "$$\n",
    "I = \\int f(\\theta) \\exp (-nh(h(\\theta))) d\\theta\n",
    "$$\n",
    "\n",
    "可被近似为：\n",
    "\n",
    "$$\n",
    "\\hat{I} = f(\\hat{\\theta}) \\sqrt{\\frac{2\\pi}{n}} \\sigma \\exp(-nh(\\hat{\\theta}))\n",
    "$$\n",
    "\n",
    "where\n",
    "$$\n",
    "\\sigma = \\left[ \\frac{\\partial^2 h}{\\partial \\theta^2} \\middle|_{\\hat{\\theta}} \\right]^{-1/2}\n",
    "$$\n",
    "\n",
    "而$\\hat{\\theta}$为使得$-h(\\theta)$最大化的$\\theta$\n",
    "\n",
    "积分中涉及的指数型函数$\\exp(-nh(\\theta))$可以直接导出一个分布，由：\n",
    "\n",
    "$$\n",
    "p(\\theta) = \\frac{\\exp(-nh(\\theta))}{\\int \\exp(-nh(\\theta))d\\theta}\n",
    "$$\n",
    "\n",
    "其中$n$一般指密度函数独立乘积时产生出的项。可以进一步得到它们的误差水平等。\n",
    "\n",
    "$$\n",
    "E(g(\\theta)) = \\frac{\\int g(\\theta)\\exp(-nh(\\theta)) d\\theta}{\\int \\exp(-nh(\\theta))d\\theta} = g(\\hat{\\theta})(1+O(1/n))\n",
    "$$\n",
    "\n",
    "也有一些更细致的结果，但更令人感兴趣的是它如何用于分布边缘化的近似（边缘化显然就是一种积分，而Laplace's method就是找简单的积分近似表示），可以得到(Tierney and Kadane 1986, Accurate approximation for posterior moments and marginal densities)\n",
    "\n",
    "$$\n",
    "\\hat{p}(\\theta_1 \\mid Y) \\propto (\\det \\hat{\\Sigma}^*)^{1/2} p(\\theta_1,\\hat{\\theta}_2^* \\mid Y)\n",
    "$$\n",
    "\n",
    "其中直接在完全后验中把本来要积掉的$\\theta_2$向量直接换成它的对应固定$\\theta_1$的极大后验$\\theta_2^*(\\theta_1)$称为profile posterior。\n",
    "某种意义上说这也算是一种边缘化，不过它需要\n",
    "\n",
    "$$\n",
    "\\hat{\\Sigma}^* = \\left[ \\frac{-\\partial^2 \\log p(\\theta_1,\\theta_2 \\mid Y)}{\\partial \\theta_2^2} \\middle|_{\\hat{\\theta}_2^*} \\right]^{-1}\n",
    "$$\n",
    "\n",
    "项的修正。这样得到$\\theta_1$的边缘后验概率$p(\\theta_1 \\mid Y)$从完全后验概率$p(\\theta_1,\\theta_2 \\mid Y)$中"
   ]
  },
  {
   "cell_type": "code",
   "execution_count": null,
   "metadata": {},
   "outputs": [],
   "source": []
  },
  {
   "cell_type": "code",
   "execution_count": 63,
   "metadata": {},
   "outputs": [
    {
     "data": {
      "text/plain": [
       "array([7.09108492e-192, 1.43914314e-189, 2.92075614e-187, 5.92770529e-185,\n",
       "       1.20303402e-182, 2.44157019e-180, 4.95519238e-178, 1.00566150e-175,\n",
       "       2.04100060e-173, 4.14223217e-171, 8.40670374e-169, 1.70614936e-166,\n",
       "       3.46264807e-164, 7.02748067e-162, 1.42623459e-159, 2.89455810e-157,\n",
       "       5.87453609e-155, 1.19224328e-152, 2.41967026e-150, 4.91074623e-148,\n",
       "       9.96641109e-146, 2.02269361e-143, 4.10507793e-141, 8.33129879e-139,\n",
       "       1.69084584e-136, 3.43158939e-134, 6.96444668e-132, 1.41344176e-129,\n",
       "       2.86859486e-127, 5.82184330e-125, 1.18154918e-122, 2.39796639e-120,\n",
       "       4.86669773e-118, 9.87701346e-116, 2.00455006e-113, 4.06825486e-111,\n",
       "       8.25656446e-109, 1.67567801e-106, 3.40080496e-104, 6.90196616e-102,\n",
       "       1.40076039e-099, 2.84285544e-097, 5.76959810e-095, 1.17094408e-092,\n",
       "       2.37643801e-090, 4.82299109e-088, 9.78826976e-086, 1.98652808e-083,\n",
       "       4.03164727e-081, 8.18217973e-079, 1.66055645e-076, 3.37004483e-074,\n",
       "       6.83933814e-072, 1.38799330e-069, 2.81678356e-067, 5.71622656e-065,\n",
       "       1.15998137e-062, 2.35381419e-060, 4.77599920e-058, 9.68979837e-056,\n",
       "       1.96564748e-053, 3.98667491e-051, 8.08336838e-049, 1.63830586e-046,\n",
       "       3.31846930e-044, 6.71586910e-042, 1.35741829e-039, 2.73851153e-037,\n",
       "       5.50964167e-035, 1.10401120e-032, 2.19897950e-030, 4.34116763e-028,\n",
       "       8.45754060e-026, 1.61550026e-023, 2.99608021e-021, 5.31641860e-019,\n",
       "       8.83031386e-017, 1.32870989e-014, 1.72598484e-012, 1.80473171e-010,\n",
       "       1.37645187e-008, 6.71200424e-007, 1.78306393e-005, 2.20169249e-004,\n",
       "       1.16495158e-003, 2.97918946e-003, 5.20664640e-003, 8.22495161e-003,\n",
       "       1.25654988e-002, 1.86483347e-002, 2.68966370e-002, 3.77187444e-002,\n",
       "       5.14594301e-002, 6.83448922e-002, 8.84294476e-002, 1.11552543e-001,\n",
       "       1.37314211e-001, 1.65074914e-001, 1.93982219e-001, 2.23022598e-001,\n",
       "       2.51092740e-001, 2.77081884e-001, 2.99955288e-001, 3.18829230e-001,\n",
       "       3.33029712e-001, 3.42129760e-001, 3.45963381e-001, 3.44617232e-001,\n",
       "       3.38403447e-001, 3.27818671e-001, 3.13494949e-001, 2.96148019e-001,\n",
       "       2.76527765e-001, 2.55374446e-001, 2.33383054e-001, 2.11176893e-001,\n",
       "       1.89290450e-001, 1.68160788e-001, 1.48126213e-001, 1.29430642e-001,\n",
       "       1.12232090e-001, 9.66137410e-002, 8.25962361e-002, 7.01481399e-002,\n",
       "       5.91652403e-002, 4.92341072e-002, 3.89575202e-002, 2.64972087e-002,\n",
       "       1.33964492e-002, 4.44005879e-003, 8.92164333e-004, 1.04247556e-004,\n",
       "       6.92981061e-006, 2.58809677e-007, 5.39455273e-009, 6.27845716e-011,\n",
       "       4.12702120e-013, 1.57232810e-015, 3.61746987e-018, 5.30276613e-021,\n",
       "       5.26489915e-024, 3.77046925e-027, 2.06726020e-030, 9.14654370e-034,\n",
       "       3.41271592e-037, 1.11245038e-040, 3.25714637e-044, 8.75179072e-048,\n",
       "       2.19396572e-051, 5.19609931e-055, 1.17347701e-058, 2.54402780e-062,\n",
       "       5.31924518e-066, 1.07618878e-069, 2.11214339e-073, 4.03011488e-077,\n",
       "       7.49312541e-081, 1.36099308e-084, 2.42156079e-088, 4.23286479e-092,\n",
       "       7.28971446e-096, 1.24017166e-099, 2.08921008e-103, 3.49219901e-107,\n",
       "       5.80190481e-111, 9.59391143e-115, 1.58070392e-118, 2.59721658e-122,\n",
       "       4.25850852e-126, 6.97140560e-130, 1.13989732e-133, 1.86218117e-137,\n",
       "       3.04008604e-141, 4.96055895e-145, 8.09116545e-149, 1.31937582e-152,\n",
       "       2.15096757e-156, 3.50614835e-160, 5.71445938e-164, 9.31282501e-168,\n",
       "       1.51760548e-171, 2.47294670e-175, 4.02953088e-179, 6.56571691e-183,\n",
       "       1.06979557e-186, 1.74306140e-190, 2.84000779e-194, 4.62724613e-198,\n",
       "       7.53915805e-202, 1.22834676e-205, 2.00132463e-209, 3.26071555e-213,\n",
       "       5.31260353e-217, 8.65568090e-221, 1.41024502e-224, 2.29766940e-228,\n",
       "       3.74352063e-232, 6.09919774e-236, 9.93722314e-240, 1.61903879e-243])"
      ]
     },
     "execution_count": 63,
     "metadata": {},
     "output_type": "execute_result"
    }
   ],
   "source": [
    "p_betas"
   ]
  },
  {
   "cell_type": "code",
   "execution_count": 64,
   "metadata": {},
   "outputs": [
    {
     "data": {
      "text/plain": [
       "[<matplotlib.lines.Line2D at 0x2bf45551f98>]"
      ]
     },
     "execution_count": 64,
     "metadata": {},
     "output_type": "execute_result"
    },
    {
     "data": {
      "image/png": "[encoded data removed]",
      "text/plain": [
       "<Figure size 432x288 with 1 Axes>"
      ]
     },
     "metadata": {},
     "output_type": "display_data"
    }
   ],
   "source": [
    "plt.plot(betas,p_betas)"
   ]
  },
  {
   "cell_type": "code",
   "execution_count": 65,
   "metadata": {},
   "outputs": [],
   "source": [
    "def square(x):\n",
    "    return (x-1.)**2\n",
    "def pow4(x):\n",
    "    return (x-2.)**4"
   ]
  },
  {
   "cell_type": "code",
   "execution_count": 66,
   "metadata": {},
   "outputs": [],
   "source": [
    "grad_square = grad(square)\n",
    "hess_square = hessian(square)"
   ]
  },
  {
   "cell_type": "code",
   "execution_count": 67,
   "metadata": {},
   "outputs": [
    {
     "data": {
      "text/plain": [
       "-2.0"
      ]
     },
     "execution_count": 67,
     "metadata": {},
     "output_type": "execute_result"
    }
   ],
   "source": [
    "grad_square(0.)"
   ]
  },
  {
   "cell_type": "code",
   "execution_count": 68,
   "metadata": {},
   "outputs": [
    {
     "data": {
      "text/plain": [
       "array(2.)"
      ]
     },
     "execution_count": 68,
     "metadata": {},
     "output_type": "execute_result"
    }
   ],
   "source": [
    "hess_square(0.)"
   ]
  },
  {
   "cell_type": "code",
   "execution_count": 69,
   "metadata": {},
   "outputs": [
    {
     "name": "stdout",
     "output_type": "stream",
     "text": [
      "0.0\n",
      "1.0\n",
      "1.0\n",
      "1.0\n",
      "1.0\n"
     ]
    },
    {
     "data": {
      "text/plain": [
       "1.0"
      ]
     },
     "execution_count": 69,
     "metadata": {},
     "output_type": "execute_result"
    }
   ],
   "source": [
    "newton_raphson_1d(square, 0., grad_square, hess_square, 5)"
   ]
  },
  {
   "cell_type": "code",
   "execution_count": 70,
   "metadata": {},
   "outputs": [
    {
     "name": "stdout",
     "output_type": "stream",
     "text": [
      "0.0\n",
      "0.6666666666666666\n",
      "1.1111111111111112\n",
      "1.4074074074074074\n",
      "1.6049382716049383\n",
      "1.7366255144032923\n",
      "1.8244170096021948\n",
      "1.8829446730681298\n",
      "1.9219631153787533\n",
      "1.9479754102525022\n"
     ]
    },
    {
     "data": {
      "text/plain": [
       "1.9653169401683348"
      ]
     },
     "execution_count": 70,
     "metadata": {},
     "output_type": "execute_result"
    }
   ],
   "source": [
    "newton_raphson_1d(pow4, 0., grad(pow4), hessian(pow4), 10)"
   ]
  },
  {
   "cell_type": "code",
   "execution_count": 71,
   "metadata": {
    "scrolled": false
   },
   "outputs": [
    {
     "name": "stdout",
     "output_type": "stream",
     "text": [
      "0.0\n",
      "-861.2442634178011\n",
      "-inf\n",
      "-inf\n",
      "-inf\n",
      "-inf\n",
      "-inf\n",
      "-inf\n",
      "-inf\n",
      "-inf\n"
     ]
    },
    {
     "name": "stderr",
     "output_type": "stream",
     "text": [
      "D:\\anaconda\\lib\\site-packages\\ipykernel_launcher.py:14: RuntimeWarning: divide by zero encountered in double_scalars\n",
      "  \n",
      "D:\\anaconda\\lib\\site-packages\\autograd\\tracer.py:48: RuntimeWarning: invalid value encountered in multiply\n",
      "  return f_raw(*args, **kwargs)\n"
     ]
    },
    {
     "data": {
      "text/plain": [
       "-inf"
      ]
     },
     "execution_count": 71,
     "metadata": {},
     "output_type": "execute_result"
    }
   ],
   "source": [
    "f=lambda alpha:loglikelihood([alpha, 2.5])\n",
    "newton_raphson_1d(f, 0., grad(f), hessian(f), 10)"
   ]
  },
  {
   "cell_type": "code",
   "execution_count": 72,
   "metadata": {},
   "outputs": [
    {
     "name": "stdout",
     "output_type": "stream",
     "text": [
      "-7.0\n",
      "-8.661452561570277\n",
      "-8.603909251528046\n",
      "-8.604280816173121\n",
      "-8.604280831212144\n",
      "-8.604280831212144\n",
      "-8.604280831212144\n",
      "-8.604280831212144\n",
      "-8.604280831212144\n",
      "-8.604280831212144\n"
     ]
    },
    {
     "data": {
      "text/plain": [
       "-8.604280831212144"
      ]
     },
     "execution_count": 72,
     "metadata": {},
     "output_type": "execute_result"
    }
   ],
   "source": [
    "f=lambda alpha:loglikelihood([alpha, 2.5])\n",
    "newton_raphson_1d(f, -7., grad(f), hessian(f), 10)"
   ]
  },
  {
   "cell_type": "markdown",
   "metadata": {},
   "source": [
    "看样子这数值相当不稳定，下面先按1步长搜索最优值，再在其基础上用牛顿法优化找到最优值。"
   ]
  },
  {
   "cell_type": "code",
   "execution_count": 73,
   "metadata": {},
   "outputs": [
    {
     "data": {
      "text/plain": [
       "-8.478947368421053"
      ]
     },
     "execution_count": 73,
     "metadata": {},
     "output_type": "execute_result"
    }
   ],
   "source": [
    "f=lambda alpha:loglikelihood([alpha, 2.5])\n",
    "alphas = np.linspace(-20.,-0.1,20)\n",
    "likes = np.array([ f(alpha) for alpha in alphas])\n",
    "alpha_rough = alphas[np.argmax(likes)]\n",
    "alpha_rough\n"
   ]
  },
  {
   "cell_type": "code",
   "execution_count": 74,
   "metadata": {},
   "outputs": [
    {
     "name": "stdout",
     "output_type": "stream",
     "text": [
      "-8.478947368421053\n",
      "-8.602729146884332\n",
      "-8.60428056919145\n",
      "-8.604280831212137\n",
      "-8.604280831212144\n",
      "-8.604280831212144\n",
      "-8.604280831212144\n",
      "-8.604280831212144\n",
      "-8.604280831212144\n",
      "-8.604280831212144\n"
     ]
    },
    {
     "data": {
      "text/plain": [
       "-8.604280831212144"
      ]
     },
     "execution_count": 74,
     "metadata": {},
     "output_type": "execute_result"
    }
   ],
   "source": [
    "newton_raphson_1d(f, alpha_rough, grad(f), hessian(f), 10)"
   ]
  },
  {
   "cell_type": "code",
   "execution_count": null,
   "metadata": {},
   "outputs": [],
   "source": []
  },
  {
   "cell_type": "code",
   "execution_count": 75,
   "metadata": {
    "scrolled": false
   },
   "outputs": [],
   "source": [
    "betas = np.linspace(-4.5,10.5,150)\n",
    "p_betas = np.empty_like(betas)\n",
    "for i,beta in enumerate(betas):\n",
    "    f=lambda alpha:loglikelihood([alpha, beta])\n",
    "    alphas = np.linspace(-30.,10.1,40)\n",
    "    likes = np.array([ f(alpha) for alpha in alphas])\n",
    "    alpha_rough = alphas[np.argmax(likes)]\n",
    "    alpha = newton_raphson_1d(f, alpha_rough, grad(f), hessian(f), 10, verbose=False)\n",
    "    sigma = 1./-hess_loglikelihood(np.array([alpha, beta]))[0,0]\n",
    "    #sigma = np.linalg.inv(-hess_loglikelihood(np.array([alpha, beta])))[0,0]\n",
    "    p_betas[i] = np.sqrt(sigma) * likelihood([alpha, beta])"
   ]
  },
  {
   "cell_type": "code",
   "execution_count": 76,
   "metadata": {},
   "outputs": [
    {
     "data": {
      "text/plain": [
       "9.93333913760473"
      ]
     },
     "execution_count": 76,
     "metadata": {},
     "output_type": "execute_result"
    }
   ],
   "source": [
    "w = np.ones_like(p_betas) * 0.5\n",
    "w[1:-1] = 1.\n",
    "\n",
    "p_betas = p_betas / np.sum(p_betas * w * (betas[1] - betas[0]) )\n",
    "p_betas.sum()"
   ]
  },
  {
   "cell_type": "code",
   "execution_count": 77,
   "metadata": {},
   "outputs": [
    {
     "data": {
      "image/png": "[encoded data removed]",
      "text/plain": [
       "<Figure size 1152x648 with 1 Axes>"
      ]
     },
     "metadata": {},
     "output_type": "display_data"
    }
   ],
   "source": [
    "plt.figure(figsize=(16,9))\n",
    "\n",
    "plt.plot(betas1, p_betas_integration, label='Integration')\n",
    "plt.plot(betas1, p_betas_normal,'-x',label='Normal')\n",
    "plt.plot(betas, p_betas, 'o',label='Laplace')\n",
    "\n",
    "plt.xlabel(r'$\\beta$')\n",
    "plt.ylabel(r'$p(\\beta|Y)$')\n",
    "plt.legend()\n",
    "plt.show()\n"
   ]
  },
  {
   "cell_type": "markdown",
   "metadata": {},
   "source": [
    "边缘化可以看成构造出一个随机变量的函数后，把所有原随机变量全部积掉的特例，所以Laplace's method也有一般函数（marginal of an arbitrary function）的版本(Tierney, Kass and Kadane(1989), Approximate marginal densities of nonlinear functions.)：\n",
    "\n",
    "\n",
    "$$\n",
    "\\hat{p}(\\gamma \\mid Y) \\propto \\left[ \\frac{\\det [\\Sigma(\\gamma) ]}{\\det [ (D_g)^T \\Sigma(\\gamma)(D_g) ]} \\right]^{1/2} p(\\hat{\\theta}(\\gamma) \\mid Y)\n",
    "$$"
   ]
  },
  {
   "cell_type": "markdown",
   "metadata": {},
   "source": [
    "其中$\\hat{\\theta}(\\gamma)$在符合约束$g(\\theta) = \\gamma$下最大化后验$p(\\theta \\mid Y)$的参数取值。$\\Sigma(\\gamma)$是在$\\hat{\\\n",
    "theta}(\\gamma)$下计算的log posterior的逆Hessian矩阵，$-(\\frac{\\partial^2 p(\\gamma \\mid Y)}{\\partial \\theta^2})^{-1}$（与前面的$C$,$J^{-1},I^{-1}$之类的一致。）。$D_g$为梯度（$g(\\theta)$为单元函数时）或Jacobian($g(\\theta)$为多元函数时)。\n",
    "\n",
    "下面用这个方法计算$\\rho=-\\frac{\\alpha}{\\beta}$的后验分布，并于前面的正态近似（Delta方法）与数值积分法的结果作比较。"
   ]
  },
  {
   "cell_type": "code",
   "execution_count": 78,
   "metadata": {},
   "outputs": [],
   "source": [
    "from scipy.optimize import minimize"
   ]
  },
  {
   "cell_type": "code",
   "execution_count": 92,
   "metadata": {},
   "outputs": [
    {
     "data": {
      "text/plain": [
       "     fun: 22.07814417959998\n",
       "     jac: array([ 5.95755434, 15.48967314])\n",
       " message: 'Optimization terminated successfully.'\n",
       "    nfev: 20\n",
       "     nit: 5\n",
       "    njev: 5\n",
       "  status: 0\n",
       " success: True\n",
       "       x: array([-0.60421888,  0.23239188])"
      ]
     },
     "execution_count": 92,
     "metadata": {},
     "output_type": "execute_result"
    }
   ],
   "source": [
    "res = minimize(lambda p:-loglikelihood(p), [-2.6,1.], constraints = [{'type': 'eq', \n",
    "                                                        'fun': lambda params: -params[0]/params[1] - 2.6}])\n",
    "res"
   ]
  },
  {
   "cell_type": "code",
   "execution_count": 96,
   "metadata": {},
   "outputs": [
    {
     "data": {
      "text/plain": [
       "array([-1.23490546,  0.45737239])"
      ]
     },
     "execution_count": 96,
     "metadata": {},
     "output_type": "execute_result"
    }
   ],
   "source": [
    "res = minimize(lambda p:-loglikelihood(p), [-2.7,1.], constraints = [{'type': 'eq', \n",
    "                                                        'fun': lambda params: -params[0]/params[1] - 2.7}])\n",
    "res.x"
   ]
  },
  {
   "cell_type": "code",
   "execution_count": 97,
   "metadata": {},
   "outputs": [
    {
     "data": {
      "text/plain": [
       "array([-0.20339932,  0.08135973])"
      ]
     },
     "execution_count": 97,
     "metadata": {},
     "output_type": "execute_result"
    }
   ],
   "source": [
    "res = minimize(lambda p:-loglikelihood(p), [-2.5,1.], constraints = [{'type': 'eq', \n",
    "                                                        'fun': lambda params: -params[0]/params[1] - 2.5}])\n",
    "res.x"
   ]
  },
  {
   "cell_type": "code",
   "execution_count": 135,
   "metadata": {},
   "outputs": [],
   "source": [
    "rhos = np.linspace(2.5,4.5,100)\n",
    "p_rhos = np.empty_like(rhos)\n",
    "for i,rho in enumerate(rhos):\n",
    "    res = minimize(lambda p:-loglikelihood(p), [-rho,1.], constraints = [{'type': 'eq', \n",
    "                                                        'fun': lambda params: -params[0]/params[1] - rho}])\n",
    "    theta = res.x\n",
    "    h = hess_loglikelihood(theta)\n",
    "    s = -np.linalg.inv(h)\n",
    "    g = grad_odd(theta)\n",
    "    p = likelihood(theta)\n",
    "    \n",
    "    p_rhos[i] = np.sqrt(np.linalg.det(s)/(g.T @ s @ g)) * p\n",
    "    "
   ]
  },
  {
   "cell_type": "code",
   "execution_count": 136,
   "metadata": {},
   "outputs": [
    {
     "data": {
      "text/plain": [
       "[<matplotlib.lines.Line2D at 0x2bf45805438>]"
      ]
     },
     "execution_count": 136,
     "metadata": {},
     "output_type": "execute_result"
    },
    {
     "data": {
      "image/png": "[encoded data removed]",
      "text/plain": [
       "<Figure size 432x288 with 1 Axes>"
      ]
     },
     "metadata": {},
     "output_type": "display_data"
    }
   ],
   "source": [
    "plt.plot(rhos,p_rhos)"
   ]
  },
  {
   "cell_type": "code",
   "execution_count": 137,
   "metadata": {},
   "outputs": [
    {
     "data": {
      "text/plain": [
       "49.50591914977484"
      ]
     },
     "execution_count": 137,
     "metadata": {},
     "output_type": "execute_result"
    }
   ],
   "source": [
    "w = np.ones_like(p_rhos) * 0.5\n",
    "w[1:-1] = 1.\n",
    "p_rhos = p_rhos/np.sum(p_rhos * w * (rhos[1] - rhos[0]))\n",
    "p_rhos.sum()"
   ]
  },
  {
   "cell_type": "code",
   "execution_count": 140,
   "metadata": {},
   "outputs": [
    {
     "data": {
      "image/png": "[encoded data removed]",
      "text/plain": [
       "<Figure size 1152x648 with 1 Axes>"
      ]
     },
     "metadata": {},
     "output_type": "display_data"
    }
   ],
   "source": [
    "plt.figure(figsize=(16,9))\n",
    "\n",
    "plt.plot(rhos1[30:-30], p_rhos_int[30:-30], label='integration (flat prior)')\n",
    "plt.plot(rhos1[30:-30], p_rhos_delta[30:-30], label='Delta Method')\n",
    "plt.plot(rhos, p_rhos, label='Laplace')\n",
    "plt.legend()\n",
    "plt.show()"
   ]
  },
  {
   "cell_type": "code",
   "execution_count": 111,
   "metadata": {},
   "outputs": [
    {
     "data": {
      "text/plain": [
       "array([-7.        , -6.7979798 , -6.5959596 , -6.39393939, -6.19191919,\n",
       "       -5.98989899, -5.78787879, -5.58585859, -5.38383838, -5.18181818,\n",
       "       -4.97979798, -4.77777778, -4.57575758, -4.37373737, -4.17171717,\n",
       "       -3.96969697, -3.76767677, -3.56565657, -3.36363636, -3.16161616,\n",
       "       -2.95959596, -2.75757576, -2.55555556, -2.35353535, -2.15151515,\n",
       "       -1.94949495, -1.74747475, -1.54545455, -1.34343434, -1.14141414,\n",
       "       -0.93939394, -0.73737374, -0.53535354, -0.33333333, -0.13131313,\n",
       "        0.07070707,  0.27272727,  0.47474747,  0.67676768,  0.87878788,\n",
       "        1.08080808,  1.28282828,  1.48484848,  1.68686869,  1.88888889,\n",
       "        2.09090909,  2.29292929,  2.49494949,  2.6969697 ,  2.8989899 ,\n",
       "        3.1010101 ,  3.3030303 ,  3.50505051,  3.70707071,  3.90909091,\n",
       "        4.11111111,  4.31313131,  4.51515152,  4.71717172,  4.91919192,\n",
       "        5.12121212,  5.32323232,  5.52525253,  5.72727273,  5.92929293,\n",
       "        6.13131313,  6.33333333,  6.53535354,  6.73737374,  6.93939394,\n",
       "        7.14141414,  7.34343434,  7.54545455,  7.74747475,  7.94949495,\n",
       "        8.15151515,  8.35353535,  8.55555556,  8.75757576,  8.95959596,\n",
       "        9.16161616,  9.36363636,  9.56565657,  9.76767677,  9.96969697,\n",
       "       10.17171717, 10.37373737, 10.57575758, 10.77777778, 10.97979798,\n",
       "       11.18181818, 11.38383838, 11.58585859, 11.78787879, 11.98989899,\n",
       "       12.19191919, 12.39393939, 12.5959596 , 12.7979798 , 13.        ])"
      ]
     },
     "execution_count": 111,
     "metadata": {},
     "output_type": "execute_result"
    }
   ],
   "source": [
    "rhos1"
   ]
  },
  {
   "cell_type": "code",
   "execution_count": null,
   "metadata": {},
   "outputs": [],
   "source": []
  }
 ],
 "metadata": {
  "kernelspec": {
   "display_name": "Python 3",
   "language": "python",
   "name": "python3"
  },
  "language_info": {
   "codemirror_mode": {
    "name": "ipython",
    "version": 3
   },
   "file_extension": ".py",
   "mimetype": "text/x-python",
   "name": "python",
   "nbconvert_exporter": "python",
   "pygments_lexer": "ipython3",
   "version": "3.6.5"
  }
 },
 "nbformat": 4,
 "nbformat_minor": 2
}
