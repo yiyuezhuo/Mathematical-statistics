{
 "cells": [
  {
   "cell_type": "markdown",
   "metadata": {},
   "source": [
    "这里讨论\n",
    "Tools for Statistical Inference: Methods for the Exploration of Posterior Distributions and likelihood Functions\n"
   ]
  },
  {
   "cell_type": "markdown",
   "metadata": {},
   "source": [
    "# 3.4 Normal-Based Inference\n",
    "\n",
    "In certain situation, \n",
    "\n",
    "$$\n",
    "\\theta - \\hat{\\theta} \\sim N(0,C)\n",
    "$$\n",
    "\n",
    "$C$ is the $d \\times d$ variance-covariance matrix of $(\\theta - \\hat{\\theta})$\n",
    "\n",
    "按照freq"
   ]
  },
  {
   "cell_type": "code",
   "execution_count": null,
   "metadata": {},
   "outputs": [],
   "source": []
  }
 ],
 "metadata": {
  "kernelspec": {
   "display_name": "Python 3",
   "language": "python",
   "name": "python3"
  },
  "language_info": {
   "codemirror_mode": {
    "name": "ipython",
    "version": 3
   },
   "file_extension": ".py",
   "mimetype": "text/x-python",
   "name": "python",
   "nbconvert_exporter": "python",
   "pygments_lexer": "ipython3",
   "version": "3.6.5"
  }
 },
 "nbformat": 4,
 "nbformat_minor": 2
}
