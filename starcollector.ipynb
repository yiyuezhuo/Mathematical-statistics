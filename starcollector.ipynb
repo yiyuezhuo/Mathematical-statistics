{
 "cells": [
  {
   "cell_type": "markdown",
   "metadata": {},
   "source": [
    "这里应该做个嘲讽捏造数据的模型，优化p值使得不应该显著的项而显著。顺便练练pytorch0.4的新api"
   ]
  },
  {
   "cell_type": "code",
   "execution_count": 26,
   "metadata": {},
   "outputs": [],
   "source": [
    "import numpy as np\n",
    "import matplotlib.pyplot as plt\n",
    "import statsmodels.formula.api as smf\n",
    "import statsmodels.api as sm\n",
    "\n",
    "%matplotlib inline"
   ]
  },
  {
   "cell_type": "code",
   "execution_count": 2,
   "metadata": {
    "collapsed": true
   },
   "outputs": [],
   "source": [
    "import pandas as pd"
   ]
  },
  {
   "cell_type": "code",
   "execution_count": 13,
   "metadata": {
    "collapsed": true
   },
   "outputs": [],
   "source": [
    "import torch\n",
    "import torch.optim as optim"
   ]
  },
  {
   "cell_type": "code",
   "execution_count": 4,
   "metadata": {
    "collapsed": true
   },
   "outputs": [],
   "source": [
    "_X = np.random.random(10)\n",
    "_Y = np.random.random(10)"
   ]
  },
  {
   "cell_type": "code",
   "execution_count": 5,
   "metadata": {},
   "outputs": [
    {
     "data": {
      "image/png": "[encoded data removed]",
      "text/plain": [
       "<matplotlib.figure.Figure at 0xbf2f358>"
      ]
     },
     "metadata": {},
     "output_type": "display_data"
    }
   ],
   "source": [
    "plt.plot(_X,_Y,'o')\n",
    "plt.show()"
   ]
  },
  {
   "cell_type": "code",
   "execution_count": 6,
   "metadata": {},
   "outputs": [
    {
     "name": "stderr",
     "output_type": "stream",
     "text": [
      "D:\\anaconda\\lib\\site-packages\\scipy\\stats\\stats.py:1334: UserWarning: kurtosistest only valid for n>=20 ... continuing anyway, n=10\n",
      "  \"anyway, n=%i\" % int(n))\n"
     ]
    },
    {
     "data": {
      "text/html": [
       "<table class=\"simpletable\">\n",
       "<caption>OLS Regression Results</caption>\n",
       "<tr>\n",
       "  <th>Dep. Variable:</th>            <td>Y</td>        <th>  R-squared:         </th> <td>   0.093</td>\n",
       "</tr>\n",
       "<tr>\n",
       "  <th>Model:</th>                   <td>OLS</td>       <th>  Adj. R-squared:    </th> <td>  -0.020</td>\n",
       "</tr>\n",
       "<tr>\n",
       "  <th>Method:</th>             <td>Least Squares</td>  <th>  F-statistic:       </th> <td>  0.8205</td>\n",
       "</tr>\n",
       "<tr>\n",
       "  <th>Date:</th>             <td>Sun, 29 Apr 2018</td> <th>  Prob (F-statistic):</th>  <td> 0.392</td> \n",
       "</tr>\n",
       "<tr>\n",
       "  <th>Time:</th>                 <td>08:53:46</td>     <th>  Log-Likelihood:    </th> <td> 0.55222</td>\n",
       "</tr>\n",
       "<tr>\n",
       "  <th>No. Observations:</th>      <td>    10</td>      <th>  AIC:               </th> <td>   2.896</td>\n",
       "</tr>\n",
       "<tr>\n",
       "  <th>Df Residuals:</th>          <td>     8</td>      <th>  BIC:               </th> <td>   3.501</td>\n",
       "</tr>\n",
       "<tr>\n",
       "  <th>Df Model:</th>              <td>     1</td>      <th>                     </th>     <td> </td>   \n",
       "</tr>\n",
       "<tr>\n",
       "  <th>Covariance Type:</th>      <td>nonrobust</td>    <th>                     </th>     <td> </td>   \n",
       "</tr>\n",
       "</table>\n",
       "<table class=\"simpletable\">\n",
       "<tr>\n",
       "      <td></td>         <th>coef</th>     <th>std err</th>      <th>t</th>      <th>P>|t|</th>  <th>[0.025</th>    <th>0.975]</th>  \n",
       "</tr>\n",
       "<tr>\n",
       "  <th>Intercept</th> <td>    0.9888</td> <td>    0.324</td> <td>    3.053</td> <td> 0.016</td> <td>    0.242</td> <td>    1.736</td>\n",
       "</tr>\n",
       "<tr>\n",
       "  <th>X</th>         <td>   -0.4491</td> <td>    0.496</td> <td>   -0.906</td> <td> 0.392</td> <td>   -1.593</td> <td>    0.694</td>\n",
       "</tr>\n",
       "</table>\n",
       "<table class=\"simpletable\">\n",
       "<tr>\n",
       "  <th>Omnibus:</th>       <td> 4.849</td> <th>  Durbin-Watson:     </th> <td>   2.323</td>\n",
       "</tr>\n",
       "<tr>\n",
       "  <th>Prob(Omnibus):</th> <td> 0.089</td> <th>  Jarque-Bera (JB):  </th> <td>   2.185</td>\n",
       "</tr>\n",
       "<tr>\n",
       "  <th>Skew:</th>          <td>-1.143</td> <th>  Prob(JB):          </th> <td>   0.335</td>\n",
       "</tr>\n",
       "<tr>\n",
       "  <th>Kurtosis:</th>      <td> 3.138</td> <th>  Cond. No.          </th> <td>    8.62</td>\n",
       "</tr>\n",
       "</table>"
      ],
      "text/plain": [
       "<class 'statsmodels.iolib.summary.Summary'>\n",
       "\"\"\"\n",
       "                            OLS Regression Results                            \n",
       "==============================================================================\n",
       "Dep. Variable:                      Y   R-squared:                       0.093\n",
       "Model:                            OLS   Adj. R-squared:                 -0.020\n",
       "Method:                 Least Squares   F-statistic:                    0.8205\n",
       "Date:                Sun, 29 Apr 2018   Prob (F-statistic):              0.392\n",
       "Time:                        08:53:46   Log-Likelihood:                0.55222\n",
       "No. Observations:                  10   AIC:                             2.896\n",
       "Df Residuals:                       8   BIC:                             3.501\n",
       "Df Model:                           1                                         \n",
       "Covariance Type:            nonrobust                                         \n",
       "==============================================================================\n",
       "                 coef    std err          t      P>|t|      [0.025      0.975]\n",
       "------------------------------------------------------------------------------\n",
       "Intercept      0.9888      0.324      3.053      0.016       0.242       1.736\n",
       "X             -0.4491      0.496     -0.906      0.392      -1.593       0.694\n",
       "==============================================================================\n",
       "Omnibus:                        4.849   Durbin-Watson:                   2.323\n",
       "Prob(Omnibus):                  0.089   Jarque-Bera (JB):                2.185\n",
       "Skew:                          -1.143   Prob(JB):                        0.335\n",
       "Kurtosis:                       3.138   Cond. No.                         8.62\n",
       "==============================================================================\n",
       "\n",
       "Warnings:\n",
       "[1] Standard Errors assume that the covariance matrix of the errors is correctly specified.\n",
       "\"\"\""
      ]
     },
     "execution_count": 6,
     "metadata": {},
     "output_type": "execute_result"
    }
   ],
   "source": [
    "df = pd.DataFrame(dict(X=_X,Y=_Y))\n",
    "smf.ols('Y ~ X',data=df).fit().summary()"
   ]
  },
  {
   "cell_type": "code",
   "execution_count": 7,
   "metadata": {
    "collapsed": true
   },
   "outputs": [],
   "source": [
    "sm_res = smf.ols('Y ~ X',data=df).fit()"
   ]
  },
  {
   "cell_type": "code",
   "execution_count": 8,
   "metadata": {},
   "outputs": [
    {
     "data": {
      "text/plain": [
       "Intercept    0.015741\n",
       "X            0.391505\n",
       "dtype: float64"
      ]
     },
     "execution_count": 8,
     "metadata": {},
     "output_type": "execute_result"
    }
   ],
   "source": [
    "sm_res.pvalues"
   ]
  },
  {
   "cell_type": "code",
   "execution_count": 7,
   "metadata": {
    "collapsed": true
   },
   "outputs": [],
   "source": [
    "X = torch.tensor(_X, dtype=torch.float32)\n",
    "Y = torch.tensor(_Y, dtype=torch.float32)\n",
    "a = torch.tensor(0.0, requires_grad=True)\n",
    "b = torch.tensor(0.0, requires_grad=True)\n",
    "\n",
    "Yhat = a + b * X\n",
    "loss = torch.sum((Y-Yhat)**2)"
   ]
  },
  {
   "cell_type": "code",
   "execution_count": 8,
   "metadata": {},
   "outputs": [
    {
     "data": {
      "text/plain": [
       "tensor(3.0031)"
      ]
     },
     "execution_count": 8,
     "metadata": {},
     "output_type": "execute_result"
    }
   ],
   "source": [
    "loss"
   ]
  },
  {
   "cell_type": "code",
   "execution_count": 9,
   "metadata": {
    "collapsed": true
   },
   "outputs": [],
   "source": [
    "loss.backward()"
   ]
  },
  {
   "cell_type": "code",
   "execution_count": 10,
   "metadata": {},
   "outputs": [
    {
     "data": {
      "text/plain": [
       "tensor(-9.7974)"
      ]
     },
     "execution_count": 10,
     "metadata": {},
     "output_type": "execute_result"
    }
   ],
   "source": [
    "a.grad"
   ]
  },
  {
   "cell_type": "code",
   "execution_count": 11,
   "metadata": {},
   "outputs": [
    {
     "data": {
      "text/plain": [
       "tensor(-3.0491)"
      ]
     },
     "execution_count": 11,
     "metadata": {},
     "output_type": "execute_result"
    }
   ],
   "source": [
    "b.grad"
   ]
  },
  {
   "cell_type": "code",
   "execution_count": 12,
   "metadata": {
    "collapsed": true
   },
   "outputs": [],
   "source": []
  },
  {
   "cell_type": "code",
   "execution_count": 13,
   "metadata": {
    "collapsed": true
   },
   "outputs": [],
   "source": [
    "optimizer = optim.SGD([a,b],lr=0.0001)"
   ]
  },
  {
   "cell_type": "code",
   "execution_count": 14,
   "metadata": {
    "collapsed": true
   },
   "outputs": [],
   "source": [
    "for epoch in range(100):\n",
    "    optimizer.zero_grad()\n",
    "    Yhat = a + b * X\n",
    "    loss = torch.sum((Y-Yhat)**2)\n",
    "    loss.backward()\n",
    "    #print(loss)\n",
    "    optimizer.step()"
   ]
  },
  {
   "cell_type": "code",
   "execution_count": 15,
   "metadata": {},
   "outputs": [
    {
     "data": {
      "text/plain": [
       "tensor(1.00000e-02 *\n",
       "       8.8053)"
      ]
     },
     "execution_count": 15,
     "metadata": {},
     "output_type": "execute_result"
    }
   ],
   "source": [
    "a"
   ]
  },
  {
   "cell_type": "code",
   "execution_count": 16,
   "metadata": {},
   "outputs": [
    {
     "data": {
      "text/plain": [
       "tensor(1.00000e-02 *\n",
       "       2.7255)"
      ]
     },
     "execution_count": 16,
     "metadata": {},
     "output_type": "execute_result"
    }
   ],
   "source": [
    "b"
   ]
  },
  {
   "cell_type": "code",
   "execution_count": 17,
   "metadata": {},
   "outputs": [
    {
     "data": {
      "text/plain": [
       "tensor(2.1578)"
      ]
     },
     "execution_count": 17,
     "metadata": {},
     "output_type": "execute_result"
    }
   ],
   "source": [
    "loss"
   ]
  },
  {
   "cell_type": "markdown",
   "metadata": {},
   "source": [
    "看起来梯度下降ols本身没有偏差，这波把X，Y也纳入优化但这种修改会增加loss"
   ]
  },
  {
   "cell_type": "code",
   "execution_count": 18,
   "metadata": {
    "collapsed": true
   },
   "outputs": [],
   "source": [
    "X_origin = torch.tensor(_X, dtype=torch.float32)\n",
    "X = torch.tensor(_X, requires_grad=True, dtype=torch.float32)\n",
    "Y_origin = torch.tensor(_Y, dtype=torch.float32)\n",
    "Y = torch.tensor(_Y, requires_grad=True, dtype=torch.float32)\n",
    "\n",
    "a = torch.tensor(0.0, requires_grad=True)\n",
    "b = torch.tensor(0.0, requires_grad=True)"
   ]
  },
  {
   "cell_type": "code",
   "execution_count": 19,
   "metadata": {
    "collapsed": true
   },
   "outputs": [],
   "source": [
    "optimizer = optim.SGD([X,Y,a,b], lr=0.01)"
   ]
  },
  {
   "cell_type": "code",
   "execution_count": 20,
   "metadata": {
    "collapsed": true
   },
   "outputs": [],
   "source": [
    "for epoch in range(100):\n",
    "    optimizer.zero_grad()\n",
    "    Yhat = a + b * X\n",
    "    loss = torch.sum((Y-Yhat)**2) + torch.sum((X - X_origin)**2) + torch.sum((Y-Y_origin)**2)\n",
    "    loss.backward()\n",
    "    #print(loss)\n",
    "    optimizer.step()"
   ]
  },
  {
   "cell_type": "code",
   "execution_count": 21,
   "metadata": {},
   "outputs": [
    {
     "data": {
      "text/plain": [
       "tensor(0.4511)"
      ]
     },
     "execution_count": 21,
     "metadata": {},
     "output_type": "execute_result"
    }
   ],
   "source": [
    "a"
   ]
  },
  {
   "cell_type": "code",
   "execution_count": 22,
   "metadata": {},
   "outputs": [
    {
     "data": {
      "text/plain": [
       "tensor(1.00000e-02 *\n",
       "       9.6368)"
      ]
     },
     "execution_count": 22,
     "metadata": {},
     "output_type": "execute_result"
    }
   ],
   "source": [
    "b"
   ]
  },
  {
   "cell_type": "code",
   "execution_count": 23,
   "metadata": {},
   "outputs": [
    {
     "data": {
      "text/plain": [
       "tensor(1.00000e-02 *\n",
       "       [-2.0709,  0.3190,  1.3435,  1.2645, -1.2626, -0.5244,  2.0796,\n",
       "        -0.2172,  0.4974, -0.9376])"
      ]
     },
     "execution_count": 23,
     "metadata": {},
     "output_type": "execute_result"
    }
   ],
   "source": [
    "X - X_origin"
   ]
  },
  {
   "cell_type": "code",
   "execution_count": 24,
   "metadata": {},
   "outputs": [
    {
     "data": {
      "text/plain": [
       "tensor([ 0.2009, -0.0343, -0.1345, -0.1268,  0.1216,  0.0490, -0.2071,\n",
       "         0.0187, -0.0513,  0.0894])"
      ]
     },
     "execution_count": 24,
     "metadata": {},
     "output_type": "execute_result"
    }
   ],
   "source": [
    "Y - Y_origin"
   ]
  },
  {
   "cell_type": "code",
   "execution_count": 25,
   "metadata": {},
   "outputs": [
    {
     "data": {
      "image/png": "[encoded data removed]",
      "text/plain": [
       "<matplotlib.figure.Figure at 0xc12e828>"
      ]
     },
     "metadata": {},
     "output_type": "display_data"
    }
   ],
   "source": [
    "plt.plot(X.detach().numpy(), Y.detach().numpy(), 'o',color='red')\n",
    "plt.plot(X_origin.numpy(), Y_origin.numpy(), 'o',color='blue')\n",
    "plt.show()"
   ]
  },
  {
   "cell_type": "markdown",
   "metadata": {
    "collapsed": true
   },
   "source": [
    "值得注意的一点是梯度下降法算出来的东西本身是求不了梯度的，从而t统计量依赖的参数估计量如果是梯度下降算出来的（虽然可以解析的表示，\n",
    "但其实的确是迭代算出来的），则我们不能求出t统计量对X，Y的梯度。"
   ]
  },
  {
   "cell_type": "code",
   "execution_count": 26,
   "metadata": {
    "collapsed": true
   },
   "outputs": [],
   "source": [
    "X = torch.ones(_X.shape[0], 2, requires_grad=True)\n",
    "X[:,1] = torch.tensor(_X, dtype=torch.float32)"
   ]
  },
  {
   "cell_type": "code",
   "execution_count": 27,
   "metadata": {},
   "outputs": [
    {
     "data": {
      "text/plain": [
       "tensor([[ 1.0000,  0.3911],\n",
       "        [ 1.0000,  0.7503],\n",
       "        [ 1.0000,  0.1303],\n",
       "        [ 1.0000,  0.2226],\n",
       "        [ 1.0000,  0.1737],\n",
       "        [ 1.0000,  0.2074],\n",
       "        [ 1.0000,  0.4167],\n",
       "        [ 1.0000,  0.3269],\n",
       "        [ 1.0000,  0.0024],\n",
       "        [ 1.0000,  0.5219]])"
      ]
     },
     "execution_count": 27,
     "metadata": {},
     "output_type": "execute_result"
    }
   ],
   "source": [
    "X"
   ]
  },
  {
   "cell_type": "code",
   "execution_count": 28,
   "metadata": {
    "collapsed": true
   },
   "outputs": [],
   "source": [
    "Y = torch.tensor(_Y, dtype=torch.float32, requires_grad=True)"
   ]
  },
  {
   "cell_type": "code",
   "execution_count": 29,
   "metadata": {},
   "outputs": [
    {
     "data": {
      "text/plain": [
       "tensor([ 0.5013, -0.0364])"
      ]
     },
     "execution_count": 29,
     "metadata": {},
     "output_type": "execute_result"
    }
   ],
   "source": [
    "# https://web.stanford.edu/~mrosenfe/soc_meth_proj3/matrix_OLS_NYU_notes.pdf\n",
    "beta = torch.inverse(torch.transpose(X,0,1) @ X) @ torch.transpose(X,0,1) @ Y #正规方程，怎么感觉好像这计算开销也没记忆中那么大...\n",
    "beta"
   ]
  },
  {
   "cell_type": "code",
   "execution_count": 30,
   "metadata": {},
   "outputs": [
    {
     "data": {
      "text/plain": [
       "tensor([-0.4153,  0.1145,  0.2346,  0.2315, -0.2830, -0.1300,  0.4220,\n",
       "        -0.0518,  0.0469, -0.1695])"
      ]
     },
     "execution_count": 30,
     "metadata": {},
     "output_type": "execute_result"
    }
   ],
   "source": [
    "e = Y - X @ beta\n",
    "e"
   ]
  },
  {
   "cell_type": "code",
   "execution_count": 31,
   "metadata": {},
   "outputs": [
    {
     "data": {
      "text/plain": [
       "(10, 2, 8)"
      ]
     },
     "execution_count": 31,
     "metadata": {},
     "output_type": "execute_result"
    }
   ],
   "source": [
    "n = X.shape[0]\n",
    "k = X.shape[1]\n",
    "n,k,n-k"
   ]
  },
  {
   "cell_type": "code",
   "execution_count": 32,
   "metadata": {},
   "outputs": [
    {
     "data": {
      "text/plain": [
       "tensor(1.00000e-02 *\n",
       "       7.5355)"
      ]
     },
     "execution_count": 32,
     "metadata": {},
     "output_type": "execute_result"
    }
   ],
   "source": [
    "# https://stats.stackexchange.com/questions/44838/how-are-the-standard-errors-of-coefficients-calculated-in-a-regression\n",
    "\n",
    "sigma_square = (e @ e)/(n-k)\n",
    "sigma_square"
   ]
  },
  {
   "cell_type": "code",
   "execution_count": 33,
   "metadata": {},
   "outputs": [
    {
     "data": {
      "text/plain": [
       "tensor([[ 0.0252, -0.0563],\n",
       "        [-0.0563,  0.1792]])"
      ]
     },
     "execution_count": 33,
     "metadata": {},
     "output_type": "execute_result"
    }
   ],
   "source": [
    "var_bar = sigma_square * torch.inverse(torch.transpose(X,0,1) @ X)\n",
    "var_bar"
   ]
  },
  {
   "cell_type": "code",
   "execution_count": 34,
   "metadata": {},
   "outputs": [
    {
     "data": {
      "text/plain": [
       "tensor([ 0.1589,  0.4233])"
      ]
     },
     "execution_count": 34,
     "metadata": {},
     "output_type": "execute_result"
    }
   ],
   "source": [
    "se = torch.sqrt(torch.diag(var_bar))\n",
    "se"
   ]
  },
  {
   "cell_type": "code",
   "execution_count": 35,
   "metadata": {},
   "outputs": [
    {
     "data": {
      "text/plain": [
       "tensor([ 3.1552, -0.0859])"
      ]
     },
     "execution_count": 35,
     "metadata": {},
     "output_type": "execute_result"
    }
   ],
   "source": [
    "t_test = (beta - 0.0)/se\n",
    "t_test"
   ]
  },
  {
   "cell_type": "code",
   "execution_count": 47,
   "metadata": {},
   "outputs": [
    {
     "name": "stdout",
     "output_type": "stream",
     "text": [
      "real p-value\n",
      " Intercept    0.013492\n",
      "X            0.933675\n",
      "dtype: float64\n"
     ]
    }
   ],
   "source": [
    "print('real p-value\\n',sm_res.pvalues)"
   ]
  },
  {
   "cell_type": "code",
   "execution_count": 37,
   "metadata": {},
   "outputs": [
    {
     "data": {
      "text/plain": [
       "tensor([ 0.0016,  0.9316])"
      ]
     },
     "execution_count": 37,
     "metadata": {},
     "output_type": "execute_result"
    }
   ],
   "source": [
    "p_value = torch.distributions.Normal(0,1).cdf(-torch.abs(t_test)) *2\n",
    "p_value"
   ]
  },
  {
   "cell_type": "markdown",
   "metadata": {},
   "source": [
    "pytorch现在没提供student t的cdf，看了看jstat的实现也依赖一个迭代的计算，对梯度计算不利（虽然也不是一定不能用），所以这里做个小近似，\n",
    "调整正态分布的方差来解决。\n",
    "\n",
    "考虑t分布方差为$\\frac{v}{v-2}$"
   ]
  },
  {
   "cell_type": "code",
   "execution_count": 38,
   "metadata": {},
   "outputs": [
    {
     "data": {
      "text/plain": [
       "tensor([ 0.0063,  0.9407])"
      ]
     },
     "execution_count": 38,
     "metadata": {},
     "output_type": "execute_result"
    }
   ],
   "source": [
    "p_value = torch.distributions.Normal(0,np.sqrt((n-k)/(n-k-2))).cdf(-torch.abs(t_test)) *2\n",
    "p_value"
   ]
  },
  {
   "cell_type": "markdown",
   "metadata": {},
   "source": [
    "并不是非常准确，下面手动搞个近似\n",
    "\n",
    "这里用的是《统计计算》的beta分布函数I的连分数展开，t分布的分布函数可以通过一个不是很明显的变换变成beta分布函数的形式。\n",
    "\n",
    "beta函数的对数\n",
    "\n",
    "$$\n",
    "\\log \\mathrm{B}(a,b) = \\log \\frac{\\Gamma(a)\\Gamma(b)}{\\Gamma(a+b)} = \\log \\Gamma(a) + \\log \\Gamma(b) - \\log \\Gamma(a+b)\n",
    "$$\n",
    "\n",
    "t分布分布函数与beta分布分布函数之关系\n",
    "\n",
    "$$\n",
    "T(t \\mid n) = \\begin{cases}\n",
    "1 - \\frac{1}{2} I_x(\\frac{n}{2},\\frac{1}{2}) & t>0 \\\\\n",
    "\\frac{1}{2} I_x(\\frac{n}{2},\\frac{1}{2}) & t \\le 0\n",
    "\\end{cases}\n",
    "$$\n",
    "\n",
    "其中\n",
    "$$\n",
    "x = \\frac{n}{n+t^2}\n",
    "$$\n",
    "\n",
    "beta分布分布函数\n",
    "\n",
    "\\begin{align}\n",
    "I_x(a,b) &= \\frac{x^a(1-x)^{b-1}}{\\mathrm{B}(a,b)a} \\left(\n",
    "1 + \\sum_{k=1}^{\\infty}\\frac{(b-1)\\dots(b-k)}{(a+1)\\dots(a+k)}\\left( \\frac{x}{1-x} \\right)^k\n",
    "\\right) \\\\\n",
    "&= \\exp( a \\log(x) +(b-1)\\log(1-x)-\\log(\\mathrm{B}(a,b)) -\\log(a) )\\left(\n",
    "1 + \\sum_{k=1}^\\infty \\exp( \\sum_{i=1}^k \\log(b-i) - \\sum_{i=1}^k \\log(a+i) + k(\\log x - \\log(1-x))  )\n",
    "\\right)\n",
    "\\end{align}\n"
   ]
  },
  {
   "cell_type": "code",
   "execution_count": 39,
   "metadata": {
    "collapsed": true
   },
   "outputs": [],
   "source": [
    "def outer(X,Y):\n",
    "    return X.repeat(Y.shape[0],1).transpose(0,1) * Y"
   ]
  },
  {
   "cell_type": "code",
   "execution_count": 53,
   "metadata": {
    "collapsed": true
   },
   "outputs": [],
   "source": [
    "def log_beta(a,b):\n",
    "    return torch.lgamma(a) + torch.lgamma(b) - torch.lgamma(a+b)\n",
    "\n",
    "\n",
    "def ibeta(x,a,b,n=5):\n",
    "    log,exp,cumsum,cumprod,sum = torch.log,torch.exp,torch.cumsum,torch.cumprod,torch.sum\n",
    "    left = exp(a*log(x) + (b-1)*log(1-x) - log_beta(a,b) - log(a))\n",
    "    xx = log(x) - log(1.0-x)\n",
    "    #xx = x/(1-x)\n",
    "    k = torch.arange(1,n+1,dtype=torch.float32)\n",
    "    right = 1.0 + sum( (outer(k,xx)).transpose(0,1) * cumprod((b - k)/(a + k), 0) , dim=1)\n",
    "    return left * right\n",
    "\n",
    "def student_t_cdf(t, n):\n",
    "    # 限制 t<0\n",
    "    x = n/(n+t**2)\n",
    "    return 0.5 * ibeta(x, torch.tensor(0.5*n), torch.tensor(0.5))"
   ]
  },
  {
   "cell_type": "code",
   "execution_count": 54,
   "metadata": {},
   "outputs": [
    {
     "data": {
      "text/plain": [
       "tensor([ 0.0147,  4.5269])"
      ]
     },
     "execution_count": 54,
     "metadata": {},
     "output_type": "execute_result"
    }
   ],
   "source": [
    "p_value = student_t_cdf(-torch.abs(t_test), n-k) *2\n",
    "p_value"
   ]
  },
  {
   "cell_type": "code",
   "execution_count": null,
   "metadata": {
    "collapsed": true
   },
   "outputs": [],
   "source": []
  },
  {
   "cell_type": "code",
   "execution_count": 64,
   "metadata": {
    "collapsed": true
   },
   "outputs": [],
   "source": [
    "#X = torch.tensor(np.c_[np.ones(_X.shape[0]),_X], dtype=torch.float32, requires_grad=True)\n",
    "X = torch.tensor(np.c_[np.ones(_X.shape[0]),_X], dtype=torch.float32)\n",
    "Y = torch.tensor(_Y, dtype=torch.float32, requires_grad=True)\n",
    "\n",
    "Y_origin = torch.tensor(_Y, dtype=torch.float32)"
   ]
  },
  {
   "cell_type": "code",
   "execution_count": 65,
   "metadata": {},
   "outputs": [],
   "source": [
    "optimizer = optim.SGD([Y],lr=0.01)\n",
    "for epoch in range(100):\n",
    "    optimizer.zero_grad()\n",
    "    beta = torch.inverse(torch.transpose(X,0,1) @ X) @ torch.transpose(X,0,1) @ Y\n",
    "    e = Y - X @ beta\n",
    "    n = X.shape[0]\n",
    "    k = X.shape[1]\n",
    "    sigma_square = (e @ e)/(n-k)\n",
    "    var_bar = sigma_square * torch.inverse(torch.transpose(X,0,1) @ X)\n",
    "    se = torch.sqrt(torch.diag(var_bar))\n",
    "    t_test = (beta - 0.0)/se\n",
    "    p_value = torch.distributions.Normal(0,np.sqrt((n-k)/(n-k-2))).cdf(-torch.abs(t_test)) *2 #这步是近似计算，因为基于迭代解p值不好求梯度\n",
    "    \n",
    "    loss = p_value[1]  + torch.sum((Y-Y_origin)**2)\n",
    "    loss.backward()\n",
    "    optimizer.step()"
   ]
  },
  {
   "cell_type": "code",
   "execution_count": 66,
   "metadata": {},
   "outputs": [
    {
     "data": {
      "text/plain": [
       "tensor([ 0.1526,  0.3026,  0.7666,  0.7079,  0.3783,  0.4645,  0.7221,\n",
       "         0.4460,  0.7139,  0.2441])"
      ]
     },
     "execution_count": 66,
     "metadata": {},
     "output_type": "execute_result"
    }
   ],
   "source": [
    "Y"
   ]
  },
  {
   "cell_type": "code",
   "execution_count": 67,
   "metadata": {},
   "outputs": [
    {
     "data": {
      "text/plain": [
       "tensor([ 0.0718,  0.5885,  0.7311,  0.7247,  0.2120,  0.3638,  0.9082,\n",
       "         0.4376,  0.5481,  0.3128])"
      ]
     },
     "execution_count": 67,
     "metadata": {},
     "output_type": "execute_result"
    }
   ],
   "source": [
    "Y_origin"
   ]
  },
  {
   "cell_type": "code",
   "execution_count": 69,
   "metadata": {},
   "outputs": [
    {
     "data": {
      "image/png": "[encoded data removed]",
      "text/plain": [
       "<matplotlib.figure.Figure at 0xc539e80>"
      ]
     },
     "metadata": {},
     "output_type": "display_data"
    }
   ],
   "source": [
    "plt.plot(_X, Y.detach().numpy(), 'o',color='red')\n",
    "plt.plot(_X, Y_origin.numpy(), 'o',color='blue')\n",
    "plt.show()"
   ]
  },
  {
   "cell_type": "code",
   "execution_count": 70,
   "metadata": {
    "collapsed": true
   },
   "outputs": [],
   "source": [
    "def show_change(x_old, y_old, x_new, y_new):\n",
    "    dx = x_new - x_old\n",
    "    dy = y_new - y_old\n",
    "    plt.plot(x_old, y_old, 'o', color='red')\n",
    "    #plt.show()\n",
    "    plt.plot(x_new, y_new, 'o', color='blue')\n",
    "    for i in range(x_old.shape[0]):\n",
    "        plt.arrow(x_old[i], y_old[i], dx[i], dy[i], head_width=0.02)\n",
    "    plt.show()\n",
    "    plt.plot(x_old, y_old, 'o', color='red')\n",
    "    plt.show()\n",
    "    plt.plot(x_new, y_new, 'o', color='blue')\n",
    "    plt.show()"
   ]
  },
  {
   "cell_type": "code",
   "execution_count": 96,
   "metadata": {},
   "outputs": [
    {
     "data": {
      "image/png": "[encoded data removed]",
      "text/plain": [
       "<matplotlib.figure.Figure at 0xc4a3278>"
      ]
     },
     "metadata": {},
     "output_type": "display_data"
    },
    {
     "data": {
      "image/png": "[encoded data removed]",
      "text/plain": [
       "<matplotlib.figure.Figure at 0xc055400>"
      ]
     },
     "metadata": {},
     "output_type": "display_data"
    },
    {
     "data": {
      "image/png": "[encoded data removed]",
      "text/plain": [
       "<matplotlib.figure.Figure at 0xc6d5048>"
      ]
     },
     "metadata": {},
     "output_type": "display_data"
    }
   ],
   "source": [
    "show_change(_X,_Y,_X,Y.detach().numpy())\n",
    "plt.show()"
   ]
  },
  {
   "cell_type": "code",
   "execution_count": 87,
   "metadata": {},
   "outputs": [],
   "source": [
    "df_new = df.copy()\n",
    "df_new['Y'] = Y.detach().numpy()"
   ]
  },
  {
   "cell_type": "code",
   "execution_count": 88,
   "metadata": {},
   "outputs": [
    {
     "name": "stderr",
     "output_type": "stream",
     "text": [
      "D:\\anaconda\\lib\\site-packages\\scipy\\stats\\stats.py:1334: UserWarning: kurtosistest only valid for n>=20 ... continuing anyway, n=10\n",
      "  \"anyway, n=%i\" % int(n))\n"
     ]
    },
    {
     "data": {
      "text/html": [
       "<table class=\"simpletable\">\n",
       "<caption>OLS Regression Results</caption>\n",
       "<tr>\n",
       "  <th>Dep. Variable:</th>            <td>Y</td>        <th>  R-squared:         </th> <td>   0.349</td>\n",
       "</tr>\n",
       "<tr>\n",
       "  <th>Model:</th>                   <td>OLS</td>       <th>  Adj. R-squared:    </th> <td>   0.268</td>\n",
       "</tr>\n",
       "<tr>\n",
       "  <th>Method:</th>             <td>Least Squares</td>  <th>  F-statistic:       </th> <td>   4.293</td>\n",
       "</tr>\n",
       "<tr>\n",
       "  <th>Date:</th>             <td>Sun, 29 Apr 2018</td> <th>  Prob (F-statistic):</th>  <td>0.0720</td> \n",
       "</tr>\n",
       "<tr>\n",
       "  <th>Time:</th>                 <td>08:30:41</td>     <th>  Log-Likelihood:    </th> <td>  3.4372</td>\n",
       "</tr>\n",
       "<tr>\n",
       "  <th>No. Observations:</th>      <td>    10</td>      <th>  AIC:               </th> <td>  -2.874</td>\n",
       "</tr>\n",
       "<tr>\n",
       "  <th>Df Residuals:</th>          <td>     8</td>      <th>  BIC:               </th> <td>  -2.269</td>\n",
       "</tr>\n",
       "<tr>\n",
       "  <th>Df Model:</th>              <td>     1</td>      <th>                     </th>     <td> </td>   \n",
       "</tr>\n",
       "<tr>\n",
       "  <th>Covariance Type:</th>      <td>nonrobust</td>    <th>                     </th>     <td> </td>   \n",
       "</tr>\n",
       "</table>\n",
       "<table class=\"simpletable\">\n",
       "<tr>\n",
       "      <td></td>         <th>coef</th>     <th>std err</th>      <th>t</th>      <th>P>|t|</th>  <th>[0.025</th>    <th>0.975]</th>  \n",
       "</tr>\n",
       "<tr>\n",
       "  <th>Intercept</th> <td>    0.6826</td> <td>    0.111</td> <td>    6.147</td> <td> 0.000</td> <td>    0.427</td> <td>    0.939</td>\n",
       "</tr>\n",
       "<tr>\n",
       "  <th>X</th>         <td>   -0.6130</td> <td>    0.296</td> <td>   -2.072</td> <td> 0.072</td> <td>   -1.295</td> <td>    0.069</td>\n",
       "</tr>\n",
       "</table>\n",
       "<table class=\"simpletable\">\n",
       "<tr>\n",
       "  <th>Omnibus:</th>       <td> 0.173</td> <th>  Durbin-Watson:     </th> <td>   1.939</td>\n",
       "</tr>\n",
       "<tr>\n",
       "  <th>Prob(Omnibus):</th> <td> 0.917</td> <th>  Jarque-Bera (JB):  </th> <td>   0.364</td>\n",
       "</tr>\n",
       "<tr>\n",
       "  <th>Skew:</th>          <td> 0.004</td> <th>  Prob(JB):          </th> <td>   0.834</td>\n",
       "</tr>\n",
       "<tr>\n",
       "  <th>Kurtosis:</th>      <td> 2.066</td> <th>  Cond. No.          </th> <td>    5.38</td>\n",
       "</tr>\n",
       "</table>"
      ],
      "text/plain": [
       "<class 'statsmodels.iolib.summary.Summary'>\n",
       "\"\"\"\n",
       "                            OLS Regression Results                            \n",
       "==============================================================================\n",
       "Dep. Variable:                      Y   R-squared:                       0.349\n",
       "Model:                            OLS   Adj. R-squared:                  0.268\n",
       "Method:                 Least Squares   F-statistic:                     4.293\n",
       "Date:                Sun, 29 Apr 2018   Prob (F-statistic):             0.0720\n",
       "Time:                        08:30:41   Log-Likelihood:                 3.4372\n",
       "No. Observations:                  10   AIC:                            -2.874\n",
       "Df Residuals:                       8   BIC:                            -2.269\n",
       "Df Model:                           1                                         \n",
       "Covariance Type:            nonrobust                                         \n",
       "==============================================================================\n",
       "                 coef    std err          t      P>|t|      [0.025      0.975]\n",
       "------------------------------------------------------------------------------\n",
       "Intercept      0.6826      0.111      6.147      0.000       0.427       0.939\n",
       "X             -0.6130      0.296     -2.072      0.072      -1.295       0.069\n",
       "==============================================================================\n",
       "Omnibus:                        0.173   Durbin-Watson:                   1.939\n",
       "Prob(Omnibus):                  0.917   Jarque-Bera (JB):                0.364\n",
       "Skew:                           0.004   Prob(JB):                        0.834\n",
       "Kurtosis:                       2.066   Cond. No.                         5.38\n",
       "==============================================================================\n",
       "\n",
       "Warnings:\n",
       "[1] Standard Errors assume that the covariance matrix of the errors is correctly specified.\n",
       "\"\"\""
      ]
     },
     "execution_count": 88,
     "metadata": {},
     "output_type": "execute_result"
    }
   ],
   "source": [
    "res_new_df = smf.ols('Y ~ X',data=df_new).fit()\n",
    "res_new_df.summary()"
   ]
  },
  {
   "cell_type": "code",
   "execution_count": 50,
   "metadata": {},
   "outputs": [
    {
     "name": "stderr",
     "output_type": "stream",
     "text": [
      "D:\\anaconda\\lib\\site-packages\\scipy\\stats\\stats.py:1334: UserWarning: kurtosistest only valid for n>=20 ... continuing anyway, n=10\n",
      "  \"anyway, n=%i\" % int(n))\n"
     ]
    },
    {
     "name": "stdout",
     "output_type": "stream",
     "text": [
      "0 Intercept    0.016101\n",
      "X            0.390765\n",
      "dtype: float64\n",
      "1 Intercept    0.002845\n",
      "X            0.135966\n",
      "dtype: float64\n",
      "2 Intercept    0.014920\n",
      "X            0.329069\n",
      "dtype: float64\n",
      "3 Intercept    0.010344\n",
      "X            0.289400\n",
      "dtype: float64\n",
      "4 Intercept    0.005439\n",
      "X            0.098849\n",
      "dtype: float64\n",
      "5 Intercept    0.005388\n",
      "X            0.093430\n",
      "dtype: float64\n",
      "6 Intercept    0.012415\n",
      "X            0.296039\n",
      "dtype: float64\n",
      "7 Intercept    0.014011\n",
      "X            0.373870\n",
      "dtype: float64\n",
      "8 Intercept    0.019082\n",
      "X            0.388320\n",
      "dtype: float64\n",
      "9 Intercept    0.014873\n",
      "X            0.332778\n",
      "dtype: float64\n"
     ]
    }
   ],
   "source": [
    "n = _X.shape[0]\n",
    "k = 2\n",
    "\n",
    "for i in range(n):\n",
    "    X = torch.tensor(np.c_[np.ones(_X.shape[0]),_X], dtype=torch.float32)\n",
    "    #Y = torch.tensor(_Y, dtype=torch.float32)\n",
    "    y = torch.tensor(_Y[i], dtype=torch.float32, requires_grad=True)\n",
    "    #Y[i] = y\n",
    "    \n",
    "    optimizer = optim.SGD([y],lr=0.01)\n",
    "    for epoch in range(100):\n",
    "        optimizer.zero_grad()\n",
    "        \n",
    "        Y = torch.tensor(_Y, dtype=torch.float32) #把Y放外面会出又要求梯度又求过一次梯度那个错误\n",
    "        Y[i] = y\n",
    "        \n",
    "        beta = torch.inverse(torch.transpose(X,0,1) @ X) @ torch.transpose(X,0,1) @ Y\n",
    "        e = Y - X @ beta\n",
    "        sigma_square = (e @ e)/(n-k)\n",
    "        var_bar = sigma_square * torch.inverse(torch.transpose(X,0,1) @ X)\n",
    "        se = torch.sqrt(torch.diag(var_bar))\n",
    "        t_test = (beta - 0.0)/se\n",
    "        p_value = torch.distributions.Normal(0,np.sqrt((n-k)/(n-k-2))).cdf(-torch.abs(t_test)) *2 #这步是近似计算，因为基于迭代解p值不好求梯度\n",
    "\n",
    "        loss = p_value[1] # + torch.sum((Y-Y_origin)**2)\n",
    "        loss.backward()\n",
    "        optimizer.step()\n",
    "    \n",
    "    df_new = df.copy()\n",
    "    df_new['Y'] = Y.detach().numpy()\n",
    "    res_new_df = smf.ols('Y ~ X',data=df_new).fit()\n",
    "    res_new_df.summary()\n",
    "    print(i,res_new_df.pvalues)"
   ]
  },
  {
   "cell_type": "code",
   "execution_count": 61,
   "metadata": {
    "collapsed": true
   },
   "outputs": [],
   "source": [
    "def optim_Y(optim_i, _X, _Y, target_X_i):\n",
    "    # 这里假设_X是完整的设计矩阵，包括全1列.optim_i是要被优化的i，target_X_i是用来优化p-value的列\n",
    "    n = _X.shape[0]\n",
    "    k = _X.shape[1]\n",
    "    \n",
    "    #X = torch.tensor(np.c_[np.ones(_X.shape[0]),_X], dtype=torch.float32)\n",
    "    X = torch.tensor(_X, dtype=torch.float32)\n",
    "    #Y = torch.tensor(_Y, dtype=torch.float32)\n",
    "    y = torch.tensor(_Y[optim_i], dtype=torch.float32, requires_grad=True)\n",
    "    #Y[i] = y\n",
    "    \n",
    "    optimizer = optim.SGD([y],lr=0.01)\n",
    "    for epoch in range(100):\n",
    "        optimizer.zero_grad()\n",
    "        \n",
    "        Y = torch.tensor(_Y, dtype=torch.float32) #把Y放外面会出又要求梯度又求过一次梯度那个错误\n",
    "        Y[optim_i] = y\n",
    "        \n",
    "        beta = torch.inverse(torch.transpose(X,0,1) @ X) @ torch.transpose(X,0,1) @ Y\n",
    "        e = Y - X @ beta\n",
    "        sigma_square = (e @ e)/(n-k)\n",
    "        var_bar = sigma_square * torch.inverse(torch.transpose(X,0,1) @ X)\n",
    "        se = torch.sqrt(torch.diag(var_bar))\n",
    "        t_test = (beta - 0.0)/se\n",
    "        p_value = torch.distributions.Normal(0,np.sqrt((n-k)/(n-k-2))).cdf(-torch.abs(t_test)) *2 #这步是近似计算，因为基于迭代解p值不好求梯度\n",
    "\n",
    "        loss = p_value[target_X_i] # + torch.sum((Y-Y_origin)**2)\n",
    "        loss.backward()\n",
    "        optimizer.step()\n",
    "    \n",
    "    return y.item(),loss.item()\n",
    "    \n",
    "def select_Y(_X,_Y,target_X_i,exclude=None):\n",
    "    n = _X.shape[0]\n",
    "    k = _X.shape[1]\n",
    "    \n",
    "    if exclude is None:\n",
    "        exclude = set()\n",
    "    else:\n",
    "        exclude = set(exclude)\n",
    "    \n",
    "    res = []\n",
    "    for i in set(range(n)) - exclude:\n",
    "        y,loss = optim_Y(i, _X, _Y, target_X_i)\n",
    "        __Y = _Y.copy()\n",
    "        __Y[i] = y\n",
    "        res.append((i, y, sm.OLS(__Y,_X).fit().pvalues[target_X_i],loss)) # 位置id，对应的新取值,对应的精确值，对应的拟合p值\n",
    "    \n",
    "    #return min(res,key=lambda tup:tup[2])\n",
    "    return res"
   ]
  },
  {
   "cell_type": "code",
   "execution_count": 54,
   "metadata": {},
   "outputs": [
    {
     "data": {
      "text/plain": [
       "[(0, 0.6057834029197693, 0.3907617075435684, 0.4320213794708252),\n",
       " (1, 0.9506849646568298, 0.13552128953031298, 0.15111225843429565),\n",
       " (2, 0.5124577283859253, 0.3288507513093427, 0.3681017756462097),\n",
       " (3, 0.6101948022842407, 0.2890757322625891, 0.325813889503479),\n",
       " (4, 0.2106517106294632, 0.09840055601065092, 0.10588997602462769),\n",
       " (5, 1.5046006441116333, 0.09294015798293309, 0.09921258687973022),\n",
       " (6, 1.0574439764022827, 0.29572597738397266, 0.3329622745513916),\n",
       " (7, 0.777508556842804, 0.3737957891035397, 0.4147229790687561),\n",
       " (8, 0.0733516588807106, 0.38829767281958094, 0.4295269250869751),\n",
       " (9, 0.5269665718078613, 0.33257139535348335, 0.37200599908828735)]"
      ]
     },
     "execution_count": 54,
     "metadata": {},
     "output_type": "execute_result"
    }
   ],
   "source": [
    "select_Y(np.c_[np.ones(_X.shape[0]),_X],_Y,1)"
   ]
  },
  {
   "cell_type": "code",
   "execution_count": 64,
   "metadata": {
    "collapsed": true
   },
   "outputs": [],
   "source": [
    "def greedy_make_up(limit,_X,_Y,target_X_i):\n",
    "    selected = []\n",
    "    _Y = _Y.copy()\n",
    "    trace = [sm.OLS(_Y,_X).fit().pvalues[target_X_i]]\n",
    "    for i in range(limit):\n",
    "        i,y,pvalue,pvaluehat = min(select_Y(_X, _Y, target_X_i, exclude=selected),key=lambda term:term[2])\n",
    "        selected.append(i)\n",
    "        trace.append(pvalue)\n",
    "        _Y[i] = y\n",
    "    return _Y,trace,selected"
   ]
  },
  {
   "cell_type": "code",
   "execution_count": 65,
   "metadata": {},
   "outputs": [
    {
     "data": {
      "text/plain": [
       "(array([0.63269073, 0.59375399, 0.75937491, 0.92769326, 0.48062742,\n",
       "        1.50460064, 0.75267548, 0.90939238, 0.13027563, 0.76648336]),\n",
       " [0.39150539184981836,\n",
       "  0.09294015798293309,\n",
       "  0.03917119129134167,\n",
       "  0.02095969347330555],\n",
       " [5, 4, 1])"
      ]
     },
     "execution_count": 65,
     "metadata": {},
     "output_type": "execute_result"
    }
   ],
   "source": [
    "greedy_make_up(3,np.c_[np.ones(_X.shape[0]),_X],_Y,1)"
   ]
  },
  {
   "cell_type": "code",
   "execution_count": 67,
   "metadata": {},
   "outputs": [],
   "source": [
    "Y_makeup, trace,selected = greedy_make_up(2,np.c_[np.ones(_X.shape[0]),_X],_Y,1)"
   ]
  },
  {
   "cell_type": "code",
   "execution_count": 68,
   "metadata": {},
   "outputs": [
    {
     "data": {
      "text/plain": [
       "array([ 0.        ,  0.        ,  0.        ,  0.        , -0.24669301,\n",
       "        0.51789824,  0.        ,  0.        ,  0.        ,  0.        ])"
      ]
     },
     "execution_count": 68,
     "metadata": {},
     "output_type": "execute_result"
    }
   ],
   "source": [
    "Y_makeup - _Y"
   ]
  },
  {
   "cell_type": "code",
   "execution_count": 71,
   "metadata": {},
   "outputs": [
    {
     "data": {
      "image/png": "[encoded data removed]",
      "text/plain": [
       "<matplotlib.figure.Figure at 0xc76fb38>"
      ]
     },
     "metadata": {},
     "output_type": "display_data"
    },
    {
     "data": {
      "image/png": "[encoded data removed]",
      "text/plain": [
       "<matplotlib.figure.Figure at 0xc7d4588>"
      ]
     },
     "metadata": {},
     "output_type": "display_data"
    },
    {
     "data": {
      "image/png": "[encoded data removed]",
      "text/plain": [
       "<matplotlib.figure.Figure at 0xc8ffbe0>"
      ]
     },
     "metadata": {},
     "output_type": "display_data"
    }
   ],
   "source": [
    "show_change(_X,_Y,_X,Y_makeup)"
   ]
  },
  {
   "cell_type": "code",
   "execution_count": null,
   "metadata": {
    "collapsed": true
   },
   "outputs": [],
   "source": []
  }
 ],
 "metadata": {
  "kernelspec": {
   "display_name": "Python 3",
   "language": "python",
   "name": "python3"
  },
  "language_info": {
   "codemirror_mode": {
    "name": "ipython",
    "version": 3
   },
   "file_extension": ".py",
   "mimetype": "text/x-python",
   "name": "python",
   "nbconvert_exporter": "python",
   "pygments_lexer": "ipython3",
   "version": "3.6.2"
  }
 },
 "nbformat": 4,
 "nbformat_minor": 2
}
