{
 "cells": [
  {
   "cell_type": "markdown",
   "metadata": {},
   "source": [
    "这里应该做个嘲讽捏造数据的模型，优化p值使得不应该显著的项而显著。顺便练练pytorch0.4的新api"
   ]
  },
  {
   "cell_type": "code",
   "execution_count": 1,
   "metadata": {},
   "outputs": [
    {
     "name": "stderr",
     "output_type": "stream",
     "text": [
      "D:\\anaconda\\lib\\site-packages\\statsmodels\\compat\\pandas.py:56: FutureWarning: The pandas.core.datetools module is deprecated and will be removed in a future version. Please use the pandas.tseries module instead.\n",
      "  from pandas.core import datetools\n"
     ]
    }
   ],
   "source": [
    "import numpy as np\n",
    "import matplotlib.pyplot as plt\n",
    "import statsmodels.formula.api as smf\n",
    "import statsmodels.api as sm\n",
    "\n",
    "%matplotlib inline"
   ]
  },
  {
   "cell_type": "code",
   "execution_count": 2,
   "metadata": {
    "collapsed": true
   },
   "outputs": [],
   "source": [
    "import pandas as pd"
   ]
  },
  {
   "cell_type": "code",
   "execution_count": 3,
   "metadata": {
    "collapsed": true
   },
   "outputs": [],
   "source": [
    "import torch\n",
    "import torch.optim as optim"
   ]
  },
  {
   "cell_type": "code",
   "execution_count": 104,
   "metadata": {
    "collapsed": true
   },
   "outputs": [],
   "source": [
    "np.random.seed(40)"
   ]
  },
  {
   "cell_type": "code",
   "execution_count": 105,
   "metadata": {
    "collapsed": true
   },
   "outputs": [],
   "source": [
    "_X = np.random.random(10)\n",
    "_Y = np.random.random(10)"
   ]
  },
  {
   "cell_type": "code",
   "execution_count": 106,
   "metadata": {},
   "outputs": [
    {
     "data": {
      "image/png": "[encoded data removed]",
      "text/plain": [
       "<matplotlib.figure.Figure at 0xceb8dd8>"
      ]
     },
     "metadata": {},
     "output_type": "display_data"
    }
   ],
   "source": [
    "plt.plot(_X,_Y,'o')\n",
    "plt.show()"
   ]
  },
  {
   "cell_type": "code",
   "execution_count": 107,
   "metadata": {},
   "outputs": [
    {
     "name": "stderr",
     "output_type": "stream",
     "text": [
      "D:\\anaconda\\lib\\site-packages\\scipy\\stats\\stats.py:1334: UserWarning: kurtosistest only valid for n>=20 ... continuing anyway, n=10\n",
      "  \"anyway, n=%i\" % int(n))\n"
     ]
    },
    {
     "data": {
      "text/html": [
       "<table class=\"simpletable\">\n",
       "<caption>OLS Regression Results</caption>\n",
       "<tr>\n",
       "  <th>Dep. Variable:</th>            <td>Y</td>        <th>  R-squared:         </th> <td>   0.020</td>\n",
       "</tr>\n",
       "<tr>\n",
       "  <th>Model:</th>                   <td>OLS</td>       <th>  Adj. R-squared:    </th> <td>  -0.103</td>\n",
       "</tr>\n",
       "<tr>\n",
       "  <th>Method:</th>             <td>Least Squares</td>  <th>  F-statistic:       </th> <td>  0.1631</td>\n",
       "</tr>\n",
       "<tr>\n",
       "  <th>Date:</th>             <td>Thu, 10 May 2018</td> <th>  Prob (F-statistic):</th>  <td> 0.697</td> \n",
       "</tr>\n",
       "<tr>\n",
       "  <th>Time:</th>                 <td>13:03:41</td>     <th>  Log-Likelihood:    </th> <td> -2.9500</td>\n",
       "</tr>\n",
       "<tr>\n",
       "  <th>No. Observations:</th>      <td>    10</td>      <th>  AIC:               </th> <td>   9.900</td>\n",
       "</tr>\n",
       "<tr>\n",
       "  <th>Df Residuals:</th>          <td>     8</td>      <th>  BIC:               </th> <td>   10.51</td>\n",
       "</tr>\n",
       "<tr>\n",
       "  <th>Df Model:</th>              <td>     1</td>      <th>                     </th>     <td> </td>   \n",
       "</tr>\n",
       "<tr>\n",
       "  <th>Covariance Type:</th>      <td>nonrobust</td>    <th>                     </th>     <td> </td>   \n",
       "</tr>\n",
       "</table>\n",
       "<table class=\"simpletable\">\n",
       "<tr>\n",
       "      <td></td>         <th>coef</th>     <th>std err</th>      <th>t</th>      <th>P>|t|</th>  <th>[0.025</th>    <th>0.975]</th>  \n",
       "</tr>\n",
       "<tr>\n",
       "  <th>Intercept</th> <td>    0.6659</td> <td>    0.277</td> <td>    2.407</td> <td> 0.043</td> <td>    0.028</td> <td>    1.304</td>\n",
       "</tr>\n",
       "<tr>\n",
       "  <th>X</th>         <td>   -0.2071</td> <td>    0.513</td> <td>   -0.404</td> <td> 0.697</td> <td>   -1.390</td> <td>    0.975</td>\n",
       "</tr>\n",
       "</table>\n",
       "<table class=\"simpletable\">\n",
       "<tr>\n",
       "  <th>Omnibus:</th>       <td> 1.936</td> <th>  Durbin-Watson:     </th> <td>   2.618</td>\n",
       "</tr>\n",
       "<tr>\n",
       "  <th>Prob(Omnibus):</th> <td> 0.380</td> <th>  Jarque-Bera (JB):  </th> <td>   0.928</td>\n",
       "</tr>\n",
       "<tr>\n",
       "  <th>Skew:</th>          <td>-0.323</td> <th>  Prob(JB):          </th> <td>   0.629</td>\n",
       "</tr>\n",
       "<tr>\n",
       "  <th>Kurtosis:</th>      <td> 1.655</td> <th>  Cond. No.          </th> <td>    5.58</td>\n",
       "</tr>\n",
       "</table>"
      ],
      "text/plain": [
       "<class 'statsmodels.iolib.summary.Summary'>\n",
       "\"\"\"\n",
       "                            OLS Regression Results                            \n",
       "==============================================================================\n",
       "Dep. Variable:                      Y   R-squared:                       0.020\n",
       "Model:                            OLS   Adj. R-squared:                 -0.103\n",
       "Method:                 Least Squares   F-statistic:                    0.1631\n",
       "Date:                Thu, 10 May 2018   Prob (F-statistic):              0.697\n",
       "Time:                        13:03:41   Log-Likelihood:                -2.9500\n",
       "No. Observations:                  10   AIC:                             9.900\n",
       "Df Residuals:                       8   BIC:                             10.51\n",
       "Df Model:                           1                                         \n",
       "Covariance Type:            nonrobust                                         \n",
       "==============================================================================\n",
       "                 coef    std err          t      P>|t|      [0.025      0.975]\n",
       "------------------------------------------------------------------------------\n",
       "Intercept      0.6659      0.277      2.407      0.043       0.028       1.304\n",
       "X             -0.2071      0.513     -0.404      0.697      -1.390       0.975\n",
       "==============================================================================\n",
       "Omnibus:                        1.936   Durbin-Watson:                   2.618\n",
       "Prob(Omnibus):                  0.380   Jarque-Bera (JB):                0.928\n",
       "Skew:                          -0.323   Prob(JB):                        0.629\n",
       "Kurtosis:                       1.655   Cond. No.                         5.58\n",
       "==============================================================================\n",
       "\n",
       "Warnings:\n",
       "[1] Standard Errors assume that the covariance matrix of the errors is correctly specified.\n",
       "\"\"\""
      ]
     },
     "execution_count": 107,
     "metadata": {},
     "output_type": "execute_result"
    }
   ],
   "source": [
    "df = pd.DataFrame(dict(X=_X,Y=_Y))\n",
    "smf.ols('Y ~ X',data=df).fit().summary()"
   ]
  },
  {
   "cell_type": "code",
   "execution_count": 108,
   "metadata": {
    "collapsed": true
   },
   "outputs": [],
   "source": [
    "sm_res = smf.ols('Y ~ X',data=df).fit()"
   ]
  },
  {
   "cell_type": "code",
   "execution_count": 174,
   "metadata": {},
   "outputs": [
    {
     "data": {
      "text/plain": [
       "Intercept    0.665852\n",
       "X           -0.207072\n",
       "dtype: float64"
      ]
     },
     "execution_count": 174,
     "metadata": {},
     "output_type": "execute_result"
    }
   ],
   "source": [
    "sm_res.params"
   ]
  },
  {
   "cell_type": "code",
   "execution_count": 109,
   "metadata": {},
   "outputs": [
    {
     "data": {
      "text/plain": [
       "Intercept    0.042688\n",
       "X            0.696937\n",
       "dtype: float64"
      ]
     },
     "execution_count": 109,
     "metadata": {},
     "output_type": "execute_result"
    }
   ],
   "source": [
    "sm_res.pvalues"
   ]
  },
  {
   "cell_type": "code",
   "execution_count": 110,
   "metadata": {
    "collapsed": true
   },
   "outputs": [],
   "source": [
    "X = torch.tensor(_X, dtype=torch.float32)\n",
    "Y = torch.tensor(_Y, dtype=torch.float32)\n",
    "a = torch.tensor(0.0, requires_grad=True)\n",
    "b = torch.tensor(0.0, requires_grad=True)\n",
    "\n",
    "Yhat = a + b * X\n",
    "loss = torch.sum((Y-Yhat)**2)"
   ]
  },
  {
   "cell_type": "code",
   "execution_count": 111,
   "metadata": {},
   "outputs": [
    {
     "data": {
      "text/plain": [
       "tensor(4.2616)"
      ]
     },
     "execution_count": 111,
     "metadata": {},
     "output_type": "execute_result"
    }
   ],
   "source": [
    "loss"
   ]
  },
  {
   "cell_type": "code",
   "execution_count": 112,
   "metadata": {
    "collapsed": true
   },
   "outputs": [],
   "source": [
    "loss.backward()"
   ]
  },
  {
   "cell_type": "code",
   "execution_count": 113,
   "metadata": {},
   "outputs": [
    {
     "data": {
      "text/plain": [
       "tensor(-11.2851)"
      ]
     },
     "execution_count": 113,
     "metadata": {},
     "output_type": "execute_result"
    }
   ],
   "source": [
    "a.grad"
   ]
  },
  {
   "cell_type": "code",
   "execution_count": 114,
   "metadata": {},
   "outputs": [
    {
     "data": {
      "text/plain": [
       "tensor(-5.3290)"
      ]
     },
     "execution_count": 114,
     "metadata": {},
     "output_type": "execute_result"
    }
   ],
   "source": [
    "b.grad"
   ]
  },
  {
   "cell_type": "code",
   "execution_count": null,
   "metadata": {
    "collapsed": true
   },
   "outputs": [],
   "source": []
  },
  {
   "cell_type": "code",
   "execution_count": 115,
   "metadata": {
    "collapsed": true
   },
   "outputs": [],
   "source": [
    "optimizer = optim.SGD([a,b],lr=0.0001)"
   ]
  },
  {
   "cell_type": "code",
   "execution_count": 116,
   "metadata": {
    "collapsed": true
   },
   "outputs": [],
   "source": [
    "for epoch in range(100):\n",
    "    optimizer.zero_grad()\n",
    "    Yhat = a + b * X\n",
    "    loss = torch.sum((Y-Yhat)**2)\n",
    "    loss.backward()\n",
    "    #print(loss)\n",
    "    optimizer.step()"
   ]
  },
  {
   "cell_type": "code",
   "execution_count": 117,
   "metadata": {},
   "outputs": [
    {
     "data": {
      "text/plain": [
       "tensor(0.1001)"
      ]
     },
     "execution_count": 117,
     "metadata": {},
     "output_type": "execute_result"
    }
   ],
   "source": [
    "a"
   ]
  },
  {
   "cell_type": "code",
   "execution_count": 118,
   "metadata": {},
   "outputs": [
    {
     "data": {
      "text/plain": [
       "tensor(1.00000e-02 *\n",
       "       4.6815)"
      ]
     },
     "execution_count": 118,
     "metadata": {},
     "output_type": "execute_result"
    }
   ],
   "source": [
    "b"
   ]
  },
  {
   "cell_type": "code",
   "execution_count": 119,
   "metadata": {},
   "outputs": [
    {
     "data": {
      "text/plain": [
       "tensor(3.0441)"
      ]
     },
     "execution_count": 119,
     "metadata": {},
     "output_type": "execute_result"
    }
   ],
   "source": [
    "loss"
   ]
  },
  {
   "cell_type": "markdown",
   "metadata": {},
   "source": [
    "看起来梯度下降ols本身没有偏差，这波把X，Y也纳入优化但这种修改会增加loss"
   ]
  },
  {
   "cell_type": "code",
   "execution_count": 120,
   "metadata": {
    "collapsed": true
   },
   "outputs": [],
   "source": [
    "X_origin = torch.tensor(_X, dtype=torch.float32)\n",
    "X = torch.tensor(_X, requires_grad=True, dtype=torch.float32)\n",
    "Y_origin = torch.tensor(_Y, dtype=torch.float32)\n",
    "Y = torch.tensor(_Y, requires_grad=True, dtype=torch.float32)\n",
    "\n",
    "a = torch.tensor(0.0, requires_grad=True)\n",
    "b = torch.tensor(0.0, requires_grad=True)"
   ]
  },
  {
   "cell_type": "code",
   "execution_count": 121,
   "metadata": {
    "collapsed": true
   },
   "outputs": [],
   "source": [
    "optimizer = optim.SGD([X,Y,a,b], lr=0.01)"
   ]
  },
  {
   "cell_type": "code",
   "execution_count": 122,
   "metadata": {
    "collapsed": true
   },
   "outputs": [],
   "source": [
    "for epoch in range(100):\n",
    "    optimizer.zero_grad()\n",
    "    Yhat = a + b * X\n",
    "    loss = torch.sum((Y-Yhat)**2) + torch.sum((X - X_origin)**2) + torch.sum((Y-Y_origin)**2)\n",
    "    loss.backward()\n",
    "    #print(loss)\n",
    "    optimizer.step()"
   ]
  },
  {
   "cell_type": "code",
   "execution_count": 123,
   "metadata": {},
   "outputs": [
    {
     "data": {
      "text/plain": [
       "tensor(0.5019)"
      ]
     },
     "execution_count": 123,
     "metadata": {},
     "output_type": "execute_result"
    }
   ],
   "source": [
    "a"
   ]
  },
  {
   "cell_type": "code",
   "execution_count": 124,
   "metadata": {},
   "outputs": [
    {
     "data": {
      "text/plain": [
       "tensor(0.1042)"
      ]
     },
     "execution_count": 124,
     "metadata": {},
     "output_type": "execute_result"
    }
   ],
   "source": [
    "b"
   ]
  },
  {
   "cell_type": "code",
   "execution_count": 125,
   "metadata": {},
   "outputs": [
    {
     "data": {
      "text/plain": [
       "tensor(1.00000e-02 *\n",
       "       [ 2.7368,  0.6485,  1.4104,  1.1401, -3.2084,  2.3406, -0.6471,\n",
       "        -2.7741,  1.5517, -2.3051])"
      ]
     },
     "execution_count": 125,
     "metadata": {},
     "output_type": "execute_result"
    }
   ],
   "source": [
    "X - X_origin"
   ]
  },
  {
   "cell_type": "code",
   "execution_count": 126,
   "metadata": {},
   "outputs": [
    {
     "data": {
      "text/plain": [
       "tensor([-0.2170, -0.0519, -0.1136, -0.0911,  0.2506, -0.1856,  0.0489,\n",
       "         0.2161, -0.1247,  0.1790])"
      ]
     },
     "execution_count": 126,
     "metadata": {},
     "output_type": "execute_result"
    }
   ],
   "source": [
    "Y - Y_origin"
   ]
  },
  {
   "cell_type": "code",
   "execution_count": 127,
   "metadata": {},
   "outputs": [
    {
     "data": {
      "image/png": "[encoded data removed]",
      "text/plain": [
       "<matplotlib.figure.Figure at 0xcefb080>"
      ]
     },
     "metadata": {},
     "output_type": "display_data"
    }
   ],
   "source": [
    "plt.plot(X.detach().numpy(), Y.detach().numpy(), 'o',color='red')\n",
    "plt.plot(X_origin.numpy(), Y_origin.numpy(), 'o',color='blue')\n",
    "plt.show()"
   ]
  },
  {
   "cell_type": "markdown",
   "metadata": {
    "collapsed": true
   },
   "source": [
    "值得注意的一点是梯度下降法算出来的东西本身是求不了梯度的，从而t统计量依赖的参数估计量如果是梯度下降算出来的（虽然可以解析的表示，\n",
    "但其实的确是迭代算出来的），则我们不能求出t统计量对X，Y的梯度。"
   ]
  },
  {
   "cell_type": "code",
   "execution_count": 128,
   "metadata": {
    "collapsed": true
   },
   "outputs": [],
   "source": [
    "X = torch.ones(_X.shape[0], 2, requires_grad=True)\n",
    "X[:,1] = torch.tensor(_X, dtype=torch.float32)"
   ]
  },
  {
   "cell_type": "code",
   "execution_count": 129,
   "metadata": {},
   "outputs": [
    {
     "data": {
      "text/plain": [
       "tensor([[ 1.0000,  0.4077],\n",
       "        [ 1.0000,  0.0554],\n",
       "        [ 1.0000,  0.7885],\n",
       "        [ 1.0000,  0.2873],\n",
       "        [ 1.0000,  0.4504],\n",
       "        [ 1.0000,  0.3039],\n",
       "        [ 1.0000,  0.5264],\n",
       "        [ 1.0000,  0.6238],\n",
       "        [ 1.0000,  0.7768],\n",
       "        [ 1.0000,  0.6862]])"
      ]
     },
     "execution_count": 129,
     "metadata": {},
     "output_type": "execute_result"
    }
   ],
   "source": [
    "X"
   ]
  },
  {
   "cell_type": "code",
   "execution_count": 130,
   "metadata": {
    "collapsed": true
   },
   "outputs": [],
   "source": [
    "Y = torch.tensor(_Y, dtype=torch.float32, requires_grad=True)"
   ]
  },
  {
   "cell_type": "code",
   "execution_count": 131,
   "metadata": {},
   "outputs": [
    {
     "data": {
      "text/plain": [
       "tensor([ 0.6659, -0.2071])"
      ]
     },
     "execution_count": 131,
     "metadata": {},
     "output_type": "execute_result"
    }
   ],
   "source": [
    "# https://web.stanford.edu/~mrosenfe/soc_meth_proj3/matrix_OLS_NYU_notes.pdf\n",
    "beta = torch.inverse(torch.transpose(X,0,1) @ X) @ torch.transpose(X,0,1) @ Y #正规方程，怎么感觉好像这计算开销也没记忆中那么大...\n",
    "beta"
   ]
  },
  {
   "cell_type": "code",
   "execution_count": 132,
   "metadata": {},
   "outputs": [
    {
     "data": {
      "text/plain": [
       "tensor([ 0.3995, -0.0536,  0.3114,  0.1023, -0.5451,  0.3013, -0.1069,\n",
       "        -0.4178,  0.3303, -0.3215])"
      ]
     },
     "execution_count": 132,
     "metadata": {},
     "output_type": "execute_result"
    }
   ],
   "source": [
    "e = Y - X @ beta\n",
    "e"
   ]
  },
  {
   "cell_type": "code",
   "execution_count": 133,
   "metadata": {},
   "outputs": [
    {
     "data": {
      "text/plain": [
       "(10, 2, 8)"
      ]
     },
     "execution_count": 133,
     "metadata": {},
     "output_type": "execute_result"
    }
   ],
   "source": [
    "n = X.shape[0]\n",
    "k = X.shape[1]\n",
    "n,k,n-k"
   ]
  },
  {
   "cell_type": "code",
   "execution_count": 134,
   "metadata": {},
   "outputs": [
    {
     "data": {
      "text/plain": [
       "tensor(0.1320)"
      ]
     },
     "execution_count": 134,
     "metadata": {},
     "output_type": "execute_result"
    }
   ],
   "source": [
    "# https://stats.stackexchange.com/questions/44838/how-are-the-standard-errors-of-coefficients-calculated-in-a-regression\n",
    "\n",
    "sigma_square = (e @ e)/(n-k)\n",
    "sigma_square"
   ]
  },
  {
   "cell_type": "code",
   "execution_count": 135,
   "metadata": {},
   "outputs": [
    {
     "data": {
      "text/plain": [
       "tensor([[ 0.0765, -0.1290],\n",
       "        [-0.1290,  0.2630]])"
      ]
     },
     "execution_count": 135,
     "metadata": {},
     "output_type": "execute_result"
    }
   ],
   "source": [
    "var_bar = sigma_square * torch.inverse(torch.transpose(X,0,1) @ X)\n",
    "var_bar"
   ]
  },
  {
   "cell_type": "code",
   "execution_count": 136,
   "metadata": {},
   "outputs": [
    {
     "data": {
      "text/plain": [
       "tensor([ 0.2766,  0.5128])"
      ]
     },
     "execution_count": 136,
     "metadata": {},
     "output_type": "execute_result"
    }
   ],
   "source": [
    "se = torch.sqrt(torch.diag(var_bar))\n",
    "se"
   ]
  },
  {
   "cell_type": "code",
   "execution_count": 137,
   "metadata": {},
   "outputs": [
    {
     "data": {
      "text/plain": [
       "tensor([ 2.4073, -0.4038])"
      ]
     },
     "execution_count": 137,
     "metadata": {},
     "output_type": "execute_result"
    }
   ],
   "source": [
    "t_test = (beta - 0.0)/se\n",
    "t_test"
   ]
  },
  {
   "cell_type": "code",
   "execution_count": 138,
   "metadata": {},
   "outputs": [
    {
     "name": "stdout",
     "output_type": "stream",
     "text": [
      "real p-value\n",
      " Intercept    0.042688\n",
      "X            0.696937\n",
      "dtype: float64\n"
     ]
    }
   ],
   "source": [
    "print('real p-value\\n',sm_res.pvalues)"
   ]
  },
  {
   "cell_type": "code",
   "execution_count": 139,
   "metadata": {},
   "outputs": [
    {
     "data": {
      "text/plain": [
       "tensor([ 0.0161,  0.6864])"
      ]
     },
     "execution_count": 139,
     "metadata": {},
     "output_type": "execute_result"
    }
   ],
   "source": [
    "p_value = torch.distributions.Normal(0,1).cdf(-torch.abs(t_test)) *2\n",
    "p_value"
   ]
  },
  {
   "cell_type": "markdown",
   "metadata": {},
   "source": [
    "pytorch现在没提供student t的cdf，看了看jstat的实现也依赖一个迭代的计算，对梯度计算不利（虽然也不是一定不能用），所以这里做个小近似，\n",
    "调整正态分布的方差来解决。\n",
    "\n",
    "考虑t分布方差为$\\frac{v}{v-2}$"
   ]
  },
  {
   "cell_type": "code",
   "execution_count": 140,
   "metadata": {},
   "outputs": [
    {
     "data": {
      "text/plain": [
       "tensor([ 0.0371,  0.7266])"
      ]
     },
     "execution_count": 140,
     "metadata": {},
     "output_type": "execute_result"
    }
   ],
   "source": [
    "p_value = torch.distributions.Normal(0,np.sqrt((n-k)/(n-k-2))).cdf(-torch.abs(t_test)) *2\n",
    "p_value"
   ]
  },
  {
   "cell_type": "markdown",
   "metadata": {},
   "source": [
    "并不是非常准确，下面手动搞个近似\n",
    "\n",
    "这里用的是《统计计算》的beta分布函数I的连分数展开，t分布的分布函数可以通过一个不是很明显的变换变成beta分布函数的形式。\n",
    "\n",
    "beta函数的对数\n",
    "\n",
    "$$\n",
    "\\log \\mathrm{B}(a,b) = \\log \\frac{\\Gamma(a)\\Gamma(b)}{\\Gamma(a+b)} = \\log \\Gamma(a) + \\log \\Gamma(b) - \\log \\Gamma(a+b)\n",
    "$$\n",
    "\n",
    "t分布分布函数与beta分布分布函数之关系\n",
    "\n",
    "$$\n",
    "T(t \\mid n) = \\begin{cases}\n",
    "1 - \\frac{1}{2} I_x(\\frac{n}{2},\\frac{1}{2}) & t>0 \\\\\n",
    "\\frac{1}{2} I_x(\\frac{n}{2},\\frac{1}{2}) & t \\le 0\n",
    "\\end{cases}\n",
    "$$\n",
    "\n",
    "其中\n",
    "$$\n",
    "x = \\frac{n}{n+t^2}\n",
    "$$\n",
    "\n",
    "beta分布分布函数\n",
    "\n",
    "\\begin{align}\n",
    "I_x(a,b) &= \\frac{x^a(1-x)^{b-1}}{\\mathrm{B}(a,b)a} \\left(\n",
    "1 + \\sum_{k=1}^{\\infty}\\frac{(b-1)\\dots(b-k)}{(a+1)\\dots(a+k)}\\left( \\frac{x}{1-x} \\right)^k\n",
    "\\right) \\\\\n",
    "&= \\exp( a \\log(x) +(b-1)\\log(1-x)-\\log(\\mathrm{B}(a,b)) -\\log(a) )\\left(\n",
    "1 + \\sum_{k=1}^\\infty \\exp( \\sum_{i=1}^k \\log(b-i) - \\sum_{i=1}^k \\log(a+i) + k(\\log x - \\log(1-x))  )\n",
    "\\right)\n",
    "\\end{align}\n"
   ]
  },
  {
   "cell_type": "code",
   "execution_count": 141,
   "metadata": {
    "collapsed": true
   },
   "outputs": [],
   "source": [
    "def outer(X,Y):\n",
    "    return X.repeat(Y.shape[0],1).transpose(0,1) * Y"
   ]
  },
  {
   "cell_type": "code",
   "execution_count": 142,
   "metadata": {
    "collapsed": true
   },
   "outputs": [],
   "source": [
    "def log_beta(a,b):\n",
    "    return torch.lgamma(a) + torch.lgamma(b) - torch.lgamma(a+b)\n",
    "\n",
    "\n",
    "def ibeta(x,a,b,n=5):\n",
    "    log,exp,cumsum,cumprod,sum = torch.log,torch.exp,torch.cumsum,torch.cumprod,torch.sum\n",
    "    left = exp(a*log(x) + (b-1)*log(1-x) - log_beta(a,b) - log(a))\n",
    "    xx = log(x) - log(1.0-x)\n",
    "    #xx = x/(1-x)\n",
    "    k = torch.arange(1,n+1,dtype=torch.float32)\n",
    "    right = 1.0 + sum( (outer(k,xx)).transpose(0,1) * cumprod((b - k)/(a + k), 0) , dim=1)\n",
    "    return left * right\n",
    "\n",
    "def student_t_cdf(t, n):\n",
    "    # 限制 t<0\n",
    "    x = n/(n+t**2)\n",
    "    return 0.5 * ibeta(x, torch.tensor(0.5*n), torch.tensor(0.5))"
   ]
  },
  {
   "cell_type": "code",
   "execution_count": 143,
   "metadata": {},
   "outputs": [
    {
     "data": {
      "text/plain": [
       "tensor([ 0.0466,  1.2919])"
      ]
     },
     "execution_count": 143,
     "metadata": {},
     "output_type": "execute_result"
    }
   ],
   "source": [
    "p_value = student_t_cdf(-torch.abs(t_test), n-k) *2\n",
    "p_value"
   ]
  },
  {
   "cell_type": "code",
   "execution_count": 144,
   "metadata": {
    "collapsed": true
   },
   "outputs": [],
   "source": [
    "#X = torch.tensor(np.c_[np.ones(_X.shape[0]),_X], dtype=torch.float32, requires_grad=True)\n",
    "X = torch.tensor(np.c_[np.ones(_X.shape[0]),_X], dtype=torch.float32)\n",
    "Y = torch.tensor(_Y, dtype=torch.float32, requires_grad=True)\n",
    "\n",
    "Y_origin = torch.tensor(_Y, dtype=torch.float32)"
   ]
  },
  {
   "cell_type": "code",
   "execution_count": 145,
   "metadata": {
    "collapsed": true
   },
   "outputs": [],
   "source": [
    "optimizer = optim.SGD([Y],lr=0.01)\n",
    "for epoch in range(100):\n",
    "    optimizer.zero_grad()\n",
    "    beta = torch.inverse(torch.transpose(X,0,1) @ X) @ torch.transpose(X,0,1) @ Y\n",
    "    e = Y - X @ beta\n",
    "    n = X.shape[0]\n",
    "    k = X.shape[1]\n",
    "    sigma_square = (e @ e)/(n-k)\n",
    "    var_bar = sigma_square * torch.inverse(torch.transpose(X,0,1) @ X)\n",
    "    se = torch.sqrt(torch.diag(var_bar))\n",
    "    t_test = (beta - 0.0)/se\n",
    "    p_value = torch.distributions.Normal(0,np.sqrt((n-k)/(n-k-2))).cdf(-torch.abs(t_test)) *2 #这步是近似计算，因为基于迭代解p值不好求梯度\n",
    "    \n",
    "    loss = p_value[1]  + torch.sum((Y-Y_origin)**2)\n",
    "    loss.backward()\n",
    "    optimizer.step()"
   ]
  },
  {
   "cell_type": "code",
   "execution_count": 146,
   "metadata": {},
   "outputs": [
    {
     "data": {
      "text/plain": [
       "tensor([ 0.9458,  0.8385,  0.5973,  0.7947,  0.1556,  0.9425,  0.4522,\n",
       "         0.1315,  0.6211,  0.1633])"
      ]
     },
     "execution_count": 146,
     "metadata": {},
     "output_type": "execute_result"
    }
   ],
   "source": [
    "Y"
   ]
  },
  {
   "cell_type": "code",
   "execution_count": 147,
   "metadata": {},
   "outputs": [
    {
     "data": {
      "text/plain": [
       "tensor([ 0.9809,  0.6008,  0.8140,  0.7086,  0.0275,  0.9043,  0.4499,\n",
       "         0.1189,  0.8353,  0.2022])"
      ]
     },
     "execution_count": 147,
     "metadata": {},
     "output_type": "execute_result"
    }
   ],
   "source": [
    "Y_origin"
   ]
  },
  {
   "cell_type": "code",
   "execution_count": 148,
   "metadata": {},
   "outputs": [
    {
     "data": {
      "image/png": "[encoded data removed]",
      "text/plain": [
       "<matplotlib.figure.Figure at 0x81ac860>"
      ]
     },
     "metadata": {},
     "output_type": "display_data"
    }
   ],
   "source": [
    "plt.plot(_X, Y.detach().numpy(), 'o',color='red')\n",
    "plt.plot(_X, Y_origin.numpy(), 'o',color='blue')\n",
    "plt.show()"
   ]
  },
  {
   "cell_type": "code",
   "execution_count": 185,
   "metadata": {
    "collapsed": true
   },
   "outputs": [],
   "source": [
    "def show_change(x_old, y_old, x_new, y_new, line=False):\n",
    "    dx = x_new - x_old\n",
    "    dy = y_new - y_old\n",
    "    \n",
    "    #plt.show()\n",
    "    plt.plot(x_new, y_new, 'o', color='blue')\n",
    "    plt.plot(x_old, y_old, 'o', color='red')\n",
    "    for i in range(x_old.shape[0]):\n",
    "        plt.arrow(x_old[i], y_old[i], dx[i], dy[i], head_width=0.02)\n",
    "    if line:\n",
    "        a,b = sm.OLS(y_new,np.c_[np.ones(x_new.shape[0]),x_new]).fit().params\n",
    "        _x = np.array([x_new.min(),x_new.max()])\n",
    "        _y = a+b*_x\n",
    "        plt.plot(_x,_y)\n",
    "    plt.show()\n",
    "    plt.plot(x_old, y_old, 'o', color='red')\n",
    "    if line:\n",
    "        a,b = sm.OLS(y_old,np.c_[np.ones(x_old.shape[0]),x_old]).fit().params\n",
    "        _x = np.array([x_old.min(),x_old.max()])\n",
    "        _y = a+b*_x\n",
    "        plt.plot(_x,_y)\n",
    "    plt.show()\n",
    "    plt.plot(x_new, y_new, 'o', color='blue')\n",
    "    if line:\n",
    "        a,b = sm.OLS(y_new,np.c_[np.ones(x_new.shape[0]),x_new]).fit().params\n",
    "        _x = np.array([x_new.min(),x_new.max()])\n",
    "        _y = a+b*_x\n",
    "        plt.plot(_x,_y)\n",
    "    plt.show()"
   ]
  },
  {
   "cell_type": "code",
   "execution_count": 150,
   "metadata": {},
   "outputs": [
    {
     "data": {
      "image/png": "[encoded data removed]",
      "text/plain": [
       "<matplotlib.figure.Figure at 0xd359c18>"
      ]
     },
     "metadata": {},
     "output_type": "display_data"
    },
    {
     "data": {
      "image/png": "[encoded data removed]",
      "text/plain": [
       "<matplotlib.figure.Figure at 0x81e9320>"
      ]
     },
     "metadata": {},
     "output_type": "display_data"
    },
    {
     "data": {
      "image/png": "[encoded data removed]",
      "text/plain": [
       "<matplotlib.figure.Figure at 0x54191d0>"
      ]
     },
     "metadata": {},
     "output_type": "display_data"
    }
   ],
   "source": [
    "show_change(_X,_Y,_X,Y.detach().numpy())\n",
    "plt.show()"
   ]
  },
  {
   "cell_type": "code",
   "execution_count": 151,
   "metadata": {
    "collapsed": true
   },
   "outputs": [],
   "source": [
    "df_new = df.copy()\n",
    "df_new['Y'] = Y.detach().numpy()"
   ]
  },
  {
   "cell_type": "code",
   "execution_count": 152,
   "metadata": {},
   "outputs": [
    {
     "name": "stderr",
     "output_type": "stream",
     "text": [
      "D:\\anaconda\\lib\\site-packages\\scipy\\stats\\stats.py:1334: UserWarning: kurtosistest only valid for n>=20 ... continuing anyway, n=10\n",
      "  \"anyway, n=%i\" % int(n))\n"
     ]
    },
    {
     "data": {
      "text/html": [
       "<table class=\"simpletable\">\n",
       "<caption>OLS Regression Results</caption>\n",
       "<tr>\n",
       "  <th>Dep. Variable:</th>            <td>Y</td>        <th>  R-squared:         </th> <td>   0.281</td>\n",
       "</tr>\n",
       "<tr>\n",
       "  <th>Model:</th>                   <td>OLS</td>       <th>  Adj. R-squared:    </th> <td>   0.191</td>\n",
       "</tr>\n",
       "<tr>\n",
       "  <th>Method:</th>             <td>Least Squares</td>  <th>  F-statistic:       </th> <td>   3.129</td>\n",
       "</tr>\n",
       "<tr>\n",
       "  <th>Date:</th>             <td>Thu, 10 May 2018</td> <th>  Prob (F-statistic):</th>  <td> 0.115</td> \n",
       "</tr>\n",
       "<tr>\n",
       "  <th>Time:</th>                 <td>13:03:55</td>     <th>  Log-Likelihood:    </th> <td>-0.76337</td>\n",
       "</tr>\n",
       "<tr>\n",
       "  <th>No. Observations:</th>      <td>    10</td>      <th>  AIC:               </th> <td>   5.527</td>\n",
       "</tr>\n",
       "<tr>\n",
       "  <th>Df Residuals:</th>          <td>     8</td>      <th>  BIC:               </th> <td>   6.132</td>\n",
       "</tr>\n",
       "<tr>\n",
       "  <th>Df Model:</th>              <td>     1</td>      <th>                     </th>     <td> </td>   \n",
       "</tr>\n",
       "<tr>\n",
       "  <th>Covariance Type:</th>      <td>nonrobust</td>    <th>                     </th>     <td> </td>   \n",
       "</tr>\n",
       "</table>\n",
       "<table class=\"simpletable\">\n",
       "<tr>\n",
       "      <td></td>         <th>coef</th>     <th>std err</th>      <th>t</th>      <th>P>|t|</th>  <th>[0.025</th>    <th>0.975]</th>  \n",
       "</tr>\n",
       "<tr>\n",
       "  <th>Intercept</th> <td>    0.9219</td> <td>    0.222</td> <td>    4.148</td> <td> 0.003</td> <td>    0.409</td> <td>    1.434</td>\n",
       "</tr>\n",
       "<tr>\n",
       "  <th>X</th>         <td>   -0.7290</td> <td>    0.412</td> <td>   -1.769</td> <td> 0.115</td> <td>   -1.679</td> <td>    0.221</td>\n",
       "</tr>\n",
       "</table>\n",
       "<table class=\"simpletable\">\n",
       "<tr>\n",
       "  <th>Omnibus:</th>       <td> 1.936</td> <th>  Durbin-Watson:     </th> <td>   2.618</td>\n",
       "</tr>\n",
       "<tr>\n",
       "  <th>Prob(Omnibus):</th> <td> 0.380</td> <th>  Jarque-Bera (JB):  </th> <td>   0.928</td>\n",
       "</tr>\n",
       "<tr>\n",
       "  <th>Skew:</th>          <td>-0.323</td> <th>  Prob(JB):          </th> <td>   0.629</td>\n",
       "</tr>\n",
       "<tr>\n",
       "  <th>Kurtosis:</th>      <td> 1.655</td> <th>  Cond. No.          </th> <td>    5.58</td>\n",
       "</tr>\n",
       "</table>"
      ],
      "text/plain": [
       "<class 'statsmodels.iolib.summary.Summary'>\n",
       "\"\"\"\n",
       "                            OLS Regression Results                            \n",
       "==============================================================================\n",
       "Dep. Variable:                      Y   R-squared:                       0.281\n",
       "Model:                            OLS   Adj. R-squared:                  0.191\n",
       "Method:                 Least Squares   F-statistic:                     3.129\n",
       "Date:                Thu, 10 May 2018   Prob (F-statistic):              0.115\n",
       "Time:                        13:03:55   Log-Likelihood:               -0.76337\n",
       "No. Observations:                  10   AIC:                             5.527\n",
       "Df Residuals:                       8   BIC:                             6.132\n",
       "Df Model:                           1                                         \n",
       "Covariance Type:            nonrobust                                         \n",
       "==============================================================================\n",
       "                 coef    std err          t      P>|t|      [0.025      0.975]\n",
       "------------------------------------------------------------------------------\n",
       "Intercept      0.9219      0.222      4.148      0.003       0.409       1.434\n",
       "X             -0.7290      0.412     -1.769      0.115      -1.679       0.221\n",
       "==============================================================================\n",
       "Omnibus:                        1.936   Durbin-Watson:                   2.618\n",
       "Prob(Omnibus):                  0.380   Jarque-Bera (JB):                0.928\n",
       "Skew:                          -0.323   Prob(JB):                        0.629\n",
       "Kurtosis:                       1.655   Cond. No.                         5.58\n",
       "==============================================================================\n",
       "\n",
       "Warnings:\n",
       "[1] Standard Errors assume that the covariance matrix of the errors is correctly specified.\n",
       "\"\"\""
      ]
     },
     "execution_count": 152,
     "metadata": {},
     "output_type": "execute_result"
    }
   ],
   "source": [
    "res_new_df = smf.ols('Y ~ X',data=df_new).fit()\n",
    "res_new_df.summary()"
   ]
  },
  {
   "cell_type": "code",
   "execution_count": 153,
   "metadata": {},
   "outputs": [
    {
     "name": "stderr",
     "output_type": "stream",
     "text": [
      "D:\\anaconda\\lib\\site-packages\\scipy\\stats\\stats.py:1334: UserWarning: kurtosistest only valid for n>=20 ... continuing anyway, n=10\n",
      "  \"anyway, n=%i\" % int(n))\n"
     ]
    },
    {
     "name": "stdout",
     "output_type": "stream",
     "text": [
      "0 Intercept    0.044796\n",
      "X            0.686743\n",
      "dtype: float64\n",
      "1 Intercept    0.008878\n",
      "X            0.186715\n",
      "dtype: float64\n",
      "2 Intercept    0.017120\n",
      "X            0.263471\n",
      "dtype: float64\n",
      "3 Intercept    0.032179\n",
      "X            0.534383\n",
      "dtype: float64\n",
      "4 Intercept    0.022565\n",
      "X            0.636182\n",
      "dtype: float64\n",
      "5 Intercept    0.040977\n",
      "X            0.588773\n",
      "dtype: float64\n",
      "6 Intercept    0.044731\n",
      "X            0.693443\n",
      "dtype: float64\n",
      "7 Intercept    0.056151\n",
      "X            0.655540\n",
      "dtype: float64\n",
      "8 Intercept    0.017125\n",
      "X            0.272989\n",
      "dtype: float64\n",
      "9 Intercept    0.056930\n",
      "X            0.581272\n",
      "dtype: float64\n"
     ]
    }
   ],
   "source": [
    "n = _X.shape[0]\n",
    "k = 2\n",
    "\n",
    "for i in range(n):\n",
    "    X = torch.tensor(np.c_[np.ones(_X.shape[0]),_X], dtype=torch.float32)\n",
    "    #Y = torch.tensor(_Y, dtype=torch.float32)\n",
    "    y = torch.tensor(_Y[i], dtype=torch.float32, requires_grad=True)\n",
    "    #Y[i] = y\n",
    "    \n",
    "    optimizer = optim.SGD([y],lr=0.01)\n",
    "    for epoch in range(100):\n",
    "        optimizer.zero_grad()\n",
    "        \n",
    "        Y = torch.tensor(_Y, dtype=torch.float32) #把Y放外面会出又要求梯度又求过一次梯度那个错误\n",
    "        Y[i] = y\n",
    "        \n",
    "        beta = torch.inverse(torch.transpose(X,0,1) @ X) @ torch.transpose(X,0,1) @ Y\n",
    "        e = Y - X @ beta\n",
    "        sigma_square = (e @ e)/(n-k)\n",
    "        var_bar = sigma_square * torch.inverse(torch.transpose(X,0,1) @ X)\n",
    "        se = torch.sqrt(torch.diag(var_bar))\n",
    "        t_test = (beta - 0.0)/se\n",
    "        p_value = torch.distributions.Normal(0,np.sqrt((n-k)/(n-k-2))).cdf(-torch.abs(t_test)) *2 #这步是近似计算，因为基于迭代解p值不好求梯度\n",
    "\n",
    "        loss = p_value[1] # + torch.sum((Y-Y_origin)**2)\n",
    "        loss.backward()\n",
    "        optimizer.step()\n",
    "    \n",
    "    df_new = df.copy()\n",
    "    df_new['Y'] = Y.detach().numpy()\n",
    "    res_new_df = smf.ols('Y ~ X',data=df_new).fit()\n",
    "    res_new_df.summary()\n",
    "    print(i,res_new_df.pvalues)"
   ]
  },
  {
   "cell_type": "code",
   "execution_count": 154,
   "metadata": {
    "collapsed": true
   },
   "outputs": [],
   "source": [
    "def optim_Y(optim_i, _X, _Y, target_X_i):\n",
    "    # 这里假设_X是完整的设计矩阵，包括全1列.optim_i是要被优化的i，target_X_i是用来优化p-value的列\n",
    "    n = _X.shape[0]\n",
    "    k = _X.shape[1]\n",
    "    \n",
    "    #X = torch.tensor(np.c_[np.ones(_X.shape[0]),_X], dtype=torch.float32)\n",
    "    X = torch.tensor(_X, dtype=torch.float32)\n",
    "    #Y = torch.tensor(_Y, dtype=torch.float32)\n",
    "    y = torch.tensor(_Y[optim_i], dtype=torch.float32, requires_grad=True)\n",
    "    #Y[i] = y\n",
    "    \n",
    "    optimizer = optim.SGD([y],lr=0.01)\n",
    "    for epoch in range(100):\n",
    "        optimizer.zero_grad()\n",
    "        \n",
    "        Y = torch.tensor(_Y, dtype=torch.float32) #把Y放外面会出又要求梯度又求过一次梯度那个错误\n",
    "        Y[optim_i] = y\n",
    "        \n",
    "        beta = torch.inverse(torch.transpose(X,0,1) @ X) @ torch.transpose(X,0,1) @ Y\n",
    "        e = Y - X @ beta\n",
    "        sigma_square = (e @ e)/(n-k)\n",
    "        var_bar = sigma_square * torch.inverse(torch.transpose(X,0,1) @ X)\n",
    "        se = torch.sqrt(torch.diag(var_bar))\n",
    "        t_test = (beta - 0.0)/se\n",
    "        p_value = torch.distributions.Normal(0,np.sqrt((n-k)/(n-k-2))).cdf(-torch.abs(t_test)) *2 #这步是近似计算，因为基于迭代解p值不好求梯度\n",
    "\n",
    "        loss = p_value[target_X_i] # + torch.sum((Y-Y_origin)**2)\n",
    "        loss.backward()\n",
    "        optimizer.step()\n",
    "    \n",
    "    return y.item(),loss.item()\n",
    "    \n",
    "def select_Y(_X,_Y,target_X_i,exclude=None):\n",
    "    n = _X.shape[0]\n",
    "    k = _X.shape[1]\n",
    "    \n",
    "    if exclude is None:\n",
    "        exclude = set()\n",
    "    else:\n",
    "        exclude = set(exclude)\n",
    "    \n",
    "    res = []\n",
    "    for i in set(range(n)) - exclude:\n",
    "        y,loss = optim_Y(i, _X, _Y, target_X_i)\n",
    "        __Y = _Y.copy()\n",
    "        __Y[i] = y\n",
    "        res.append((i, y, sm.OLS(__Y,_X).fit().pvalues[target_X_i],loss)) # 位置id，对应的新取值,对应的精确值，对应的拟合p值\n",
    "    \n",
    "    #return min(res,key=lambda tup:tup[2])\n",
    "    return res"
   ]
  },
  {
   "cell_type": "code",
   "execution_count": 155,
   "metadata": {},
   "outputs": [
    {
     "data": {
      "text/plain": [
       "[(0, 1.078026294708252, 0.6866632688134766, 0.7171699404716492),\n",
       " (1, 1.2860039472579956, 0.18545294589673883, 0.21107953786849976),\n",
       " (2, 0.17122475802898407, 0.2619249437108776, 0.2976055145263672),\n",
       " (3, 1.0969321727752686, 0.5334488099644799, 0.5739478468894958),\n",
       " (4, 0.2659122049808502, 0.6356055245391424, 0.6702769994735718),\n",
       " (5, 1.2202457189559937, 0.5881093283047427, 0.625769853591919),\n",
       " (6, 0.39306116104125977, 0.6934151428690425, 0.7233450412750244),\n",
       " (7, -0.076571524143219, 0.6552482991114514, 0.6882956027984619),\n",
       " (8, 0.19897446036338806, 0.271411798162778, 0.30801546573638916),\n",
       " (9, -0.12443533539772034, 0.5805745896177972, 0.6186740398406982)]"
      ]
     },
     "execution_count": 155,
     "metadata": {},
     "output_type": "execute_result"
    }
   ],
   "source": [
    "select_Y(np.c_[np.ones(_X.shape[0]),_X],_Y,1)"
   ]
  },
  {
   "cell_type": "code",
   "execution_count": 156,
   "metadata": {
    "collapsed": true
   },
   "outputs": [],
   "source": [
    "def greedy_make_up(limit,_X,_Y,target_X_i):\n",
    "    selected = []\n",
    "    _Y = _Y.copy()\n",
    "    trace = [sm.OLS(_Y,_X).fit().pvalues[target_X_i]]\n",
    "    for i in range(limit):\n",
    "        i,y,pvalue,pvaluehat = min(select_Y(_X, _Y, target_X_i, exclude=selected),key=lambda term:term[2])\n",
    "        selected.append(i)\n",
    "        trace.append(pvalue)\n",
    "        _Y[i] = y\n",
    "    return _Y,trace,selected"
   ]
  },
  {
   "cell_type": "code",
   "execution_count": 158,
   "metadata": {},
   "outputs": [
    {
     "data": {
      "text/plain": [
       "(array([0.98093886, 1.28600395, 0.46733743, 0.70864515, 0.02753468,\n",
       "        0.90426722, 0.44990485, 0.11892465, 0.60710645, 0.20224823]),\n",
       " [0.6969367513739502,\n",
       "  0.18545294589673883,\n",
       "  0.0812813925153782,\n",
       "  0.03626248251035322],\n",
       " [1, 2, 8])"
      ]
     },
     "execution_count": 158,
     "metadata": {},
     "output_type": "execute_result"
    }
   ],
   "source": [
    "greedy_make_up(3,np.c_[np.ones(_X.shape[0]),_X],_Y,1)"
   ]
  },
  {
   "cell_type": "code",
   "execution_count": 159,
   "metadata": {
    "collapsed": true
   },
   "outputs": [],
   "source": [
    "Y_makeup, trace,selected = greedy_make_up(2,np.c_[np.ones(_X.shape[0]),_X],_Y,1)"
   ]
  },
  {
   "cell_type": "code",
   "execution_count": 160,
   "metadata": {},
   "outputs": [
    {
     "data": {
      "text/plain": [
       "array([ 0.        ,  0.68518786, -0.34663109,  0.        ,  0.        ,\n",
       "        0.        ,  0.        ,  0.        ,  0.        ,  0.        ])"
      ]
     },
     "execution_count": 160,
     "metadata": {},
     "output_type": "execute_result"
    }
   ],
   "source": [
    "Y_makeup - _Y"
   ]
  },
  {
   "cell_type": "code",
   "execution_count": 161,
   "metadata": {},
   "outputs": [
    {
     "data": {
      "image/png": "[encoded data removed]",
      "text/plain": [
       "<matplotlib.figure.Figure at 0xcb9fb00>"
      ]
     },
     "metadata": {},
     "output_type": "display_data"
    },
    {
     "data": {
      "image/png": "[encoded data removed]",
      "text/plain": [
       "<matplotlib.figure.Figure at 0xc8d23c8>"
      ]
     },
     "metadata": {},
     "output_type": "display_data"
    },
    {
     "data": {
      "image/png": "[encoded data removed]",
      "text/plain": [
       "<matplotlib.figure.Figure at 0x7d08b00>"
      ]
     },
     "metadata": {},
     "output_type": "display_data"
    }
   ],
   "source": [
    "show_change(_X,_Y,_X,Y_makeup)"
   ]
  },
  {
   "cell_type": "code",
   "execution_count": 182,
   "metadata": {},
   "outputs": [
    {
     "data": {
      "image/png": "[encoded data removed]",
      "text/plain": [
       "<matplotlib.figure.Figure at 0xd5430b8>"
      ]
     },
     "metadata": {},
     "output_type": "display_data"
    },
    {
     "data": {
      "image/png": "[encoded data removed]",
      "text/plain": [
       "<matplotlib.figure.Figure at 0xd5437b8>"
      ]
     },
     "metadata": {},
     "output_type": "display_data"
    },
    {
     "data": {
      "image/png": "[encoded data removed]",
      "text/plain": [
       "<matplotlib.figure.Figure at 0xd0f5cf8>"
      ]
     },
     "metadata": {},
     "output_type": "display_data"
    }
   ],
   "source": [
    "show_change(_X,_Y,_X,Y_makeup,line=True)"
   ]
  },
  {
   "cell_type": "code",
   "execution_count": 186,
   "metadata": {},
   "outputs": [
    {
     "data": {
      "image/png": "[encoded data removed]",
      "text/plain": [
       "<matplotlib.figure.Figure at 0xd07e128>"
      ]
     },
     "metadata": {},
     "output_type": "display_data"
    },
    {
     "data": {
      "image/png": "[encoded data removed]",
      "text/plain": [
       "<matplotlib.figure.Figure at 0xcda5080>"
      ]
     },
     "metadata": {},
     "output_type": "display_data"
    },
    {
     "data": {
      "image/png": "[encoded data removed]",
      "text/plain": [
       "<matplotlib.figure.Figure at 0xcc21898>"
      ]
     },
     "metadata": {},
     "output_type": "display_data"
    }
   ],
   "source": [
    "Y_makeup, trace,selected = greedy_make_up(1,np.c_[np.ones(_X.shape[0]),_X],_Y,1)\n",
    "show_change(_X,_Y,_X,Y_makeup,line=True)"
   ]
  },
  {
   "cell_type": "code",
   "execution_count": 187,
   "metadata": {},
   "outputs": [
    {
     "data": {
      "image/png": "[encoded data removed]",
      "text/plain": [
       "<matplotlib.figure.Figure at 0xd094588>"
      ]
     },
     "metadata": {},
     "output_type": "display_data"
    },
    {
     "data": {
      "image/png": "[encoded data removed]",
      "text/plain": [
       "<matplotlib.figure.Figure at 0x7d485c0>"
      ]
     },
     "metadata": {},
     "output_type": "display_data"
    },
    {
     "data": {
      "image/png": "[encoded data removed]",
      "text/plain": [
       "<matplotlib.figure.Figure at 0xcd8b588>"
      ]
     },
     "metadata": {},
     "output_type": "display_data"
    }
   ],
   "source": [
    "Y_makeup, trace,selected = greedy_make_up(2,np.c_[np.ones(_X.shape[0]),_X],_Y,1)\n",
    "show_change(_X,_Y,_X,Y_makeup,line=True)"
   ]
  },
  {
   "cell_type": "code",
   "execution_count": 188,
   "metadata": {},
   "outputs": [
    {
     "data": {
      "image/png": "[encoded data removed]",
      "text/plain": [
       "<matplotlib.figure.Figure at 0x7e73e80>"
      ]
     },
     "metadata": {},
     "output_type": "display_data"
    },
    {
     "data": {
      "image/png": "[encoded data removed]",
      "text/plain": [
       "<matplotlib.figure.Figure at 0xd80f6a0>"
      ]
     },
     "metadata": {},
     "output_type": "display_data"
    },
    {
     "data": {
      "image/png": "[encoded data removed]",
      "text/plain": [
       "<matplotlib.figure.Figure at 0xcd818d0>"
      ]
     },
     "metadata": {},
     "output_type": "display_data"
    }
   ],
   "source": [
    "Y_makeup, trace,selected = greedy_make_up(3,np.c_[np.ones(_X.shape[0]),_X],_Y,1)\n",
    "show_change(_X,_Y,_X,Y_makeup,line=True)"
   ]
  },
  {
   "cell_type": "markdown",
   "metadata": {
    "collapsed": true
   },
   "source": [
    "## 新插入的数据-一个恰当的位置\n",
    "\n",
    "插入一个新数据等价于随便插个点再对那个点重复上述过程，不过对此二维设定来说，使用格点查看各个点插入带来的p值下降效果的二维图是更令人感兴趣的。\n",
    "\n"
   ]
  },
  {
   "cell_type": "code",
   "execution_count": 162,
   "metadata": {
    "collapsed": true
   },
   "outputs": [],
   "source": [
    "__X = np.linspace(_X.min(),_X.max(),100)\n",
    "__Y = np.linspace(_Y.min(),_Y.max(),100)"
   ]
  },
  {
   "cell_type": "code",
   "execution_count": 163,
   "metadata": {
    "collapsed": true
   },
   "outputs": [],
   "source": [
    "x_range = _X.max()-_X.min()\n",
    "y_range = _Y.max()-_Y.min()"
   ]
  },
  {
   "cell_type": "code",
   "execution_count": 164,
   "metadata": {
    "collapsed": true
   },
   "outputs": [],
   "source": [
    "__X = np.linspace(_X.min()-x_range,_X.max()+x_range,100)\n",
    "__Y = np.linspace(_Y.min()-x_range,_Y.max()+x_range,100)"
   ]
  },
  {
   "cell_type": "code",
   "execution_count": 165,
   "metadata": {
    "collapsed": true
   },
   "outputs": [],
   "source": [
    "Xv, Yv = np.meshgrid(__X,__Y)"
   ]
  },
  {
   "cell_type": "code",
   "execution_count": 166,
   "metadata": {
    "collapsed": true
   },
   "outputs": [],
   "source": [
    "XYv = np.c_[Xv.ravel(),Yv.ravel()]"
   ]
  },
  {
   "cell_type": "code",
   "execution_count": 167,
   "metadata": {
    "collapsed": true
   },
   "outputs": [],
   "source": [
    "pv = np.empty(XYv.shape[0])"
   ]
  },
  {
   "cell_type": "code",
   "execution_count": 168,
   "metadata": {
    "collapsed": true
   },
   "outputs": [],
   "source": [
    "for i,XY in enumerate(XYv):\n",
    "    #X_added = np.r_[_X,np.ones(shape=(1,2))]\n",
    "    X_added = np.c_[np.ones(n+1),np.r_[_X,XY[0]]]\n",
    "    Y_added = np.r_[_Y,XY[1]]\n",
    "    pv[i] = sm.OLS(Y_added,X_added).fit().pvalues[1]"
   ]
  },
  {
   "cell_type": "code",
   "execution_count": 169,
   "metadata": {},
   "outputs": [
    {
     "data": {
      "text/plain": [
       "array([[0.05542581, 0.05765539, 0.0600349 , ..., 0.02656957, 0.02533454,\n",
       "        0.02419479],\n",
       "       [0.0585129 , 0.06081351, 0.06326702, ..., 0.02796176, 0.02669626,\n",
       "        0.02552739],\n",
       "       [0.0618194 , 0.06419369, 0.06672387, ..., 0.02945858, 0.02816166,\n",
       "        0.02696273],\n",
       "       ...,\n",
       "       [0.02928017, 0.03016032, 0.03110191, ..., 0.11051123, 0.10616335,\n",
       "        0.10208942],\n",
       "       [0.02737315, 0.02822705, 0.0291412 , ..., 0.1050379 , 0.10080188,\n",
       "        0.09683614],\n",
       "       [0.02561803, 0.02644639, 0.02733381, ..., 0.09990554, 0.09577861,\n",
       "        0.09191828]])"
      ]
     },
     "execution_count": 169,
     "metadata": {},
     "output_type": "execute_result"
    }
   ],
   "source": [
    "pv.reshape(Xv.shape)"
   ]
  },
  {
   "cell_type": "code",
   "execution_count": 170,
   "metadata": {},
   "outputs": [
    {
     "data": {
      "image/png": "[encoded data removed]",
      "text/plain": [
       "<matplotlib.figure.Figure at 0xcfc7f28>"
      ]
     },
     "metadata": {},
     "output_type": "display_data"
    }
   ],
   "source": [
    "plt.figure(figsize=(8,6))\n",
    "CS = plt.contour(Xv,Yv,pv.reshape(Xv.shape))\n",
    "plt.clabel(CS)\n",
    "plt.scatter(_X,_Y)\n",
    "plt.show()"
   ]
  },
  {
   "cell_type": "code",
   "execution_count": 190,
   "metadata": {},
   "outputs": [
    {
     "data": {
      "image/png": "[encoded data removed]",
      "text/plain": [
       "<matplotlib.figure.Figure at 0xce86a58>"
      ]
     },
     "metadata": {},
     "output_type": "display_data"
    }
   ],
   "source": [
    "Xq = np.linspace(-1,1,20)\n",
    "Yq = np.random.random(20)\n",
    "Xq[-1] = 10\n",
    "Yq[-1] = 10\n",
    "\n",
    "a,b = sm.OLS(Yq,np.c_[np.ones(20),Xq]).fit().params\n",
    "plt.scatter(Xq,Yq)\n",
    "plt.plot(np.array([0,10]),np.array([a+0*b,a+10*b]))\n",
    "plt.show()"
   ]
  },
  {
   "cell_type": "code",
   "execution_count": null,
   "metadata": {
    "collapsed": true
   },
   "outputs": [],
   "source": []
  }
 ],
 "metadata": {
  "kernelspec": {
   "display_name": "Python 3",
   "language": "python",
   "name": "python3"
  },
  "language_info": {
   "codemirror_mode": {
    "name": "ipython",
    "version": 3
   },
   "file_extension": ".py",
   "mimetype": "text/x-python",
   "name": "python",
   "nbconvert_exporter": "python",
   "pygments_lexer": "ipython3",
   "version": "3.6.2"
  }
 },
 "nbformat": 4,
 "nbformat_minor": 2
}
