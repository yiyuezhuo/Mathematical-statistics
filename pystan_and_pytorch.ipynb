{
 "cells": [
  {
   "cell_type": "markdown",
   "metadata": {},
   "source": [
    "在这我们将考虑stan的一个简单的例子，展示它的点估计/优化，变分推断，HMC采样如何用pytorch简单的实现。"
   ]
  },
  {
   "cell_type": "code",
   "execution_count": 1,
   "metadata": {
    "collapsed": true
   },
   "outputs": [],
   "source": [
    "import pystan\n",
    "import numpy as np\n",
    "import torch\n",
    "from torch.autograd import Variable"
   ]
  },
  {
   "cell_type": "markdown",
   "metadata": {},
   "source": [
    "# MAP点估计"
   ]
  },
  {
   "cell_type": "code",
   "execution_count": 2,
   "metadata": {
    "collapsed": true
   },
   "outputs": [],
   "source": [
    "ocode = \"\"\"\n",
    "data {\n",
    "    int<lower=1> N;\n",
    "    real y[N];\n",
    "}\n",
    "parameters {\n",
    "    real mu;\n",
    "}\n",
    "model {\n",
    "    y ~ normal(mu, 1);\n",
    "}\n",
    "\"\"\"\n"
   ]
  },
  {
   "cell_type": "code",
   "execution_count": 3,
   "metadata": {},
   "outputs": [
    {
     "name": "stderr",
     "output_type": "stream",
     "text": [
      "INFO:pystan:COMPILING THE C++ CODE FOR MODEL anon_model_3aaa1aff3be33470f8a5bfa56085d51c NOW.\n"
     ]
    },
    {
     "name": "stdout",
     "output_type": "stream",
     "text": [
      "Wall time: 1min 13s\n"
     ]
    }
   ],
   "source": [
    "%time sm = pystan.StanModel(model_code=ocode)\n"
   ]
  },
  {
   "cell_type": "code",
   "execution_count": 4,
   "metadata": {
    "collapsed": true
   },
   "outputs": [],
   "source": [
    "np.random.seed(13)"
   ]
  },
  {
   "cell_type": "code",
   "execution_count": 5,
   "metadata": {},
   "outputs": [
    {
     "data": {
      "text/plain": [
       "0.36640264498852165"
      ]
     },
     "execution_count": 5,
     "metadata": {},
     "output_type": "execute_result"
    }
   ],
   "source": [
    "y2 = np.random.normal(size=20)\n",
    "np.mean(y2)\n"
   ]
  },
  {
   "cell_type": "code",
   "execution_count": 6,
   "metadata": {},
   "outputs": [
    {
     "name": "stdout",
     "output_type": "stream",
     "text": [
      "Wall time: 45.6 ms\n"
     ]
    },
    {
     "name": "stderr",
     "output_type": "stream",
     "text": [
      "D:\\anaconda\\lib\\site-packages\\pystan\\misc.py:399: FutureWarning: Conversion of the second argument of issubdtype from `float` to `np.floating` is deprecated. In future, it will be treated as `np.float64 == np.dtype(float).type`.\n",
      "  elif np.issubdtype(np.asarray(v).dtype, float):\n"
     ]
    }
   ],
   "source": [
    "%time op = sm.optimizing(data=dict(y=y2, N=len(y2)))\n"
   ]
  },
  {
   "cell_type": "code",
   "execution_count": 7,
   "metadata": {},
   "outputs": [
    {
     "data": {
      "text/plain": [
       "OrderedDict([('mu', array(0.36640264))])"
      ]
     },
     "execution_count": 7,
     "metadata": {},
     "output_type": "execute_result"
    }
   ],
   "source": [
    "op\n"
   ]
  },
  {
   "cell_type": "markdown",
   "metadata": {},
   "source": [
    "这里我们手动写出正态分布的似然函数，虽然pytorch也提供一些，但并不是很多，这也许是用它来实现相关贝叶斯统计框架所将遇到的主要困难。\n",
    "\n",
    "$$\n",
    "\\mathrm{normal}(Y \\mid \\mu,1) = \\prod_i^n C \\exp\\left(-\\frac{(x_i-\\mu)^2}{2}\\right)  \\\\\n",
    "\\log \\mathrm{normal} (Y \\mid \\mu,1) = C_2 - \\sum_i^n  \\frac{(x_i - \\mu)^2}{2}\n",
    "$$"
   ]
  },
  {
   "cell_type": "code",
   "execution_count": 8,
   "metadata": {
    "collapsed": true
   },
   "outputs": [],
   "source": [
    "def normal_lp(x,mu,sigma):\n",
    "    #虽然在stan里这个函数是包含常数的，但这里把它弃掉\n",
    "    return -((x - mu)**2/(2*sigma**2)).sum()"
   ]
  },
  {
   "cell_type": "code",
   "execution_count": 9,
   "metadata": {
    "collapsed": true
   },
   "outputs": [],
   "source": [
    "target = Variable(torch.zeros(1))"
   ]
  },
  {
   "cell_type": "code",
   "execution_count": 10,
   "metadata": {
    "collapsed": true
   },
   "outputs": [],
   "source": [
    "y = Variable(torch.from_numpy(y2).float())"
   ]
  },
  {
   "cell_type": "code",
   "execution_count": 11,
   "metadata": {
    "collapsed": true
   },
   "outputs": [],
   "source": [
    "mu = Variable(torch.zeros(1),requires_grad=True)\n",
    "target += normal_lp(y,mu,1)\n",
    "\n",
    "loss = -target"
   ]
  },
  {
   "cell_type": "code",
   "execution_count": 12,
   "metadata": {
    "collapsed": true
   },
   "outputs": [],
   "source": [
    "loss.backward()"
   ]
  },
  {
   "cell_type": "code",
   "execution_count": 13,
   "metadata": {},
   "outputs": [
    {
     "data": {
      "text/plain": [
       "Variable containing:\n",
       " 0\n",
       "[torch.FloatTensor of size 1]"
      ]
     },
     "execution_count": 13,
     "metadata": {},
     "output_type": "execute_result"
    }
   ],
   "source": [
    "mu"
   ]
  },
  {
   "cell_type": "code",
   "execution_count": 14,
   "metadata": {},
   "outputs": [
    {
     "data": {
      "text/plain": [
       "Variable containing:\n",
       "-7.3281\n",
       "[torch.FloatTensor of size 1]"
      ]
     },
     "execution_count": 14,
     "metadata": {},
     "output_type": "execute_result"
    }
   ],
   "source": [
    "mu.grad"
   ]
  },
  {
   "cell_type": "code",
   "execution_count": 15,
   "metadata": {
    "collapsed": true
   },
   "outputs": [],
   "source": [
    "def model(y):\n",
    "    target = Variable(torch.zeros(1))\n",
    "    target += normal_lp(y,mu,1)\n",
    "    return target\n",
    "\n",
    "optimizer = torch.optim.SGD([mu],lr=0.01)\n",
    "for epoch in range(100):\n",
    "    optimizer.zero_grad()\n",
    "    y = Variable(torch.from_numpy(y2).float())\n",
    "    target = model(y)\n",
    "    loss = -target\n",
    "    loss.backward()\n",
    "    optimizer.step()"
   ]
  },
  {
   "cell_type": "code",
   "execution_count": 16,
   "metadata": {
    "collapsed": true
   },
   "outputs": [],
   "source": [
    "loss.grad"
   ]
  },
  {
   "cell_type": "code",
   "execution_count": 17,
   "metadata": {},
   "outputs": [
    {
     "data": {
      "text/plain": [
       "Variable containing:\n",
       " 0.3664\n",
       "[torch.FloatTensor of size 1]"
      ]
     },
     "execution_count": 17,
     "metadata": {},
     "output_type": "execute_result"
    }
   ],
   "source": [
    "mu"
   ]
  },
  {
   "cell_type": "markdown",
   "metadata": {},
   "source": [
    "# 自动微分变分推断\n",
    "\n",
    "## 平均场"
   ]
  },
  {
   "cell_type": "code",
   "execution_count": 89,
   "metadata": {},
   "outputs": [
    {
     "name": "stderr",
     "output_type": "stream",
     "text": [
      "D:\\anaconda\\lib\\site-packages\\pystan\\misc.py:399: FutureWarning: Conversion of the second argument of issubdtype from `float` to `np.floating` is deprecated. In future, it will be treated as `np.float64 == np.dtype(float).type`.\n",
      "  elif np.issubdtype(np.asarray(v).dtype, float):\n",
      "WARNING:pystan:Automatic Differentiation Variational Inference (ADVI) is an EXPERIMENTAL ALGORITHM.\n",
      "WARNING:pystan:ADVI samples may be found on the filesystem in the file `C:\\Users\\my\\AppData\\Local\\Temp\\tmpx6r6ou2g\\output.csv`\n"
     ]
    }
   ],
   "source": [
    "fit = sm.vb(data = dict(y=y2, N = len(y2)))"
   ]
  },
  {
   "cell_type": "code",
   "execution_count": 90,
   "metadata": {},
   "outputs": [
    {
     "data": {
      "text/plain": [
       "odict_keys(['args', 'inits', 'sampler_params', 'sampler_param_names', 'mean_pars'])"
      ]
     },
     "execution_count": 90,
     "metadata": {},
     "output_type": "execute_result"
    }
   ],
   "source": [
    "fit.keys()"
   ]
  },
  {
   "cell_type": "code",
   "execution_count": 91,
   "metadata": {},
   "outputs": [
    {
     "data": {
      "text/plain": [
       "[0.3106542643767246]"
      ]
     },
     "execution_count": 91,
     "metadata": {},
     "output_type": "execute_result"
    }
   ],
   "source": [
    "fit['mean_pars']"
   ]
  },
  {
   "cell_type": "code",
   "execution_count": 92,
   "metadata": {},
   "outputs": [
    {
     "data": {
      "text/plain": [
       "['mu']"
      ]
     },
     "execution_count": 92,
     "metadata": {},
     "output_type": "execute_result"
    }
   ],
   "source": [
    "fit['sampler_param_names']"
   ]
  },
  {
   "cell_type": "code",
   "execution_count": 94,
   "metadata": {},
   "outputs": [
    {
     "data": {
      "text/plain": [
       "1001"
      ]
     },
     "execution_count": 94,
     "metadata": {},
     "output_type": "execute_result"
    }
   ],
   "source": [
    "len(fit['sampler_params'][0])"
   ]
  },
  {
   "cell_type": "code",
   "execution_count": 93,
   "metadata": {},
   "outputs": [
    {
     "data": {
      "text/plain": [
       "(0.30312868383719116, 0.2286080403322702)"
      ]
     },
     "execution_count": 93,
     "metadata": {},
     "output_type": "execute_result"
    }
   ],
   "source": [
    "np.mean(fit['sampler_params'][0]),np.std(fit['sampler_params'][0]) #当然由于这个标准差不是直接从变分参数里拿出来而是按stan的设计莫名其妙又“估计”一次所以并不精确，在多维情况下会更明显"
   ]
  },
  {
   "cell_type": "code",
   "execution_count": 96,
   "metadata": {},
   "outputs": [
    {
     "name": "stderr",
     "output_type": "stream",
     "text": [
      "D:\\anaconda\\lib\\site-packages\\pystan\\misc.py:399: FutureWarning: Conversion of the second argument of issubdtype from `float` to `np.floating` is deprecated. In future, it will be treated as `np.float64 == np.dtype(float).type`.\n",
      "  elif np.issubdtype(np.asarray(v).dtype, float):\n",
      "WARNING:pystan:Automatic Differentiation Variational Inference (ADVI) is an EXPERIMENTAL ALGORITHM.\n",
      "WARNING:pystan:ADVI samples may be found on the filesystem in the file `C:\\Users\\my\\AppData\\Local\\Temp\\tmpipyxv3gw\\output.csv`\n",
      "WARNING:pystan:Automatic Differentiation Variational Inference (ADVI) is an EXPERIMENTAL ALGORITHM.\n",
      "WARNING:pystan:ADVI samples may be found on the filesystem in the file `C:\\Users\\my\\AppData\\Local\\Temp\\tmpl696r136\\output.csv`\n",
      "WARNING:pystan:Automatic Differentiation Variational Inference (ADVI) is an EXPERIMENTAL ALGORITHM.\n",
      "WARNING:pystan:ADVI samples may be found on the filesystem in the file `C:\\Users\\my\\AppData\\Local\\Temp\\tmpqpkbzpaz\\output.csv`\n",
      "WARNING:pystan:Automatic Differentiation Variational Inference (ADVI) is an EXPERIMENTAL ALGORITHM.\n",
      "WARNING:pystan:ADVI samples may be found on the filesystem in the file `C:\\Users\\my\\AppData\\Local\\Temp\\tmpbsrqnho_\\output.csv`\n",
      "WARNING:pystan:Automatic Differentiation Variational Inference (ADVI) is an EXPERIMENTAL ALGORITHM.\n",
      "WARNING:pystan:ADVI samples may be found on the filesystem in the file `C:\\Users\\my\\AppData\\Local\\Temp\\tmpe90xpm1c\\output.csv`\n",
      "WARNING:pystan:Automatic Differentiation Variational Inference (ADVI) is an EXPERIMENTAL ALGORITHM.\n",
      "WARNING:pystan:ADVI samples may be found on the filesystem in the file `C:\\Users\\my\\AppData\\Local\\Temp\\tmp6n169uis\\output.csv`\n",
      "WARNING:pystan:Automatic Differentiation Variational Inference (ADVI) is an EXPERIMENTAL ALGORITHM.\n",
      "WARNING:pystan:ADVI samples may be found on the filesystem in the file `C:\\Users\\my\\AppData\\Local\\Temp\\tmpe2lffuc7\\output.csv`\n",
      "WARNING:pystan:Automatic Differentiation Variational Inference (ADVI) is an EXPERIMENTAL ALGORITHM.\n",
      "WARNING:pystan:ADVI samples may be found on the filesystem in the file `C:\\Users\\my\\AppData\\Local\\Temp\\tmpbrv7u8ik\\output.csv`\n",
      "WARNING:pystan:Automatic Differentiation Variational Inference (ADVI) is an EXPERIMENTAL ALGORITHM.\n",
      "WARNING:pystan:ADVI samples may be found on the filesystem in the file `C:\\Users\\my\\AppData\\Local\\Temp\\tmpyvjykobk\\output.csv`\n",
      "WARNING:pystan:Automatic Differentiation Variational Inference (ADVI) is an EXPERIMENTAL ALGORITHM.\n",
      "WARNING:pystan:ADVI samples may be found on the filesystem in the file `C:\\Users\\my\\AppData\\Local\\Temp\\tmpsq1z9cgv\\output.csv`\n",
      "WARNING:pystan:Automatic Differentiation Variational Inference (ADVI) is an EXPERIMENTAL ALGORITHM.\n",
      "WARNING:pystan:ADVI samples may be found on the filesystem in the file `C:\\Users\\my\\AppData\\Local\\Temp\\tmp4t002wnq\\output.csv`\n",
      "WARNING:pystan:Automatic Differentiation Variational Inference (ADVI) is an EXPERIMENTAL ALGORITHM.\n",
      "WARNING:pystan:ADVI samples may be found on the filesystem in the file `C:\\Users\\my\\AppData\\Local\\Temp\\tmpkxkjkg1t\\output.csv`\n",
      "WARNING:pystan:Automatic Differentiation Variational Inference (ADVI) is an EXPERIMENTAL ALGORITHM.\n",
      "WARNING:pystan:ADVI samples may be found on the filesystem in the file `C:\\Users\\my\\AppData\\Local\\Temp\\tmpmfrgjn36\\output.csv`\n",
      "WARNING:pystan:Automatic Differentiation Variational Inference (ADVI) is an EXPERIMENTAL ALGORITHM.\n",
      "WARNING:pystan:ADVI samples may be found on the filesystem in the file `C:\\Users\\my\\AppData\\Local\\Temp\\tmpa0tuh14s\\output.csv`\n",
      "WARNING:pystan:Automatic Differentiation Variational Inference (ADVI) is an EXPERIMENTAL ALGORITHM.\n",
      "WARNING:pystan:ADVI samples may be found on the filesystem in the file `C:\\Users\\my\\AppData\\Local\\Temp\\tmpvxyvaj7l\\output.csv`\n",
      "WARNING:pystan:Automatic Differentiation Variational Inference (ADVI) is an EXPERIMENTAL ALGORITHM.\n",
      "WARNING:pystan:ADVI samples may be found on the filesystem in the file `C:\\Users\\my\\AppData\\Local\\Temp\\tmpftiqvz4f\\output.csv`\n",
      "WARNING:pystan:Automatic Differentiation Variational Inference (ADVI) is an EXPERIMENTAL ALGORITHM.\n",
      "WARNING:pystan:ADVI samples may be found on the filesystem in the file `C:\\Users\\my\\AppData\\Local\\Temp\\tmpu0932n96\\output.csv`\n",
      "WARNING:pystan:Automatic Differentiation Variational Inference (ADVI) is an EXPERIMENTAL ALGORITHM.\n",
      "WARNING:pystan:ADVI samples may be found on the filesystem in the file `C:\\Users\\my\\AppData\\Local\\Temp\\tmpkjommubi\\output.csv`\n",
      "WARNING:pystan:Automatic Differentiation Variational Inference (ADVI) is an EXPERIMENTAL ALGORITHM.\n",
      "WARNING:pystan:ADVI samples may be found on the filesystem in the file `C:\\Users\\my\\AppData\\Local\\Temp\\tmps_hsy00a\\output.csv`\n",
      "WARNING:pystan:Automatic Differentiation Variational Inference (ADVI) is an EXPERIMENTAL ALGORITHM.\n",
      "WARNING:pystan:ADVI samples may be found on the filesystem in the file `C:\\Users\\my\\AppData\\Local\\Temp\\tmp9zltz8kn\\output.csv`\n",
      "WARNING:pystan:Automatic Differentiation Variational Inference (ADVI) is an EXPERIMENTAL ALGORITHM.\n",
      "WARNING:pystan:ADVI samples may be found on the filesystem in the file `C:\\Users\\my\\AppData\\Local\\Temp\\tmpa5_7sjq6\\output.csv`\n",
      "WARNING:pystan:Automatic Differentiation Variational Inference (ADVI) is an EXPERIMENTAL ALGORITHM.\n",
      "WARNING:pystan:ADVI samples may be found on the filesystem in the file `C:\\Users\\my\\AppData\\Local\\Temp\\tmp22f689b8\\output.csv`\n",
      "WARNING:pystan:Automatic Differentiation Variational Inference (ADVI) is an EXPERIMENTAL ALGORITHM.\n",
      "WARNING:pystan:ADVI samples may be found on the filesystem in the file `C:\\Users\\my\\AppData\\Local\\Temp\\tmplaee3ffh\\output.csv`\n",
      "WARNING:pystan:Automatic Differentiation Variational Inference (ADVI) is an EXPERIMENTAL ALGORITHM.\n",
      "WARNING:pystan:ADVI samples may be found on the filesystem in the file `C:\\Users\\my\\AppData\\Local\\Temp\\tmpqa8sqbfw\\output.csv`\n",
      "WARNING:pystan:Automatic Differentiation Variational Inference (ADVI) is an EXPERIMENTAL ALGORITHM.\n",
      "WARNING:pystan:ADVI samples may be found on the filesystem in the file `C:\\Users\\my\\AppData\\Local\\Temp\\tmp_qzo6u43\\output.csv`\n",
      "WARNING:pystan:Automatic Differentiation Variational Inference (ADVI) is an EXPERIMENTAL ALGORITHM.\n",
      "WARNING:pystan:ADVI samples may be found on the filesystem in the file `C:\\Users\\my\\AppData\\Local\\Temp\\tmpwzyj058i\\output.csv`\n",
      "WARNING:pystan:Automatic Differentiation Variational Inference (ADVI) is an EXPERIMENTAL ALGORITHM.\n",
      "WARNING:pystan:ADVI samples may be found on the filesystem in the file `C:\\Users\\my\\AppData\\Local\\Temp\\tmpmhf9lruj\\output.csv`\n",
      "WARNING:pystan:Automatic Differentiation Variational Inference (ADVI) is an EXPERIMENTAL ALGORITHM.\n",
      "WARNING:pystan:ADVI samples may be found on the filesystem in the file `C:\\Users\\my\\AppData\\Local\\Temp\\tmpy2q_blm4\\output.csv`\n",
      "WARNING:pystan:Automatic Differentiation Variational Inference (ADVI) is an EXPERIMENTAL ALGORITHM.\n",
      "WARNING:pystan:ADVI samples may be found on the filesystem in the file `C:\\Users\\my\\AppData\\Local\\Temp\\tmpjkq3rhzh\\output.csv`\n",
      "WARNING:pystan:Automatic Differentiation Variational Inference (ADVI) is an EXPERIMENTAL ALGORITHM.\n",
      "WARNING:pystan:ADVI samples may be found on the filesystem in the file `C:\\Users\\my\\AppData\\Local\\Temp\\tmp0xp6f7eq\\output.csv`\n",
      "WARNING:pystan:Automatic Differentiation Variational Inference (ADVI) is an EXPERIMENTAL ALGORITHM.\n",
      "WARNING:pystan:ADVI samples may be found on the filesystem in the file `C:\\Users\\my\\AppData\\Local\\Temp\\tmpchhv469c\\output.csv`\n",
      "WARNING:pystan:Automatic Differentiation Variational Inference (ADVI) is an EXPERIMENTAL ALGORITHM.\n",
      "WARNING:pystan:ADVI samples may be found on the filesystem in the file `C:\\Users\\my\\AppData\\Local\\Temp\\tmppdqfn_1b\\output.csv`\n",
      "WARNING:pystan:Automatic Differentiation Variational Inference (ADVI) is an EXPERIMENTAL ALGORITHM.\n",
      "WARNING:pystan:ADVI samples may be found on the filesystem in the file `C:\\Users\\my\\AppData\\Local\\Temp\\tmpga8foork\\output.csv`\n",
      "WARNING:pystan:Automatic Differentiation Variational Inference (ADVI) is an EXPERIMENTAL ALGORITHM.\n",
      "WARNING:pystan:ADVI samples may be found on the filesystem in the file `C:\\Users\\my\\AppData\\Local\\Temp\\tmpkq91ksb7\\output.csv`\n",
      "WARNING:pystan:Automatic Differentiation Variational Inference (ADVI) is an EXPERIMENTAL ALGORITHM.\n",
      "WARNING:pystan:ADVI samples may be found on the filesystem in the file `C:\\Users\\my\\AppData\\Local\\Temp\\tmpj_u5zg3a\\output.csv`\n"
     ]
    },
    {
     "name": "stderr",
     "output_type": "stream",
     "text": [
      "WARNING:pystan:Automatic Differentiation Variational Inference (ADVI) is an EXPERIMENTAL ALGORITHM.\n",
      "WARNING:pystan:ADVI samples may be found on the filesystem in the file `C:\\Users\\my\\AppData\\Local\\Temp\\tmpdip9dqs4\\output.csv`\n",
      "WARNING:pystan:Automatic Differentiation Variational Inference (ADVI) is an EXPERIMENTAL ALGORITHM.\n",
      "WARNING:pystan:ADVI samples may be found on the filesystem in the file `C:\\Users\\my\\AppData\\Local\\Temp\\tmpnto2zwof\\output.csv`\n",
      "WARNING:pystan:Automatic Differentiation Variational Inference (ADVI) is an EXPERIMENTAL ALGORITHM.\n",
      "WARNING:pystan:ADVI samples may be found on the filesystem in the file `C:\\Users\\my\\AppData\\Local\\Temp\\tmp4d480i5a\\output.csv`\n",
      "WARNING:pystan:Automatic Differentiation Variational Inference (ADVI) is an EXPERIMENTAL ALGORITHM.\n",
      "WARNING:pystan:ADVI samples may be found on the filesystem in the file `C:\\Users\\my\\AppData\\Local\\Temp\\tmpmuh14dy4\\output.csv`\n",
      "WARNING:pystan:Automatic Differentiation Variational Inference (ADVI) is an EXPERIMENTAL ALGORITHM.\n",
      "WARNING:pystan:ADVI samples may be found on the filesystem in the file `C:\\Users\\my\\AppData\\Local\\Temp\\tmp0408304t\\output.csv`\n",
      "WARNING:pystan:Automatic Differentiation Variational Inference (ADVI) is an EXPERIMENTAL ALGORITHM.\n",
      "WARNING:pystan:ADVI samples may be found on the filesystem in the file `C:\\Users\\my\\AppData\\Local\\Temp\\tmptx818m33\\output.csv`\n",
      "WARNING:pystan:Automatic Differentiation Variational Inference (ADVI) is an EXPERIMENTAL ALGORITHM.\n",
      "WARNING:pystan:ADVI samples may be found on the filesystem in the file `C:\\Users\\my\\AppData\\Local\\Temp\\tmp3ljmu264\\output.csv`\n",
      "WARNING:pystan:Automatic Differentiation Variational Inference (ADVI) is an EXPERIMENTAL ALGORITHM.\n",
      "WARNING:pystan:ADVI samples may be found on the filesystem in the file `C:\\Users\\my\\AppData\\Local\\Temp\\tmputfys2jh\\output.csv`\n",
      "WARNING:pystan:Automatic Differentiation Variational Inference (ADVI) is an EXPERIMENTAL ALGORITHM.\n",
      "WARNING:pystan:ADVI samples may be found on the filesystem in the file `C:\\Users\\my\\AppData\\Local\\Temp\\tmpiz66a4lo\\output.csv`\n",
      "WARNING:pystan:Automatic Differentiation Variational Inference (ADVI) is an EXPERIMENTAL ALGORITHM.\n",
      "WARNING:pystan:ADVI samples may be found on the filesystem in the file `C:\\Users\\my\\AppData\\Local\\Temp\\tmpmyojs7ms\\output.csv`\n",
      "WARNING:pystan:Automatic Differentiation Variational Inference (ADVI) is an EXPERIMENTAL ALGORITHM.\n",
      "WARNING:pystan:ADVI samples may be found on the filesystem in the file `C:\\Users\\my\\AppData\\Local\\Temp\\tmp8t83eorl\\output.csv`\n",
      "WARNING:pystan:Automatic Differentiation Variational Inference (ADVI) is an EXPERIMENTAL ALGORITHM.\n",
      "WARNING:pystan:ADVI samples may be found on the filesystem in the file `C:\\Users\\my\\AppData\\Local\\Temp\\tmpe4gcx6zt\\output.csv`\n",
      "WARNING:pystan:Automatic Differentiation Variational Inference (ADVI) is an EXPERIMENTAL ALGORITHM.\n",
      "WARNING:pystan:ADVI samples may be found on the filesystem in the file `C:\\Users\\my\\AppData\\Local\\Temp\\tmp2c3wi5gj\\output.csv`\n",
      "WARNING:pystan:Automatic Differentiation Variational Inference (ADVI) is an EXPERIMENTAL ALGORITHM.\n",
      "WARNING:pystan:ADVI samples may be found on the filesystem in the file `C:\\Users\\my\\AppData\\Local\\Temp\\tmpmn7uov84\\output.csv`\n",
      "WARNING:pystan:Automatic Differentiation Variational Inference (ADVI) is an EXPERIMENTAL ALGORITHM.\n",
      "WARNING:pystan:ADVI samples may be found on the filesystem in the file `C:\\Users\\my\\AppData\\Local\\Temp\\tmpjgsrd2e7\\output.csv`\n",
      "WARNING:pystan:Automatic Differentiation Variational Inference (ADVI) is an EXPERIMENTAL ALGORITHM.\n",
      "WARNING:pystan:ADVI samples may be found on the filesystem in the file `C:\\Users\\my\\AppData\\Local\\Temp\\tmp44ioiule\\output.csv`\n",
      "WARNING:pystan:Automatic Differentiation Variational Inference (ADVI) is an EXPERIMENTAL ALGORITHM.\n",
      "WARNING:pystan:ADVI samples may be found on the filesystem in the file `C:\\Users\\my\\AppData\\Local\\Temp\\tmpgjcct5jr\\output.csv`\n",
      "WARNING:pystan:Automatic Differentiation Variational Inference (ADVI) is an EXPERIMENTAL ALGORITHM.\n",
      "WARNING:pystan:ADVI samples may be found on the filesystem in the file `C:\\Users\\my\\AppData\\Local\\Temp\\tmp3oyztybj\\output.csv`\n",
      "WARNING:pystan:Automatic Differentiation Variational Inference (ADVI) is an EXPERIMENTAL ALGORITHM.\n",
      "WARNING:pystan:ADVI samples may be found on the filesystem in the file `C:\\Users\\my\\AppData\\Local\\Temp\\tmpy2zvyaor\\output.csv`\n",
      "WARNING:pystan:Automatic Differentiation Variational Inference (ADVI) is an EXPERIMENTAL ALGORITHM.\n",
      "WARNING:pystan:ADVI samples may be found on the filesystem in the file `C:\\Users\\my\\AppData\\Local\\Temp\\tmpj0mboags\\output.csv`\n",
      "WARNING:pystan:Automatic Differentiation Variational Inference (ADVI) is an EXPERIMENTAL ALGORITHM.\n",
      "WARNING:pystan:ADVI samples may be found on the filesystem in the file `C:\\Users\\my\\AppData\\Local\\Temp\\tmp4wantaz3\\output.csv`\n",
      "WARNING:pystan:Automatic Differentiation Variational Inference (ADVI) is an EXPERIMENTAL ALGORITHM.\n",
      "WARNING:pystan:ADVI samples may be found on the filesystem in the file `C:\\Users\\my\\AppData\\Local\\Temp\\tmpfjlgqgb9\\output.csv`\n",
      "WARNING:pystan:Automatic Differentiation Variational Inference (ADVI) is an EXPERIMENTAL ALGORITHM.\n",
      "WARNING:pystan:ADVI samples may be found on the filesystem in the file `C:\\Users\\my\\AppData\\Local\\Temp\\tmpgw2z3my2\\output.csv`\n",
      "WARNING:pystan:Automatic Differentiation Variational Inference (ADVI) is an EXPERIMENTAL ALGORITHM.\n",
      "WARNING:pystan:ADVI samples may be found on the filesystem in the file `C:\\Users\\my\\AppData\\Local\\Temp\\tmpsw5jlnt5\\output.csv`\n",
      "WARNING:pystan:Automatic Differentiation Variational Inference (ADVI) is an EXPERIMENTAL ALGORITHM.\n",
      "WARNING:pystan:ADVI samples may be found on the filesystem in the file `C:\\Users\\my\\AppData\\Local\\Temp\\tmptt3r7_wk\\output.csv`\n",
      "WARNING:pystan:Automatic Differentiation Variational Inference (ADVI) is an EXPERIMENTAL ALGORITHM.\n",
      "WARNING:pystan:ADVI samples may be found on the filesystem in the file `C:\\Users\\my\\AppData\\Local\\Temp\\tmpalyflph8\\output.csv`\n",
      "WARNING:pystan:Automatic Differentiation Variational Inference (ADVI) is an EXPERIMENTAL ALGORITHM.\n",
      "WARNING:pystan:ADVI samples may be found on the filesystem in the file `C:\\Users\\my\\AppData\\Local\\Temp\\tmp2y1vdc7g\\output.csv`\n",
      "WARNING:pystan:Automatic Differentiation Variational Inference (ADVI) is an EXPERIMENTAL ALGORITHM.\n",
      "WARNING:pystan:ADVI samples may be found on the filesystem in the file `C:\\Users\\my\\AppData\\Local\\Temp\\tmpiinp4st5\\output.csv`\n",
      "WARNING:pystan:Automatic Differentiation Variational Inference (ADVI) is an EXPERIMENTAL ALGORITHM.\n",
      "WARNING:pystan:ADVI samples may be found on the filesystem in the file `C:\\Users\\my\\AppData\\Local\\Temp\\tmp97ruiey9\\output.csv`\n",
      "WARNING:pystan:Automatic Differentiation Variational Inference (ADVI) is an EXPERIMENTAL ALGORITHM.\n",
      "WARNING:pystan:ADVI samples may be found on the filesystem in the file `C:\\Users\\my\\AppData\\Local\\Temp\\tmpkrghn7vc\\output.csv`\n",
      "WARNING:pystan:Automatic Differentiation Variational Inference (ADVI) is an EXPERIMENTAL ALGORITHM.\n",
      "WARNING:pystan:ADVI samples may be found on the filesystem in the file `C:\\Users\\my\\AppData\\Local\\Temp\\tmpww86ja4q\\output.csv`\n",
      "WARNING:pystan:Automatic Differentiation Variational Inference (ADVI) is an EXPERIMENTAL ALGORITHM.\n",
      "WARNING:pystan:ADVI samples may be found on the filesystem in the file `C:\\Users\\my\\AppData\\Local\\Temp\\tmpme8axf6_\\output.csv`\n",
      "WARNING:pystan:Automatic Differentiation Variational Inference (ADVI) is an EXPERIMENTAL ALGORITHM.\n",
      "WARNING:pystan:ADVI samples may be found on the filesystem in the file `C:\\Users\\my\\AppData\\Local\\Temp\\tmp94xv5ejw\\output.csv`\n",
      "WARNING:pystan:Automatic Differentiation Variational Inference (ADVI) is an EXPERIMENTAL ALGORITHM.\n",
      "WARNING:pystan:ADVI samples may be found on the filesystem in the file `C:\\Users\\my\\AppData\\Local\\Temp\\tmpknn4yg76\\output.csv`\n",
      "WARNING:pystan:Automatic Differentiation Variational Inference (ADVI) is an EXPERIMENTAL ALGORITHM.\n",
      "WARNING:pystan:ADVI samples may be found on the filesystem in the file `C:\\Users\\my\\AppData\\Local\\Temp\\tmp6b8vf4lv\\output.csv`\n",
      "WARNING:pystan:Automatic Differentiation Variational Inference (ADVI) is an EXPERIMENTAL ALGORITHM.\n",
      "WARNING:pystan:ADVI samples may be found on the filesystem in the file `C:\\Users\\my\\AppData\\Local\\Temp\\tmp_t93dlem\\output.csv`\n",
      "WARNING:pystan:Automatic Differentiation Variational Inference (ADVI) is an EXPERIMENTAL ALGORITHM.\n"
     ]
    },
    {
     "name": "stderr",
     "output_type": "stream",
     "text": [
      "WARNING:pystan:ADVI samples may be found on the filesystem in the file `C:\\Users\\my\\AppData\\Local\\Temp\\tmp9wy9ep0i\\output.csv`\n",
      "WARNING:pystan:Automatic Differentiation Variational Inference (ADVI) is an EXPERIMENTAL ALGORITHM.\n",
      "WARNING:pystan:ADVI samples may be found on the filesystem in the file `C:\\Users\\my\\AppData\\Local\\Temp\\tmpiigrpc8g\\output.csv`\n",
      "WARNING:pystan:Automatic Differentiation Variational Inference (ADVI) is an EXPERIMENTAL ALGORITHM.\n",
      "WARNING:pystan:ADVI samples may be found on the filesystem in the file `C:\\Users\\my\\AppData\\Local\\Temp\\tmpknebjmag\\output.csv`\n",
      "WARNING:pystan:Automatic Differentiation Variational Inference (ADVI) is an EXPERIMENTAL ALGORITHM.\n",
      "WARNING:pystan:ADVI samples may be found on the filesystem in the file `C:\\Users\\my\\AppData\\Local\\Temp\\tmp0vxepzaj\\output.csv`\n",
      "WARNING:pystan:Automatic Differentiation Variational Inference (ADVI) is an EXPERIMENTAL ALGORITHM.\n",
      "WARNING:pystan:ADVI samples may be found on the filesystem in the file `C:\\Users\\my\\AppData\\Local\\Temp\\tmp0y1hb4tc\\output.csv`\n",
      "WARNING:pystan:Automatic Differentiation Variational Inference (ADVI) is an EXPERIMENTAL ALGORITHM.\n",
      "WARNING:pystan:ADVI samples may be found on the filesystem in the file `C:\\Users\\my\\AppData\\Local\\Temp\\tmpzz1066qg\\output.csv`\n",
      "WARNING:pystan:Automatic Differentiation Variational Inference (ADVI) is an EXPERIMENTAL ALGORITHM.\n",
      "WARNING:pystan:ADVI samples may be found on the filesystem in the file `C:\\Users\\my\\AppData\\Local\\Temp\\tmpf44o0edn\\output.csv`\n",
      "WARNING:pystan:Automatic Differentiation Variational Inference (ADVI) is an EXPERIMENTAL ALGORITHM.\n",
      "WARNING:pystan:ADVI samples may be found on the filesystem in the file `C:\\Users\\my\\AppData\\Local\\Temp\\tmpbtx2zf3i\\output.csv`\n",
      "WARNING:pystan:Automatic Differentiation Variational Inference (ADVI) is an EXPERIMENTAL ALGORITHM.\n",
      "WARNING:pystan:ADVI samples may be found on the filesystem in the file `C:\\Users\\my\\AppData\\Local\\Temp\\tmp4mlwscnw\\output.csv`\n",
      "WARNING:pystan:Automatic Differentiation Variational Inference (ADVI) is an EXPERIMENTAL ALGORITHM.\n",
      "WARNING:pystan:ADVI samples may be found on the filesystem in the file `C:\\Users\\my\\AppData\\Local\\Temp\\tmpoeopspf8\\output.csv`\n",
      "WARNING:pystan:Automatic Differentiation Variational Inference (ADVI) is an EXPERIMENTAL ALGORITHM.\n",
      "WARNING:pystan:ADVI samples may be found on the filesystem in the file `C:\\Users\\my\\AppData\\Local\\Temp\\tmprbq0tijk\\output.csv`\n",
      "WARNING:pystan:Automatic Differentiation Variational Inference (ADVI) is an EXPERIMENTAL ALGORITHM.\n",
      "WARNING:pystan:ADVI samples may be found on the filesystem in the file `C:\\Users\\my\\AppData\\Local\\Temp\\tmp3i_mrk2w\\output.csv`\n",
      "WARNING:pystan:Automatic Differentiation Variational Inference (ADVI) is an EXPERIMENTAL ALGORITHM.\n",
      "WARNING:pystan:ADVI samples may be found on the filesystem in the file `C:\\Users\\my\\AppData\\Local\\Temp\\tmpnciavj_t\\output.csv`\n",
      "WARNING:pystan:Automatic Differentiation Variational Inference (ADVI) is an EXPERIMENTAL ALGORITHM.\n",
      "WARNING:pystan:ADVI samples may be found on the filesystem in the file `C:\\Users\\my\\AppData\\Local\\Temp\\tmp9thj148y\\output.csv`\n",
      "WARNING:pystan:Automatic Differentiation Variational Inference (ADVI) is an EXPERIMENTAL ALGORITHM.\n",
      "WARNING:pystan:ADVI samples may be found on the filesystem in the file `C:\\Users\\my\\AppData\\Local\\Temp\\tmp4kae7846\\output.csv`\n",
      "WARNING:pystan:Automatic Differentiation Variational Inference (ADVI) is an EXPERIMENTAL ALGORITHM.\n",
      "WARNING:pystan:ADVI samples may be found on the filesystem in the file `C:\\Users\\my\\AppData\\Local\\Temp\\tmp9evbjgc0\\output.csv`\n",
      "WARNING:pystan:Automatic Differentiation Variational Inference (ADVI) is an EXPERIMENTAL ALGORITHM.\n",
      "WARNING:pystan:ADVI samples may be found on the filesystem in the file `C:\\Users\\my\\AppData\\Local\\Temp\\tmp1owm81vp\\output.csv`\n",
      "WARNING:pystan:Automatic Differentiation Variational Inference (ADVI) is an EXPERIMENTAL ALGORITHM.\n",
      "WARNING:pystan:ADVI samples may be found on the filesystem in the file `C:\\Users\\my\\AppData\\Local\\Temp\\tmpevokq7ee\\output.csv`\n",
      "WARNING:pystan:Automatic Differentiation Variational Inference (ADVI) is an EXPERIMENTAL ALGORITHM.\n",
      "WARNING:pystan:ADVI samples may be found on the filesystem in the file `C:\\Users\\my\\AppData\\Local\\Temp\\tmpi7odochb\\output.csv`\n",
      "WARNING:pystan:Automatic Differentiation Variational Inference (ADVI) is an EXPERIMENTAL ALGORITHM.\n",
      "WARNING:pystan:ADVI samples may be found on the filesystem in the file `C:\\Users\\my\\AppData\\Local\\Temp\\tmpbvwjo5y2\\output.csv`\n",
      "WARNING:pystan:Automatic Differentiation Variational Inference (ADVI) is an EXPERIMENTAL ALGORITHM.\n",
      "WARNING:pystan:ADVI samples may be found on the filesystem in the file `C:\\Users\\my\\AppData\\Local\\Temp\\tmprhrb9swp\\output.csv`\n",
      "WARNING:pystan:Automatic Differentiation Variational Inference (ADVI) is an EXPERIMENTAL ALGORITHM.\n",
      "WARNING:pystan:ADVI samples may be found on the filesystem in the file `C:\\Users\\my\\AppData\\Local\\Temp\\tmp84obwyik\\output.csv`\n",
      "WARNING:pystan:Automatic Differentiation Variational Inference (ADVI) is an EXPERIMENTAL ALGORITHM.\n",
      "WARNING:pystan:ADVI samples may be found on the filesystem in the file `C:\\Users\\my\\AppData\\Local\\Temp\\tmpm4fro6w7\\output.csv`\n",
      "WARNING:pystan:Automatic Differentiation Variational Inference (ADVI) is an EXPERIMENTAL ALGORITHM.\n",
      "WARNING:pystan:ADVI samples may be found on the filesystem in the file `C:\\Users\\my\\AppData\\Local\\Temp\\tmpyp9pmmju\\output.csv`\n",
      "WARNING:pystan:Automatic Differentiation Variational Inference (ADVI) is an EXPERIMENTAL ALGORITHM.\n",
      "WARNING:pystan:ADVI samples may be found on the filesystem in the file `C:\\Users\\my\\AppData\\Local\\Temp\\tmpfxomm4dk\\output.csv`\n",
      "WARNING:pystan:Automatic Differentiation Variational Inference (ADVI) is an EXPERIMENTAL ALGORITHM.\n",
      "WARNING:pystan:ADVI samples may be found on the filesystem in the file `C:\\Users\\my\\AppData\\Local\\Temp\\tmpaewj67a0\\output.csv`\n",
      "WARNING:pystan:Automatic Differentiation Variational Inference (ADVI) is an EXPERIMENTAL ALGORITHM.\n",
      "WARNING:pystan:ADVI samples may be found on the filesystem in the file `C:\\Users\\my\\AppData\\Local\\Temp\\tmp3cxupyu7\\output.csv`\n",
      "WARNING:pystan:Automatic Differentiation Variational Inference (ADVI) is an EXPERIMENTAL ALGORITHM.\n",
      "WARNING:pystan:ADVI samples may be found on the filesystem in the file `C:\\Users\\my\\AppData\\Local\\Temp\\tmp0dftlvza\\output.csv`\n",
      "WARNING:pystan:Automatic Differentiation Variational Inference (ADVI) is an EXPERIMENTAL ALGORITHM.\n",
      "WARNING:pystan:ADVI samples may be found on the filesystem in the file `C:\\Users\\my\\AppData\\Local\\Temp\\tmpjni935sf\\output.csv`\n",
      "WARNING:pystan:Automatic Differentiation Variational Inference (ADVI) is an EXPERIMENTAL ALGORITHM.\n",
      "WARNING:pystan:ADVI samples may be found on the filesystem in the file `C:\\Users\\my\\AppData\\Local\\Temp\\tmpzwfnxx_v\\output.csv`\n",
      "WARNING:pystan:Automatic Differentiation Variational Inference (ADVI) is an EXPERIMENTAL ALGORITHM.\n",
      "WARNING:pystan:ADVI samples may be found on the filesystem in the file `C:\\Users\\my\\AppData\\Local\\Temp\\tmpebv4em_o\\output.csv`\n",
      "WARNING:pystan:Automatic Differentiation Variational Inference (ADVI) is an EXPERIMENTAL ALGORITHM.\n",
      "WARNING:pystan:ADVI samples may be found on the filesystem in the file `C:\\Users\\my\\AppData\\Local\\Temp\\tmp32zpww4u\\output.csv`\n",
      "WARNING:pystan:Automatic Differentiation Variational Inference (ADVI) is an EXPERIMENTAL ALGORITHM.\n",
      "WARNING:pystan:ADVI samples may be found on the filesystem in the file `C:\\Users\\my\\AppData\\Local\\Temp\\tmp401rb196\\output.csv`\n",
      "WARNING:pystan:Automatic Differentiation Variational Inference (ADVI) is an EXPERIMENTAL ALGORITHM.\n",
      "WARNING:pystan:ADVI samples may be found on the filesystem in the file `C:\\Users\\my\\AppData\\Local\\Temp\\tmpzhilp44u\\output.csv`\n",
      "WARNING:pystan:Automatic Differentiation Variational Inference (ADVI) is an EXPERIMENTAL ALGORITHM.\n",
      "WARNING:pystan:ADVI samples may be found on the filesystem in the file `C:\\Users\\my\\AppData\\Local\\Temp\\tmp0d618a_f\\output.csv`\n",
      "WARNING:pystan:Automatic Differentiation Variational Inference (ADVI) is an EXPERIMENTAL ALGORITHM.\n",
      "WARNING:pystan:ADVI samples may be found on the filesystem in the file `C:\\Users\\my\\AppData\\Local\\Temp\\tmpe4mdv4av\\output.csv`\n",
      "WARNING:pystan:Automatic Differentiation Variational Inference (ADVI) is an EXPERIMENTAL ALGORITHM.\n",
      "WARNING:pystan:ADVI samples may be found on the filesystem in the file `C:\\Users\\my\\AppData\\Local\\Temp\\tmp2b_vy02q\\output.csv`\n"
     ]
    },
    {
     "name": "stderr",
     "output_type": "stream",
     "text": [
      "WARNING:pystan:Automatic Differentiation Variational Inference (ADVI) is an EXPERIMENTAL ALGORITHM.\n",
      "WARNING:pystan:ADVI samples may be found on the filesystem in the file `C:\\Users\\my\\AppData\\Local\\Temp\\tmpd9f0rzxo\\output.csv`\n",
      "WARNING:pystan:Automatic Differentiation Variational Inference (ADVI) is an EXPERIMENTAL ALGORITHM.\n",
      "WARNING:pystan:ADVI samples may be found on the filesystem in the file `C:\\Users\\my\\AppData\\Local\\Temp\\tmpvgnwtvae\\output.csv`\n",
      "WARNING:pystan:Automatic Differentiation Variational Inference (ADVI) is an EXPERIMENTAL ALGORITHM.\n",
      "WARNING:pystan:ADVI samples may be found on the filesystem in the file `C:\\Users\\my\\AppData\\Local\\Temp\\tmpce6i_000\\output.csv`\n",
      "WARNING:pystan:Automatic Differentiation Variational Inference (ADVI) is an EXPERIMENTAL ALGORITHM.\n",
      "WARNING:pystan:ADVI samples may be found on the filesystem in the file `C:\\Users\\my\\AppData\\Local\\Temp\\tmpvdw6ym3w\\output.csv`\n",
      "WARNING:pystan:Automatic Differentiation Variational Inference (ADVI) is an EXPERIMENTAL ALGORITHM.\n",
      "WARNING:pystan:ADVI samples may be found on the filesystem in the file `C:\\Users\\my\\AppData\\Local\\Temp\\tmpbki457oo\\output.csv`\n",
      "WARNING:pystan:Automatic Differentiation Variational Inference (ADVI) is an EXPERIMENTAL ALGORITHM.\n",
      "WARNING:pystan:ADVI samples may be found on the filesystem in the file `C:\\Users\\my\\AppData\\Local\\Temp\\tmpm1vf5dcf\\output.csv`\n",
      "WARNING:pystan:Automatic Differentiation Variational Inference (ADVI) is an EXPERIMENTAL ALGORITHM.\n",
      "WARNING:pystan:ADVI samples may be found on the filesystem in the file `C:\\Users\\my\\AppData\\Local\\Temp\\tmpjs5zjeu4\\output.csv`\n",
      "WARNING:pystan:Automatic Differentiation Variational Inference (ADVI) is an EXPERIMENTAL ALGORITHM.\n",
      "WARNING:pystan:ADVI samples may be found on the filesystem in the file `C:\\Users\\my\\AppData\\Local\\Temp\\tmpj29f4jgp\\output.csv`\n",
      "WARNING:pystan:Automatic Differentiation Variational Inference (ADVI) is an EXPERIMENTAL ALGORITHM.\n",
      "WARNING:pystan:ADVI samples may be found on the filesystem in the file `C:\\Users\\my\\AppData\\Local\\Temp\\tmpqg7ja43n\\output.csv`\n",
      "WARNING:pystan:Automatic Differentiation Variational Inference (ADVI) is an EXPERIMENTAL ALGORITHM.\n",
      "WARNING:pystan:ADVI samples may be found on the filesystem in the file `C:\\Users\\my\\AppData\\Local\\Temp\\tmpnuy6eyph\\output.csv`\n",
      "WARNING:pystan:Automatic Differentiation Variational Inference (ADVI) is an EXPERIMENTAL ALGORITHM.\n",
      "WARNING:pystan:ADVI samples may be found on the filesystem in the file `C:\\Users\\my\\AppData\\Local\\Temp\\tmpjlohifzv\\output.csv`\n",
      "WARNING:pystan:Automatic Differentiation Variational Inference (ADVI) is an EXPERIMENTAL ALGORITHM.\n",
      "WARNING:pystan:ADVI samples may be found on the filesystem in the file `C:\\Users\\my\\AppData\\Local\\Temp\\tmpcgqflgm7\\output.csv`\n",
      "WARNING:pystan:Automatic Differentiation Variational Inference (ADVI) is an EXPERIMENTAL ALGORITHM.\n",
      "WARNING:pystan:ADVI samples may be found on the filesystem in the file `C:\\Users\\my\\AppData\\Local\\Temp\\tmpeh26tlot\\output.csv`\n",
      "WARNING:pystan:Automatic Differentiation Variational Inference (ADVI) is an EXPERIMENTAL ALGORITHM.\n",
      "WARNING:pystan:ADVI samples may be found on the filesystem in the file `C:\\Users\\my\\AppData\\Local\\Temp\\tmpp_2cmxtf\\output.csv`\n",
      "WARNING:pystan:Automatic Differentiation Variational Inference (ADVI) is an EXPERIMENTAL ALGORITHM.\n",
      "WARNING:pystan:ADVI samples may be found on the filesystem in the file `C:\\Users\\my\\AppData\\Local\\Temp\\tmprrqghdac\\output.csv`\n",
      "WARNING:pystan:Automatic Differentiation Variational Inference (ADVI) is an EXPERIMENTAL ALGORITHM.\n",
      "WARNING:pystan:ADVI samples may be found on the filesystem in the file `C:\\Users\\my\\AppData\\Local\\Temp\\tmpdo3ageda\\output.csv`\n",
      "WARNING:pystan:Automatic Differentiation Variational Inference (ADVI) is an EXPERIMENTAL ALGORITHM.\n",
      "WARNING:pystan:ADVI samples may be found on the filesystem in the file `C:\\Users\\my\\AppData\\Local\\Temp\\tmpnrkpye_7\\output.csv`\n",
      "WARNING:pystan:Automatic Differentiation Variational Inference (ADVI) is an EXPERIMENTAL ALGORITHM.\n",
      "WARNING:pystan:ADVI samples may be found on the filesystem in the file `C:\\Users\\my\\AppData\\Local\\Temp\\tmph6wzbvjl\\output.csv`\n",
      "WARNING:pystan:Automatic Differentiation Variational Inference (ADVI) is an EXPERIMENTAL ALGORITHM.\n",
      "WARNING:pystan:ADVI samples may be found on the filesystem in the file `C:\\Users\\my\\AppData\\Local\\Temp\\tmpvkmy8c9f\\output.csv`\n",
      "WARNING:pystan:Automatic Differentiation Variational Inference (ADVI) is an EXPERIMENTAL ALGORITHM.\n",
      "WARNING:pystan:ADVI samples may be found on the filesystem in the file `C:\\Users\\my\\AppData\\Local\\Temp\\tmphtjjri88\\output.csv`\n",
      "WARNING:pystan:Automatic Differentiation Variational Inference (ADVI) is an EXPERIMENTAL ALGORITHM.\n",
      "WARNING:pystan:ADVI samples may be found on the filesystem in the file `C:\\Users\\my\\AppData\\Local\\Temp\\tmp3j1b6hrd\\output.csv`\n",
      "WARNING:pystan:Automatic Differentiation Variational Inference (ADVI) is an EXPERIMENTAL ALGORITHM.\n",
      "WARNING:pystan:ADVI samples may be found on the filesystem in the file `C:\\Users\\my\\AppData\\Local\\Temp\\tmpxh3o_rr2\\output.csv`\n",
      "WARNING:pystan:Automatic Differentiation Variational Inference (ADVI) is an EXPERIMENTAL ALGORITHM.\n",
      "WARNING:pystan:ADVI samples may be found on the filesystem in the file `C:\\Users\\my\\AppData\\Local\\Temp\\tmps0sms7xu\\output.csv`\n",
      "WARNING:pystan:Automatic Differentiation Variational Inference (ADVI) is an EXPERIMENTAL ALGORITHM.\n",
      "WARNING:pystan:ADVI samples may be found on the filesystem in the file `C:\\Users\\my\\AppData\\Local\\Temp\\tmpisieh9fk\\output.csv`\n",
      "WARNING:pystan:Automatic Differentiation Variational Inference (ADVI) is an EXPERIMENTAL ALGORITHM.\n",
      "WARNING:pystan:ADVI samples may be found on the filesystem in the file `C:\\Users\\my\\AppData\\Local\\Temp\\tmp6xk89hlh\\output.csv`\n",
      "WARNING:pystan:Automatic Differentiation Variational Inference (ADVI) is an EXPERIMENTAL ALGORITHM.\n",
      "WARNING:pystan:ADVI samples may be found on the filesystem in the file `C:\\Users\\my\\AppData\\Local\\Temp\\tmpzh694oze\\output.csv`\n",
      "WARNING:pystan:Automatic Differentiation Variational Inference (ADVI) is an EXPERIMENTAL ALGORITHM.\n",
      "WARNING:pystan:ADVI samples may be found on the filesystem in the file `C:\\Users\\my\\AppData\\Local\\Temp\\tmp06ohzx18\\output.csv`\n",
      "WARNING:pystan:Automatic Differentiation Variational Inference (ADVI) is an EXPERIMENTAL ALGORITHM.\n",
      "WARNING:pystan:ADVI samples may be found on the filesystem in the file `C:\\Users\\my\\AppData\\Local\\Temp\\tmp9k4y4t6c\\output.csv`\n",
      "WARNING:pystan:Automatic Differentiation Variational Inference (ADVI) is an EXPERIMENTAL ALGORITHM.\n",
      "WARNING:pystan:ADVI samples may be found on the filesystem in the file `C:\\Users\\my\\AppData\\Local\\Temp\\tmp9cl_pgji\\output.csv`\n",
      "WARNING:pystan:Automatic Differentiation Variational Inference (ADVI) is an EXPERIMENTAL ALGORITHM.\n",
      "WARNING:pystan:ADVI samples may be found on the filesystem in the file `C:\\Users\\my\\AppData\\Local\\Temp\\tmpojuqrgkb\\output.csv`\n",
      "WARNING:pystan:Automatic Differentiation Variational Inference (ADVI) is an EXPERIMENTAL ALGORITHM.\n",
      "WARNING:pystan:ADVI samples may be found on the filesystem in the file `C:\\Users\\my\\AppData\\Local\\Temp\\tmpss_jyty3\\output.csv`\n",
      "WARNING:pystan:Automatic Differentiation Variational Inference (ADVI) is an EXPERIMENTAL ALGORITHM.\n",
      "WARNING:pystan:ADVI samples may be found on the filesystem in the file `C:\\Users\\my\\AppData\\Local\\Temp\\tmpxoe8am7a\\output.csv`\n",
      "WARNING:pystan:Automatic Differentiation Variational Inference (ADVI) is an EXPERIMENTAL ALGORITHM.\n",
      "WARNING:pystan:ADVI samples may be found on the filesystem in the file `C:\\Users\\my\\AppData\\Local\\Temp\\tmp3e77zuxx\\output.csv`\n",
      "WARNING:pystan:Automatic Differentiation Variational Inference (ADVI) is an EXPERIMENTAL ALGORITHM.\n",
      "WARNING:pystan:ADVI samples may be found on the filesystem in the file `C:\\Users\\my\\AppData\\Local\\Temp\\tmpfv1_9w51\\output.csv`\n",
      "WARNING:pystan:Automatic Differentiation Variational Inference (ADVI) is an EXPERIMENTAL ALGORITHM.\n",
      "WARNING:pystan:ADVI samples may be found on the filesystem in the file `C:\\Users\\my\\AppData\\Local\\Temp\\tmpx4g24_do\\output.csv`\n",
      "WARNING:pystan:Automatic Differentiation Variational Inference (ADVI) is an EXPERIMENTAL ALGORITHM.\n",
      "WARNING:pystan:ADVI samples may be found on the filesystem in the file `C:\\Users\\my\\AppData\\Local\\Temp\\tmp7jgcwlia\\output.csv`\n",
      "WARNING:pystan:Automatic Differentiation Variational Inference (ADVI) is an EXPERIMENTAL ALGORITHM.\n"
     ]
    },
    {
     "name": "stderr",
     "output_type": "stream",
     "text": [
      "WARNING:pystan:ADVI samples may be found on the filesystem in the file `C:\\Users\\my\\AppData\\Local\\Temp\\tmpv_m5d2kb\\output.csv`\n",
      "WARNING:pystan:Automatic Differentiation Variational Inference (ADVI) is an EXPERIMENTAL ALGORITHM.\n",
      "WARNING:pystan:ADVI samples may be found on the filesystem in the file `C:\\Users\\my\\AppData\\Local\\Temp\\tmpa016qof6\\output.csv`\n",
      "WARNING:pystan:Automatic Differentiation Variational Inference (ADVI) is an EXPERIMENTAL ALGORITHM.\n",
      "WARNING:pystan:ADVI samples may be found on the filesystem in the file `C:\\Users\\my\\AppData\\Local\\Temp\\tmpmu2wf54c\\output.csv`\n",
      "WARNING:pystan:Automatic Differentiation Variational Inference (ADVI) is an EXPERIMENTAL ALGORITHM.\n",
      "WARNING:pystan:ADVI samples may be found on the filesystem in the file `C:\\Users\\my\\AppData\\Local\\Temp\\tmpmwdax_r5\\output.csv`\n",
      "WARNING:pystan:Automatic Differentiation Variational Inference (ADVI) is an EXPERIMENTAL ALGORITHM.\n",
      "WARNING:pystan:ADVI samples may be found on the filesystem in the file `C:\\Users\\my\\AppData\\Local\\Temp\\tmpq62hpvwi\\output.csv`\n",
      "WARNING:pystan:Automatic Differentiation Variational Inference (ADVI) is an EXPERIMENTAL ALGORITHM.\n",
      "WARNING:pystan:ADVI samples may be found on the filesystem in the file `C:\\Users\\my\\AppData\\Local\\Temp\\tmpw6i7q_3v\\output.csv`\n",
      "WARNING:pystan:Automatic Differentiation Variational Inference (ADVI) is an EXPERIMENTAL ALGORITHM.\n",
      "WARNING:pystan:ADVI samples may be found on the filesystem in the file `C:\\Users\\my\\AppData\\Local\\Temp\\tmpz323td8s\\output.csv`\n",
      "WARNING:pystan:Automatic Differentiation Variational Inference (ADVI) is an EXPERIMENTAL ALGORITHM.\n",
      "WARNING:pystan:ADVI samples may be found on the filesystem in the file `C:\\Users\\my\\AppData\\Local\\Temp\\tmpkp2z5u8h\\output.csv`\n",
      "WARNING:pystan:Automatic Differentiation Variational Inference (ADVI) is an EXPERIMENTAL ALGORITHM.\n",
      "WARNING:pystan:ADVI samples may be found on the filesystem in the file `C:\\Users\\my\\AppData\\Local\\Temp\\tmpkec4dvhn\\output.csv`\n",
      "WARNING:pystan:Automatic Differentiation Variational Inference (ADVI) is an EXPERIMENTAL ALGORITHM.\n",
      "WARNING:pystan:ADVI samples may be found on the filesystem in the file `C:\\Users\\my\\AppData\\Local\\Temp\\tmp62mwupwn\\output.csv`\n",
      "WARNING:pystan:Automatic Differentiation Variational Inference (ADVI) is an EXPERIMENTAL ALGORITHM.\n",
      "WARNING:pystan:ADVI samples may be found on the filesystem in the file `C:\\Users\\my\\AppData\\Local\\Temp\\tmp8x7fmezo\\output.csv`\n",
      "WARNING:pystan:Automatic Differentiation Variational Inference (ADVI) is an EXPERIMENTAL ALGORITHM.\n",
      "WARNING:pystan:ADVI samples may be found on the filesystem in the file `C:\\Users\\my\\AppData\\Local\\Temp\\tmpe74olc57\\output.csv`\n",
      "WARNING:pystan:Automatic Differentiation Variational Inference (ADVI) is an EXPERIMENTAL ALGORITHM.\n",
      "WARNING:pystan:ADVI samples may be found on the filesystem in the file `C:\\Users\\my\\AppData\\Local\\Temp\\tmpyhpyhqf1\\output.csv`\n",
      "WARNING:pystan:Automatic Differentiation Variational Inference (ADVI) is an EXPERIMENTAL ALGORITHM.\n",
      "WARNING:pystan:ADVI samples may be found on the filesystem in the file `C:\\Users\\my\\AppData\\Local\\Temp\\tmpncbzw8hb\\output.csv`\n",
      "WARNING:pystan:Automatic Differentiation Variational Inference (ADVI) is an EXPERIMENTAL ALGORITHM.\n",
      "WARNING:pystan:ADVI samples may be found on the filesystem in the file `C:\\Users\\my\\AppData\\Local\\Temp\\tmpfb70z2_m\\output.csv`\n",
      "WARNING:pystan:Automatic Differentiation Variational Inference (ADVI) is an EXPERIMENTAL ALGORITHM.\n",
      "WARNING:pystan:ADVI samples may be found on the filesystem in the file `C:\\Users\\my\\AppData\\Local\\Temp\\tmpgnv1ucui\\output.csv`\n",
      "WARNING:pystan:Automatic Differentiation Variational Inference (ADVI) is an EXPERIMENTAL ALGORITHM.\n",
      "WARNING:pystan:ADVI samples may be found on the filesystem in the file `C:\\Users\\my\\AppData\\Local\\Temp\\tmpzp6m45zv\\output.csv`\n",
      "WARNING:pystan:Automatic Differentiation Variational Inference (ADVI) is an EXPERIMENTAL ALGORITHM.\n",
      "WARNING:pystan:ADVI samples may be found on the filesystem in the file `C:\\Users\\my\\AppData\\Local\\Temp\\tmpq7l_w0hn\\output.csv`\n",
      "WARNING:pystan:Automatic Differentiation Variational Inference (ADVI) is an EXPERIMENTAL ALGORITHM.\n",
      "WARNING:pystan:ADVI samples may be found on the filesystem in the file `C:\\Users\\my\\AppData\\Local\\Temp\\tmpbug30u75\\output.csv`\n",
      "WARNING:pystan:Automatic Differentiation Variational Inference (ADVI) is an EXPERIMENTAL ALGORITHM.\n",
      "WARNING:pystan:ADVI samples may be found on the filesystem in the file `C:\\Users\\my\\AppData\\Local\\Temp\\tmp_q_k50nd\\output.csv`\n",
      "WARNING:pystan:Automatic Differentiation Variational Inference (ADVI) is an EXPERIMENTAL ALGORITHM.\n",
      "WARNING:pystan:ADVI samples may be found on the filesystem in the file `C:\\Users\\my\\AppData\\Local\\Temp\\tmppr26sslr\\output.csv`\n",
      "WARNING:pystan:Automatic Differentiation Variational Inference (ADVI) is an EXPERIMENTAL ALGORITHM.\n",
      "WARNING:pystan:ADVI samples may be found on the filesystem in the file `C:\\Users\\my\\AppData\\Local\\Temp\\tmpdkm4cytw\\output.csv`\n",
      "WARNING:pystan:Automatic Differentiation Variational Inference (ADVI) is an EXPERIMENTAL ALGORITHM.\n",
      "WARNING:pystan:ADVI samples may be found on the filesystem in the file `C:\\Users\\my\\AppData\\Local\\Temp\\tmpde1psysw\\output.csv`\n",
      "WARNING:pystan:Automatic Differentiation Variational Inference (ADVI) is an EXPERIMENTAL ALGORITHM.\n",
      "WARNING:pystan:ADVI samples may be found on the filesystem in the file `C:\\Users\\my\\AppData\\Local\\Temp\\tmpltdzogf5\\output.csv`\n",
      "WARNING:pystan:Automatic Differentiation Variational Inference (ADVI) is an EXPERIMENTAL ALGORITHM.\n",
      "WARNING:pystan:ADVI samples may be found on the filesystem in the file `C:\\Users\\my\\AppData\\Local\\Temp\\tmpmpva40k2\\output.csv`\n",
      "WARNING:pystan:Automatic Differentiation Variational Inference (ADVI) is an EXPERIMENTAL ALGORITHM.\n",
      "WARNING:pystan:ADVI samples may be found on the filesystem in the file `C:\\Users\\my\\AppData\\Local\\Temp\\tmpv_zugte4\\output.csv`\n",
      "WARNING:pystan:Automatic Differentiation Variational Inference (ADVI) is an EXPERIMENTAL ALGORITHM.\n",
      "WARNING:pystan:ADVI samples may be found on the filesystem in the file `C:\\Users\\my\\AppData\\Local\\Temp\\tmpzi0rrpgv\\output.csv`\n",
      "WARNING:pystan:Automatic Differentiation Variational Inference (ADVI) is an EXPERIMENTAL ALGORITHM.\n",
      "WARNING:pystan:ADVI samples may be found on the filesystem in the file `C:\\Users\\my\\AppData\\Local\\Temp\\tmpf5na40hn\\output.csv`\n",
      "WARNING:pystan:Automatic Differentiation Variational Inference (ADVI) is an EXPERIMENTAL ALGORITHM.\n",
      "WARNING:pystan:ADVI samples may be found on the filesystem in the file `C:\\Users\\my\\AppData\\Local\\Temp\\tmpigde8_rr\\output.csv`\n",
      "WARNING:pystan:Automatic Differentiation Variational Inference (ADVI) is an EXPERIMENTAL ALGORITHM.\n",
      "WARNING:pystan:ADVI samples may be found on the filesystem in the file `C:\\Users\\my\\AppData\\Local\\Temp\\tmppyxuyy0q\\output.csv`\n",
      "WARNING:pystan:Automatic Differentiation Variational Inference (ADVI) is an EXPERIMENTAL ALGORITHM.\n",
      "WARNING:pystan:ADVI samples may be found on the filesystem in the file `C:\\Users\\my\\AppData\\Local\\Temp\\tmpbzivs278\\output.csv`\n",
      "WARNING:pystan:Automatic Differentiation Variational Inference (ADVI) is an EXPERIMENTAL ALGORITHM.\n",
      "WARNING:pystan:ADVI samples may be found on the filesystem in the file `C:\\Users\\my\\AppData\\Local\\Temp\\tmpskp68198\\output.csv`\n",
      "WARNING:pystan:Automatic Differentiation Variational Inference (ADVI) is an EXPERIMENTAL ALGORITHM.\n",
      "WARNING:pystan:ADVI samples may be found on the filesystem in the file `C:\\Users\\my\\AppData\\Local\\Temp\\tmpo3zelaec\\output.csv`\n",
      "WARNING:pystan:Automatic Differentiation Variational Inference (ADVI) is an EXPERIMENTAL ALGORITHM.\n",
      "WARNING:pystan:ADVI samples may be found on the filesystem in the file `C:\\Users\\my\\AppData\\Local\\Temp\\tmpougkdasm\\output.csv`\n",
      "WARNING:pystan:Automatic Differentiation Variational Inference (ADVI) is an EXPERIMENTAL ALGORITHM.\n",
      "WARNING:pystan:ADVI samples may be found on the filesystem in the file `C:\\Users\\my\\AppData\\Local\\Temp\\tmpkslmvsu_\\output.csv`\n",
      "WARNING:pystan:Automatic Differentiation Variational Inference (ADVI) is an EXPERIMENTAL ALGORITHM.\n",
      "WARNING:pystan:ADVI samples may be found on the filesystem in the file `C:\\Users\\my\\AppData\\Local\\Temp\\tmpr57vg22k\\output.csv`\n",
      "WARNING:pystan:Automatic Differentiation Variational Inference (ADVI) is an EXPERIMENTAL ALGORITHM.\n",
      "WARNING:pystan:ADVI samples may be found on the filesystem in the file `C:\\Users\\my\\AppData\\Local\\Temp\\tmph48lcf2b\\output.csv`\n"
     ]
    },
    {
     "name": "stderr",
     "output_type": "stream",
     "text": [
      "WARNING:pystan:Automatic Differentiation Variational Inference (ADVI) is an EXPERIMENTAL ALGORITHM.\n",
      "WARNING:pystan:ADVI samples may be found on the filesystem in the file `C:\\Users\\my\\AppData\\Local\\Temp\\tmpc19102ln\\output.csv`\n",
      "WARNING:pystan:Automatic Differentiation Variational Inference (ADVI) is an EXPERIMENTAL ALGORITHM.\n",
      "WARNING:pystan:ADVI samples may be found on the filesystem in the file `C:\\Users\\my\\AppData\\Local\\Temp\\tmppcmx7so2\\output.csv`\n",
      "WARNING:pystan:Automatic Differentiation Variational Inference (ADVI) is an EXPERIMENTAL ALGORITHM.\n",
      "WARNING:pystan:ADVI samples may be found on the filesystem in the file `C:\\Users\\my\\AppData\\Local\\Temp\\tmp2ht35fv6\\output.csv`\n",
      "WARNING:pystan:Automatic Differentiation Variational Inference (ADVI) is an EXPERIMENTAL ALGORITHM.\n",
      "WARNING:pystan:ADVI samples may be found on the filesystem in the file `C:\\Users\\my\\AppData\\Local\\Temp\\tmpxcldliag\\output.csv`\n",
      "WARNING:pystan:Automatic Differentiation Variational Inference (ADVI) is an EXPERIMENTAL ALGORITHM.\n",
      "WARNING:pystan:ADVI samples may be found on the filesystem in the file `C:\\Users\\my\\AppData\\Local\\Temp\\tmpwadhuk5m\\output.csv`\n",
      "WARNING:pystan:Automatic Differentiation Variational Inference (ADVI) is an EXPERIMENTAL ALGORITHM.\n",
      "WARNING:pystan:ADVI samples may be found on the filesystem in the file `C:\\Users\\my\\AppData\\Local\\Temp\\tmp5yc6lxit\\output.csv`\n",
      "WARNING:pystan:Automatic Differentiation Variational Inference (ADVI) is an EXPERIMENTAL ALGORITHM.\n",
      "WARNING:pystan:ADVI samples may be found on the filesystem in the file `C:\\Users\\my\\AppData\\Local\\Temp\\tmpbbrpp1ha\\output.csv`\n",
      "WARNING:pystan:Automatic Differentiation Variational Inference (ADVI) is an EXPERIMENTAL ALGORITHM.\n",
      "WARNING:pystan:ADVI samples may be found on the filesystem in the file `C:\\Users\\my\\AppData\\Local\\Temp\\tmp6ya67n29\\output.csv`\n",
      "WARNING:pystan:Automatic Differentiation Variational Inference (ADVI) is an EXPERIMENTAL ALGORITHM.\n",
      "WARNING:pystan:ADVI samples may be found on the filesystem in the file `C:\\Users\\my\\AppData\\Local\\Temp\\tmpj85ro1vq\\output.csv`\n",
      "WARNING:pystan:Automatic Differentiation Variational Inference (ADVI) is an EXPERIMENTAL ALGORITHM.\n",
      "WARNING:pystan:ADVI samples may be found on the filesystem in the file `C:\\Users\\my\\AppData\\Local\\Temp\\tmpwg5y5gmj\\output.csv`\n",
      "WARNING:pystan:Automatic Differentiation Variational Inference (ADVI) is an EXPERIMENTAL ALGORITHM.\n",
      "WARNING:pystan:ADVI samples may be found on the filesystem in the file `C:\\Users\\my\\AppData\\Local\\Temp\\tmpxacvjdkn\\output.csv`\n",
      "WARNING:pystan:Automatic Differentiation Variational Inference (ADVI) is an EXPERIMENTAL ALGORITHM.\n",
      "WARNING:pystan:ADVI samples may be found on the filesystem in the file `C:\\Users\\my\\AppData\\Local\\Temp\\tmptu9yn3uc\\output.csv`\n",
      "WARNING:pystan:Automatic Differentiation Variational Inference (ADVI) is an EXPERIMENTAL ALGORITHM.\n",
      "WARNING:pystan:ADVI samples may be found on the filesystem in the file `C:\\Users\\my\\AppData\\Local\\Temp\\tmpo8bicbb3\\output.csv`\n",
      "WARNING:pystan:Automatic Differentiation Variational Inference (ADVI) is an EXPERIMENTAL ALGORITHM.\n",
      "WARNING:pystan:ADVI samples may be found on the filesystem in the file `C:\\Users\\my\\AppData\\Local\\Temp\\tmp_2bgs22q\\output.csv`\n",
      "WARNING:pystan:Automatic Differentiation Variational Inference (ADVI) is an EXPERIMENTAL ALGORITHM.\n",
      "WARNING:pystan:ADVI samples may be found on the filesystem in the file `C:\\Users\\my\\AppData\\Local\\Temp\\tmprcdkv5fz\\output.csv`\n",
      "WARNING:pystan:Automatic Differentiation Variational Inference (ADVI) is an EXPERIMENTAL ALGORITHM.\n",
      "WARNING:pystan:ADVI samples may be found on the filesystem in the file `C:\\Users\\my\\AppData\\Local\\Temp\\tmp4vp5y3u3\\output.csv`\n",
      "WARNING:pystan:Automatic Differentiation Variational Inference (ADVI) is an EXPERIMENTAL ALGORITHM.\n",
      "WARNING:pystan:ADVI samples may be found on the filesystem in the file `C:\\Users\\my\\AppData\\Local\\Temp\\tmpq7i_qsy1\\output.csv`\n",
      "WARNING:pystan:Automatic Differentiation Variational Inference (ADVI) is an EXPERIMENTAL ALGORITHM.\n",
      "WARNING:pystan:ADVI samples may be found on the filesystem in the file `C:\\Users\\my\\AppData\\Local\\Temp\\tmp7aa2u5pp\\output.csv`\n",
      "WARNING:pystan:Automatic Differentiation Variational Inference (ADVI) is an EXPERIMENTAL ALGORITHM.\n",
      "WARNING:pystan:ADVI samples may be found on the filesystem in the file `C:\\Users\\my\\AppData\\Local\\Temp\\tmpwx02nzi8\\output.csv`\n",
      "WARNING:pystan:Automatic Differentiation Variational Inference (ADVI) is an EXPERIMENTAL ALGORITHM.\n",
      "WARNING:pystan:ADVI samples may be found on the filesystem in the file `C:\\Users\\my\\AppData\\Local\\Temp\\tmpw4cw0000\\output.csv`\n",
      "WARNING:pystan:Automatic Differentiation Variational Inference (ADVI) is an EXPERIMENTAL ALGORITHM.\n",
      "WARNING:pystan:ADVI samples may be found on the filesystem in the file `C:\\Users\\my\\AppData\\Local\\Temp\\tmp3_jpafol\\output.csv`\n",
      "WARNING:pystan:Automatic Differentiation Variational Inference (ADVI) is an EXPERIMENTAL ALGORITHM.\n",
      "WARNING:pystan:ADVI samples may be found on the filesystem in the file `C:\\Users\\my\\AppData\\Local\\Temp\\tmpwhc2pglw\\output.csv`\n",
      "WARNING:pystan:Automatic Differentiation Variational Inference (ADVI) is an EXPERIMENTAL ALGORITHM.\n",
      "WARNING:pystan:ADVI samples may be found on the filesystem in the file `C:\\Users\\my\\AppData\\Local\\Temp\\tmphxi4rq1q\\output.csv`\n",
      "WARNING:pystan:Automatic Differentiation Variational Inference (ADVI) is an EXPERIMENTAL ALGORITHM.\n",
      "WARNING:pystan:ADVI samples may be found on the filesystem in the file `C:\\Users\\my\\AppData\\Local\\Temp\\tmpovrw17_r\\output.csv`\n",
      "WARNING:pystan:Automatic Differentiation Variational Inference (ADVI) is an EXPERIMENTAL ALGORITHM.\n",
      "WARNING:pystan:ADVI samples may be found on the filesystem in the file `C:\\Users\\my\\AppData\\Local\\Temp\\tmp36xdtbps\\output.csv`\n",
      "WARNING:pystan:Automatic Differentiation Variational Inference (ADVI) is an EXPERIMENTAL ALGORITHM.\n",
      "WARNING:pystan:ADVI samples may be found on the filesystem in the file `C:\\Users\\my\\AppData\\Local\\Temp\\tmppfakrzdk\\output.csv`\n",
      "WARNING:pystan:Automatic Differentiation Variational Inference (ADVI) is an EXPERIMENTAL ALGORITHM.\n",
      "WARNING:pystan:ADVI samples may be found on the filesystem in the file `C:\\Users\\my\\AppData\\Local\\Temp\\tmpwn2zd6z6\\output.csv`\n",
      "WARNING:pystan:Automatic Differentiation Variational Inference (ADVI) is an EXPERIMENTAL ALGORITHM.\n",
      "WARNING:pystan:ADVI samples may be found on the filesystem in the file `C:\\Users\\my\\AppData\\Local\\Temp\\tmpqhtm2kq5\\output.csv`\n",
      "WARNING:pystan:Automatic Differentiation Variational Inference (ADVI) is an EXPERIMENTAL ALGORITHM.\n",
      "WARNING:pystan:ADVI samples may be found on the filesystem in the file `C:\\Users\\my\\AppData\\Local\\Temp\\tmpydk14m5e\\output.csv`\n",
      "WARNING:pystan:Automatic Differentiation Variational Inference (ADVI) is an EXPERIMENTAL ALGORITHM.\n",
      "WARNING:pystan:ADVI samples may be found on the filesystem in the file `C:\\Users\\my\\AppData\\Local\\Temp\\tmpg5pa3nt_\\output.csv`\n",
      "WARNING:pystan:Automatic Differentiation Variational Inference (ADVI) is an EXPERIMENTAL ALGORITHM.\n",
      "WARNING:pystan:ADVI samples may be found on the filesystem in the file `C:\\Users\\my\\AppData\\Local\\Temp\\tmpyzyqm46b\\output.csv`\n",
      "WARNING:pystan:Automatic Differentiation Variational Inference (ADVI) is an EXPERIMENTAL ALGORITHM.\n",
      "WARNING:pystan:ADVI samples may be found on the filesystem in the file `C:\\Users\\my\\AppData\\Local\\Temp\\tmpy1pdvjoq\\output.csv`\n",
      "WARNING:pystan:Automatic Differentiation Variational Inference (ADVI) is an EXPERIMENTAL ALGORITHM.\n",
      "WARNING:pystan:ADVI samples may be found on the filesystem in the file `C:\\Users\\my\\AppData\\Local\\Temp\\tmpq9ygy1jr\\output.csv`\n",
      "WARNING:pystan:Automatic Differentiation Variational Inference (ADVI) is an EXPERIMENTAL ALGORITHM.\n",
      "WARNING:pystan:ADVI samples may be found on the filesystem in the file `C:\\Users\\my\\AppData\\Local\\Temp\\tmp8kl72bq9\\output.csv`\n",
      "WARNING:pystan:Automatic Differentiation Variational Inference (ADVI) is an EXPERIMENTAL ALGORITHM.\n",
      "WARNING:pystan:ADVI samples may be found on the filesystem in the file `C:\\Users\\my\\AppData\\Local\\Temp\\tmpbr3iguw6\\output.csv`\n",
      "WARNING:pystan:Automatic Differentiation Variational Inference (ADVI) is an EXPERIMENTAL ALGORITHM.\n",
      "WARNING:pystan:ADVI samples may be found on the filesystem in the file `C:\\Users\\my\\AppData\\Local\\Temp\\tmpjdpyi2lm\\output.csv`\n",
      "WARNING:pystan:Automatic Differentiation Variational Inference (ADVI) is an EXPERIMENTAL ALGORITHM.\n"
     ]
    },
    {
     "name": "stderr",
     "output_type": "stream",
     "text": [
      "WARNING:pystan:ADVI samples may be found on the filesystem in the file `C:\\Users\\my\\AppData\\Local\\Temp\\tmppiiwy0oq\\output.csv`\n",
      "WARNING:pystan:Automatic Differentiation Variational Inference (ADVI) is an EXPERIMENTAL ALGORITHM.\n",
      "WARNING:pystan:ADVI samples may be found on the filesystem in the file `C:\\Users\\my\\AppData\\Local\\Temp\\tmpxtspnqlt\\output.csv`\n",
      "WARNING:pystan:Automatic Differentiation Variational Inference (ADVI) is an EXPERIMENTAL ALGORITHM.\n",
      "WARNING:pystan:ADVI samples may be found on the filesystem in the file `C:\\Users\\my\\AppData\\Local\\Temp\\tmpcywt1gp6\\output.csv`\n",
      "WARNING:pystan:Automatic Differentiation Variational Inference (ADVI) is an EXPERIMENTAL ALGORITHM.\n",
      "WARNING:pystan:ADVI samples may be found on the filesystem in the file `C:\\Users\\my\\AppData\\Local\\Temp\\tmpd5jmwnxt\\output.csv`\n",
      "WARNING:pystan:Automatic Differentiation Variational Inference (ADVI) is an EXPERIMENTAL ALGORITHM.\n",
      "WARNING:pystan:ADVI samples may be found on the filesystem in the file `C:\\Users\\my\\AppData\\Local\\Temp\\tmpcrl51m7l\\output.csv`\n",
      "WARNING:pystan:Automatic Differentiation Variational Inference (ADVI) is an EXPERIMENTAL ALGORITHM.\n",
      "WARNING:pystan:ADVI samples may be found on the filesystem in the file `C:\\Users\\my\\AppData\\Local\\Temp\\tmpn788pb0z\\output.csv`\n",
      "WARNING:pystan:Automatic Differentiation Variational Inference (ADVI) is an EXPERIMENTAL ALGORITHM.\n",
      "WARNING:pystan:ADVI samples may be found on the filesystem in the file `C:\\Users\\my\\AppData\\Local\\Temp\\tmp27x2nevl\\output.csv`\n",
      "WARNING:pystan:Automatic Differentiation Variational Inference (ADVI) is an EXPERIMENTAL ALGORITHM.\n",
      "WARNING:pystan:ADVI samples may be found on the filesystem in the file `C:\\Users\\my\\AppData\\Local\\Temp\\tmpj37j1o5b\\output.csv`\n",
      "WARNING:pystan:Automatic Differentiation Variational Inference (ADVI) is an EXPERIMENTAL ALGORITHM.\n",
      "WARNING:pystan:ADVI samples may be found on the filesystem in the file `C:\\Users\\my\\AppData\\Local\\Temp\\tmptblche4g\\output.csv`\n",
      "WARNING:pystan:Automatic Differentiation Variational Inference (ADVI) is an EXPERIMENTAL ALGORITHM.\n",
      "WARNING:pystan:ADVI samples may be found on the filesystem in the file `C:\\Users\\my\\AppData\\Local\\Temp\\tmp21ih0t7v\\output.csv`\n",
      "WARNING:pystan:Automatic Differentiation Variational Inference (ADVI) is an EXPERIMENTAL ALGORITHM.\n",
      "WARNING:pystan:ADVI samples may be found on the filesystem in the file `C:\\Users\\my\\AppData\\Local\\Temp\\tmpt_omh1kg\\output.csv`\n",
      "WARNING:pystan:Automatic Differentiation Variational Inference (ADVI) is an EXPERIMENTAL ALGORITHM.\n",
      "WARNING:pystan:ADVI samples may be found on the filesystem in the file `C:\\Users\\my\\AppData\\Local\\Temp\\tmpjxlghn8q\\output.csv`\n",
      "WARNING:pystan:Automatic Differentiation Variational Inference (ADVI) is an EXPERIMENTAL ALGORITHM.\n",
      "WARNING:pystan:ADVI samples may be found on the filesystem in the file `C:\\Users\\my\\AppData\\Local\\Temp\\tmpwntwaftq\\output.csv`\n",
      "WARNING:pystan:Automatic Differentiation Variational Inference (ADVI) is an EXPERIMENTAL ALGORITHM.\n",
      "WARNING:pystan:ADVI samples may be found on the filesystem in the file `C:\\Users\\my\\AppData\\Local\\Temp\\tmp0qx817e5\\output.csv`\n",
      "WARNING:pystan:Automatic Differentiation Variational Inference (ADVI) is an EXPERIMENTAL ALGORITHM.\n",
      "WARNING:pystan:ADVI samples may be found on the filesystem in the file `C:\\Users\\my\\AppData\\Local\\Temp\\tmp3d_hwbc7\\output.csv`\n",
      "WARNING:pystan:Automatic Differentiation Variational Inference (ADVI) is an EXPERIMENTAL ALGORITHM.\n",
      "WARNING:pystan:ADVI samples may be found on the filesystem in the file `C:\\Users\\my\\AppData\\Local\\Temp\\tmpexn64our\\output.csv`\n",
      "WARNING:pystan:Automatic Differentiation Variational Inference (ADVI) is an EXPERIMENTAL ALGORITHM.\n",
      "WARNING:pystan:ADVI samples may be found on the filesystem in the file `C:\\Users\\my\\AppData\\Local\\Temp\\tmpbs6rr7qb\\output.csv`\n",
      "WARNING:pystan:Automatic Differentiation Variational Inference (ADVI) is an EXPERIMENTAL ALGORITHM.\n",
      "WARNING:pystan:ADVI samples may be found on the filesystem in the file `C:\\Users\\my\\AppData\\Local\\Temp\\tmpx5f2wzu8\\output.csv`\n",
      "WARNING:pystan:Automatic Differentiation Variational Inference (ADVI) is an EXPERIMENTAL ALGORITHM.\n",
      "WARNING:pystan:ADVI samples may be found on the filesystem in the file `C:\\Users\\my\\AppData\\Local\\Temp\\tmpighygzko\\output.csv`\n",
      "WARNING:pystan:Automatic Differentiation Variational Inference (ADVI) is an EXPERIMENTAL ALGORITHM.\n",
      "WARNING:pystan:ADVI samples may be found on the filesystem in the file `C:\\Users\\my\\AppData\\Local\\Temp\\tmpe2fjs341\\output.csv`\n",
      "WARNING:pystan:Automatic Differentiation Variational Inference (ADVI) is an EXPERIMENTAL ALGORITHM.\n",
      "WARNING:pystan:ADVI samples may be found on the filesystem in the file `C:\\Users\\my\\AppData\\Local\\Temp\\tmpiopggqqb\\output.csv`\n",
      "WARNING:pystan:Automatic Differentiation Variational Inference (ADVI) is an EXPERIMENTAL ALGORITHM.\n",
      "WARNING:pystan:ADVI samples may be found on the filesystem in the file `C:\\Users\\my\\AppData\\Local\\Temp\\tmphot_x0n4\\output.csv`\n",
      "WARNING:pystan:Automatic Differentiation Variational Inference (ADVI) is an EXPERIMENTAL ALGORITHM.\n",
      "WARNING:pystan:ADVI samples may be found on the filesystem in the file `C:\\Users\\my\\AppData\\Local\\Temp\\tmp5ykk2_zq\\output.csv`\n",
      "WARNING:pystan:Automatic Differentiation Variational Inference (ADVI) is an EXPERIMENTAL ALGORITHM.\n",
      "WARNING:pystan:ADVI samples may be found on the filesystem in the file `C:\\Users\\my\\AppData\\Local\\Temp\\tmpmc736ew9\\output.csv`\n",
      "WARNING:pystan:Automatic Differentiation Variational Inference (ADVI) is an EXPERIMENTAL ALGORITHM.\n",
      "WARNING:pystan:ADVI samples may be found on the filesystem in the file `C:\\Users\\my\\AppData\\Local\\Temp\\tmp2szpxhp1\\output.csv`\n",
      "WARNING:pystan:Automatic Differentiation Variational Inference (ADVI) is an EXPERIMENTAL ALGORITHM.\n",
      "WARNING:pystan:ADVI samples may be found on the filesystem in the file `C:\\Users\\my\\AppData\\Local\\Temp\\tmp39remx33\\output.csv`\n",
      "WARNING:pystan:Automatic Differentiation Variational Inference (ADVI) is an EXPERIMENTAL ALGORITHM.\n",
      "WARNING:pystan:ADVI samples may be found on the filesystem in the file `C:\\Users\\my\\AppData\\Local\\Temp\\tmpm80jipnd\\output.csv`\n",
      "WARNING:pystan:Automatic Differentiation Variational Inference (ADVI) is an EXPERIMENTAL ALGORITHM.\n",
      "WARNING:pystan:ADVI samples may be found on the filesystem in the file `C:\\Users\\my\\AppData\\Local\\Temp\\tmpip987p46\\output.csv`\n",
      "WARNING:pystan:Automatic Differentiation Variational Inference (ADVI) is an EXPERIMENTAL ALGORITHM.\n",
      "WARNING:pystan:ADVI samples may be found on the filesystem in the file `C:\\Users\\my\\AppData\\Local\\Temp\\tmpcz0aku5c\\output.csv`\n",
      "WARNING:pystan:Automatic Differentiation Variational Inference (ADVI) is an EXPERIMENTAL ALGORITHM.\n",
      "WARNING:pystan:ADVI samples may be found on the filesystem in the file `C:\\Users\\my\\AppData\\Local\\Temp\\tmpw5ulibuu\\output.csv`\n",
      "WARNING:pystan:Automatic Differentiation Variational Inference (ADVI) is an EXPERIMENTAL ALGORITHM.\n",
      "WARNING:pystan:ADVI samples may be found on the filesystem in the file `C:\\Users\\my\\AppData\\Local\\Temp\\tmpo5m8wh1n\\output.csv`\n",
      "WARNING:pystan:Automatic Differentiation Variational Inference (ADVI) is an EXPERIMENTAL ALGORITHM.\n",
      "WARNING:pystan:ADVI samples may be found on the filesystem in the file `C:\\Users\\my\\AppData\\Local\\Temp\\tmpxfv28i13\\output.csv`\n",
      "WARNING:pystan:Automatic Differentiation Variational Inference (ADVI) is an EXPERIMENTAL ALGORITHM.\n",
      "WARNING:pystan:ADVI samples may be found on the filesystem in the file `C:\\Users\\my\\AppData\\Local\\Temp\\tmpl1x6ydxr\\output.csv`\n",
      "WARNING:pystan:Automatic Differentiation Variational Inference (ADVI) is an EXPERIMENTAL ALGORITHM.\n",
      "WARNING:pystan:ADVI samples may be found on the filesystem in the file `C:\\Users\\my\\AppData\\Local\\Temp\\tmpxelli9e5\\output.csv`\n",
      "WARNING:pystan:Automatic Differentiation Variational Inference (ADVI) is an EXPERIMENTAL ALGORITHM.\n",
      "WARNING:pystan:ADVI samples may be found on the filesystem in the file `C:\\Users\\my\\AppData\\Local\\Temp\\tmpxoayhgqu\\output.csv`\n",
      "WARNING:pystan:Automatic Differentiation Variational Inference (ADVI) is an EXPERIMENTAL ALGORITHM.\n",
      "WARNING:pystan:ADVI samples may be found on the filesystem in the file `C:\\Users\\my\\AppData\\Local\\Temp\\tmp9juvta33\\output.csv`\n",
      "WARNING:pystan:Automatic Differentiation Variational Inference (ADVI) is an EXPERIMENTAL ALGORITHM.\n",
      "WARNING:pystan:ADVI samples may be found on the filesystem in the file `C:\\Users\\my\\AppData\\Local\\Temp\\tmpv2hsh_we\\output.csv`\n"
     ]
    },
    {
     "name": "stderr",
     "output_type": "stream",
     "text": [
      "WARNING:pystan:Automatic Differentiation Variational Inference (ADVI) is an EXPERIMENTAL ALGORITHM.\n",
      "WARNING:pystan:ADVI samples may be found on the filesystem in the file `C:\\Users\\my\\AppData\\Local\\Temp\\tmp0zer_7om\\output.csv`\n",
      "WARNING:pystan:Automatic Differentiation Variational Inference (ADVI) is an EXPERIMENTAL ALGORITHM.\n",
      "WARNING:pystan:ADVI samples may be found on the filesystem in the file `C:\\Users\\my\\AppData\\Local\\Temp\\tmp6d4lke0l\\output.csv`\n",
      "WARNING:pystan:Automatic Differentiation Variational Inference (ADVI) is an EXPERIMENTAL ALGORITHM.\n",
      "WARNING:pystan:ADVI samples may be found on the filesystem in the file `C:\\Users\\my\\AppData\\Local\\Temp\\tmpil2dmphr\\output.csv`\n",
      "WARNING:pystan:Automatic Differentiation Variational Inference (ADVI) is an EXPERIMENTAL ALGORITHM.\n",
      "WARNING:pystan:ADVI samples may be found on the filesystem in the file `C:\\Users\\my\\AppData\\Local\\Temp\\tmpt4r3lpw_\\output.csv`\n",
      "WARNING:pystan:Automatic Differentiation Variational Inference (ADVI) is an EXPERIMENTAL ALGORITHM.\n",
      "WARNING:pystan:ADVI samples may be found on the filesystem in the file `C:\\Users\\my\\AppData\\Local\\Temp\\tmp67vizpk6\\output.csv`\n",
      "WARNING:pystan:Automatic Differentiation Variational Inference (ADVI) is an EXPERIMENTAL ALGORITHM.\n",
      "WARNING:pystan:ADVI samples may be found on the filesystem in the file `C:\\Users\\my\\AppData\\Local\\Temp\\tmpawi392yh\\output.csv`\n",
      "WARNING:pystan:Automatic Differentiation Variational Inference (ADVI) is an EXPERIMENTAL ALGORITHM.\n",
      "WARNING:pystan:ADVI samples may be found on the filesystem in the file `C:\\Users\\my\\AppData\\Local\\Temp\\tmppnmewzrd\\output.csv`\n",
      "WARNING:pystan:Automatic Differentiation Variational Inference (ADVI) is an EXPERIMENTAL ALGORITHM.\n",
      "WARNING:pystan:ADVI samples may be found on the filesystem in the file `C:\\Users\\my\\AppData\\Local\\Temp\\tmp30y42cbq\\output.csv`\n",
      "WARNING:pystan:Automatic Differentiation Variational Inference (ADVI) is an EXPERIMENTAL ALGORITHM.\n",
      "WARNING:pystan:ADVI samples may be found on the filesystem in the file `C:\\Users\\my\\AppData\\Local\\Temp\\tmp1ft4bser\\output.csv`\n",
      "WARNING:pystan:Automatic Differentiation Variational Inference (ADVI) is an EXPERIMENTAL ALGORITHM.\n",
      "WARNING:pystan:ADVI samples may be found on the filesystem in the file `C:\\Users\\my\\AppData\\Local\\Temp\\tmpi1o66x9m\\output.csv`\n",
      "WARNING:pystan:Automatic Differentiation Variational Inference (ADVI) is an EXPERIMENTAL ALGORITHM.\n",
      "WARNING:pystan:ADVI samples may be found on the filesystem in the file `C:\\Users\\my\\AppData\\Local\\Temp\\tmp4_pec2lg\\output.csv`\n",
      "WARNING:pystan:Automatic Differentiation Variational Inference (ADVI) is an EXPERIMENTAL ALGORITHM.\n",
      "WARNING:pystan:ADVI samples may be found on the filesystem in the file `C:\\Users\\my\\AppData\\Local\\Temp\\tmpccl8_98r\\output.csv`\n",
      "WARNING:pystan:Automatic Differentiation Variational Inference (ADVI) is an EXPERIMENTAL ALGORITHM.\n",
      "WARNING:pystan:ADVI samples may be found on the filesystem in the file `C:\\Users\\my\\AppData\\Local\\Temp\\tmpgcs1gnlf\\output.csv`\n",
      "WARNING:pystan:Automatic Differentiation Variational Inference (ADVI) is an EXPERIMENTAL ALGORITHM.\n",
      "WARNING:pystan:ADVI samples may be found on the filesystem in the file `C:\\Users\\my\\AppData\\Local\\Temp\\tmpy5d8gimm\\output.csv`\n",
      "WARNING:pystan:Automatic Differentiation Variational Inference (ADVI) is an EXPERIMENTAL ALGORITHM.\n",
      "WARNING:pystan:ADVI samples may be found on the filesystem in the file `C:\\Users\\my\\AppData\\Local\\Temp\\tmp3zwotqjd\\output.csv`\n",
      "WARNING:pystan:Automatic Differentiation Variational Inference (ADVI) is an EXPERIMENTAL ALGORITHM.\n",
      "WARNING:pystan:ADVI samples may be found on the filesystem in the file `C:\\Users\\my\\AppData\\Local\\Temp\\tmptqddv479\\output.csv`\n",
      "WARNING:pystan:Automatic Differentiation Variational Inference (ADVI) is an EXPERIMENTAL ALGORITHM.\n",
      "WARNING:pystan:ADVI samples may be found on the filesystem in the file `C:\\Users\\my\\AppData\\Local\\Temp\\tmpni3bmznc\\output.csv`\n",
      "WARNING:pystan:Automatic Differentiation Variational Inference (ADVI) is an EXPERIMENTAL ALGORITHM.\n",
      "WARNING:pystan:ADVI samples may be found on the filesystem in the file `C:\\Users\\my\\AppData\\Local\\Temp\\tmpsbilnhcv\\output.csv`\n",
      "WARNING:pystan:Automatic Differentiation Variational Inference (ADVI) is an EXPERIMENTAL ALGORITHM.\n",
      "WARNING:pystan:ADVI samples may be found on the filesystem in the file `C:\\Users\\my\\AppData\\Local\\Temp\\tmp792cg0_i\\output.csv`\n",
      "WARNING:pystan:Automatic Differentiation Variational Inference (ADVI) is an EXPERIMENTAL ALGORITHM.\n",
      "WARNING:pystan:ADVI samples may be found on the filesystem in the file `C:\\Users\\my\\AppData\\Local\\Temp\\tmpgumlf3xu\\output.csv`\n",
      "WARNING:pystan:Automatic Differentiation Variational Inference (ADVI) is an EXPERIMENTAL ALGORITHM.\n",
      "WARNING:pystan:ADVI samples may be found on the filesystem in the file `C:\\Users\\my\\AppData\\Local\\Temp\\tmpgi8_wtot\\output.csv`\n",
      "WARNING:pystan:Automatic Differentiation Variational Inference (ADVI) is an EXPERIMENTAL ALGORITHM.\n",
      "WARNING:pystan:ADVI samples may be found on the filesystem in the file `C:\\Users\\my\\AppData\\Local\\Temp\\tmpmfvercgu\\output.csv`\n",
      "WARNING:pystan:Automatic Differentiation Variational Inference (ADVI) is an EXPERIMENTAL ALGORITHM.\n",
      "WARNING:pystan:ADVI samples may be found on the filesystem in the file `C:\\Users\\my\\AppData\\Local\\Temp\\tmp37k_f22d\\output.csv`\n",
      "WARNING:pystan:Automatic Differentiation Variational Inference (ADVI) is an EXPERIMENTAL ALGORITHM.\n",
      "WARNING:pystan:ADVI samples may be found on the filesystem in the file `C:\\Users\\my\\AppData\\Local\\Temp\\tmp9bquwv1t\\output.csv`\n",
      "WARNING:pystan:Automatic Differentiation Variational Inference (ADVI) is an EXPERIMENTAL ALGORITHM.\n",
      "WARNING:pystan:ADVI samples may be found on the filesystem in the file `C:\\Users\\my\\AppData\\Local\\Temp\\tmpzbgzfblz\\output.csv`\n",
      "WARNING:pystan:Automatic Differentiation Variational Inference (ADVI) is an EXPERIMENTAL ALGORITHM.\n",
      "WARNING:pystan:ADVI samples may be found on the filesystem in the file `C:\\Users\\my\\AppData\\Local\\Temp\\tmp_zwopo2f\\output.csv`\n",
      "WARNING:pystan:Automatic Differentiation Variational Inference (ADVI) is an EXPERIMENTAL ALGORITHM.\n",
      "WARNING:pystan:ADVI samples may be found on the filesystem in the file `C:\\Users\\my\\AppData\\Local\\Temp\\tmpsqyms_1u\\output.csv`\n",
      "WARNING:pystan:Automatic Differentiation Variational Inference (ADVI) is an EXPERIMENTAL ALGORITHM.\n",
      "WARNING:pystan:ADVI samples may be found on the filesystem in the file `C:\\Users\\my\\AppData\\Local\\Temp\\tmp59_gotfn\\output.csv`\n",
      "WARNING:pystan:Automatic Differentiation Variational Inference (ADVI) is an EXPERIMENTAL ALGORITHM.\n",
      "WARNING:pystan:ADVI samples may be found on the filesystem in the file `C:\\Users\\my\\AppData\\Local\\Temp\\tmpw8rmyb70\\output.csv`\n",
      "WARNING:pystan:Automatic Differentiation Variational Inference (ADVI) is an EXPERIMENTAL ALGORITHM.\n",
      "WARNING:pystan:ADVI samples may be found on the filesystem in the file `C:\\Users\\my\\AppData\\Local\\Temp\\tmp_o18aymw\\output.csv`\n",
      "WARNING:pystan:Automatic Differentiation Variational Inference (ADVI) is an EXPERIMENTAL ALGORITHM.\n",
      "WARNING:pystan:ADVI samples may be found on the filesystem in the file `C:\\Users\\my\\AppData\\Local\\Temp\\tmp34pcun2n\\output.csv`\n",
      "WARNING:pystan:Automatic Differentiation Variational Inference (ADVI) is an EXPERIMENTAL ALGORITHM.\n",
      "WARNING:pystan:ADVI samples may be found on the filesystem in the file `C:\\Users\\my\\AppData\\Local\\Temp\\tmpb2niaqny\\output.csv`\n",
      "WARNING:pystan:Automatic Differentiation Variational Inference (ADVI) is an EXPERIMENTAL ALGORITHM.\n",
      "WARNING:pystan:ADVI samples may be found on the filesystem in the file `C:\\Users\\my\\AppData\\Local\\Temp\\tmpsas89p6t\\output.csv`\n",
      "WARNING:pystan:Automatic Differentiation Variational Inference (ADVI) is an EXPERIMENTAL ALGORITHM.\n",
      "WARNING:pystan:ADVI samples may be found on the filesystem in the file `C:\\Users\\my\\AppData\\Local\\Temp\\tmp0s61_h1j\\output.csv`\n",
      "WARNING:pystan:Automatic Differentiation Variational Inference (ADVI) is an EXPERIMENTAL ALGORITHM.\n",
      "WARNING:pystan:ADVI samples may be found on the filesystem in the file `C:\\Users\\my\\AppData\\Local\\Temp\\tmpwhxe2h1w\\output.csv`\n",
      "WARNING:pystan:Automatic Differentiation Variational Inference (ADVI) is an EXPERIMENTAL ALGORITHM.\n",
      "WARNING:pystan:ADVI samples may be found on the filesystem in the file `C:\\Users\\my\\AppData\\Local\\Temp\\tmptyn_dn19\\output.csv`\n",
      "WARNING:pystan:Automatic Differentiation Variational Inference (ADVI) is an EXPERIMENTAL ALGORITHM.\n"
     ]
    },
    {
     "name": "stderr",
     "output_type": "stream",
     "text": [
      "WARNING:pystan:ADVI samples may be found on the filesystem in the file `C:\\Users\\my\\AppData\\Local\\Temp\\tmpozp6ugr5\\output.csv`\n",
      "WARNING:pystan:Automatic Differentiation Variational Inference (ADVI) is an EXPERIMENTAL ALGORITHM.\n",
      "WARNING:pystan:ADVI samples may be found on the filesystem in the file `C:\\Users\\my\\AppData\\Local\\Temp\\tmpmn5nwd6m\\output.csv`\n",
      "WARNING:pystan:Automatic Differentiation Variational Inference (ADVI) is an EXPERIMENTAL ALGORITHM.\n",
      "WARNING:pystan:ADVI samples may be found on the filesystem in the file `C:\\Users\\my\\AppData\\Local\\Temp\\tmp2qurw791\\output.csv`\n",
      "WARNING:pystan:Automatic Differentiation Variational Inference (ADVI) is an EXPERIMENTAL ALGORITHM.\n",
      "WARNING:pystan:ADVI samples may be found on the filesystem in the file `C:\\Users\\my\\AppData\\Local\\Temp\\tmpmii9jby0\\output.csv`\n",
      "WARNING:pystan:Automatic Differentiation Variational Inference (ADVI) is an EXPERIMENTAL ALGORITHM.\n",
      "WARNING:pystan:ADVI samples may be found on the filesystem in the file `C:\\Users\\my\\AppData\\Local\\Temp\\tmpu7o5t0ta\\output.csv`\n",
      "WARNING:pystan:Automatic Differentiation Variational Inference (ADVI) is an EXPERIMENTAL ALGORITHM.\n",
      "WARNING:pystan:ADVI samples may be found on the filesystem in the file `C:\\Users\\my\\AppData\\Local\\Temp\\tmpd4oxaju3\\output.csv`\n",
      "WARNING:pystan:Automatic Differentiation Variational Inference (ADVI) is an EXPERIMENTAL ALGORITHM.\n",
      "WARNING:pystan:ADVI samples may be found on the filesystem in the file `C:\\Users\\my\\AppData\\Local\\Temp\\tmpkh7ra7ki\\output.csv`\n",
      "WARNING:pystan:Automatic Differentiation Variational Inference (ADVI) is an EXPERIMENTAL ALGORITHM.\n",
      "WARNING:pystan:ADVI samples may be found on the filesystem in the file `C:\\Users\\my\\AppData\\Local\\Temp\\tmpakrb8rxo\\output.csv`\n",
      "WARNING:pystan:Automatic Differentiation Variational Inference (ADVI) is an EXPERIMENTAL ALGORITHM.\n",
      "WARNING:pystan:ADVI samples may be found on the filesystem in the file `C:\\Users\\my\\AppData\\Local\\Temp\\tmpbitejf1m\\output.csv`\n",
      "WARNING:pystan:Automatic Differentiation Variational Inference (ADVI) is an EXPERIMENTAL ALGORITHM.\n",
      "WARNING:pystan:ADVI samples may be found on the filesystem in the file `C:\\Users\\my\\AppData\\Local\\Temp\\tmpsmvcbd8t\\output.csv`\n",
      "WARNING:pystan:Automatic Differentiation Variational Inference (ADVI) is an EXPERIMENTAL ALGORITHM.\n",
      "WARNING:pystan:ADVI samples may be found on the filesystem in the file `C:\\Users\\my\\AppData\\Local\\Temp\\tmp5p2us31q\\output.csv`\n",
      "WARNING:pystan:Automatic Differentiation Variational Inference (ADVI) is an EXPERIMENTAL ALGORITHM.\n",
      "WARNING:pystan:ADVI samples may be found on the filesystem in the file `C:\\Users\\my\\AppData\\Local\\Temp\\tmpeo81i62t\\output.csv`\n",
      "WARNING:pystan:Automatic Differentiation Variational Inference (ADVI) is an EXPERIMENTAL ALGORITHM.\n",
      "WARNING:pystan:ADVI samples may be found on the filesystem in the file `C:\\Users\\my\\AppData\\Local\\Temp\\tmpizmoo91i\\output.csv`\n",
      "WARNING:pystan:Automatic Differentiation Variational Inference (ADVI) is an EXPERIMENTAL ALGORITHM.\n",
      "WARNING:pystan:ADVI samples may be found on the filesystem in the file `C:\\Users\\my\\AppData\\Local\\Temp\\tmps_rvhujn\\output.csv`\n",
      "WARNING:pystan:Automatic Differentiation Variational Inference (ADVI) is an EXPERIMENTAL ALGORITHM.\n",
      "WARNING:pystan:ADVI samples may be found on the filesystem in the file `C:\\Users\\my\\AppData\\Local\\Temp\\tmpnsueaon_\\output.csv`\n",
      "WARNING:pystan:Automatic Differentiation Variational Inference (ADVI) is an EXPERIMENTAL ALGORITHM.\n",
      "WARNING:pystan:ADVI samples may be found on the filesystem in the file `C:\\Users\\my\\AppData\\Local\\Temp\\tmp9kmoonej\\output.csv`\n",
      "WARNING:pystan:Automatic Differentiation Variational Inference (ADVI) is an EXPERIMENTAL ALGORITHM.\n",
      "WARNING:pystan:ADVI samples may be found on the filesystem in the file `C:\\Users\\my\\AppData\\Local\\Temp\\tmp8tzt6rc8\\output.csv`\n",
      "WARNING:pystan:Automatic Differentiation Variational Inference (ADVI) is an EXPERIMENTAL ALGORITHM.\n",
      "WARNING:pystan:ADVI samples may be found on the filesystem in the file `C:\\Users\\my\\AppData\\Local\\Temp\\tmplz5kfboj\\output.csv`\n",
      "WARNING:pystan:Automatic Differentiation Variational Inference (ADVI) is an EXPERIMENTAL ALGORITHM.\n",
      "WARNING:pystan:ADVI samples may be found on the filesystem in the file `C:\\Users\\my\\AppData\\Local\\Temp\\tmpgyrdcnhw\\output.csv`\n",
      "WARNING:pystan:Automatic Differentiation Variational Inference (ADVI) is an EXPERIMENTAL ALGORITHM.\n",
      "WARNING:pystan:ADVI samples may be found on the filesystem in the file `C:\\Users\\my\\AppData\\Local\\Temp\\tmpczp3pszn\\output.csv`\n",
      "WARNING:pystan:Automatic Differentiation Variational Inference (ADVI) is an EXPERIMENTAL ALGORITHM.\n",
      "WARNING:pystan:ADVI samples may be found on the filesystem in the file `C:\\Users\\my\\AppData\\Local\\Temp\\tmpaeuwfj30\\output.csv`\n",
      "WARNING:pystan:Automatic Differentiation Variational Inference (ADVI) is an EXPERIMENTAL ALGORITHM.\n",
      "WARNING:pystan:ADVI samples may be found on the filesystem in the file `C:\\Users\\my\\AppData\\Local\\Temp\\tmpq6m8rmrt\\output.csv`\n",
      "WARNING:pystan:Automatic Differentiation Variational Inference (ADVI) is an EXPERIMENTAL ALGORITHM.\n",
      "WARNING:pystan:ADVI samples may be found on the filesystem in the file `C:\\Users\\my\\AppData\\Local\\Temp\\tmp12bl7u1y\\output.csv`\n",
      "WARNING:pystan:Automatic Differentiation Variational Inference (ADVI) is an EXPERIMENTAL ALGORITHM.\n",
      "WARNING:pystan:ADVI samples may be found on the filesystem in the file `C:\\Users\\my\\AppData\\Local\\Temp\\tmpa6r1hl05\\output.csv`\n",
      "WARNING:pystan:Automatic Differentiation Variational Inference (ADVI) is an EXPERIMENTAL ALGORITHM.\n",
      "WARNING:pystan:ADVI samples may be found on the filesystem in the file `C:\\Users\\my\\AppData\\Local\\Temp\\tmpxf3lye1g\\output.csv`\n",
      "WARNING:pystan:Automatic Differentiation Variational Inference (ADVI) is an EXPERIMENTAL ALGORITHM.\n",
      "WARNING:pystan:ADVI samples may be found on the filesystem in the file `C:\\Users\\my\\AppData\\Local\\Temp\\tmpw9yqxv8p\\output.csv`\n",
      "WARNING:pystan:Automatic Differentiation Variational Inference (ADVI) is an EXPERIMENTAL ALGORITHM.\n",
      "WARNING:pystan:ADVI samples may be found on the filesystem in the file `C:\\Users\\my\\AppData\\Local\\Temp\\tmpyuytc4we\\output.csv`\n",
      "WARNING:pystan:Automatic Differentiation Variational Inference (ADVI) is an EXPERIMENTAL ALGORITHM.\n",
      "WARNING:pystan:ADVI samples may be found on the filesystem in the file `C:\\Users\\my\\AppData\\Local\\Temp\\tmpkpsyppq8\\output.csv`\n",
      "WARNING:pystan:Automatic Differentiation Variational Inference (ADVI) is an EXPERIMENTAL ALGORITHM.\n",
      "WARNING:pystan:ADVI samples may be found on the filesystem in the file `C:\\Users\\my\\AppData\\Local\\Temp\\tmpmx8j94nl\\output.csv`\n",
      "WARNING:pystan:Automatic Differentiation Variational Inference (ADVI) is an EXPERIMENTAL ALGORITHM.\n",
      "WARNING:pystan:ADVI samples may be found on the filesystem in the file `C:\\Users\\my\\AppData\\Local\\Temp\\tmpu3_aqhjy\\output.csv`\n",
      "WARNING:pystan:Automatic Differentiation Variational Inference (ADVI) is an EXPERIMENTAL ALGORITHM.\n",
      "WARNING:pystan:ADVI samples may be found on the filesystem in the file `C:\\Users\\my\\AppData\\Local\\Temp\\tmp900rlfh7\\output.csv`\n",
      "WARNING:pystan:Automatic Differentiation Variational Inference (ADVI) is an EXPERIMENTAL ALGORITHM.\n",
      "WARNING:pystan:ADVI samples may be found on the filesystem in the file `C:\\Users\\my\\AppData\\Local\\Temp\\tmp79umm1tj\\output.csv`\n",
      "WARNING:pystan:Automatic Differentiation Variational Inference (ADVI) is an EXPERIMENTAL ALGORITHM.\n",
      "WARNING:pystan:ADVI samples may be found on the filesystem in the file `C:\\Users\\my\\AppData\\Local\\Temp\\tmph8f1fntb\\output.csv`\n",
      "WARNING:pystan:Automatic Differentiation Variational Inference (ADVI) is an EXPERIMENTAL ALGORITHM.\n",
      "WARNING:pystan:ADVI samples may be found on the filesystem in the file `C:\\Users\\my\\AppData\\Local\\Temp\\tmpuzgqh516\\output.csv`\n",
      "WARNING:pystan:Automatic Differentiation Variational Inference (ADVI) is an EXPERIMENTAL ALGORITHM.\n",
      "WARNING:pystan:ADVI samples may be found on the filesystem in the file `C:\\Users\\my\\AppData\\Local\\Temp\\tmp7_ik9caa\\output.csv`\n",
      "WARNING:pystan:Automatic Differentiation Variational Inference (ADVI) is an EXPERIMENTAL ALGORITHM.\n",
      "WARNING:pystan:ADVI samples may be found on the filesystem in the file `C:\\Users\\my\\AppData\\Local\\Temp\\tmp9gabi7hp\\output.csv`\n",
      "WARNING:pystan:Automatic Differentiation Variational Inference (ADVI) is an EXPERIMENTAL ALGORITHM.\n",
      "WARNING:pystan:ADVI samples may be found on the filesystem in the file `C:\\Users\\my\\AppData\\Local\\Temp\\tmprh8eogkp\\output.csv`\n"
     ]
    },
    {
     "name": "stderr",
     "output_type": "stream",
     "text": [
      "WARNING:pystan:Automatic Differentiation Variational Inference (ADVI) is an EXPERIMENTAL ALGORITHM.\n",
      "WARNING:pystan:ADVI samples may be found on the filesystem in the file `C:\\Users\\my\\AppData\\Local\\Temp\\tmphq0aj2ao\\output.csv`\n",
      "WARNING:pystan:Automatic Differentiation Variational Inference (ADVI) is an EXPERIMENTAL ALGORITHM.\n",
      "WARNING:pystan:ADVI samples may be found on the filesystem in the file `C:\\Users\\my\\AppData\\Local\\Temp\\tmps1g56mkf\\output.csv`\n",
      "WARNING:pystan:Automatic Differentiation Variational Inference (ADVI) is an EXPERIMENTAL ALGORITHM.\n",
      "WARNING:pystan:ADVI samples may be found on the filesystem in the file `C:\\Users\\my\\AppData\\Local\\Temp\\tmpp7mxj8g5\\output.csv`\n",
      "WARNING:pystan:Automatic Differentiation Variational Inference (ADVI) is an EXPERIMENTAL ALGORITHM.\n",
      "WARNING:pystan:ADVI samples may be found on the filesystem in the file `C:\\Users\\my\\AppData\\Local\\Temp\\tmptjy02_so\\output.csv`\n",
      "WARNING:pystan:Automatic Differentiation Variational Inference (ADVI) is an EXPERIMENTAL ALGORITHM.\n",
      "WARNING:pystan:ADVI samples may be found on the filesystem in the file `C:\\Users\\my\\AppData\\Local\\Temp\\tmpra842wfl\\output.csv`\n",
      "WARNING:pystan:Automatic Differentiation Variational Inference (ADVI) is an EXPERIMENTAL ALGORITHM.\n",
      "WARNING:pystan:ADVI samples may be found on the filesystem in the file `C:\\Users\\my\\AppData\\Local\\Temp\\tmp6jgf60o0\\output.csv`\n",
      "WARNING:pystan:Automatic Differentiation Variational Inference (ADVI) is an EXPERIMENTAL ALGORITHM.\n",
      "WARNING:pystan:ADVI samples may be found on the filesystem in the file `C:\\Users\\my\\AppData\\Local\\Temp\\tmpq4e1qmso\\output.csv`\n",
      "WARNING:pystan:Automatic Differentiation Variational Inference (ADVI) is an EXPERIMENTAL ALGORITHM.\n",
      "WARNING:pystan:ADVI samples may be found on the filesystem in the file `C:\\Users\\my\\AppData\\Local\\Temp\\tmpjxcneag9\\output.csv`\n",
      "WARNING:pystan:Automatic Differentiation Variational Inference (ADVI) is an EXPERIMENTAL ALGORITHM.\n",
      "WARNING:pystan:ADVI samples may be found on the filesystem in the file `C:\\Users\\my\\AppData\\Local\\Temp\\tmp5os1uj15\\output.csv`\n",
      "WARNING:pystan:Automatic Differentiation Variational Inference (ADVI) is an EXPERIMENTAL ALGORITHM.\n",
      "WARNING:pystan:ADVI samples may be found on the filesystem in the file `C:\\Users\\my\\AppData\\Local\\Temp\\tmpgcxecdzd\\output.csv`\n",
      "WARNING:pystan:Automatic Differentiation Variational Inference (ADVI) is an EXPERIMENTAL ALGORITHM.\n",
      "WARNING:pystan:ADVI samples may be found on the filesystem in the file `C:\\Users\\my\\AppData\\Local\\Temp\\tmpjbynyb3a\\output.csv`\n",
      "WARNING:pystan:Automatic Differentiation Variational Inference (ADVI) is an EXPERIMENTAL ALGORITHM.\n",
      "WARNING:pystan:ADVI samples may be found on the filesystem in the file `C:\\Users\\my\\AppData\\Local\\Temp\\tmp8sqlljla\\output.csv`\n",
      "WARNING:pystan:Automatic Differentiation Variational Inference (ADVI) is an EXPERIMENTAL ALGORITHM.\n",
      "WARNING:pystan:ADVI samples may be found on the filesystem in the file `C:\\Users\\my\\AppData\\Local\\Temp\\tmplshsuech\\output.csv`\n",
      "WARNING:pystan:Automatic Differentiation Variational Inference (ADVI) is an EXPERIMENTAL ALGORITHM.\n",
      "WARNING:pystan:ADVI samples may be found on the filesystem in the file `C:\\Users\\my\\AppData\\Local\\Temp\\tmpqsahajpi\\output.csv`\n",
      "WARNING:pystan:Automatic Differentiation Variational Inference (ADVI) is an EXPERIMENTAL ALGORITHM.\n",
      "WARNING:pystan:ADVI samples may be found on the filesystem in the file `C:\\Users\\my\\AppData\\Local\\Temp\\tmpk3evpi5f\\output.csv`\n",
      "WARNING:pystan:Automatic Differentiation Variational Inference (ADVI) is an EXPERIMENTAL ALGORITHM.\n",
      "WARNING:pystan:ADVI samples may be found on the filesystem in the file `C:\\Users\\my\\AppData\\Local\\Temp\\tmp182s49l4\\output.csv`\n",
      "WARNING:pystan:Automatic Differentiation Variational Inference (ADVI) is an EXPERIMENTAL ALGORITHM.\n",
      "WARNING:pystan:ADVI samples may be found on the filesystem in the file `C:\\Users\\my\\AppData\\Local\\Temp\\tmp3hfp94e5\\output.csv`\n",
      "WARNING:pystan:Automatic Differentiation Variational Inference (ADVI) is an EXPERIMENTAL ALGORITHM.\n",
      "WARNING:pystan:ADVI samples may be found on the filesystem in the file `C:\\Users\\my\\AppData\\Local\\Temp\\tmpj8m8d25e\\output.csv`\n",
      "WARNING:pystan:Automatic Differentiation Variational Inference (ADVI) is an EXPERIMENTAL ALGORITHM.\n",
      "WARNING:pystan:ADVI samples may be found on the filesystem in the file `C:\\Users\\my\\AppData\\Local\\Temp\\tmpy9wykso_\\output.csv`\n",
      "WARNING:pystan:Automatic Differentiation Variational Inference (ADVI) is an EXPERIMENTAL ALGORITHM.\n",
      "WARNING:pystan:ADVI samples may be found on the filesystem in the file `C:\\Users\\my\\AppData\\Local\\Temp\\tmpbg_6esj9\\output.csv`\n",
      "WARNING:pystan:Automatic Differentiation Variational Inference (ADVI) is an EXPERIMENTAL ALGORITHM.\n",
      "WARNING:pystan:ADVI samples may be found on the filesystem in the file `C:\\Users\\my\\AppData\\Local\\Temp\\tmpogc5j88f\\output.csv`\n",
      "WARNING:pystan:Automatic Differentiation Variational Inference (ADVI) is an EXPERIMENTAL ALGORITHM.\n",
      "WARNING:pystan:ADVI samples may be found on the filesystem in the file `C:\\Users\\my\\AppData\\Local\\Temp\\tmpd1_ddl8_\\output.csv`\n",
      "WARNING:pystan:Automatic Differentiation Variational Inference (ADVI) is an EXPERIMENTAL ALGORITHM.\n",
      "WARNING:pystan:ADVI samples may be found on the filesystem in the file `C:\\Users\\my\\AppData\\Local\\Temp\\tmpwyj8zz8m\\output.csv`\n",
      "WARNING:pystan:Automatic Differentiation Variational Inference (ADVI) is an EXPERIMENTAL ALGORITHM.\n",
      "WARNING:pystan:ADVI samples may be found on the filesystem in the file `C:\\Users\\my\\AppData\\Local\\Temp\\tmpcl1o42nr\\output.csv`\n",
      "WARNING:pystan:Automatic Differentiation Variational Inference (ADVI) is an EXPERIMENTAL ALGORITHM.\n",
      "WARNING:pystan:ADVI samples may be found on the filesystem in the file `C:\\Users\\my\\AppData\\Local\\Temp\\tmpxpvnxqd8\\output.csv`\n",
      "WARNING:pystan:Automatic Differentiation Variational Inference (ADVI) is an EXPERIMENTAL ALGORITHM.\n",
      "WARNING:pystan:ADVI samples may be found on the filesystem in the file `C:\\Users\\my\\AppData\\Local\\Temp\\tmp4bx86sxo\\output.csv`\n",
      "WARNING:pystan:Automatic Differentiation Variational Inference (ADVI) is an EXPERIMENTAL ALGORITHM.\n",
      "WARNING:pystan:ADVI samples may be found on the filesystem in the file `C:\\Users\\my\\AppData\\Local\\Temp\\tmpvn4gnczw\\output.csv`\n",
      "WARNING:pystan:Automatic Differentiation Variational Inference (ADVI) is an EXPERIMENTAL ALGORITHM.\n",
      "WARNING:pystan:ADVI samples may be found on the filesystem in the file `C:\\Users\\my\\AppData\\Local\\Temp\\tmppxis0k79\\output.csv`\n",
      "WARNING:pystan:Automatic Differentiation Variational Inference (ADVI) is an EXPERIMENTAL ALGORITHM.\n",
      "WARNING:pystan:ADVI samples may be found on the filesystem in the file `C:\\Users\\my\\AppData\\Local\\Temp\\tmp4ridfvzm\\output.csv`\n",
      "WARNING:pystan:Automatic Differentiation Variational Inference (ADVI) is an EXPERIMENTAL ALGORITHM.\n",
      "WARNING:pystan:ADVI samples may be found on the filesystem in the file `C:\\Users\\my\\AppData\\Local\\Temp\\tmp77n4qcqa\\output.csv`\n",
      "WARNING:pystan:Automatic Differentiation Variational Inference (ADVI) is an EXPERIMENTAL ALGORITHM.\n",
      "WARNING:pystan:ADVI samples may be found on the filesystem in the file `C:\\Users\\my\\AppData\\Local\\Temp\\tmpsowe32i2\\output.csv`\n",
      "WARNING:pystan:Automatic Differentiation Variational Inference (ADVI) is an EXPERIMENTAL ALGORITHM.\n",
      "WARNING:pystan:ADVI samples may be found on the filesystem in the file `C:\\Users\\my\\AppData\\Local\\Temp\\tmps_hiq2zp\\output.csv`\n",
      "WARNING:pystan:Automatic Differentiation Variational Inference (ADVI) is an EXPERIMENTAL ALGORITHM.\n",
      "WARNING:pystan:ADVI samples may be found on the filesystem in the file `C:\\Users\\my\\AppData\\Local\\Temp\\tmpmfdzywrs\\output.csv`\n",
      "WARNING:pystan:Automatic Differentiation Variational Inference (ADVI) is an EXPERIMENTAL ALGORITHM.\n",
      "WARNING:pystan:ADVI samples may be found on the filesystem in the file `C:\\Users\\my\\AppData\\Local\\Temp\\tmpiv86czz8\\output.csv`\n",
      "WARNING:pystan:Automatic Differentiation Variational Inference (ADVI) is an EXPERIMENTAL ALGORITHM.\n",
      "WARNING:pystan:ADVI samples may be found on the filesystem in the file `C:\\Users\\my\\AppData\\Local\\Temp\\tmpjgbzk44k\\output.csv`\n",
      "WARNING:pystan:Automatic Differentiation Variational Inference (ADVI) is an EXPERIMENTAL ALGORITHM.\n",
      "WARNING:pystan:ADVI samples may be found on the filesystem in the file `C:\\Users\\my\\AppData\\Local\\Temp\\tmp8hqawgct\\output.csv`\n",
      "WARNING:pystan:Automatic Differentiation Variational Inference (ADVI) is an EXPERIMENTAL ALGORITHM.\n"
     ]
    },
    {
     "name": "stderr",
     "output_type": "stream",
     "text": [
      "WARNING:pystan:ADVI samples may be found on the filesystem in the file `C:\\Users\\my\\AppData\\Local\\Temp\\tmpy0cgadk7\\output.csv`\n",
      "WARNING:pystan:Automatic Differentiation Variational Inference (ADVI) is an EXPERIMENTAL ALGORITHM.\n",
      "WARNING:pystan:ADVI samples may be found on the filesystem in the file `C:\\Users\\my\\AppData\\Local\\Temp\\tmpocx39a7w\\output.csv`\n",
      "WARNING:pystan:Automatic Differentiation Variational Inference (ADVI) is an EXPERIMENTAL ALGORITHM.\n",
      "WARNING:pystan:ADVI samples may be found on the filesystem in the file `C:\\Users\\my\\AppData\\Local\\Temp\\tmpv0li5imx\\output.csv`\n",
      "WARNING:pystan:Automatic Differentiation Variational Inference (ADVI) is an EXPERIMENTAL ALGORITHM.\n",
      "WARNING:pystan:ADVI samples may be found on the filesystem in the file `C:\\Users\\my\\AppData\\Local\\Temp\\tmpdpsboxr2\\output.csv`\n",
      "WARNING:pystan:Automatic Differentiation Variational Inference (ADVI) is an EXPERIMENTAL ALGORITHM.\n",
      "WARNING:pystan:ADVI samples may be found on the filesystem in the file `C:\\Users\\my\\AppData\\Local\\Temp\\tmpa2sp16l9\\output.csv`\n",
      "WARNING:pystan:Automatic Differentiation Variational Inference (ADVI) is an EXPERIMENTAL ALGORITHM.\n",
      "WARNING:pystan:ADVI samples may be found on the filesystem in the file `C:\\Users\\my\\AppData\\Local\\Temp\\tmp_1vcf1os\\output.csv`\n",
      "WARNING:pystan:Automatic Differentiation Variational Inference (ADVI) is an EXPERIMENTAL ALGORITHM.\n",
      "WARNING:pystan:ADVI samples may be found on the filesystem in the file `C:\\Users\\my\\AppData\\Local\\Temp\\tmpfoy_ok7l\\output.csv`\n",
      "WARNING:pystan:Automatic Differentiation Variational Inference (ADVI) is an EXPERIMENTAL ALGORITHM.\n",
      "WARNING:pystan:ADVI samples may be found on the filesystem in the file `C:\\Users\\my\\AppData\\Local\\Temp\\tmp_j6tbaoy\\output.csv`\n",
      "WARNING:pystan:Automatic Differentiation Variational Inference (ADVI) is an EXPERIMENTAL ALGORITHM.\n",
      "WARNING:pystan:ADVI samples may be found on the filesystem in the file `C:\\Users\\my\\AppData\\Local\\Temp\\tmp14eanxsz\\output.csv`\n",
      "WARNING:pystan:Automatic Differentiation Variational Inference (ADVI) is an EXPERIMENTAL ALGORITHM.\n",
      "WARNING:pystan:ADVI samples may be found on the filesystem in the file `C:\\Users\\my\\AppData\\Local\\Temp\\tmpfqi1z1oo\\output.csv`\n",
      "WARNING:pystan:Automatic Differentiation Variational Inference (ADVI) is an EXPERIMENTAL ALGORITHM.\n",
      "WARNING:pystan:ADVI samples may be found on the filesystem in the file `C:\\Users\\my\\AppData\\Local\\Temp\\tmpkw9f69lx\\output.csv`\n",
      "WARNING:pystan:Automatic Differentiation Variational Inference (ADVI) is an EXPERIMENTAL ALGORITHM.\n",
      "WARNING:pystan:ADVI samples may be found on the filesystem in the file `C:\\Users\\my\\AppData\\Local\\Temp\\tmp_q3g8lqe\\output.csv`\n",
      "WARNING:pystan:Automatic Differentiation Variational Inference (ADVI) is an EXPERIMENTAL ALGORITHM.\n",
      "WARNING:pystan:ADVI samples may be found on the filesystem in the file `C:\\Users\\my\\AppData\\Local\\Temp\\tmp4uakf9r9\\output.csv`\n",
      "WARNING:pystan:Automatic Differentiation Variational Inference (ADVI) is an EXPERIMENTAL ALGORITHM.\n",
      "WARNING:pystan:ADVI samples may be found on the filesystem in the file `C:\\Users\\my\\AppData\\Local\\Temp\\tmp8wrxaa2b\\output.csv`\n",
      "WARNING:pystan:Automatic Differentiation Variational Inference (ADVI) is an EXPERIMENTAL ALGORITHM.\n",
      "WARNING:pystan:ADVI samples may be found on the filesystem in the file `C:\\Users\\my\\AppData\\Local\\Temp\\tmpmljw7g4m\\output.csv`\n",
      "WARNING:pystan:Automatic Differentiation Variational Inference (ADVI) is an EXPERIMENTAL ALGORITHM.\n",
      "WARNING:pystan:ADVI samples may be found on the filesystem in the file `C:\\Users\\my\\AppData\\Local\\Temp\\tmp9ljgpigx\\output.csv`\n",
      "WARNING:pystan:Automatic Differentiation Variational Inference (ADVI) is an EXPERIMENTAL ALGORITHM.\n",
      "WARNING:pystan:ADVI samples may be found on the filesystem in the file `C:\\Users\\my\\AppData\\Local\\Temp\\tmpduh8787d\\output.csv`\n",
      "WARNING:pystan:Automatic Differentiation Variational Inference (ADVI) is an EXPERIMENTAL ALGORITHM.\n",
      "WARNING:pystan:ADVI samples may be found on the filesystem in the file `C:\\Users\\my\\AppData\\Local\\Temp\\tmpb0kxoiuv\\output.csv`\n",
      "WARNING:pystan:Automatic Differentiation Variational Inference (ADVI) is an EXPERIMENTAL ALGORITHM.\n",
      "WARNING:pystan:ADVI samples may be found on the filesystem in the file `C:\\Users\\my\\AppData\\Local\\Temp\\tmph0as1kle\\output.csv`\n",
      "WARNING:pystan:Automatic Differentiation Variational Inference (ADVI) is an EXPERIMENTAL ALGORITHM.\n",
      "WARNING:pystan:ADVI samples may be found on the filesystem in the file `C:\\Users\\my\\AppData\\Local\\Temp\\tmpct6q2eck\\output.csv`\n",
      "WARNING:pystan:Automatic Differentiation Variational Inference (ADVI) is an EXPERIMENTAL ALGORITHM.\n",
      "WARNING:pystan:ADVI samples may be found on the filesystem in the file `C:\\Users\\my\\AppData\\Local\\Temp\\tmp28fmywy1\\output.csv`\n",
      "WARNING:pystan:Automatic Differentiation Variational Inference (ADVI) is an EXPERIMENTAL ALGORITHM.\n",
      "WARNING:pystan:ADVI samples may be found on the filesystem in the file `C:\\Users\\my\\AppData\\Local\\Temp\\tmppxuaiadi\\output.csv`\n",
      "WARNING:pystan:Automatic Differentiation Variational Inference (ADVI) is an EXPERIMENTAL ALGORITHM.\n",
      "WARNING:pystan:ADVI samples may be found on the filesystem in the file `C:\\Users\\my\\AppData\\Local\\Temp\\tmpuc7l69pu\\output.csv`\n",
      "WARNING:pystan:Automatic Differentiation Variational Inference (ADVI) is an EXPERIMENTAL ALGORITHM.\n",
      "WARNING:pystan:ADVI samples may be found on the filesystem in the file `C:\\Users\\my\\AppData\\Local\\Temp\\tmpo89l52bj\\output.csv`\n",
      "WARNING:pystan:Automatic Differentiation Variational Inference (ADVI) is an EXPERIMENTAL ALGORITHM.\n",
      "WARNING:pystan:ADVI samples may be found on the filesystem in the file `C:\\Users\\my\\AppData\\Local\\Temp\\tmpx8catt_6\\output.csv`\n",
      "WARNING:pystan:Automatic Differentiation Variational Inference (ADVI) is an EXPERIMENTAL ALGORITHM.\n",
      "WARNING:pystan:ADVI samples may be found on the filesystem in the file `C:\\Users\\my\\AppData\\Local\\Temp\\tmpy_61ivwr\\output.csv`\n",
      "WARNING:pystan:Automatic Differentiation Variational Inference (ADVI) is an EXPERIMENTAL ALGORITHM.\n",
      "WARNING:pystan:ADVI samples may be found on the filesystem in the file `C:\\Users\\my\\AppData\\Local\\Temp\\tmpqsjg4c1j\\output.csv`\n",
      "WARNING:pystan:Automatic Differentiation Variational Inference (ADVI) is an EXPERIMENTAL ALGORITHM.\n",
      "WARNING:pystan:ADVI samples may be found on the filesystem in the file `C:\\Users\\my\\AppData\\Local\\Temp\\tmp1a8sg9xp\\output.csv`\n",
      "WARNING:pystan:Automatic Differentiation Variational Inference (ADVI) is an EXPERIMENTAL ALGORITHM.\n",
      "WARNING:pystan:ADVI samples may be found on the filesystem in the file `C:\\Users\\my\\AppData\\Local\\Temp\\tmp1pt4gedx\\output.csv`\n",
      "WARNING:pystan:Automatic Differentiation Variational Inference (ADVI) is an EXPERIMENTAL ALGORITHM.\n",
      "WARNING:pystan:ADVI samples may be found on the filesystem in the file `C:\\Users\\my\\AppData\\Local\\Temp\\tmp3r7naa_r\\output.csv`\n",
      "WARNING:pystan:Automatic Differentiation Variational Inference (ADVI) is an EXPERIMENTAL ALGORITHM.\n",
      "WARNING:pystan:ADVI samples may be found on the filesystem in the file `C:\\Users\\my\\AppData\\Local\\Temp\\tmpgglvm4kl\\output.csv`\n",
      "WARNING:pystan:Automatic Differentiation Variational Inference (ADVI) is an EXPERIMENTAL ALGORITHM.\n",
      "WARNING:pystan:ADVI samples may be found on the filesystem in the file `C:\\Users\\my\\AppData\\Local\\Temp\\tmp3m63nftk\\output.csv`\n",
      "WARNING:pystan:Automatic Differentiation Variational Inference (ADVI) is an EXPERIMENTAL ALGORITHM.\n",
      "WARNING:pystan:ADVI samples may be found on the filesystem in the file `C:\\Users\\my\\AppData\\Local\\Temp\\tmp9do9kg15\\output.csv`\n",
      "WARNING:pystan:Automatic Differentiation Variational Inference (ADVI) is an EXPERIMENTAL ALGORITHM.\n",
      "WARNING:pystan:ADVI samples may be found on the filesystem in the file `C:\\Users\\my\\AppData\\Local\\Temp\\tmpk7xykt2s\\output.csv`\n",
      "WARNING:pystan:Automatic Differentiation Variational Inference (ADVI) is an EXPERIMENTAL ALGORITHM.\n",
      "WARNING:pystan:ADVI samples may be found on the filesystem in the file `C:\\Users\\my\\AppData\\Local\\Temp\\tmp5pfjr0by\\output.csv`\n",
      "WARNING:pystan:Automatic Differentiation Variational Inference (ADVI) is an EXPERIMENTAL ALGORITHM.\n",
      "WARNING:pystan:ADVI samples may be found on the filesystem in the file `C:\\Users\\my\\AppData\\Local\\Temp\\tmpyg76v6bc\\output.csv`\n",
      "WARNING:pystan:Automatic Differentiation Variational Inference (ADVI) is an EXPERIMENTAL ALGORITHM.\n",
      "WARNING:pystan:ADVI samples may be found on the filesystem in the file `C:\\Users\\my\\AppData\\Local\\Temp\\tmp8nw6j1fd\\output.csv`\n"
     ]
    },
    {
     "name": "stderr",
     "output_type": "stream",
     "text": [
      "WARNING:pystan:Automatic Differentiation Variational Inference (ADVI) is an EXPERIMENTAL ALGORITHM.\n",
      "WARNING:pystan:ADVI samples may be found on the filesystem in the file `C:\\Users\\my\\AppData\\Local\\Temp\\tmpkquwn9m7\\output.csv`\n",
      "WARNING:pystan:Automatic Differentiation Variational Inference (ADVI) is an EXPERIMENTAL ALGORITHM.\n",
      "WARNING:pystan:ADVI samples may be found on the filesystem in the file `C:\\Users\\my\\AppData\\Local\\Temp\\tmp1reh50ey\\output.csv`\n",
      "WARNING:pystan:Automatic Differentiation Variational Inference (ADVI) is an EXPERIMENTAL ALGORITHM.\n",
      "WARNING:pystan:ADVI samples may be found on the filesystem in the file `C:\\Users\\my\\AppData\\Local\\Temp\\tmpl6nk56tq\\output.csv`\n",
      "WARNING:pystan:Automatic Differentiation Variational Inference (ADVI) is an EXPERIMENTAL ALGORITHM.\n",
      "WARNING:pystan:ADVI samples may be found on the filesystem in the file `C:\\Users\\my\\AppData\\Local\\Temp\\tmprges5_y3\\output.csv`\n",
      "WARNING:pystan:Automatic Differentiation Variational Inference (ADVI) is an EXPERIMENTAL ALGORITHM.\n",
      "WARNING:pystan:ADVI samples may be found on the filesystem in the file `C:\\Users\\my\\AppData\\Local\\Temp\\tmp_wbqwlf3\\output.csv`\n",
      "WARNING:pystan:Automatic Differentiation Variational Inference (ADVI) is an EXPERIMENTAL ALGORITHM.\n",
      "WARNING:pystan:ADVI samples may be found on the filesystem in the file `C:\\Users\\my\\AppData\\Local\\Temp\\tmpv6iumiib\\output.csv`\n",
      "WARNING:pystan:Automatic Differentiation Variational Inference (ADVI) is an EXPERIMENTAL ALGORITHM.\n",
      "WARNING:pystan:ADVI samples may be found on the filesystem in the file `C:\\Users\\my\\AppData\\Local\\Temp\\tmpg2gnowc9\\output.csv`\n",
      "WARNING:pystan:Automatic Differentiation Variational Inference (ADVI) is an EXPERIMENTAL ALGORITHM.\n",
      "WARNING:pystan:ADVI samples may be found on the filesystem in the file `C:\\Users\\my\\AppData\\Local\\Temp\\tmpk8dkorjk\\output.csv`\n",
      "WARNING:pystan:Automatic Differentiation Variational Inference (ADVI) is an EXPERIMENTAL ALGORITHM.\n",
      "WARNING:pystan:ADVI samples may be found on the filesystem in the file `C:\\Users\\my\\AppData\\Local\\Temp\\tmpv9i8abab\\output.csv`\n",
      "WARNING:pystan:Automatic Differentiation Variational Inference (ADVI) is an EXPERIMENTAL ALGORITHM.\n",
      "WARNING:pystan:ADVI samples may be found on the filesystem in the file `C:\\Users\\my\\AppData\\Local\\Temp\\tmpy3zhp421\\output.csv`\n",
      "WARNING:pystan:Automatic Differentiation Variational Inference (ADVI) is an EXPERIMENTAL ALGORITHM.\n",
      "WARNING:pystan:ADVI samples may be found on the filesystem in the file `C:\\Users\\my\\AppData\\Local\\Temp\\tmpccgywjcc\\output.csv`\n",
      "WARNING:pystan:Automatic Differentiation Variational Inference (ADVI) is an EXPERIMENTAL ALGORITHM.\n",
      "WARNING:pystan:ADVI samples may be found on the filesystem in the file `C:\\Users\\my\\AppData\\Local\\Temp\\tmp0feyxpkq\\output.csv`\n",
      "WARNING:pystan:Automatic Differentiation Variational Inference (ADVI) is an EXPERIMENTAL ALGORITHM.\n",
      "WARNING:pystan:ADVI samples may be found on the filesystem in the file `C:\\Users\\my\\AppData\\Local\\Temp\\tmpn6ax0wwf\\output.csv`\n",
      "WARNING:pystan:Automatic Differentiation Variational Inference (ADVI) is an EXPERIMENTAL ALGORITHM.\n",
      "WARNING:pystan:ADVI samples may be found on the filesystem in the file `C:\\Users\\my\\AppData\\Local\\Temp\\tmpcfw2ut__\\output.csv`\n",
      "WARNING:pystan:Automatic Differentiation Variational Inference (ADVI) is an EXPERIMENTAL ALGORITHM.\n",
      "WARNING:pystan:ADVI samples may be found on the filesystem in the file `C:\\Users\\my\\AppData\\Local\\Temp\\tmpoxfduomy\\output.csv`\n",
      "WARNING:pystan:Automatic Differentiation Variational Inference (ADVI) is an EXPERIMENTAL ALGORITHM.\n",
      "WARNING:pystan:ADVI samples may be found on the filesystem in the file `C:\\Users\\my\\AppData\\Local\\Temp\\tmp_9vut1yk\\output.csv`\n",
      "WARNING:pystan:Automatic Differentiation Variational Inference (ADVI) is an EXPERIMENTAL ALGORITHM.\n",
      "WARNING:pystan:ADVI samples may be found on the filesystem in the file `C:\\Users\\my\\AppData\\Local\\Temp\\tmp93t37wyb\\output.csv`\n",
      "WARNING:pystan:Automatic Differentiation Variational Inference (ADVI) is an EXPERIMENTAL ALGORITHM.\n",
      "WARNING:pystan:ADVI samples may be found on the filesystem in the file `C:\\Users\\my\\AppData\\Local\\Temp\\tmp4373jd_r\\output.csv`\n",
      "WARNING:pystan:Automatic Differentiation Variational Inference (ADVI) is an EXPERIMENTAL ALGORITHM.\n",
      "WARNING:pystan:ADVI samples may be found on the filesystem in the file `C:\\Users\\my\\AppData\\Local\\Temp\\tmpgxdkorfn\\output.csv`\n",
      "WARNING:pystan:Automatic Differentiation Variational Inference (ADVI) is an EXPERIMENTAL ALGORITHM.\n",
      "WARNING:pystan:ADVI samples may be found on the filesystem in the file `C:\\Users\\my\\AppData\\Local\\Temp\\tmpkrgg0169\\output.csv`\n",
      "WARNING:pystan:Automatic Differentiation Variational Inference (ADVI) is an EXPERIMENTAL ALGORITHM.\n",
      "WARNING:pystan:ADVI samples may be found on the filesystem in the file `C:\\Users\\my\\AppData\\Local\\Temp\\tmpqoa8cnho\\output.csv`\n",
      "WARNING:pystan:Automatic Differentiation Variational Inference (ADVI) is an EXPERIMENTAL ALGORITHM.\n",
      "WARNING:pystan:ADVI samples may be found on the filesystem in the file `C:\\Users\\my\\AppData\\Local\\Temp\\tmpkhiabkhi\\output.csv`\n",
      "WARNING:pystan:Automatic Differentiation Variational Inference (ADVI) is an EXPERIMENTAL ALGORITHM.\n",
      "WARNING:pystan:ADVI samples may be found on the filesystem in the file `C:\\Users\\my\\AppData\\Local\\Temp\\tmpjnvrog0b\\output.csv`\n",
      "WARNING:pystan:Automatic Differentiation Variational Inference (ADVI) is an EXPERIMENTAL ALGORITHM.\n",
      "WARNING:pystan:ADVI samples may be found on the filesystem in the file `C:\\Users\\my\\AppData\\Local\\Temp\\tmpqoi0v9ws\\output.csv`\n",
      "WARNING:pystan:Automatic Differentiation Variational Inference (ADVI) is an EXPERIMENTAL ALGORITHM.\n",
      "WARNING:pystan:ADVI samples may be found on the filesystem in the file `C:\\Users\\my\\AppData\\Local\\Temp\\tmpdcdpki2f\\output.csv`\n",
      "WARNING:pystan:Automatic Differentiation Variational Inference (ADVI) is an EXPERIMENTAL ALGORITHM.\n",
      "WARNING:pystan:ADVI samples may be found on the filesystem in the file `C:\\Users\\my\\AppData\\Local\\Temp\\tmph373e0i7\\output.csv`\n",
      "WARNING:pystan:Automatic Differentiation Variational Inference (ADVI) is an EXPERIMENTAL ALGORITHM.\n",
      "WARNING:pystan:ADVI samples may be found on the filesystem in the file `C:\\Users\\my\\AppData\\Local\\Temp\\tmpmygcqztf\\output.csv`\n",
      "WARNING:pystan:Automatic Differentiation Variational Inference (ADVI) is an EXPERIMENTAL ALGORITHM.\n",
      "WARNING:pystan:ADVI samples may be found on the filesystem in the file `C:\\Users\\my\\AppData\\Local\\Temp\\tmpeh_x98uf\\output.csv`\n",
      "WARNING:pystan:Automatic Differentiation Variational Inference (ADVI) is an EXPERIMENTAL ALGORITHM.\n",
      "WARNING:pystan:ADVI samples may be found on the filesystem in the file `C:\\Users\\my\\AppData\\Local\\Temp\\tmp3jcj28h7\\output.csv`\n",
      "WARNING:pystan:Automatic Differentiation Variational Inference (ADVI) is an EXPERIMENTAL ALGORITHM.\n",
      "WARNING:pystan:ADVI samples may be found on the filesystem in the file `C:\\Users\\my\\AppData\\Local\\Temp\\tmpe20n_kxy\\output.csv`\n",
      "WARNING:pystan:Automatic Differentiation Variational Inference (ADVI) is an EXPERIMENTAL ALGORITHM.\n",
      "WARNING:pystan:ADVI samples may be found on the filesystem in the file `C:\\Users\\my\\AppData\\Local\\Temp\\tmp8ajgw14w\\output.csv`\n",
      "WARNING:pystan:Automatic Differentiation Variational Inference (ADVI) is an EXPERIMENTAL ALGORITHM.\n",
      "WARNING:pystan:ADVI samples may be found on the filesystem in the file `C:\\Users\\my\\AppData\\Local\\Temp\\tmpp5a8exbj\\output.csv`\n",
      "WARNING:pystan:Automatic Differentiation Variational Inference (ADVI) is an EXPERIMENTAL ALGORITHM.\n",
      "WARNING:pystan:ADVI samples may be found on the filesystem in the file `C:\\Users\\my\\AppData\\Local\\Temp\\tmpq3umdttz\\output.csv`\n",
      "WARNING:pystan:Automatic Differentiation Variational Inference (ADVI) is an EXPERIMENTAL ALGORITHM.\n",
      "WARNING:pystan:ADVI samples may be found on the filesystem in the file `C:\\Users\\my\\AppData\\Local\\Temp\\tmp0yzzae17\\output.csv`\n",
      "WARNING:pystan:Automatic Differentiation Variational Inference (ADVI) is an EXPERIMENTAL ALGORITHM.\n",
      "WARNING:pystan:ADVI samples may be found on the filesystem in the file `C:\\Users\\my\\AppData\\Local\\Temp\\tmp99vgasy9\\output.csv`\n",
      "WARNING:pystan:Automatic Differentiation Variational Inference (ADVI) is an EXPERIMENTAL ALGORITHM.\n",
      "WARNING:pystan:ADVI samples may be found on the filesystem in the file `C:\\Users\\my\\AppData\\Local\\Temp\\tmpewmwbxz2\\output.csv`\n",
      "WARNING:pystan:Automatic Differentiation Variational Inference (ADVI) is an EXPERIMENTAL ALGORITHM.\n"
     ]
    },
    {
     "name": "stderr",
     "output_type": "stream",
     "text": [
      "WARNING:pystan:ADVI samples may be found on the filesystem in the file `C:\\Users\\my\\AppData\\Local\\Temp\\tmp750wkimr\\output.csv`\n",
      "WARNING:pystan:Automatic Differentiation Variational Inference (ADVI) is an EXPERIMENTAL ALGORITHM.\n",
      "WARNING:pystan:ADVI samples may be found on the filesystem in the file `C:\\Users\\my\\AppData\\Local\\Temp\\tmpp2uayrsr\\output.csv`\n",
      "WARNING:pystan:Automatic Differentiation Variational Inference (ADVI) is an EXPERIMENTAL ALGORITHM.\n",
      "WARNING:pystan:ADVI samples may be found on the filesystem in the file `C:\\Users\\my\\AppData\\Local\\Temp\\tmpyswa8e1v\\output.csv`\n",
      "WARNING:pystan:Automatic Differentiation Variational Inference (ADVI) is an EXPERIMENTAL ALGORITHM.\n",
      "WARNING:pystan:ADVI samples may be found on the filesystem in the file `C:\\Users\\my\\AppData\\Local\\Temp\\tmpheb9zej0\\output.csv`\n",
      "WARNING:pystan:Automatic Differentiation Variational Inference (ADVI) is an EXPERIMENTAL ALGORITHM.\n",
      "WARNING:pystan:ADVI samples may be found on the filesystem in the file `C:\\Users\\my\\AppData\\Local\\Temp\\tmp64zpvz3q\\output.csv`\n",
      "WARNING:pystan:Automatic Differentiation Variational Inference (ADVI) is an EXPERIMENTAL ALGORITHM.\n",
      "WARNING:pystan:ADVI samples may be found on the filesystem in the file `C:\\Users\\my\\AppData\\Local\\Temp\\tmpuvor21cl\\output.csv`\n",
      "WARNING:pystan:Automatic Differentiation Variational Inference (ADVI) is an EXPERIMENTAL ALGORITHM.\n",
      "WARNING:pystan:ADVI samples may be found on the filesystem in the file `C:\\Users\\my\\AppData\\Local\\Temp\\tmpbjwpemgd\\output.csv`\n",
      "WARNING:pystan:Automatic Differentiation Variational Inference (ADVI) is an EXPERIMENTAL ALGORITHM.\n",
      "WARNING:pystan:ADVI samples may be found on the filesystem in the file `C:\\Users\\my\\AppData\\Local\\Temp\\tmpi246w8va\\output.csv`\n",
      "WARNING:pystan:Automatic Differentiation Variational Inference (ADVI) is an EXPERIMENTAL ALGORITHM.\n",
      "WARNING:pystan:ADVI samples may be found on the filesystem in the file `C:\\Users\\my\\AppData\\Local\\Temp\\tmpwxxhaqav\\output.csv`\n",
      "WARNING:pystan:Automatic Differentiation Variational Inference (ADVI) is an EXPERIMENTAL ALGORITHM.\n",
      "WARNING:pystan:ADVI samples may be found on the filesystem in the file `C:\\Users\\my\\AppData\\Local\\Temp\\tmp8mepsuot\\output.csv`\n",
      "WARNING:pystan:Automatic Differentiation Variational Inference (ADVI) is an EXPERIMENTAL ALGORITHM.\n",
      "WARNING:pystan:ADVI samples may be found on the filesystem in the file `C:\\Users\\my\\AppData\\Local\\Temp\\tmp3ko0h_wl\\output.csv`\n",
      "WARNING:pystan:Automatic Differentiation Variational Inference (ADVI) is an EXPERIMENTAL ALGORITHM.\n",
      "WARNING:pystan:ADVI samples may be found on the filesystem in the file `C:\\Users\\my\\AppData\\Local\\Temp\\tmpr51rd2al\\output.csv`\n",
      "WARNING:pystan:Automatic Differentiation Variational Inference (ADVI) is an EXPERIMENTAL ALGORITHM.\n",
      "WARNING:pystan:ADVI samples may be found on the filesystem in the file `C:\\Users\\my\\AppData\\Local\\Temp\\tmpf6glua1c\\output.csv`\n",
      "WARNING:pystan:Automatic Differentiation Variational Inference (ADVI) is an EXPERIMENTAL ALGORITHM.\n",
      "WARNING:pystan:ADVI samples may be found on the filesystem in the file `C:\\Users\\my\\AppData\\Local\\Temp\\tmpqsut7ulm\\output.csv`\n",
      "WARNING:pystan:Automatic Differentiation Variational Inference (ADVI) is an EXPERIMENTAL ALGORITHM.\n",
      "WARNING:pystan:ADVI samples may be found on the filesystem in the file `C:\\Users\\my\\AppData\\Local\\Temp\\tmptarjz8f_\\output.csv`\n",
      "WARNING:pystan:Automatic Differentiation Variational Inference (ADVI) is an EXPERIMENTAL ALGORITHM.\n",
      "WARNING:pystan:ADVI samples may be found on the filesystem in the file `C:\\Users\\my\\AppData\\Local\\Temp\\tmp7osf69nq\\output.csv`\n",
      "WARNING:pystan:Automatic Differentiation Variational Inference (ADVI) is an EXPERIMENTAL ALGORITHM.\n",
      "WARNING:pystan:ADVI samples may be found on the filesystem in the file `C:\\Users\\my\\AppData\\Local\\Temp\\tmpxci8gy2k\\output.csv`\n",
      "WARNING:pystan:Automatic Differentiation Variational Inference (ADVI) is an EXPERIMENTAL ALGORITHM.\n",
      "WARNING:pystan:ADVI samples may be found on the filesystem in the file `C:\\Users\\my\\AppData\\Local\\Temp\\tmp_kmrjvav\\output.csv`\n",
      "WARNING:pystan:Automatic Differentiation Variational Inference (ADVI) is an EXPERIMENTAL ALGORITHM.\n",
      "WARNING:pystan:ADVI samples may be found on the filesystem in the file `C:\\Users\\my\\AppData\\Local\\Temp\\tmp96rv8z2n\\output.csv`\n",
      "WARNING:pystan:Automatic Differentiation Variational Inference (ADVI) is an EXPERIMENTAL ALGORITHM.\n",
      "WARNING:pystan:ADVI samples may be found on the filesystem in the file `C:\\Users\\my\\AppData\\Local\\Temp\\tmpr26kwrxm\\output.csv`\n",
      "WARNING:pystan:Automatic Differentiation Variational Inference (ADVI) is an EXPERIMENTAL ALGORITHM.\n",
      "WARNING:pystan:ADVI samples may be found on the filesystem in the file `C:\\Users\\my\\AppData\\Local\\Temp\\tmp765whwc0\\output.csv`\n",
      "WARNING:pystan:Automatic Differentiation Variational Inference (ADVI) is an EXPERIMENTAL ALGORITHM.\n",
      "WARNING:pystan:ADVI samples may be found on the filesystem in the file `C:\\Users\\my\\AppData\\Local\\Temp\\tmp0ice3wf2\\output.csv`\n",
      "WARNING:pystan:Automatic Differentiation Variational Inference (ADVI) is an EXPERIMENTAL ALGORITHM.\n",
      "WARNING:pystan:ADVI samples may be found on the filesystem in the file `C:\\Users\\my\\AppData\\Local\\Temp\\tmpgiq9vpy5\\output.csv`\n",
      "WARNING:pystan:Automatic Differentiation Variational Inference (ADVI) is an EXPERIMENTAL ALGORITHM.\n",
      "WARNING:pystan:ADVI samples may be found on the filesystem in the file `C:\\Users\\my\\AppData\\Local\\Temp\\tmpqd1dlz3t\\output.csv`\n",
      "WARNING:pystan:Automatic Differentiation Variational Inference (ADVI) is an EXPERIMENTAL ALGORITHM.\n",
      "WARNING:pystan:ADVI samples may be found on the filesystem in the file `C:\\Users\\my\\AppData\\Local\\Temp\\tmphb_whf94\\output.csv`\n",
      "WARNING:pystan:Automatic Differentiation Variational Inference (ADVI) is an EXPERIMENTAL ALGORITHM.\n",
      "WARNING:pystan:ADVI samples may be found on the filesystem in the file `C:\\Users\\my\\AppData\\Local\\Temp\\tmp6ujqyzje\\output.csv`\n",
      "WARNING:pystan:Automatic Differentiation Variational Inference (ADVI) is an EXPERIMENTAL ALGORITHM.\n",
      "WARNING:pystan:ADVI samples may be found on the filesystem in the file `C:\\Users\\my\\AppData\\Local\\Temp\\tmpxt8ax_p1\\output.csv`\n",
      "WARNING:pystan:Automatic Differentiation Variational Inference (ADVI) is an EXPERIMENTAL ALGORITHM.\n",
      "WARNING:pystan:ADVI samples may be found on the filesystem in the file `C:\\Users\\my\\AppData\\Local\\Temp\\tmpcyzg_gj7\\output.csv`\n",
      "WARNING:pystan:Automatic Differentiation Variational Inference (ADVI) is an EXPERIMENTAL ALGORITHM.\n",
      "WARNING:pystan:ADVI samples may be found on the filesystem in the file `C:\\Users\\my\\AppData\\Local\\Temp\\tmpowfdwg4i\\output.csv`\n",
      "WARNING:pystan:Automatic Differentiation Variational Inference (ADVI) is an EXPERIMENTAL ALGORITHM.\n",
      "WARNING:pystan:ADVI samples may be found on the filesystem in the file `C:\\Users\\my\\AppData\\Local\\Temp\\tmp67k8lyj4\\output.csv`\n",
      "WARNING:pystan:Automatic Differentiation Variational Inference (ADVI) is an EXPERIMENTAL ALGORITHM.\n",
      "WARNING:pystan:ADVI samples may be found on the filesystem in the file `C:\\Users\\my\\AppData\\Local\\Temp\\tmpn_17axhv\\output.csv`\n",
      "WARNING:pystan:Automatic Differentiation Variational Inference (ADVI) is an EXPERIMENTAL ALGORITHM.\n",
      "WARNING:pystan:ADVI samples may be found on the filesystem in the file `C:\\Users\\my\\AppData\\Local\\Temp\\tmpp_a93bmi\\output.csv`\n",
      "WARNING:pystan:Automatic Differentiation Variational Inference (ADVI) is an EXPERIMENTAL ALGORITHM.\n",
      "WARNING:pystan:ADVI samples may be found on the filesystem in the file `C:\\Users\\my\\AppData\\Local\\Temp\\tmptjynxk7k\\output.csv`\n",
      "WARNING:pystan:Automatic Differentiation Variational Inference (ADVI) is an EXPERIMENTAL ALGORITHM.\n",
      "WARNING:pystan:ADVI samples may be found on the filesystem in the file `C:\\Users\\my\\AppData\\Local\\Temp\\tmp01oaliaf\\output.csv`\n",
      "WARNING:pystan:Automatic Differentiation Variational Inference (ADVI) is an EXPERIMENTAL ALGORITHM.\n",
      "WARNING:pystan:ADVI samples may be found on the filesystem in the file `C:\\Users\\my\\AppData\\Local\\Temp\\tmpbtt56jb5\\output.csv`\n",
      "WARNING:pystan:Automatic Differentiation Variational Inference (ADVI) is an EXPERIMENTAL ALGORITHM.\n",
      "WARNING:pystan:ADVI samples may be found on the filesystem in the file `C:\\Users\\my\\AppData\\Local\\Temp\\tmpn77_lxkl\\output.csv`\n",
      "WARNING:pystan:Automatic Differentiation Variational Inference (ADVI) is an EXPERIMENTAL ALGORITHM.\n",
      "WARNING:pystan:ADVI samples may be found on the filesystem in the file `C:\\Users\\my\\AppData\\Local\\Temp\\tmp9ltnjoz9\\output.csv`\n"
     ]
    },
    {
     "name": "stderr",
     "output_type": "stream",
     "text": [
      "WARNING:pystan:Automatic Differentiation Variational Inference (ADVI) is an EXPERIMENTAL ALGORITHM.\n",
      "WARNING:pystan:ADVI samples may be found on the filesystem in the file `C:\\Users\\my\\AppData\\Local\\Temp\\tmp__zfq6o0\\output.csv`\n",
      "WARNING:pystan:Automatic Differentiation Variational Inference (ADVI) is an EXPERIMENTAL ALGORITHM.\n",
      "WARNING:pystan:ADVI samples may be found on the filesystem in the file `C:\\Users\\my\\AppData\\Local\\Temp\\tmp_4_55qy9\\output.csv`\n",
      "WARNING:pystan:Automatic Differentiation Variational Inference (ADVI) is an EXPERIMENTAL ALGORITHM.\n",
      "WARNING:pystan:ADVI samples may be found on the filesystem in the file `C:\\Users\\my\\AppData\\Local\\Temp\\tmpsscg7_9l\\output.csv`\n",
      "WARNING:pystan:Automatic Differentiation Variational Inference (ADVI) is an EXPERIMENTAL ALGORITHM.\n",
      "WARNING:pystan:ADVI samples may be found on the filesystem in the file `C:\\Users\\my\\AppData\\Local\\Temp\\tmp4wzt5fnh\\output.csv`\n",
      "WARNING:pystan:Automatic Differentiation Variational Inference (ADVI) is an EXPERIMENTAL ALGORITHM.\n",
      "WARNING:pystan:ADVI samples may be found on the filesystem in the file `C:\\Users\\my\\AppData\\Local\\Temp\\tmps5tea4vv\\output.csv`\n",
      "WARNING:pystan:Automatic Differentiation Variational Inference (ADVI) is an EXPERIMENTAL ALGORITHM.\n",
      "WARNING:pystan:ADVI samples may be found on the filesystem in the file `C:\\Users\\my\\AppData\\Local\\Temp\\tmpfymr7ns1\\output.csv`\n",
      "WARNING:pystan:Automatic Differentiation Variational Inference (ADVI) is an EXPERIMENTAL ALGORITHM.\n",
      "WARNING:pystan:ADVI samples may be found on the filesystem in the file `C:\\Users\\my\\AppData\\Local\\Temp\\tmp6a0t654x\\output.csv`\n",
      "WARNING:pystan:Automatic Differentiation Variational Inference (ADVI) is an EXPERIMENTAL ALGORITHM.\n",
      "WARNING:pystan:ADVI samples may be found on the filesystem in the file `C:\\Users\\my\\AppData\\Local\\Temp\\tmpunkj_pcc\\output.csv`\n",
      "WARNING:pystan:Automatic Differentiation Variational Inference (ADVI) is an EXPERIMENTAL ALGORITHM.\n",
      "WARNING:pystan:ADVI samples may be found on the filesystem in the file `C:\\Users\\my\\AppData\\Local\\Temp\\tmp8xnrjoe8\\output.csv`\n",
      "WARNING:pystan:Automatic Differentiation Variational Inference (ADVI) is an EXPERIMENTAL ALGORITHM.\n",
      "WARNING:pystan:ADVI samples may be found on the filesystem in the file `C:\\Users\\my\\AppData\\Local\\Temp\\tmpl8kdrccr\\output.csv`\n",
      "WARNING:pystan:Automatic Differentiation Variational Inference (ADVI) is an EXPERIMENTAL ALGORITHM.\n",
      "WARNING:pystan:ADVI samples may be found on the filesystem in the file `C:\\Users\\my\\AppData\\Local\\Temp\\tmpn_federg\\output.csv`\n",
      "WARNING:pystan:Automatic Differentiation Variational Inference (ADVI) is an EXPERIMENTAL ALGORITHM.\n",
      "WARNING:pystan:ADVI samples may be found on the filesystem in the file `C:\\Users\\my\\AppData\\Local\\Temp\\tmp6ws_wtpk\\output.csv`\n",
      "WARNING:pystan:Automatic Differentiation Variational Inference (ADVI) is an EXPERIMENTAL ALGORITHM.\n",
      "WARNING:pystan:ADVI samples may be found on the filesystem in the file `C:\\Users\\my\\AppData\\Local\\Temp\\tmp9ea1np80\\output.csv`\n",
      "WARNING:pystan:Automatic Differentiation Variational Inference (ADVI) is an EXPERIMENTAL ALGORITHM.\n",
      "WARNING:pystan:ADVI samples may be found on the filesystem in the file `C:\\Users\\my\\AppData\\Local\\Temp\\tmpgtbfs816\\output.csv`\n",
      "WARNING:pystan:Automatic Differentiation Variational Inference (ADVI) is an EXPERIMENTAL ALGORITHM.\n",
      "WARNING:pystan:ADVI samples may be found on the filesystem in the file `C:\\Users\\my\\AppData\\Local\\Temp\\tmpneiwo8mc\\output.csv`\n",
      "WARNING:pystan:Automatic Differentiation Variational Inference (ADVI) is an EXPERIMENTAL ALGORITHM.\n",
      "WARNING:pystan:ADVI samples may be found on the filesystem in the file `C:\\Users\\my\\AppData\\Local\\Temp\\tmp5kknkz2g\\output.csv`\n",
      "WARNING:pystan:Automatic Differentiation Variational Inference (ADVI) is an EXPERIMENTAL ALGORITHM.\n",
      "WARNING:pystan:ADVI samples may be found on the filesystem in the file `C:\\Users\\my\\AppData\\Local\\Temp\\tmpxowmu3xu\\output.csv`\n",
      "WARNING:pystan:Automatic Differentiation Variational Inference (ADVI) is an EXPERIMENTAL ALGORITHM.\n",
      "WARNING:pystan:ADVI samples may be found on the filesystem in the file `C:\\Users\\my\\AppData\\Local\\Temp\\tmppcqtbyt6\\output.csv`\n",
      "WARNING:pystan:Automatic Differentiation Variational Inference (ADVI) is an EXPERIMENTAL ALGORITHM.\n",
      "WARNING:pystan:ADVI samples may be found on the filesystem in the file `C:\\Users\\my\\AppData\\Local\\Temp\\tmpxsh3fxzf\\output.csv`\n",
      "WARNING:pystan:Automatic Differentiation Variational Inference (ADVI) is an EXPERIMENTAL ALGORITHM.\n",
      "WARNING:pystan:ADVI samples may be found on the filesystem in the file `C:\\Users\\my\\AppData\\Local\\Temp\\tmph2k27kb4\\output.csv`\n",
      "WARNING:pystan:Automatic Differentiation Variational Inference (ADVI) is an EXPERIMENTAL ALGORITHM.\n",
      "WARNING:pystan:ADVI samples may be found on the filesystem in the file `C:\\Users\\my\\AppData\\Local\\Temp\\tmpzenmvjdg\\output.csv`\n",
      "WARNING:pystan:Automatic Differentiation Variational Inference (ADVI) is an EXPERIMENTAL ALGORITHM.\n",
      "WARNING:pystan:ADVI samples may be found on the filesystem in the file `C:\\Users\\my\\AppData\\Local\\Temp\\tmpc1kr0pi9\\output.csv`\n",
      "WARNING:pystan:Automatic Differentiation Variational Inference (ADVI) is an EXPERIMENTAL ALGORITHM.\n",
      "WARNING:pystan:ADVI samples may be found on the filesystem in the file `C:\\Users\\my\\AppData\\Local\\Temp\\tmpuc4jg_yo\\output.csv`\n",
      "WARNING:pystan:Automatic Differentiation Variational Inference (ADVI) is an EXPERIMENTAL ALGORITHM.\n",
      "WARNING:pystan:ADVI samples may be found on the filesystem in the file `C:\\Users\\my\\AppData\\Local\\Temp\\tmpevnz3u34\\output.csv`\n",
      "WARNING:pystan:Automatic Differentiation Variational Inference (ADVI) is an EXPERIMENTAL ALGORITHM.\n",
      "WARNING:pystan:ADVI samples may be found on the filesystem in the file `C:\\Users\\my\\AppData\\Local\\Temp\\tmp2hp55z7t\\output.csv`\n",
      "WARNING:pystan:Automatic Differentiation Variational Inference (ADVI) is an EXPERIMENTAL ALGORITHM.\n",
      "WARNING:pystan:ADVI samples may be found on the filesystem in the file `C:\\Users\\my\\AppData\\Local\\Temp\\tmpq392okox\\output.csv`\n",
      "WARNING:pystan:Automatic Differentiation Variational Inference (ADVI) is an EXPERIMENTAL ALGORITHM.\n",
      "WARNING:pystan:ADVI samples may be found on the filesystem in the file `C:\\Users\\my\\AppData\\Local\\Temp\\tmpkqx100bu\\output.csv`\n",
      "WARNING:pystan:Automatic Differentiation Variational Inference (ADVI) is an EXPERIMENTAL ALGORITHM.\n",
      "WARNING:pystan:ADVI samples may be found on the filesystem in the file `C:\\Users\\my\\AppData\\Local\\Temp\\tmpcaojdrgz\\output.csv`\n",
      "WARNING:pystan:Automatic Differentiation Variational Inference (ADVI) is an EXPERIMENTAL ALGORITHM.\n",
      "WARNING:pystan:ADVI samples may be found on the filesystem in the file `C:\\Users\\my\\AppData\\Local\\Temp\\tmplmy1d34g\\output.csv`\n",
      "WARNING:pystan:Automatic Differentiation Variational Inference (ADVI) is an EXPERIMENTAL ALGORITHM.\n",
      "WARNING:pystan:ADVI samples may be found on the filesystem in the file `C:\\Users\\my\\AppData\\Local\\Temp\\tmp63dnf5pw\\output.csv`\n",
      "WARNING:pystan:Automatic Differentiation Variational Inference (ADVI) is an EXPERIMENTAL ALGORITHM.\n",
      "WARNING:pystan:ADVI samples may be found on the filesystem in the file `C:\\Users\\my\\AppData\\Local\\Temp\\tmpd9q26fye\\output.csv`\n",
      "WARNING:pystan:Automatic Differentiation Variational Inference (ADVI) is an EXPERIMENTAL ALGORITHM.\n",
      "WARNING:pystan:ADVI samples may be found on the filesystem in the file `C:\\Users\\my\\AppData\\Local\\Temp\\tmp69fu7lw8\\output.csv`\n",
      "WARNING:pystan:Automatic Differentiation Variational Inference (ADVI) is an EXPERIMENTAL ALGORITHM.\n",
      "WARNING:pystan:ADVI samples may be found on the filesystem in the file `C:\\Users\\my\\AppData\\Local\\Temp\\tmp5kxgxb58\\output.csv`\n",
      "WARNING:pystan:Automatic Differentiation Variational Inference (ADVI) is an EXPERIMENTAL ALGORITHM.\n",
      "WARNING:pystan:ADVI samples may be found on the filesystem in the file `C:\\Users\\my\\AppData\\Local\\Temp\\tmpy3w78736\\output.csv`\n",
      "WARNING:pystan:Automatic Differentiation Variational Inference (ADVI) is an EXPERIMENTAL ALGORITHM.\n",
      "WARNING:pystan:ADVI samples may be found on the filesystem in the file `C:\\Users\\my\\AppData\\Local\\Temp\\tmp7kjt0ckb\\output.csv`\n",
      "WARNING:pystan:Automatic Differentiation Variational Inference (ADVI) is an EXPERIMENTAL ALGORITHM.\n",
      "WARNING:pystan:ADVI samples may be found on the filesystem in the file `C:\\Users\\my\\AppData\\Local\\Temp\\tmpy4ta8gd9\\output.csv`\n",
      "WARNING:pystan:Automatic Differentiation Variational Inference (ADVI) is an EXPERIMENTAL ALGORITHM.\n"
     ]
    },
    {
     "name": "stderr",
     "output_type": "stream",
     "text": [
      "WARNING:pystan:ADVI samples may be found on the filesystem in the file `C:\\Users\\my\\AppData\\Local\\Temp\\tmpl7jhco8d\\output.csv`\n",
      "WARNING:pystan:Automatic Differentiation Variational Inference (ADVI) is an EXPERIMENTAL ALGORITHM.\n",
      "WARNING:pystan:ADVI samples may be found on the filesystem in the file `C:\\Users\\my\\AppData\\Local\\Temp\\tmpzjr3n56o\\output.csv`\n",
      "WARNING:pystan:Automatic Differentiation Variational Inference (ADVI) is an EXPERIMENTAL ALGORITHM.\n",
      "WARNING:pystan:ADVI samples may be found on the filesystem in the file `C:\\Users\\my\\AppData\\Local\\Temp\\tmpmp86gpme\\output.csv`\n",
      "WARNING:pystan:Automatic Differentiation Variational Inference (ADVI) is an EXPERIMENTAL ALGORITHM.\n",
      "WARNING:pystan:ADVI samples may be found on the filesystem in the file `C:\\Users\\my\\AppData\\Local\\Temp\\tmpgfw9bbrz\\output.csv`\n",
      "WARNING:pystan:Automatic Differentiation Variational Inference (ADVI) is an EXPERIMENTAL ALGORITHM.\n",
      "WARNING:pystan:ADVI samples may be found on the filesystem in the file `C:\\Users\\my\\AppData\\Local\\Temp\\tmpin3p29_y\\output.csv`\n",
      "WARNING:pystan:Automatic Differentiation Variational Inference (ADVI) is an EXPERIMENTAL ALGORITHM.\n",
      "WARNING:pystan:ADVI samples may be found on the filesystem in the file `C:\\Users\\my\\AppData\\Local\\Temp\\tmp2v1d1tc1\\output.csv`\n",
      "WARNING:pystan:Automatic Differentiation Variational Inference (ADVI) is an EXPERIMENTAL ALGORITHM.\n",
      "WARNING:pystan:ADVI samples may be found on the filesystem in the file `C:\\Users\\my\\AppData\\Local\\Temp\\tmpussea993\\output.csv`\n",
      "WARNING:pystan:Automatic Differentiation Variational Inference (ADVI) is an EXPERIMENTAL ALGORITHM.\n",
      "WARNING:pystan:ADVI samples may be found on the filesystem in the file `C:\\Users\\my\\AppData\\Local\\Temp\\tmpym0awo2_\\output.csv`\n",
      "WARNING:pystan:Automatic Differentiation Variational Inference (ADVI) is an EXPERIMENTAL ALGORITHM.\n",
      "WARNING:pystan:ADVI samples may be found on the filesystem in the file `C:\\Users\\my\\AppData\\Local\\Temp\\tmpga7w_vwy\\output.csv`\n",
      "WARNING:pystan:Automatic Differentiation Variational Inference (ADVI) is an EXPERIMENTAL ALGORITHM.\n",
      "WARNING:pystan:ADVI samples may be found on the filesystem in the file `C:\\Users\\my\\AppData\\Local\\Temp\\tmpblm_2u6d\\output.csv`\n",
      "WARNING:pystan:Automatic Differentiation Variational Inference (ADVI) is an EXPERIMENTAL ALGORITHM.\n",
      "WARNING:pystan:ADVI samples may be found on the filesystem in the file `C:\\Users\\my\\AppData\\Local\\Temp\\tmpef9w3ipx\\output.csv`\n",
      "WARNING:pystan:Automatic Differentiation Variational Inference (ADVI) is an EXPERIMENTAL ALGORITHM.\n",
      "WARNING:pystan:ADVI samples may be found on the filesystem in the file `C:\\Users\\my\\AppData\\Local\\Temp\\tmpvy8vol95\\output.csv`\n",
      "WARNING:pystan:Automatic Differentiation Variational Inference (ADVI) is an EXPERIMENTAL ALGORITHM.\n",
      "WARNING:pystan:ADVI samples may be found on the filesystem in the file `C:\\Users\\my\\AppData\\Local\\Temp\\tmp097smq4y\\output.csv`\n",
      "WARNING:pystan:Automatic Differentiation Variational Inference (ADVI) is an EXPERIMENTAL ALGORITHM.\n",
      "WARNING:pystan:ADVI samples may be found on the filesystem in the file `C:\\Users\\my\\AppData\\Local\\Temp\\tmp_lamwqsz\\output.csv`\n",
      "WARNING:pystan:Automatic Differentiation Variational Inference (ADVI) is an EXPERIMENTAL ALGORITHM.\n",
      "WARNING:pystan:ADVI samples may be found on the filesystem in the file `C:\\Users\\my\\AppData\\Local\\Temp\\tmp92c_a0y1\\output.csv`\n",
      "WARNING:pystan:Automatic Differentiation Variational Inference (ADVI) is an EXPERIMENTAL ALGORITHM.\n",
      "WARNING:pystan:ADVI samples may be found on the filesystem in the file `C:\\Users\\my\\AppData\\Local\\Temp\\tmpkjmfllss\\output.csv`\n",
      "WARNING:pystan:Automatic Differentiation Variational Inference (ADVI) is an EXPERIMENTAL ALGORITHM.\n",
      "WARNING:pystan:ADVI samples may be found on the filesystem in the file `C:\\Users\\my\\AppData\\Local\\Temp\\tmp7b8n2het\\output.csv`\n",
      "WARNING:pystan:Automatic Differentiation Variational Inference (ADVI) is an EXPERIMENTAL ALGORITHM.\n",
      "WARNING:pystan:ADVI samples may be found on the filesystem in the file `C:\\Users\\my\\AppData\\Local\\Temp\\tmpdhlojweu\\output.csv`\n",
      "WARNING:pystan:Automatic Differentiation Variational Inference (ADVI) is an EXPERIMENTAL ALGORITHM.\n",
      "WARNING:pystan:ADVI samples may be found on the filesystem in the file `C:\\Users\\my\\AppData\\Local\\Temp\\tmpacg0wfn2\\output.csv`\n",
      "WARNING:pystan:Automatic Differentiation Variational Inference (ADVI) is an EXPERIMENTAL ALGORITHM.\n",
      "WARNING:pystan:ADVI samples may be found on the filesystem in the file `C:\\Users\\my\\AppData\\Local\\Temp\\tmpl140l3zw\\output.csv`\n",
      "WARNING:pystan:Automatic Differentiation Variational Inference (ADVI) is an EXPERIMENTAL ALGORITHM.\n",
      "WARNING:pystan:ADVI samples may be found on the filesystem in the file `C:\\Users\\my\\AppData\\Local\\Temp\\tmp4v326rzk\\output.csv`\n",
      "WARNING:pystan:Automatic Differentiation Variational Inference (ADVI) is an EXPERIMENTAL ALGORITHM.\n",
      "WARNING:pystan:ADVI samples may be found on the filesystem in the file `C:\\Users\\my\\AppData\\Local\\Temp\\tmpks7jhjku\\output.csv`\n",
      "WARNING:pystan:Automatic Differentiation Variational Inference (ADVI) is an EXPERIMENTAL ALGORITHM.\n",
      "WARNING:pystan:ADVI samples may be found on the filesystem in the file `C:\\Users\\my\\AppData\\Local\\Temp\\tmpriscuwkc\\output.csv`\n",
      "WARNING:pystan:Automatic Differentiation Variational Inference (ADVI) is an EXPERIMENTAL ALGORITHM.\n",
      "WARNING:pystan:ADVI samples may be found on the filesystem in the file `C:\\Users\\my\\AppData\\Local\\Temp\\tmpxo1dgwh6\\output.csv`\n",
      "WARNING:pystan:Automatic Differentiation Variational Inference (ADVI) is an EXPERIMENTAL ALGORITHM.\n",
      "WARNING:pystan:ADVI samples may be found on the filesystem in the file `C:\\Users\\my\\AppData\\Local\\Temp\\tmpp0qch58r\\output.csv`\n",
      "WARNING:pystan:Automatic Differentiation Variational Inference (ADVI) is an EXPERIMENTAL ALGORITHM.\n",
      "WARNING:pystan:ADVI samples may be found on the filesystem in the file `C:\\Users\\my\\AppData\\Local\\Temp\\tmpk1jan1_u\\output.csv`\n",
      "WARNING:pystan:Automatic Differentiation Variational Inference (ADVI) is an EXPERIMENTAL ALGORITHM.\n",
      "WARNING:pystan:ADVI samples may be found on the filesystem in the file `C:\\Users\\my\\AppData\\Local\\Temp\\tmp3r_t45up\\output.csv`\n",
      "WARNING:pystan:Automatic Differentiation Variational Inference (ADVI) is an EXPERIMENTAL ALGORITHM.\n",
      "WARNING:pystan:ADVI samples may be found on the filesystem in the file `C:\\Users\\my\\AppData\\Local\\Temp\\tmpv629d_sf\\output.csv`\n",
      "WARNING:pystan:Automatic Differentiation Variational Inference (ADVI) is an EXPERIMENTAL ALGORITHM.\n",
      "WARNING:pystan:ADVI samples may be found on the filesystem in the file `C:\\Users\\my\\AppData\\Local\\Temp\\tmpaghwf8xa\\output.csv`\n",
      "WARNING:pystan:Automatic Differentiation Variational Inference (ADVI) is an EXPERIMENTAL ALGORITHM.\n",
      "WARNING:pystan:ADVI samples may be found on the filesystem in the file `C:\\Users\\my\\AppData\\Local\\Temp\\tmpu__5pffd\\output.csv`\n",
      "WARNING:pystan:Automatic Differentiation Variational Inference (ADVI) is an EXPERIMENTAL ALGORITHM.\n",
      "WARNING:pystan:ADVI samples may be found on the filesystem in the file `C:\\Users\\my\\AppData\\Local\\Temp\\tmplost4bzw\\output.csv`\n",
      "WARNING:pystan:Automatic Differentiation Variational Inference (ADVI) is an EXPERIMENTAL ALGORITHM.\n",
      "WARNING:pystan:ADVI samples may be found on the filesystem in the file `C:\\Users\\my\\AppData\\Local\\Temp\\tmpw6zqf2yw\\output.csv`\n",
      "WARNING:pystan:Automatic Differentiation Variational Inference (ADVI) is an EXPERIMENTAL ALGORITHM.\n",
      "WARNING:pystan:ADVI samples may be found on the filesystem in the file `C:\\Users\\my\\AppData\\Local\\Temp\\tmpohr0gxc4\\output.csv`\n",
      "WARNING:pystan:Automatic Differentiation Variational Inference (ADVI) is an EXPERIMENTAL ALGORITHM.\n",
      "WARNING:pystan:ADVI samples may be found on the filesystem in the file `C:\\Users\\my\\AppData\\Local\\Temp\\tmpn74c42l7\\output.csv`\n",
      "WARNING:pystan:Automatic Differentiation Variational Inference (ADVI) is an EXPERIMENTAL ALGORITHM.\n",
      "WARNING:pystan:ADVI samples may be found on the filesystem in the file `C:\\Users\\my\\AppData\\Local\\Temp\\tmpj377vnfu\\output.csv`\n",
      "WARNING:pystan:Automatic Differentiation Variational Inference (ADVI) is an EXPERIMENTAL ALGORITHM.\n",
      "WARNING:pystan:ADVI samples may be found on the filesystem in the file `C:\\Users\\my\\AppData\\Local\\Temp\\tmpeil7onu3\\output.csv`\n",
      "WARNING:pystan:Automatic Differentiation Variational Inference (ADVI) is an EXPERIMENTAL ALGORITHM.\n",
      "WARNING:pystan:ADVI samples may be found on the filesystem in the file `C:\\Users\\my\\AppData\\Local\\Temp\\tmpbrv8ygvc\\output.csv`\n"
     ]
    },
    {
     "name": "stderr",
     "output_type": "stream",
     "text": [
      "WARNING:pystan:Automatic Differentiation Variational Inference (ADVI) is an EXPERIMENTAL ALGORITHM.\n",
      "WARNING:pystan:ADVI samples may be found on the filesystem in the file `C:\\Users\\my\\AppData\\Local\\Temp\\tmp8p7iybrw\\output.csv`\n",
      "WARNING:pystan:Automatic Differentiation Variational Inference (ADVI) is an EXPERIMENTAL ALGORITHM.\n",
      "WARNING:pystan:ADVI samples may be found on the filesystem in the file `C:\\Users\\my\\AppData\\Local\\Temp\\tmpds1qf0mh\\output.csv`\n",
      "WARNING:pystan:Automatic Differentiation Variational Inference (ADVI) is an EXPERIMENTAL ALGORITHM.\n",
      "WARNING:pystan:ADVI samples may be found on the filesystem in the file `C:\\Users\\my\\AppData\\Local\\Temp\\tmpbp3fmcn_\\output.csv`\n",
      "WARNING:pystan:Automatic Differentiation Variational Inference (ADVI) is an EXPERIMENTAL ALGORITHM.\n",
      "WARNING:pystan:ADVI samples may be found on the filesystem in the file `C:\\Users\\my\\AppData\\Local\\Temp\\tmpplkygtgv\\output.csv`\n",
      "WARNING:pystan:Automatic Differentiation Variational Inference (ADVI) is an EXPERIMENTAL ALGORITHM.\n",
      "WARNING:pystan:ADVI samples may be found on the filesystem in the file `C:\\Users\\my\\AppData\\Local\\Temp\\tmpl32lz_26\\output.csv`\n",
      "WARNING:pystan:Automatic Differentiation Variational Inference (ADVI) is an EXPERIMENTAL ALGORITHM.\n",
      "WARNING:pystan:ADVI samples may be found on the filesystem in the file `C:\\Users\\my\\AppData\\Local\\Temp\\tmp0s4goi_z\\output.csv`\n",
      "WARNING:pystan:Automatic Differentiation Variational Inference (ADVI) is an EXPERIMENTAL ALGORITHM.\n",
      "WARNING:pystan:ADVI samples may be found on the filesystem in the file `C:\\Users\\my\\AppData\\Local\\Temp\\tmpbglewdku\\output.csv`\n",
      "WARNING:pystan:Automatic Differentiation Variational Inference (ADVI) is an EXPERIMENTAL ALGORITHM.\n",
      "WARNING:pystan:ADVI samples may be found on the filesystem in the file `C:\\Users\\my\\AppData\\Local\\Temp\\tmpun13dnge\\output.csv`\n",
      "WARNING:pystan:Automatic Differentiation Variational Inference (ADVI) is an EXPERIMENTAL ALGORITHM.\n",
      "WARNING:pystan:ADVI samples may be found on the filesystem in the file `C:\\Users\\my\\AppData\\Local\\Temp\\tmp_r9z_0xz\\output.csv`\n",
      "WARNING:pystan:Automatic Differentiation Variational Inference (ADVI) is an EXPERIMENTAL ALGORITHM.\n",
      "WARNING:pystan:ADVI samples may be found on the filesystem in the file `C:\\Users\\my\\AppData\\Local\\Temp\\tmph9a2w3lk\\output.csv`\n",
      "WARNING:pystan:Automatic Differentiation Variational Inference (ADVI) is an EXPERIMENTAL ALGORITHM.\n",
      "WARNING:pystan:ADVI samples may be found on the filesystem in the file `C:\\Users\\my\\AppData\\Local\\Temp\\tmpwvvz8ca5\\output.csv`\n",
      "WARNING:pystan:Automatic Differentiation Variational Inference (ADVI) is an EXPERIMENTAL ALGORITHM.\n",
      "WARNING:pystan:ADVI samples may be found on the filesystem in the file `C:\\Users\\my\\AppData\\Local\\Temp\\tmp65a7gfxo\\output.csv`\n",
      "WARNING:pystan:Automatic Differentiation Variational Inference (ADVI) is an EXPERIMENTAL ALGORITHM.\n",
      "WARNING:pystan:ADVI samples may be found on the filesystem in the file `C:\\Users\\my\\AppData\\Local\\Temp\\tmpjdsk512r\\output.csv`\n",
      "WARNING:pystan:Automatic Differentiation Variational Inference (ADVI) is an EXPERIMENTAL ALGORITHM.\n",
      "WARNING:pystan:ADVI samples may be found on the filesystem in the file `C:\\Users\\my\\AppData\\Local\\Temp\\tmpgnungd2w\\output.csv`\n",
      "WARNING:pystan:Automatic Differentiation Variational Inference (ADVI) is an EXPERIMENTAL ALGORITHM.\n",
      "WARNING:pystan:ADVI samples may be found on the filesystem in the file `C:\\Users\\my\\AppData\\Local\\Temp\\tmp9_b4nrca\\output.csv`\n",
      "WARNING:pystan:Automatic Differentiation Variational Inference (ADVI) is an EXPERIMENTAL ALGORITHM.\n",
      "WARNING:pystan:ADVI samples may be found on the filesystem in the file `C:\\Users\\my\\AppData\\Local\\Temp\\tmpdz43lp0e\\output.csv`\n",
      "WARNING:pystan:Automatic Differentiation Variational Inference (ADVI) is an EXPERIMENTAL ALGORITHM.\n",
      "WARNING:pystan:ADVI samples may be found on the filesystem in the file `C:\\Users\\my\\AppData\\Local\\Temp\\tmpkzyegqly\\output.csv`\n",
      "WARNING:pystan:Automatic Differentiation Variational Inference (ADVI) is an EXPERIMENTAL ALGORITHM.\n",
      "WARNING:pystan:ADVI samples may be found on the filesystem in the file `C:\\Users\\my\\AppData\\Local\\Temp\\tmp49litfpx\\output.csv`\n",
      "WARNING:pystan:Automatic Differentiation Variational Inference (ADVI) is an EXPERIMENTAL ALGORITHM.\n",
      "WARNING:pystan:ADVI samples may be found on the filesystem in the file `C:\\Users\\my\\AppData\\Local\\Temp\\tmpjn0ikk5b\\output.csv`\n",
      "WARNING:pystan:Automatic Differentiation Variational Inference (ADVI) is an EXPERIMENTAL ALGORITHM.\n",
      "WARNING:pystan:ADVI samples may be found on the filesystem in the file `C:\\Users\\my\\AppData\\Local\\Temp\\tmpvb4po22j\\output.csv`\n",
      "WARNING:pystan:Automatic Differentiation Variational Inference (ADVI) is an EXPERIMENTAL ALGORITHM.\n",
      "WARNING:pystan:ADVI samples may be found on the filesystem in the file `C:\\Users\\my\\AppData\\Local\\Temp\\tmpxbnticew\\output.csv`\n",
      "WARNING:pystan:Automatic Differentiation Variational Inference (ADVI) is an EXPERIMENTAL ALGORITHM.\n",
      "WARNING:pystan:ADVI samples may be found on the filesystem in the file `C:\\Users\\my\\AppData\\Local\\Temp\\tmpk0wbdwwu\\output.csv`\n",
      "WARNING:pystan:Automatic Differentiation Variational Inference (ADVI) is an EXPERIMENTAL ALGORITHM.\n",
      "WARNING:pystan:ADVI samples may be found on the filesystem in the file `C:\\Users\\my\\AppData\\Local\\Temp\\tmpcd6_gm1q\\output.csv`\n",
      "WARNING:pystan:Automatic Differentiation Variational Inference (ADVI) is an EXPERIMENTAL ALGORITHM.\n",
      "WARNING:pystan:ADVI samples may be found on the filesystem in the file `C:\\Users\\my\\AppData\\Local\\Temp\\tmpjvwtt71_\\output.csv`\n",
      "WARNING:pystan:Automatic Differentiation Variational Inference (ADVI) is an EXPERIMENTAL ALGORITHM.\n",
      "WARNING:pystan:ADVI samples may be found on the filesystem in the file `C:\\Users\\my\\AppData\\Local\\Temp\\tmphm6mpfy3\\output.csv`\n",
      "WARNING:pystan:Automatic Differentiation Variational Inference (ADVI) is an EXPERIMENTAL ALGORITHM.\n",
      "WARNING:pystan:ADVI samples may be found on the filesystem in the file `C:\\Users\\my\\AppData\\Local\\Temp\\tmp_njq_2z3\\output.csv`\n",
      "WARNING:pystan:Automatic Differentiation Variational Inference (ADVI) is an EXPERIMENTAL ALGORITHM.\n",
      "WARNING:pystan:ADVI samples may be found on the filesystem in the file `C:\\Users\\my\\AppData\\Local\\Temp\\tmpwucw18ch\\output.csv`\n",
      "WARNING:pystan:Automatic Differentiation Variational Inference (ADVI) is an EXPERIMENTAL ALGORITHM.\n",
      "WARNING:pystan:ADVI samples may be found on the filesystem in the file `C:\\Users\\my\\AppData\\Local\\Temp\\tmpu2q2vtj4\\output.csv`\n",
      "WARNING:pystan:Automatic Differentiation Variational Inference (ADVI) is an EXPERIMENTAL ALGORITHM.\n",
      "WARNING:pystan:ADVI samples may be found on the filesystem in the file `C:\\Users\\my\\AppData\\Local\\Temp\\tmpoeffkkw_\\output.csv`\n",
      "WARNING:pystan:Automatic Differentiation Variational Inference (ADVI) is an EXPERIMENTAL ALGORITHM.\n",
      "WARNING:pystan:ADVI samples may be found on the filesystem in the file `C:\\Users\\my\\AppData\\Local\\Temp\\tmpim4cdk0m\\output.csv`\n",
      "WARNING:pystan:Automatic Differentiation Variational Inference (ADVI) is an EXPERIMENTAL ALGORITHM.\n",
      "WARNING:pystan:ADVI samples may be found on the filesystem in the file `C:\\Users\\my\\AppData\\Local\\Temp\\tmpmqt90tfv\\output.csv`\n",
      "WARNING:pystan:Automatic Differentiation Variational Inference (ADVI) is an EXPERIMENTAL ALGORITHM.\n",
      "WARNING:pystan:ADVI samples may be found on the filesystem in the file `C:\\Users\\my\\AppData\\Local\\Temp\\tmp21nex4lv\\output.csv`\n",
      "WARNING:pystan:Automatic Differentiation Variational Inference (ADVI) is an EXPERIMENTAL ALGORITHM.\n",
      "WARNING:pystan:ADVI samples may be found on the filesystem in the file `C:\\Users\\my\\AppData\\Local\\Temp\\tmpkzaxipk9\\output.csv`\n",
      "WARNING:pystan:Automatic Differentiation Variational Inference (ADVI) is an EXPERIMENTAL ALGORITHM.\n",
      "WARNING:pystan:ADVI samples may be found on the filesystem in the file `C:\\Users\\my\\AppData\\Local\\Temp\\tmpxfqhkvpg\\output.csv`\n",
      "WARNING:pystan:Automatic Differentiation Variational Inference (ADVI) is an EXPERIMENTAL ALGORITHM.\n",
      "WARNING:pystan:ADVI samples may be found on the filesystem in the file `C:\\Users\\my\\AppData\\Local\\Temp\\tmplk1z5apr\\output.csv`\n",
      "WARNING:pystan:Automatic Differentiation Variational Inference (ADVI) is an EXPERIMENTAL ALGORITHM.\n",
      "WARNING:pystan:ADVI samples may be found on the filesystem in the file `C:\\Users\\my\\AppData\\Local\\Temp\\tmplaltf6dj\\output.csv`\n"
     ]
    },
    {
     "name": "stderr",
     "output_type": "stream",
     "text": [
      "WARNING:pystan:Automatic Differentiation Variational Inference (ADVI) is an EXPERIMENTAL ALGORITHM.\n",
      "WARNING:pystan:ADVI samples may be found on the filesystem in the file `C:\\Users\\my\\AppData\\Local\\Temp\\tmpw6m3jfna\\output.csv`\n",
      "WARNING:pystan:Automatic Differentiation Variational Inference (ADVI) is an EXPERIMENTAL ALGORITHM.\n",
      "WARNING:pystan:ADVI samples may be found on the filesystem in the file `C:\\Users\\my\\AppData\\Local\\Temp\\tmp05yl0zc9\\output.csv`\n",
      "WARNING:pystan:Automatic Differentiation Variational Inference (ADVI) is an EXPERIMENTAL ALGORITHM.\n",
      "WARNING:pystan:ADVI samples may be found on the filesystem in the file `C:\\Users\\my\\AppData\\Local\\Temp\\tmpunp3k88f\\output.csv`\n",
      "WARNING:pystan:Automatic Differentiation Variational Inference (ADVI) is an EXPERIMENTAL ALGORITHM.\n",
      "WARNING:pystan:ADVI samples may be found on the filesystem in the file `C:\\Users\\my\\AppData\\Local\\Temp\\tmp5w9qj_6u\\output.csv`\n",
      "WARNING:pystan:Automatic Differentiation Variational Inference (ADVI) is an EXPERIMENTAL ALGORITHM.\n",
      "WARNING:pystan:ADVI samples may be found on the filesystem in the file `C:\\Users\\my\\AppData\\Local\\Temp\\tmpcxc4t05m\\output.csv`\n",
      "WARNING:pystan:Automatic Differentiation Variational Inference (ADVI) is an EXPERIMENTAL ALGORITHM.\n",
      "WARNING:pystan:ADVI samples may be found on the filesystem in the file `C:\\Users\\my\\AppData\\Local\\Temp\\tmpvfkqm_3w\\output.csv`\n",
      "WARNING:pystan:Automatic Differentiation Variational Inference (ADVI) is an EXPERIMENTAL ALGORITHM.\n",
      "WARNING:pystan:ADVI samples may be found on the filesystem in the file `C:\\Users\\my\\AppData\\Local\\Temp\\tmp33ajbf_i\\output.csv`\n",
      "WARNING:pystan:Automatic Differentiation Variational Inference (ADVI) is an EXPERIMENTAL ALGORITHM.\n",
      "WARNING:pystan:ADVI samples may be found on the filesystem in the file `C:\\Users\\my\\AppData\\Local\\Temp\\tmpz4_pg7si\\output.csv`\n",
      "WARNING:pystan:Automatic Differentiation Variational Inference (ADVI) is an EXPERIMENTAL ALGORITHM.\n",
      "WARNING:pystan:ADVI samples may be found on the filesystem in the file `C:\\Users\\my\\AppData\\Local\\Temp\\tmprwstucon\\output.csv`\n",
      "WARNING:pystan:Automatic Differentiation Variational Inference (ADVI) is an EXPERIMENTAL ALGORITHM.\n",
      "WARNING:pystan:ADVI samples may be found on the filesystem in the file `C:\\Users\\my\\AppData\\Local\\Temp\\tmp85eksy8d\\output.csv`\n",
      "WARNING:pystan:Automatic Differentiation Variational Inference (ADVI) is an EXPERIMENTAL ALGORITHM.\n",
      "WARNING:pystan:ADVI samples may be found on the filesystem in the file `C:\\Users\\my\\AppData\\Local\\Temp\\tmpwfeilt5t\\output.csv`\n",
      "WARNING:pystan:Automatic Differentiation Variational Inference (ADVI) is an EXPERIMENTAL ALGORITHM.\n",
      "WARNING:pystan:ADVI samples may be found on the filesystem in the file `C:\\Users\\my\\AppData\\Local\\Temp\\tmp14ftu5ln\\output.csv`\n",
      "WARNING:pystan:Automatic Differentiation Variational Inference (ADVI) is an EXPERIMENTAL ALGORITHM.\n",
      "WARNING:pystan:ADVI samples may be found on the filesystem in the file `C:\\Users\\my\\AppData\\Local\\Temp\\tmp4ees10yq\\output.csv`\n",
      "WARNING:pystan:Automatic Differentiation Variational Inference (ADVI) is an EXPERIMENTAL ALGORITHM.\n",
      "WARNING:pystan:ADVI samples may be found on the filesystem in the file `C:\\Users\\my\\AppData\\Local\\Temp\\tmpj7t1prk_\\output.csv`\n",
      "WARNING:pystan:Automatic Differentiation Variational Inference (ADVI) is an EXPERIMENTAL ALGORITHM.\n",
      "WARNING:pystan:ADVI samples may be found on the filesystem in the file `C:\\Users\\my\\AppData\\Local\\Temp\\tmp9m9iwn8p\\output.csv`\n",
      "WARNING:pystan:Automatic Differentiation Variational Inference (ADVI) is an EXPERIMENTAL ALGORITHM.\n",
      "WARNING:pystan:ADVI samples may be found on the filesystem in the file `C:\\Users\\my\\AppData\\Local\\Temp\\tmphp1t0mcb\\output.csv`\n",
      "WARNING:pystan:Automatic Differentiation Variational Inference (ADVI) is an EXPERIMENTAL ALGORITHM.\n",
      "WARNING:pystan:ADVI samples may be found on the filesystem in the file `C:\\Users\\my\\AppData\\Local\\Temp\\tmp5ii0ed15\\output.csv`\n",
      "WARNING:pystan:Automatic Differentiation Variational Inference (ADVI) is an EXPERIMENTAL ALGORITHM.\n",
      "WARNING:pystan:ADVI samples may be found on the filesystem in the file `C:\\Users\\my\\AppData\\Local\\Temp\\tmp3yg5qzmy\\output.csv`\n",
      "WARNING:pystan:Automatic Differentiation Variational Inference (ADVI) is an EXPERIMENTAL ALGORITHM.\n",
      "WARNING:pystan:ADVI samples may be found on the filesystem in the file `C:\\Users\\my\\AppData\\Local\\Temp\\tmpgtp3mmx4\\output.csv`\n",
      "WARNING:pystan:Automatic Differentiation Variational Inference (ADVI) is an EXPERIMENTAL ALGORITHM.\n",
      "WARNING:pystan:ADVI samples may be found on the filesystem in the file `C:\\Users\\my\\AppData\\Local\\Temp\\tmpeiesc45a\\output.csv`\n",
      "WARNING:pystan:Automatic Differentiation Variational Inference (ADVI) is an EXPERIMENTAL ALGORITHM.\n",
      "WARNING:pystan:ADVI samples may be found on the filesystem in the file `C:\\Users\\my\\AppData\\Local\\Temp\\tmpupcizpfd\\output.csv`\n",
      "WARNING:pystan:Automatic Differentiation Variational Inference (ADVI) is an EXPERIMENTAL ALGORITHM.\n",
      "WARNING:pystan:ADVI samples may be found on the filesystem in the file `C:\\Users\\my\\AppData\\Local\\Temp\\tmp8i0nb6yt\\output.csv`\n",
      "WARNING:pystan:Automatic Differentiation Variational Inference (ADVI) is an EXPERIMENTAL ALGORITHM.\n",
      "WARNING:pystan:ADVI samples may be found on the filesystem in the file `C:\\Users\\my\\AppData\\Local\\Temp\\tmp57ybbvyp\\output.csv`\n",
      "WARNING:pystan:Automatic Differentiation Variational Inference (ADVI) is an EXPERIMENTAL ALGORITHM.\n",
      "WARNING:pystan:ADVI samples may be found on the filesystem in the file `C:\\Users\\my\\AppData\\Local\\Temp\\tmp6o9mgpbk\\output.csv`\n",
      "WARNING:pystan:Automatic Differentiation Variational Inference (ADVI) is an EXPERIMENTAL ALGORITHM.\n",
      "WARNING:pystan:ADVI samples may be found on the filesystem in the file `C:\\Users\\my\\AppData\\Local\\Temp\\tmpvfog4pdn\\output.csv`\n",
      "WARNING:pystan:Automatic Differentiation Variational Inference (ADVI) is an EXPERIMENTAL ALGORITHM.\n",
      "WARNING:pystan:ADVI samples may be found on the filesystem in the file `C:\\Users\\my\\AppData\\Local\\Temp\\tmpn8c014iw\\output.csv`\n",
      "WARNING:pystan:Automatic Differentiation Variational Inference (ADVI) is an EXPERIMENTAL ALGORITHM.\n",
      "WARNING:pystan:ADVI samples may be found on the filesystem in the file `C:\\Users\\my\\AppData\\Local\\Temp\\tmpuuad5huk\\output.csv`\n",
      "WARNING:pystan:Automatic Differentiation Variational Inference (ADVI) is an EXPERIMENTAL ALGORITHM.\n",
      "WARNING:pystan:ADVI samples may be found on the filesystem in the file `C:\\Users\\my\\AppData\\Local\\Temp\\tmpptd00ok0\\output.csv`\n",
      "WARNING:pystan:Automatic Differentiation Variational Inference (ADVI) is an EXPERIMENTAL ALGORITHM.\n",
      "WARNING:pystan:ADVI samples may be found on the filesystem in the file `C:\\Users\\my\\AppData\\Local\\Temp\\tmpd8n8jvqr\\output.csv`\n",
      "WARNING:pystan:Automatic Differentiation Variational Inference (ADVI) is an EXPERIMENTAL ALGORITHM.\n",
      "WARNING:pystan:ADVI samples may be found on the filesystem in the file `C:\\Users\\my\\AppData\\Local\\Temp\\tmpicr1ya6_\\output.csv`\n",
      "WARNING:pystan:Automatic Differentiation Variational Inference (ADVI) is an EXPERIMENTAL ALGORITHM.\n",
      "WARNING:pystan:ADVI samples may be found on the filesystem in the file `C:\\Users\\my\\AppData\\Local\\Temp\\tmp9a9_yfsi\\output.csv`\n",
      "WARNING:pystan:Automatic Differentiation Variational Inference (ADVI) is an EXPERIMENTAL ALGORITHM.\n",
      "WARNING:pystan:ADVI samples may be found on the filesystem in the file `C:\\Users\\my\\AppData\\Local\\Temp\\tmp5kf65hpc\\output.csv`\n",
      "WARNING:pystan:Automatic Differentiation Variational Inference (ADVI) is an EXPERIMENTAL ALGORITHM.\n",
      "WARNING:pystan:ADVI samples may be found on the filesystem in the file `C:\\Users\\my\\AppData\\Local\\Temp\\tmprj7bjx8m\\output.csv`\n",
      "WARNING:pystan:Automatic Differentiation Variational Inference (ADVI) is an EXPERIMENTAL ALGORITHM.\n",
      "WARNING:pystan:ADVI samples may be found on the filesystem in the file `C:\\Users\\my\\AppData\\Local\\Temp\\tmpg7il54ol\\output.csv`\n",
      "WARNING:pystan:Automatic Differentiation Variational Inference (ADVI) is an EXPERIMENTAL ALGORITHM.\n",
      "WARNING:pystan:ADVI samples may be found on the filesystem in the file `C:\\Users\\my\\AppData\\Local\\Temp\\tmpcwq3ohi1\\output.csv`\n",
      "WARNING:pystan:Automatic Differentiation Variational Inference (ADVI) is an EXPERIMENTAL ALGORITHM.\n",
      "WARNING:pystan:ADVI samples may be found on the filesystem in the file `C:\\Users\\my\\AppData\\Local\\Temp\\tmpkhcs_d_g\\output.csv`\n",
      "WARNING:pystan:Automatic Differentiation Variational Inference (ADVI) is an EXPERIMENTAL ALGORITHM.\n"
     ]
    },
    {
     "name": "stderr",
     "output_type": "stream",
     "text": [
      "WARNING:pystan:ADVI samples may be found on the filesystem in the file `C:\\Users\\my\\AppData\\Local\\Temp\\tmpojrxp1c1\\output.csv`\n",
      "WARNING:pystan:Automatic Differentiation Variational Inference (ADVI) is an EXPERIMENTAL ALGORITHM.\n",
      "WARNING:pystan:ADVI samples may be found on the filesystem in the file `C:\\Users\\my\\AppData\\Local\\Temp\\tmpcojq0p3_\\output.csv`\n",
      "WARNING:pystan:Automatic Differentiation Variational Inference (ADVI) is an EXPERIMENTAL ALGORITHM.\n",
      "WARNING:pystan:ADVI samples may be found on the filesystem in the file `C:\\Users\\my\\AppData\\Local\\Temp\\tmpal3bvlaq\\output.csv`\n",
      "WARNING:pystan:Automatic Differentiation Variational Inference (ADVI) is an EXPERIMENTAL ALGORITHM.\n",
      "WARNING:pystan:ADVI samples may be found on the filesystem in the file `C:\\Users\\my\\AppData\\Local\\Temp\\tmpcy1i9mz9\\output.csv`\n",
      "WARNING:pystan:Automatic Differentiation Variational Inference (ADVI) is an EXPERIMENTAL ALGORITHM.\n",
      "WARNING:pystan:ADVI samples may be found on the filesystem in the file `C:\\Users\\my\\AppData\\Local\\Temp\\tmpsj9b0hfc\\output.csv`\n",
      "WARNING:pystan:Automatic Differentiation Variational Inference (ADVI) is an EXPERIMENTAL ALGORITHM.\n",
      "WARNING:pystan:ADVI samples may be found on the filesystem in the file `C:\\Users\\my\\AppData\\Local\\Temp\\tmp58ftq_er\\output.csv`\n",
      "WARNING:pystan:Automatic Differentiation Variational Inference (ADVI) is an EXPERIMENTAL ALGORITHM.\n",
      "WARNING:pystan:ADVI samples may be found on the filesystem in the file `C:\\Users\\my\\AppData\\Local\\Temp\\tmpcbo_xbbq\\output.csv`\n",
      "WARNING:pystan:Automatic Differentiation Variational Inference (ADVI) is an EXPERIMENTAL ALGORITHM.\n",
      "WARNING:pystan:ADVI samples may be found on the filesystem in the file `C:\\Users\\my\\AppData\\Local\\Temp\\tmp984xxlfs\\output.csv`\n",
      "WARNING:pystan:Automatic Differentiation Variational Inference (ADVI) is an EXPERIMENTAL ALGORITHM.\n",
      "WARNING:pystan:ADVI samples may be found on the filesystem in the file `C:\\Users\\my\\AppData\\Local\\Temp\\tmpt2gieevw\\output.csv`\n",
      "WARNING:pystan:Automatic Differentiation Variational Inference (ADVI) is an EXPERIMENTAL ALGORITHM.\n",
      "WARNING:pystan:ADVI samples may be found on the filesystem in the file `C:\\Users\\my\\AppData\\Local\\Temp\\tmpiwvo9f_m\\output.csv`\n",
      "WARNING:pystan:Automatic Differentiation Variational Inference (ADVI) is an EXPERIMENTAL ALGORITHM.\n",
      "WARNING:pystan:ADVI samples may be found on the filesystem in the file `C:\\Users\\my\\AppData\\Local\\Temp\\tmpz58d2wvs\\output.csv`\n",
      "WARNING:pystan:Automatic Differentiation Variational Inference (ADVI) is an EXPERIMENTAL ALGORITHM.\n",
      "WARNING:pystan:ADVI samples may be found on the filesystem in the file `C:\\Users\\my\\AppData\\Local\\Temp\\tmpnxcy6lr3\\output.csv`\n",
      "WARNING:pystan:Automatic Differentiation Variational Inference (ADVI) is an EXPERIMENTAL ALGORITHM.\n",
      "WARNING:pystan:ADVI samples may be found on the filesystem in the file `C:\\Users\\my\\AppData\\Local\\Temp\\tmprs1mf7k2\\output.csv`\n",
      "WARNING:pystan:Automatic Differentiation Variational Inference (ADVI) is an EXPERIMENTAL ALGORITHM.\n",
      "WARNING:pystan:ADVI samples may be found on the filesystem in the file `C:\\Users\\my\\AppData\\Local\\Temp\\tmp2wxtdsdw\\output.csv`\n",
      "WARNING:pystan:Automatic Differentiation Variational Inference (ADVI) is an EXPERIMENTAL ALGORITHM.\n",
      "WARNING:pystan:ADVI samples may be found on the filesystem in the file `C:\\Users\\my\\AppData\\Local\\Temp\\tmponipb05y\\output.csv`\n",
      "WARNING:pystan:Automatic Differentiation Variational Inference (ADVI) is an EXPERIMENTAL ALGORITHM.\n",
      "WARNING:pystan:ADVI samples may be found on the filesystem in the file `C:\\Users\\my\\AppData\\Local\\Temp\\tmplwg4yt2g\\output.csv`\n",
      "WARNING:pystan:Automatic Differentiation Variational Inference (ADVI) is an EXPERIMENTAL ALGORITHM.\n",
      "WARNING:pystan:ADVI samples may be found on the filesystem in the file `C:\\Users\\my\\AppData\\Local\\Temp\\tmp7fkre0ij\\output.csv`\n",
      "WARNING:pystan:Automatic Differentiation Variational Inference (ADVI) is an EXPERIMENTAL ALGORITHM.\n",
      "WARNING:pystan:ADVI samples may be found on the filesystem in the file `C:\\Users\\my\\AppData\\Local\\Temp\\tmp9sh7gvy4\\output.csv`\n",
      "WARNING:pystan:Automatic Differentiation Variational Inference (ADVI) is an EXPERIMENTAL ALGORITHM.\n",
      "WARNING:pystan:ADVI samples may be found on the filesystem in the file `C:\\Users\\my\\AppData\\Local\\Temp\\tmpr5cwjhxn\\output.csv`\n",
      "WARNING:pystan:Automatic Differentiation Variational Inference (ADVI) is an EXPERIMENTAL ALGORITHM.\n",
      "WARNING:pystan:ADVI samples may be found on the filesystem in the file `C:\\Users\\my\\AppData\\Local\\Temp\\tmpz1yow8eh\\output.csv`\n",
      "WARNING:pystan:Automatic Differentiation Variational Inference (ADVI) is an EXPERIMENTAL ALGORITHM.\n",
      "WARNING:pystan:ADVI samples may be found on the filesystem in the file `C:\\Users\\my\\AppData\\Local\\Temp\\tmp00e258fe\\output.csv`\n",
      "WARNING:pystan:Automatic Differentiation Variational Inference (ADVI) is an EXPERIMENTAL ALGORITHM.\n",
      "WARNING:pystan:ADVI samples may be found on the filesystem in the file `C:\\Users\\my\\AppData\\Local\\Temp\\tmpw0hyt6lz\\output.csv`\n",
      "WARNING:pystan:Automatic Differentiation Variational Inference (ADVI) is an EXPERIMENTAL ALGORITHM.\n",
      "WARNING:pystan:ADVI samples may be found on the filesystem in the file `C:\\Users\\my\\AppData\\Local\\Temp\\tmp3miy9ize\\output.csv`\n",
      "WARNING:pystan:Automatic Differentiation Variational Inference (ADVI) is an EXPERIMENTAL ALGORITHM.\n",
      "WARNING:pystan:ADVI samples may be found on the filesystem in the file `C:\\Users\\my\\AppData\\Local\\Temp\\tmpj1zbcq6j\\output.csv`\n",
      "WARNING:pystan:Automatic Differentiation Variational Inference (ADVI) is an EXPERIMENTAL ALGORITHM.\n",
      "WARNING:pystan:ADVI samples may be found on the filesystem in the file `C:\\Users\\my\\AppData\\Local\\Temp\\tmp6bz5vk7i\\output.csv`\n",
      "WARNING:pystan:Automatic Differentiation Variational Inference (ADVI) is an EXPERIMENTAL ALGORITHM.\n",
      "WARNING:pystan:ADVI samples may be found on the filesystem in the file `C:\\Users\\my\\AppData\\Local\\Temp\\tmp0916n2q2\\output.csv`\n",
      "WARNING:pystan:Automatic Differentiation Variational Inference (ADVI) is an EXPERIMENTAL ALGORITHM.\n",
      "WARNING:pystan:ADVI samples may be found on the filesystem in the file `C:\\Users\\my\\AppData\\Local\\Temp\\tmpccs2juw5\\output.csv`\n",
      "WARNING:pystan:Automatic Differentiation Variational Inference (ADVI) is an EXPERIMENTAL ALGORITHM.\n",
      "WARNING:pystan:ADVI samples may be found on the filesystem in the file `C:\\Users\\my\\AppData\\Local\\Temp\\tmpj8s_9jlb\\output.csv`\n",
      "WARNING:pystan:Automatic Differentiation Variational Inference (ADVI) is an EXPERIMENTAL ALGORITHM.\n",
      "WARNING:pystan:ADVI samples may be found on the filesystem in the file `C:\\Users\\my\\AppData\\Local\\Temp\\tmpkxne15i2\\output.csv`\n",
      "WARNING:pystan:Automatic Differentiation Variational Inference (ADVI) is an EXPERIMENTAL ALGORITHM.\n",
      "WARNING:pystan:ADVI samples may be found on the filesystem in the file `C:\\Users\\my\\AppData\\Local\\Temp\\tmpi5ty1ef3\\output.csv`\n",
      "WARNING:pystan:Automatic Differentiation Variational Inference (ADVI) is an EXPERIMENTAL ALGORITHM.\n",
      "WARNING:pystan:ADVI samples may be found on the filesystem in the file `C:\\Users\\my\\AppData\\Local\\Temp\\tmpkmum3vkz\\output.csv`\n",
      "WARNING:pystan:Automatic Differentiation Variational Inference (ADVI) is an EXPERIMENTAL ALGORITHM.\n",
      "WARNING:pystan:ADVI samples may be found on the filesystem in the file `C:\\Users\\my\\AppData\\Local\\Temp\\tmp9wwaadmw\\output.csv`\n",
      "WARNING:pystan:Automatic Differentiation Variational Inference (ADVI) is an EXPERIMENTAL ALGORITHM.\n",
      "WARNING:pystan:ADVI samples may be found on the filesystem in the file `C:\\Users\\my\\AppData\\Local\\Temp\\tmpmgxqpvls\\output.csv`\n",
      "WARNING:pystan:Automatic Differentiation Variational Inference (ADVI) is an EXPERIMENTAL ALGORITHM.\n",
      "WARNING:pystan:ADVI samples may be found on the filesystem in the file `C:\\Users\\my\\AppData\\Local\\Temp\\tmpeq4cz9_p\\output.csv`\n",
      "WARNING:pystan:Automatic Differentiation Variational Inference (ADVI) is an EXPERIMENTAL ALGORITHM.\n",
      "WARNING:pystan:ADVI samples may be found on the filesystem in the file `C:\\Users\\my\\AppData\\Local\\Temp\\tmpjdxgpyby\\output.csv`\n",
      "WARNING:pystan:Automatic Differentiation Variational Inference (ADVI) is an EXPERIMENTAL ALGORITHM.\n",
      "WARNING:pystan:ADVI samples may be found on the filesystem in the file `C:\\Users\\my\\AppData\\Local\\Temp\\tmp7btbtv3x\\output.csv`\n",
      "WARNING:pystan:Automatic Differentiation Variational Inference (ADVI) is an EXPERIMENTAL ALGORITHM.\n",
      "WARNING:pystan:ADVI samples may be found on the filesystem in the file `C:\\Users\\my\\AppData\\Local\\Temp\\tmpbrl2o8je\\output.csv`\n"
     ]
    },
    {
     "name": "stderr",
     "output_type": "stream",
     "text": [
      "WARNING:pystan:Automatic Differentiation Variational Inference (ADVI) is an EXPERIMENTAL ALGORITHM.\n",
      "WARNING:pystan:ADVI samples may be found on the filesystem in the file `C:\\Users\\my\\AppData\\Local\\Temp\\tmpmq6hjitq\\output.csv`\n",
      "WARNING:pystan:Automatic Differentiation Variational Inference (ADVI) is an EXPERIMENTAL ALGORITHM.\n",
      "WARNING:pystan:ADVI samples may be found on the filesystem in the file `C:\\Users\\my\\AppData\\Local\\Temp\\tmp0k14xash\\output.csv`\n",
      "WARNING:pystan:Automatic Differentiation Variational Inference (ADVI) is an EXPERIMENTAL ALGORITHM.\n",
      "WARNING:pystan:ADVI samples may be found on the filesystem in the file `C:\\Users\\my\\AppData\\Local\\Temp\\tmp2u2dg10x\\output.csv`\n",
      "WARNING:pystan:Automatic Differentiation Variational Inference (ADVI) is an EXPERIMENTAL ALGORITHM.\n",
      "WARNING:pystan:ADVI samples may be found on the filesystem in the file `C:\\Users\\my\\AppData\\Local\\Temp\\tmpfmljx_4i\\output.csv`\n",
      "WARNING:pystan:Automatic Differentiation Variational Inference (ADVI) is an EXPERIMENTAL ALGORITHM.\n",
      "WARNING:pystan:ADVI samples may be found on the filesystem in the file `C:\\Users\\my\\AppData\\Local\\Temp\\tmpo7ofphlv\\output.csv`\n",
      "WARNING:pystan:Automatic Differentiation Variational Inference (ADVI) is an EXPERIMENTAL ALGORITHM.\n",
      "WARNING:pystan:ADVI samples may be found on the filesystem in the file `C:\\Users\\my\\AppData\\Local\\Temp\\tmpf6jp9t9q\\output.csv`\n",
      "WARNING:pystan:Automatic Differentiation Variational Inference (ADVI) is an EXPERIMENTAL ALGORITHM.\n",
      "WARNING:pystan:ADVI samples may be found on the filesystem in the file `C:\\Users\\my\\AppData\\Local\\Temp\\tmp95d5vlr1\\output.csv`\n",
      "WARNING:pystan:Automatic Differentiation Variational Inference (ADVI) is an EXPERIMENTAL ALGORITHM.\n",
      "WARNING:pystan:ADVI samples may be found on the filesystem in the file `C:\\Users\\my\\AppData\\Local\\Temp\\tmpmgopdasw\\output.csv`\n",
      "WARNING:pystan:Automatic Differentiation Variational Inference (ADVI) is an EXPERIMENTAL ALGORITHM.\n",
      "WARNING:pystan:ADVI samples may be found on the filesystem in the file `C:\\Users\\my\\AppData\\Local\\Temp\\tmpod8arpvd\\output.csv`\n",
      "WARNING:pystan:Automatic Differentiation Variational Inference (ADVI) is an EXPERIMENTAL ALGORITHM.\n",
      "WARNING:pystan:ADVI samples may be found on the filesystem in the file `C:\\Users\\my\\AppData\\Local\\Temp\\tmpobe8i9jn\\output.csv`\n",
      "WARNING:pystan:Automatic Differentiation Variational Inference (ADVI) is an EXPERIMENTAL ALGORITHM.\n",
      "WARNING:pystan:ADVI samples may be found on the filesystem in the file `C:\\Users\\my\\AppData\\Local\\Temp\\tmpb1jlybgf\\output.csv`\n",
      "WARNING:pystan:Automatic Differentiation Variational Inference (ADVI) is an EXPERIMENTAL ALGORITHM.\n",
      "WARNING:pystan:ADVI samples may be found on the filesystem in the file `C:\\Users\\my\\AppData\\Local\\Temp\\tmpmdsnmsq0\\output.csv`\n",
      "WARNING:pystan:Automatic Differentiation Variational Inference (ADVI) is an EXPERIMENTAL ALGORITHM.\n",
      "WARNING:pystan:ADVI samples may be found on the filesystem in the file `C:\\Users\\my\\AppData\\Local\\Temp\\tmp0pecssql\\output.csv`\n",
      "WARNING:pystan:Automatic Differentiation Variational Inference (ADVI) is an EXPERIMENTAL ALGORITHM.\n",
      "WARNING:pystan:ADVI samples may be found on the filesystem in the file `C:\\Users\\my\\AppData\\Local\\Temp\\tmpx3ezyvck\\output.csv`\n",
      "WARNING:pystan:Automatic Differentiation Variational Inference (ADVI) is an EXPERIMENTAL ALGORITHM.\n",
      "WARNING:pystan:ADVI samples may be found on the filesystem in the file `C:\\Users\\my\\AppData\\Local\\Temp\\tmpqq04zmc_\\output.csv`\n",
      "WARNING:pystan:Automatic Differentiation Variational Inference (ADVI) is an EXPERIMENTAL ALGORITHM.\n",
      "WARNING:pystan:ADVI samples may be found on the filesystem in the file `C:\\Users\\my\\AppData\\Local\\Temp\\tmp_obcyfge\\output.csv`\n",
      "WARNING:pystan:Automatic Differentiation Variational Inference (ADVI) is an EXPERIMENTAL ALGORITHM.\n",
      "WARNING:pystan:ADVI samples may be found on the filesystem in the file `C:\\Users\\my\\AppData\\Local\\Temp\\tmpjxbhmyhw\\output.csv`\n",
      "WARNING:pystan:Automatic Differentiation Variational Inference (ADVI) is an EXPERIMENTAL ALGORITHM.\n",
      "WARNING:pystan:ADVI samples may be found on the filesystem in the file `C:\\Users\\my\\AppData\\Local\\Temp\\tmp1otohcah\\output.csv`\n",
      "WARNING:pystan:Automatic Differentiation Variational Inference (ADVI) is an EXPERIMENTAL ALGORITHM.\n",
      "WARNING:pystan:ADVI samples may be found on the filesystem in the file `C:\\Users\\my\\AppData\\Local\\Temp\\tmpd20k8t6x\\output.csv`\n",
      "WARNING:pystan:Automatic Differentiation Variational Inference (ADVI) is an EXPERIMENTAL ALGORITHM.\n",
      "WARNING:pystan:ADVI samples may be found on the filesystem in the file `C:\\Users\\my\\AppData\\Local\\Temp\\tmpj72ck33w\\output.csv`\n",
      "WARNING:pystan:Automatic Differentiation Variational Inference (ADVI) is an EXPERIMENTAL ALGORITHM.\n",
      "WARNING:pystan:ADVI samples may be found on the filesystem in the file `C:\\Users\\my\\AppData\\Local\\Temp\\tmp9e60a35x\\output.csv`\n",
      "WARNING:pystan:Automatic Differentiation Variational Inference (ADVI) is an EXPERIMENTAL ALGORITHM.\n",
      "WARNING:pystan:ADVI samples may be found on the filesystem in the file `C:\\Users\\my\\AppData\\Local\\Temp\\tmp74j5vb5_\\output.csv`\n",
      "WARNING:pystan:Automatic Differentiation Variational Inference (ADVI) is an EXPERIMENTAL ALGORITHM.\n",
      "WARNING:pystan:ADVI samples may be found on the filesystem in the file `C:\\Users\\my\\AppData\\Local\\Temp\\tmpuubpjkg_\\output.csv`\n",
      "WARNING:pystan:Automatic Differentiation Variational Inference (ADVI) is an EXPERIMENTAL ALGORITHM.\n",
      "WARNING:pystan:ADVI samples may be found on the filesystem in the file `C:\\Users\\my\\AppData\\Local\\Temp\\tmp88cp4gh8\\output.csv`\n",
      "WARNING:pystan:Automatic Differentiation Variational Inference (ADVI) is an EXPERIMENTAL ALGORITHM.\n",
      "WARNING:pystan:ADVI samples may be found on the filesystem in the file `C:\\Users\\my\\AppData\\Local\\Temp\\tmp7a7zb9rv\\output.csv`\n",
      "WARNING:pystan:Automatic Differentiation Variational Inference (ADVI) is an EXPERIMENTAL ALGORITHM.\n",
      "WARNING:pystan:ADVI samples may be found on the filesystem in the file `C:\\Users\\my\\AppData\\Local\\Temp\\tmp_1kggds3\\output.csv`\n",
      "WARNING:pystan:Automatic Differentiation Variational Inference (ADVI) is an EXPERIMENTAL ALGORITHM.\n",
      "WARNING:pystan:ADVI samples may be found on the filesystem in the file `C:\\Users\\my\\AppData\\Local\\Temp\\tmprsmpg52u\\output.csv`\n",
      "WARNING:pystan:Automatic Differentiation Variational Inference (ADVI) is an EXPERIMENTAL ALGORITHM.\n",
      "WARNING:pystan:ADVI samples may be found on the filesystem in the file `C:\\Users\\my\\AppData\\Local\\Temp\\tmpq6rrctxl\\output.csv`\n",
      "WARNING:pystan:Automatic Differentiation Variational Inference (ADVI) is an EXPERIMENTAL ALGORITHM.\n",
      "WARNING:pystan:ADVI samples may be found on the filesystem in the file `C:\\Users\\my\\AppData\\Local\\Temp\\tmp6wu6aj3i\\output.csv`\n",
      "WARNING:pystan:Automatic Differentiation Variational Inference (ADVI) is an EXPERIMENTAL ALGORITHM.\n",
      "WARNING:pystan:ADVI samples may be found on the filesystem in the file `C:\\Users\\my\\AppData\\Local\\Temp\\tmpu56lx9rs\\output.csv`\n",
      "WARNING:pystan:Automatic Differentiation Variational Inference (ADVI) is an EXPERIMENTAL ALGORITHM.\n",
      "WARNING:pystan:ADVI samples may be found on the filesystem in the file `C:\\Users\\my\\AppData\\Local\\Temp\\tmp2o28hdrl\\output.csv`\n",
      "WARNING:pystan:Automatic Differentiation Variational Inference (ADVI) is an EXPERIMENTAL ALGORITHM.\n",
      "WARNING:pystan:ADVI samples may be found on the filesystem in the file `C:\\Users\\my\\AppData\\Local\\Temp\\tmp5n0hbq6e\\output.csv`\n",
      "WARNING:pystan:Automatic Differentiation Variational Inference (ADVI) is an EXPERIMENTAL ALGORITHM.\n",
      "WARNING:pystan:ADVI samples may be found on the filesystem in the file `C:\\Users\\my\\AppData\\Local\\Temp\\tmpb7cv_qr9\\output.csv`\n",
      "WARNING:pystan:Automatic Differentiation Variational Inference (ADVI) is an EXPERIMENTAL ALGORITHM.\n",
      "WARNING:pystan:ADVI samples may be found on the filesystem in the file `C:\\Users\\my\\AppData\\Local\\Temp\\tmph5a427xv\\output.csv`\n",
      "WARNING:pystan:Automatic Differentiation Variational Inference (ADVI) is an EXPERIMENTAL ALGORITHM.\n",
      "WARNING:pystan:ADVI samples may be found on the filesystem in the file `C:\\Users\\my\\AppData\\Local\\Temp\\tmpvtlo0u5y\\output.csv`\n",
      "WARNING:pystan:Automatic Differentiation Variational Inference (ADVI) is an EXPERIMENTAL ALGORITHM.\n",
      "WARNING:pystan:ADVI samples may be found on the filesystem in the file `C:\\Users\\my\\AppData\\Local\\Temp\\tmp6qjnehbe\\output.csv`\n",
      "WARNING:pystan:Automatic Differentiation Variational Inference (ADVI) is an EXPERIMENTAL ALGORITHM.\n"
     ]
    },
    {
     "name": "stderr",
     "output_type": "stream",
     "text": [
      "WARNING:pystan:ADVI samples may be found on the filesystem in the file `C:\\Users\\my\\AppData\\Local\\Temp\\tmpxtuu8m6d\\output.csv`\n",
      "WARNING:pystan:Automatic Differentiation Variational Inference (ADVI) is an EXPERIMENTAL ALGORITHM.\n",
      "WARNING:pystan:ADVI samples may be found on the filesystem in the file `C:\\Users\\my\\AppData\\Local\\Temp\\tmp7m_xu0xn\\output.csv`\n",
      "WARNING:pystan:Automatic Differentiation Variational Inference (ADVI) is an EXPERIMENTAL ALGORITHM.\n",
      "WARNING:pystan:ADVI samples may be found on the filesystem in the file `C:\\Users\\my\\AppData\\Local\\Temp\\tmpdtq5x24s\\output.csv`\n",
      "WARNING:pystan:Automatic Differentiation Variational Inference (ADVI) is an EXPERIMENTAL ALGORITHM.\n",
      "WARNING:pystan:ADVI samples may be found on the filesystem in the file `C:\\Users\\my\\AppData\\Local\\Temp\\tmpdkpa5uvv\\output.csv`\n",
      "WARNING:pystan:Automatic Differentiation Variational Inference (ADVI) is an EXPERIMENTAL ALGORITHM.\n",
      "WARNING:pystan:ADVI samples may be found on the filesystem in the file `C:\\Users\\my\\AppData\\Local\\Temp\\tmp0ggspmjp\\output.csv`\n",
      "WARNING:pystan:Automatic Differentiation Variational Inference (ADVI) is an EXPERIMENTAL ALGORITHM.\n",
      "WARNING:pystan:ADVI samples may be found on the filesystem in the file `C:\\Users\\my\\AppData\\Local\\Temp\\tmptc55yjxr\\output.csv`\n",
      "WARNING:pystan:Automatic Differentiation Variational Inference (ADVI) is an EXPERIMENTAL ALGORITHM.\n",
      "WARNING:pystan:ADVI samples may be found on the filesystem in the file `C:\\Users\\my\\AppData\\Local\\Temp\\tmpkvhnsl4z\\output.csv`\n",
      "WARNING:pystan:Automatic Differentiation Variational Inference (ADVI) is an EXPERIMENTAL ALGORITHM.\n",
      "WARNING:pystan:ADVI samples may be found on the filesystem in the file `C:\\Users\\my\\AppData\\Local\\Temp\\tmp18tvdr0y\\output.csv`\n",
      "WARNING:pystan:Automatic Differentiation Variational Inference (ADVI) is an EXPERIMENTAL ALGORITHM.\n",
      "WARNING:pystan:ADVI samples may be found on the filesystem in the file `C:\\Users\\my\\AppData\\Local\\Temp\\tmp65p3158s\\output.csv`\n",
      "WARNING:pystan:Automatic Differentiation Variational Inference (ADVI) is an EXPERIMENTAL ALGORITHM.\n",
      "WARNING:pystan:ADVI samples may be found on the filesystem in the file `C:\\Users\\my\\AppData\\Local\\Temp\\tmp5o0gebql\\output.csv`\n",
      "WARNING:pystan:Automatic Differentiation Variational Inference (ADVI) is an EXPERIMENTAL ALGORITHM.\n",
      "WARNING:pystan:ADVI samples may be found on the filesystem in the file `C:\\Users\\my\\AppData\\Local\\Temp\\tmp21fqc1gv\\output.csv`\n",
      "WARNING:pystan:Automatic Differentiation Variational Inference (ADVI) is an EXPERIMENTAL ALGORITHM.\n",
      "WARNING:pystan:ADVI samples may be found on the filesystem in the file `C:\\Users\\my\\AppData\\Local\\Temp\\tmpp2vmzlvr\\output.csv`\n",
      "WARNING:pystan:Automatic Differentiation Variational Inference (ADVI) is an EXPERIMENTAL ALGORITHM.\n",
      "WARNING:pystan:ADVI samples may be found on the filesystem in the file `C:\\Users\\my\\AppData\\Local\\Temp\\tmpllnatb_v\\output.csv`\n",
      "WARNING:pystan:Automatic Differentiation Variational Inference (ADVI) is an EXPERIMENTAL ALGORITHM.\n",
      "WARNING:pystan:ADVI samples may be found on the filesystem in the file `C:\\Users\\my\\AppData\\Local\\Temp\\tmp7c6cko2d\\output.csv`\n",
      "WARNING:pystan:Automatic Differentiation Variational Inference (ADVI) is an EXPERIMENTAL ALGORITHM.\n",
      "WARNING:pystan:ADVI samples may be found on the filesystem in the file `C:\\Users\\my\\AppData\\Local\\Temp\\tmp0k3l8alp\\output.csv`\n",
      "WARNING:pystan:Automatic Differentiation Variational Inference (ADVI) is an EXPERIMENTAL ALGORITHM.\n",
      "WARNING:pystan:ADVI samples may be found on the filesystem in the file `C:\\Users\\my\\AppData\\Local\\Temp\\tmpx5kcc_sl\\output.csv`\n",
      "WARNING:pystan:Automatic Differentiation Variational Inference (ADVI) is an EXPERIMENTAL ALGORITHM.\n",
      "WARNING:pystan:ADVI samples may be found on the filesystem in the file `C:\\Users\\my\\AppData\\Local\\Temp\\tmpnuy4tnc1\\output.csv`\n",
      "WARNING:pystan:Automatic Differentiation Variational Inference (ADVI) is an EXPERIMENTAL ALGORITHM.\n",
      "WARNING:pystan:ADVI samples may be found on the filesystem in the file `C:\\Users\\my\\AppData\\Local\\Temp\\tmpexwbn63e\\output.csv`\n",
      "WARNING:pystan:Automatic Differentiation Variational Inference (ADVI) is an EXPERIMENTAL ALGORITHM.\n",
      "WARNING:pystan:ADVI samples may be found on the filesystem in the file `C:\\Users\\my\\AppData\\Local\\Temp\\tmp59ary0w2\\output.csv`\n",
      "WARNING:pystan:Automatic Differentiation Variational Inference (ADVI) is an EXPERIMENTAL ALGORITHM.\n",
      "WARNING:pystan:ADVI samples may be found on the filesystem in the file `C:\\Users\\my\\AppData\\Local\\Temp\\tmph6tv8dlf\\output.csv`\n",
      "WARNING:pystan:Automatic Differentiation Variational Inference (ADVI) is an EXPERIMENTAL ALGORITHM.\n",
      "WARNING:pystan:ADVI samples may be found on the filesystem in the file `C:\\Users\\my\\AppData\\Local\\Temp\\tmperv6psjj\\output.csv`\n",
      "WARNING:pystan:Automatic Differentiation Variational Inference (ADVI) is an EXPERIMENTAL ALGORITHM.\n",
      "WARNING:pystan:ADVI samples may be found on the filesystem in the file `C:\\Users\\my\\AppData\\Local\\Temp\\tmpjdzlbcg1\\output.csv`\n",
      "WARNING:pystan:Automatic Differentiation Variational Inference (ADVI) is an EXPERIMENTAL ALGORITHM.\n",
      "WARNING:pystan:ADVI samples may be found on the filesystem in the file `C:\\Users\\my\\AppData\\Local\\Temp\\tmpolgdqhi0\\output.csv`\n",
      "WARNING:pystan:Automatic Differentiation Variational Inference (ADVI) is an EXPERIMENTAL ALGORITHM.\n",
      "WARNING:pystan:ADVI samples may be found on the filesystem in the file `C:\\Users\\my\\AppData\\Local\\Temp\\tmpksd352a7\\output.csv`\n",
      "WARNING:pystan:Automatic Differentiation Variational Inference (ADVI) is an EXPERIMENTAL ALGORITHM.\n",
      "WARNING:pystan:ADVI samples may be found on the filesystem in the file `C:\\Users\\my\\AppData\\Local\\Temp\\tmp8x9wabpw\\output.csv`\n",
      "WARNING:pystan:Automatic Differentiation Variational Inference (ADVI) is an EXPERIMENTAL ALGORITHM.\n",
      "WARNING:pystan:ADVI samples may be found on the filesystem in the file `C:\\Users\\my\\AppData\\Local\\Temp\\tmpukb8opmy\\output.csv`\n",
      "WARNING:pystan:Automatic Differentiation Variational Inference (ADVI) is an EXPERIMENTAL ALGORITHM.\n",
      "WARNING:pystan:ADVI samples may be found on the filesystem in the file `C:\\Users\\my\\AppData\\Local\\Temp\\tmpr22ul7az\\output.csv`\n",
      "WARNING:pystan:Automatic Differentiation Variational Inference (ADVI) is an EXPERIMENTAL ALGORITHM.\n",
      "WARNING:pystan:ADVI samples may be found on the filesystem in the file `C:\\Users\\my\\AppData\\Local\\Temp\\tmp25yrlrf8\\output.csv`\n",
      "WARNING:pystan:Automatic Differentiation Variational Inference (ADVI) is an EXPERIMENTAL ALGORITHM.\n",
      "WARNING:pystan:ADVI samples may be found on the filesystem in the file `C:\\Users\\my\\AppData\\Local\\Temp\\tmp9w1pca4o\\output.csv`\n",
      "WARNING:pystan:Automatic Differentiation Variational Inference (ADVI) is an EXPERIMENTAL ALGORITHM.\n",
      "WARNING:pystan:ADVI samples may be found on the filesystem in the file `C:\\Users\\my\\AppData\\Local\\Temp\\tmpz2dzlmd0\\output.csv`\n",
      "WARNING:pystan:Automatic Differentiation Variational Inference (ADVI) is an EXPERIMENTAL ALGORITHM.\n",
      "WARNING:pystan:ADVI samples may be found on the filesystem in the file `C:\\Users\\my\\AppData\\Local\\Temp\\tmpqhz1i_vq\\output.csv`\n",
      "WARNING:pystan:Automatic Differentiation Variational Inference (ADVI) is an EXPERIMENTAL ALGORITHM.\n",
      "WARNING:pystan:ADVI samples may be found on the filesystem in the file `C:\\Users\\my\\AppData\\Local\\Temp\\tmphyj8_f9m\\output.csv`\n",
      "WARNING:pystan:Automatic Differentiation Variational Inference (ADVI) is an EXPERIMENTAL ALGORITHM.\n",
      "WARNING:pystan:ADVI samples may be found on the filesystem in the file `C:\\Users\\my\\AppData\\Local\\Temp\\tmptmflprx2\\output.csv`\n",
      "WARNING:pystan:Automatic Differentiation Variational Inference (ADVI) is an EXPERIMENTAL ALGORITHM.\n",
      "WARNING:pystan:ADVI samples may be found on the filesystem in the file `C:\\Users\\my\\AppData\\Local\\Temp\\tmp0ip_qxqr\\output.csv`\n",
      "WARNING:pystan:Automatic Differentiation Variational Inference (ADVI) is an EXPERIMENTAL ALGORITHM.\n",
      "WARNING:pystan:ADVI samples may be found on the filesystem in the file `C:\\Users\\my\\AppData\\Local\\Temp\\tmpg70_vfx_\\output.csv`\n",
      "WARNING:pystan:Automatic Differentiation Variational Inference (ADVI) is an EXPERIMENTAL ALGORITHM.\n",
      "WARNING:pystan:ADVI samples may be found on the filesystem in the file `C:\\Users\\my\\AppData\\Local\\Temp\\tmp_1fwu527\\output.csv`\n",
      "WARNING:pystan:Automatic Differentiation Variational Inference (ADVI) is an EXPERIMENTAL ALGORITHM.\n",
      "WARNING:pystan:ADVI samples may be found on the filesystem in the file `C:\\Users\\my\\AppData\\Local\\Temp\\tmp_2ja3ydk\\output.csv`\n"
     ]
    },
    {
     "name": "stderr",
     "output_type": "stream",
     "text": [
      "WARNING:pystan:Automatic Differentiation Variational Inference (ADVI) is an EXPERIMENTAL ALGORITHM.\n",
      "WARNING:pystan:ADVI samples may be found on the filesystem in the file `C:\\Users\\my\\AppData\\Local\\Temp\\tmpqj4lve19\\output.csv`\n",
      "WARNING:pystan:Automatic Differentiation Variational Inference (ADVI) is an EXPERIMENTAL ALGORITHM.\n",
      "WARNING:pystan:ADVI samples may be found on the filesystem in the file `C:\\Users\\my\\AppData\\Local\\Temp\\tmpnzv6yxff\\output.csv`\n",
      "WARNING:pystan:Automatic Differentiation Variational Inference (ADVI) is an EXPERIMENTAL ALGORITHM.\n",
      "WARNING:pystan:ADVI samples may be found on the filesystem in the file `C:\\Users\\my\\AppData\\Local\\Temp\\tmp3gy473op\\output.csv`\n",
      "WARNING:pystan:Automatic Differentiation Variational Inference (ADVI) is an EXPERIMENTAL ALGORITHM.\n",
      "WARNING:pystan:ADVI samples may be found on the filesystem in the file `C:\\Users\\my\\AppData\\Local\\Temp\\tmpr87bv9rm\\output.csv`\n",
      "WARNING:pystan:Automatic Differentiation Variational Inference (ADVI) is an EXPERIMENTAL ALGORITHM.\n",
      "WARNING:pystan:ADVI samples may be found on the filesystem in the file `C:\\Users\\my\\AppData\\Local\\Temp\\tmpsgh3op4o\\output.csv`\n",
      "WARNING:pystan:Automatic Differentiation Variational Inference (ADVI) is an EXPERIMENTAL ALGORITHM.\n",
      "WARNING:pystan:ADVI samples may be found on the filesystem in the file `C:\\Users\\my\\AppData\\Local\\Temp\\tmpqq217jl4\\output.csv`\n",
      "WARNING:pystan:Automatic Differentiation Variational Inference (ADVI) is an EXPERIMENTAL ALGORITHM.\n",
      "WARNING:pystan:ADVI samples may be found on the filesystem in the file `C:\\Users\\my\\AppData\\Local\\Temp\\tmp32vpesxv\\output.csv`\n",
      "WARNING:pystan:Automatic Differentiation Variational Inference (ADVI) is an EXPERIMENTAL ALGORITHM.\n",
      "WARNING:pystan:ADVI samples may be found on the filesystem in the file `C:\\Users\\my\\AppData\\Local\\Temp\\tmp93c24iuv\\output.csv`\n",
      "WARNING:pystan:Automatic Differentiation Variational Inference (ADVI) is an EXPERIMENTAL ALGORITHM.\n",
      "WARNING:pystan:ADVI samples may be found on the filesystem in the file `C:\\Users\\my\\AppData\\Local\\Temp\\tmp6jsao8pw\\output.csv`\n",
      "WARNING:pystan:Automatic Differentiation Variational Inference (ADVI) is an EXPERIMENTAL ALGORITHM.\n",
      "WARNING:pystan:ADVI samples may be found on the filesystem in the file `C:\\Users\\my\\AppData\\Local\\Temp\\tmp6uw78tb5\\output.csv`\n",
      "WARNING:pystan:Automatic Differentiation Variational Inference (ADVI) is an EXPERIMENTAL ALGORITHM.\n",
      "WARNING:pystan:ADVI samples may be found on the filesystem in the file `C:\\Users\\my\\AppData\\Local\\Temp\\tmpvp6vviiw\\output.csv`\n",
      "WARNING:pystan:Automatic Differentiation Variational Inference (ADVI) is an EXPERIMENTAL ALGORITHM.\n",
      "WARNING:pystan:ADVI samples may be found on the filesystem in the file `C:\\Users\\my\\AppData\\Local\\Temp\\tmpsbfhldw4\\output.csv`\n",
      "WARNING:pystan:Automatic Differentiation Variational Inference (ADVI) is an EXPERIMENTAL ALGORITHM.\n",
      "WARNING:pystan:ADVI samples may be found on the filesystem in the file `C:\\Users\\my\\AppData\\Local\\Temp\\tmpw245hpnx\\output.csv`\n",
      "WARNING:pystan:Automatic Differentiation Variational Inference (ADVI) is an EXPERIMENTAL ALGORITHM.\n",
      "WARNING:pystan:ADVI samples may be found on the filesystem in the file `C:\\Users\\my\\AppData\\Local\\Temp\\tmppxd0_j3a\\output.csv`\n",
      "WARNING:pystan:Automatic Differentiation Variational Inference (ADVI) is an EXPERIMENTAL ALGORITHM.\n",
      "WARNING:pystan:ADVI samples may be found on the filesystem in the file `C:\\Users\\my\\AppData\\Local\\Temp\\tmpb9g3uflu\\output.csv`\n",
      "WARNING:pystan:Automatic Differentiation Variational Inference (ADVI) is an EXPERIMENTAL ALGORITHM.\n",
      "WARNING:pystan:ADVI samples may be found on the filesystem in the file `C:\\Users\\my\\AppData\\Local\\Temp\\tmpso6hlv1e\\output.csv`\n",
      "WARNING:pystan:Automatic Differentiation Variational Inference (ADVI) is an EXPERIMENTAL ALGORITHM.\n",
      "WARNING:pystan:ADVI samples may be found on the filesystem in the file `C:\\Users\\my\\AppData\\Local\\Temp\\tmphb_o8zje\\output.csv`\n",
      "WARNING:pystan:Automatic Differentiation Variational Inference (ADVI) is an EXPERIMENTAL ALGORITHM.\n",
      "WARNING:pystan:ADVI samples may be found on the filesystem in the file `C:\\Users\\my\\AppData\\Local\\Temp\\tmpymc3ldhq\\output.csv`\n",
      "WARNING:pystan:Automatic Differentiation Variational Inference (ADVI) is an EXPERIMENTAL ALGORITHM.\n",
      "WARNING:pystan:ADVI samples may be found on the filesystem in the file `C:\\Users\\my\\AppData\\Local\\Temp\\tmpjvhgqfog\\output.csv`\n",
      "WARNING:pystan:Automatic Differentiation Variational Inference (ADVI) is an EXPERIMENTAL ALGORITHM.\n",
      "WARNING:pystan:ADVI samples may be found on the filesystem in the file `C:\\Users\\my\\AppData\\Local\\Temp\\tmp8s85be62\\output.csv`\n",
      "WARNING:pystan:Automatic Differentiation Variational Inference (ADVI) is an EXPERIMENTAL ALGORITHM.\n",
      "WARNING:pystan:ADVI samples may be found on the filesystem in the file `C:\\Users\\my\\AppData\\Local\\Temp\\tmp5vtfmi5g\\output.csv`\n",
      "WARNING:pystan:Automatic Differentiation Variational Inference (ADVI) is an EXPERIMENTAL ALGORITHM.\n",
      "WARNING:pystan:ADVI samples may be found on the filesystem in the file `C:\\Users\\my\\AppData\\Local\\Temp\\tmps9nos51p\\output.csv`\n",
      "WARNING:pystan:Automatic Differentiation Variational Inference (ADVI) is an EXPERIMENTAL ALGORITHM.\n",
      "WARNING:pystan:ADVI samples may be found on the filesystem in the file `C:\\Users\\my\\AppData\\Local\\Temp\\tmp0cqoo9ho\\output.csv`\n",
      "WARNING:pystan:Automatic Differentiation Variational Inference (ADVI) is an EXPERIMENTAL ALGORITHM.\n",
      "WARNING:pystan:ADVI samples may be found on the filesystem in the file `C:\\Users\\my\\AppData\\Local\\Temp\\tmp3506isxa\\output.csv`\n",
      "WARNING:pystan:Automatic Differentiation Variational Inference (ADVI) is an EXPERIMENTAL ALGORITHM.\n",
      "WARNING:pystan:ADVI samples may be found on the filesystem in the file `C:\\Users\\my\\AppData\\Local\\Temp\\tmpioffwpba\\output.csv`\n",
      "WARNING:pystan:Automatic Differentiation Variational Inference (ADVI) is an EXPERIMENTAL ALGORITHM.\n",
      "WARNING:pystan:ADVI samples may be found on the filesystem in the file `C:\\Users\\my\\AppData\\Local\\Temp\\tmphpgxhl4q\\output.csv`\n",
      "WARNING:pystan:Automatic Differentiation Variational Inference (ADVI) is an EXPERIMENTAL ALGORITHM.\n",
      "WARNING:pystan:ADVI samples may be found on the filesystem in the file `C:\\Users\\my\\AppData\\Local\\Temp\\tmp_mn5qoww\\output.csv`\n",
      "WARNING:pystan:Automatic Differentiation Variational Inference (ADVI) is an EXPERIMENTAL ALGORITHM.\n",
      "WARNING:pystan:ADVI samples may be found on the filesystem in the file `C:\\Users\\my\\AppData\\Local\\Temp\\tmpwe2ijnt7\\output.csv`\n",
      "WARNING:pystan:Automatic Differentiation Variational Inference (ADVI) is an EXPERIMENTAL ALGORITHM.\n",
      "WARNING:pystan:ADVI samples may be found on the filesystem in the file `C:\\Users\\my\\AppData\\Local\\Temp\\tmp_5_qsgdh\\output.csv`\n",
      "WARNING:pystan:Automatic Differentiation Variational Inference (ADVI) is an EXPERIMENTAL ALGORITHM.\n",
      "WARNING:pystan:ADVI samples may be found on the filesystem in the file `C:\\Users\\my\\AppData\\Local\\Temp\\tmp86uzw49k\\output.csv`\n",
      "WARNING:pystan:Automatic Differentiation Variational Inference (ADVI) is an EXPERIMENTAL ALGORITHM.\n",
      "WARNING:pystan:ADVI samples may be found on the filesystem in the file `C:\\Users\\my\\AppData\\Local\\Temp\\tmpb8okb34m\\output.csv`\n",
      "WARNING:pystan:Automatic Differentiation Variational Inference (ADVI) is an EXPERIMENTAL ALGORITHM.\n",
      "WARNING:pystan:ADVI samples may be found on the filesystem in the file `C:\\Users\\my\\AppData\\Local\\Temp\\tmpuyyygwiy\\output.csv`\n",
      "WARNING:pystan:Automatic Differentiation Variational Inference (ADVI) is an EXPERIMENTAL ALGORITHM.\n",
      "WARNING:pystan:ADVI samples may be found on the filesystem in the file `C:\\Users\\my\\AppData\\Local\\Temp\\tmp5u4l6h3k\\output.csv`\n",
      "WARNING:pystan:Automatic Differentiation Variational Inference (ADVI) is an EXPERIMENTAL ALGORITHM.\n",
      "WARNING:pystan:ADVI samples may be found on the filesystem in the file `C:\\Users\\my\\AppData\\Local\\Temp\\tmpm0cncqhx\\output.csv`\n",
      "WARNING:pystan:Automatic Differentiation Variational Inference (ADVI) is an EXPERIMENTAL ALGORITHM.\n",
      "WARNING:pystan:ADVI samples may be found on the filesystem in the file `C:\\Users\\my\\AppData\\Local\\Temp\\tmp6e6pcu73\\output.csv`\n",
      "WARNING:pystan:Automatic Differentiation Variational Inference (ADVI) is an EXPERIMENTAL ALGORITHM.\n",
      "WARNING:pystan:ADVI samples may be found on the filesystem in the file `C:\\Users\\my\\AppData\\Local\\Temp\\tmp9zz11azo\\output.csv`\n",
      "WARNING:pystan:Automatic Differentiation Variational Inference (ADVI) is an EXPERIMENTAL ALGORITHM.\n"
     ]
    },
    {
     "name": "stderr",
     "output_type": "stream",
     "text": [
      "WARNING:pystan:ADVI samples may be found on the filesystem in the file `C:\\Users\\my\\AppData\\Local\\Temp\\tmpo_gdr3x_\\output.csv`\n",
      "WARNING:pystan:Automatic Differentiation Variational Inference (ADVI) is an EXPERIMENTAL ALGORITHM.\n",
      "WARNING:pystan:ADVI samples may be found on the filesystem in the file `C:\\Users\\my\\AppData\\Local\\Temp\\tmpc7_mszx3\\output.csv`\n",
      "WARNING:pystan:Automatic Differentiation Variational Inference (ADVI) is an EXPERIMENTAL ALGORITHM.\n",
      "WARNING:pystan:ADVI samples may be found on the filesystem in the file `C:\\Users\\my\\AppData\\Local\\Temp\\tmp0ebrstat\\output.csv`\n",
      "WARNING:pystan:Automatic Differentiation Variational Inference (ADVI) is an EXPERIMENTAL ALGORITHM.\n",
      "WARNING:pystan:ADVI samples may be found on the filesystem in the file `C:\\Users\\my\\AppData\\Local\\Temp\\tmphawa0tk9\\output.csv`\n",
      "WARNING:pystan:Automatic Differentiation Variational Inference (ADVI) is an EXPERIMENTAL ALGORITHM.\n",
      "WARNING:pystan:ADVI samples may be found on the filesystem in the file `C:\\Users\\my\\AppData\\Local\\Temp\\tmph28uaad8\\output.csv`\n",
      "WARNING:pystan:Automatic Differentiation Variational Inference (ADVI) is an EXPERIMENTAL ALGORITHM.\n",
      "WARNING:pystan:ADVI samples may be found on the filesystem in the file `C:\\Users\\my\\AppData\\Local\\Temp\\tmpseuqa1cn\\output.csv`\n",
      "WARNING:pystan:Automatic Differentiation Variational Inference (ADVI) is an EXPERIMENTAL ALGORITHM.\n",
      "WARNING:pystan:ADVI samples may be found on the filesystem in the file `C:\\Users\\my\\AppData\\Local\\Temp\\tmp6otuetv9\\output.csv`\n",
      "WARNING:pystan:Automatic Differentiation Variational Inference (ADVI) is an EXPERIMENTAL ALGORITHM.\n",
      "WARNING:pystan:ADVI samples may be found on the filesystem in the file `C:\\Users\\my\\AppData\\Local\\Temp\\tmptbptsmkc\\output.csv`\n",
      "WARNING:pystan:Automatic Differentiation Variational Inference (ADVI) is an EXPERIMENTAL ALGORITHM.\n",
      "WARNING:pystan:ADVI samples may be found on the filesystem in the file `C:\\Users\\my\\AppData\\Local\\Temp\\tmp583ll1ee\\output.csv`\n",
      "WARNING:pystan:Automatic Differentiation Variational Inference (ADVI) is an EXPERIMENTAL ALGORITHM.\n",
      "WARNING:pystan:ADVI samples may be found on the filesystem in the file `C:\\Users\\my\\AppData\\Local\\Temp\\tmphe6bxxth\\output.csv`\n",
      "WARNING:pystan:Automatic Differentiation Variational Inference (ADVI) is an EXPERIMENTAL ALGORITHM.\n",
      "WARNING:pystan:ADVI samples may be found on the filesystem in the file `C:\\Users\\my\\AppData\\Local\\Temp\\tmp00uod5sl\\output.csv`\n",
      "WARNING:pystan:Automatic Differentiation Variational Inference (ADVI) is an EXPERIMENTAL ALGORITHM.\n",
      "WARNING:pystan:ADVI samples may be found on the filesystem in the file `C:\\Users\\my\\AppData\\Local\\Temp\\tmpyg7mzcp1\\output.csv`\n",
      "WARNING:pystan:Automatic Differentiation Variational Inference (ADVI) is an EXPERIMENTAL ALGORITHM.\n",
      "WARNING:pystan:ADVI samples may be found on the filesystem in the file `C:\\Users\\my\\AppData\\Local\\Temp\\tmptlydmjfs\\output.csv`\n",
      "WARNING:pystan:Automatic Differentiation Variational Inference (ADVI) is an EXPERIMENTAL ALGORITHM.\n",
      "WARNING:pystan:ADVI samples may be found on the filesystem in the file `C:\\Users\\my\\AppData\\Local\\Temp\\tmpo521lslb\\output.csv`\n",
      "WARNING:pystan:Automatic Differentiation Variational Inference (ADVI) is an EXPERIMENTAL ALGORITHM.\n",
      "WARNING:pystan:ADVI samples may be found on the filesystem in the file `C:\\Users\\my\\AppData\\Local\\Temp\\tmp64f6pi9s\\output.csv`\n",
      "WARNING:pystan:Automatic Differentiation Variational Inference (ADVI) is an EXPERIMENTAL ALGORITHM.\n",
      "WARNING:pystan:ADVI samples may be found on the filesystem in the file `C:\\Users\\my\\AppData\\Local\\Temp\\tmprvl2fsw4\\output.csv`\n",
      "WARNING:pystan:Automatic Differentiation Variational Inference (ADVI) is an EXPERIMENTAL ALGORITHM.\n",
      "WARNING:pystan:ADVI samples may be found on the filesystem in the file `C:\\Users\\my\\AppData\\Local\\Temp\\tmp8ecogs3p\\output.csv`\n",
      "WARNING:pystan:Automatic Differentiation Variational Inference (ADVI) is an EXPERIMENTAL ALGORITHM.\n",
      "WARNING:pystan:ADVI samples may be found on the filesystem in the file `C:\\Users\\my\\AppData\\Local\\Temp\\tmpwa483b_x\\output.csv`\n",
      "WARNING:pystan:Automatic Differentiation Variational Inference (ADVI) is an EXPERIMENTAL ALGORITHM.\n",
      "WARNING:pystan:ADVI samples may be found on the filesystem in the file `C:\\Users\\my\\AppData\\Local\\Temp\\tmpm77wxtqi\\output.csv`\n",
      "WARNING:pystan:Automatic Differentiation Variational Inference (ADVI) is an EXPERIMENTAL ALGORITHM.\n",
      "WARNING:pystan:ADVI samples may be found on the filesystem in the file `C:\\Users\\my\\AppData\\Local\\Temp\\tmpbtfpr82d\\output.csv`\n",
      "WARNING:pystan:Automatic Differentiation Variational Inference (ADVI) is an EXPERIMENTAL ALGORITHM.\n",
      "WARNING:pystan:ADVI samples may be found on the filesystem in the file `C:\\Users\\my\\AppData\\Local\\Temp\\tmpk5wvg9eb\\output.csv`\n",
      "WARNING:pystan:Automatic Differentiation Variational Inference (ADVI) is an EXPERIMENTAL ALGORITHM.\n",
      "WARNING:pystan:ADVI samples may be found on the filesystem in the file `C:\\Users\\my\\AppData\\Local\\Temp\\tmpnl_e5wva\\output.csv`\n",
      "WARNING:pystan:Automatic Differentiation Variational Inference (ADVI) is an EXPERIMENTAL ALGORITHM.\n",
      "WARNING:pystan:ADVI samples may be found on the filesystem in the file `C:\\Users\\my\\AppData\\Local\\Temp\\tmp57oco0dc\\output.csv`\n",
      "WARNING:pystan:Automatic Differentiation Variational Inference (ADVI) is an EXPERIMENTAL ALGORITHM.\n",
      "WARNING:pystan:ADVI samples may be found on the filesystem in the file `C:\\Users\\my\\AppData\\Local\\Temp\\tmpq15s2vm5\\output.csv`\n",
      "WARNING:pystan:Automatic Differentiation Variational Inference (ADVI) is an EXPERIMENTAL ALGORITHM.\n",
      "WARNING:pystan:ADVI samples may be found on the filesystem in the file `C:\\Users\\my\\AppData\\Local\\Temp\\tmptzx6gvd2\\output.csv`\n",
      "WARNING:pystan:Automatic Differentiation Variational Inference (ADVI) is an EXPERIMENTAL ALGORITHM.\n",
      "WARNING:pystan:ADVI samples may be found on the filesystem in the file `C:\\Users\\my\\AppData\\Local\\Temp\\tmpvnhotvh3\\output.csv`\n",
      "WARNING:pystan:Automatic Differentiation Variational Inference (ADVI) is an EXPERIMENTAL ALGORITHM.\n",
      "WARNING:pystan:ADVI samples may be found on the filesystem in the file `C:\\Users\\my\\AppData\\Local\\Temp\\tmpj6oad_0x\\output.csv`\n",
      "WARNING:pystan:Automatic Differentiation Variational Inference (ADVI) is an EXPERIMENTAL ALGORITHM.\n",
      "WARNING:pystan:ADVI samples may be found on the filesystem in the file `C:\\Users\\my\\AppData\\Local\\Temp\\tmpjen4t10h\\output.csv`\n",
      "WARNING:pystan:Automatic Differentiation Variational Inference (ADVI) is an EXPERIMENTAL ALGORITHM.\n",
      "WARNING:pystan:ADVI samples may be found on the filesystem in the file `C:\\Users\\my\\AppData\\Local\\Temp\\tmpoe0lbt5w\\output.csv`\n",
      "WARNING:pystan:Automatic Differentiation Variational Inference (ADVI) is an EXPERIMENTAL ALGORITHM.\n",
      "WARNING:pystan:ADVI samples may be found on the filesystem in the file `C:\\Users\\my\\AppData\\Local\\Temp\\tmpb_p9ssdf\\output.csv`\n",
      "WARNING:pystan:Automatic Differentiation Variational Inference (ADVI) is an EXPERIMENTAL ALGORITHM.\n",
      "WARNING:pystan:ADVI samples may be found on the filesystem in the file `C:\\Users\\my\\AppData\\Local\\Temp\\tmpj5bjffg9\\output.csv`\n",
      "WARNING:pystan:Automatic Differentiation Variational Inference (ADVI) is an EXPERIMENTAL ALGORITHM.\n",
      "WARNING:pystan:ADVI samples may be found on the filesystem in the file `C:\\Users\\my\\AppData\\Local\\Temp\\tmp5erc0cwn\\output.csv`\n",
      "WARNING:pystan:Automatic Differentiation Variational Inference (ADVI) is an EXPERIMENTAL ALGORITHM.\n",
      "WARNING:pystan:ADVI samples may be found on the filesystem in the file `C:\\Users\\my\\AppData\\Local\\Temp\\tmpbyeudfpg\\output.csv`\n",
      "WARNING:pystan:Automatic Differentiation Variational Inference (ADVI) is an EXPERIMENTAL ALGORITHM.\n",
      "WARNING:pystan:ADVI samples may be found on the filesystem in the file `C:\\Users\\my\\AppData\\Local\\Temp\\tmp06gza41s\\output.csv`\n",
      "WARNING:pystan:Automatic Differentiation Variational Inference (ADVI) is an EXPERIMENTAL ALGORITHM.\n",
      "WARNING:pystan:ADVI samples may be found on the filesystem in the file `C:\\Users\\my\\AppData\\Local\\Temp\\tmp4jksg7tr\\output.csv`\n",
      "WARNING:pystan:Automatic Differentiation Variational Inference (ADVI) is an EXPERIMENTAL ALGORITHM.\n",
      "WARNING:pystan:ADVI samples may be found on the filesystem in the file `C:\\Users\\my\\AppData\\Local\\Temp\\tmp5aowt135\\output.csv`\n",
      "WARNING:pystan:Automatic Differentiation Variational Inference (ADVI) is an EXPERIMENTAL ALGORITHM.\n",
      "WARNING:pystan:ADVI samples may be found on the filesystem in the file `C:\\Users\\my\\AppData\\Local\\Temp\\tmph__8ebxs\\output.csv`\n"
     ]
    },
    {
     "name": "stderr",
     "output_type": "stream",
     "text": [
      "WARNING:pystan:Automatic Differentiation Variational Inference (ADVI) is an EXPERIMENTAL ALGORITHM.\n",
      "WARNING:pystan:ADVI samples may be found on the filesystem in the file `C:\\Users\\my\\AppData\\Local\\Temp\\tmpxlm_x6hr\\output.csv`\n",
      "WARNING:pystan:Automatic Differentiation Variational Inference (ADVI) is an EXPERIMENTAL ALGORITHM.\n",
      "WARNING:pystan:ADVI samples may be found on the filesystem in the file `C:\\Users\\my\\AppData\\Local\\Temp\\tmp37onigys\\output.csv`\n",
      "WARNING:pystan:Automatic Differentiation Variational Inference (ADVI) is an EXPERIMENTAL ALGORITHM.\n",
      "WARNING:pystan:ADVI samples may be found on the filesystem in the file `C:\\Users\\my\\AppData\\Local\\Temp\\tmppn_xdh71\\output.csv`\n",
      "WARNING:pystan:Automatic Differentiation Variational Inference (ADVI) is an EXPERIMENTAL ALGORITHM.\n",
      "WARNING:pystan:ADVI samples may be found on the filesystem in the file `C:\\Users\\my\\AppData\\Local\\Temp\\tmpb72ib_4q\\output.csv`\n",
      "WARNING:pystan:Automatic Differentiation Variational Inference (ADVI) is an EXPERIMENTAL ALGORITHM.\n",
      "WARNING:pystan:ADVI samples may be found on the filesystem in the file `C:\\Users\\my\\AppData\\Local\\Temp\\tmpn5wp3spm\\output.csv`\n",
      "WARNING:pystan:Automatic Differentiation Variational Inference (ADVI) is an EXPERIMENTAL ALGORITHM.\n",
      "WARNING:pystan:ADVI samples may be found on the filesystem in the file `C:\\Users\\my\\AppData\\Local\\Temp\\tmp86f1njdr\\output.csv`\n",
      "WARNING:pystan:Automatic Differentiation Variational Inference (ADVI) is an EXPERIMENTAL ALGORITHM.\n",
      "WARNING:pystan:ADVI samples may be found on the filesystem in the file `C:\\Users\\my\\AppData\\Local\\Temp\\tmposi3axiq\\output.csv`\n",
      "WARNING:pystan:Automatic Differentiation Variational Inference (ADVI) is an EXPERIMENTAL ALGORITHM.\n",
      "WARNING:pystan:ADVI samples may be found on the filesystem in the file `C:\\Users\\my\\AppData\\Local\\Temp\\tmpn_zzzju2\\output.csv`\n",
      "WARNING:pystan:Automatic Differentiation Variational Inference (ADVI) is an EXPERIMENTAL ALGORITHM.\n",
      "WARNING:pystan:ADVI samples may be found on the filesystem in the file `C:\\Users\\my\\AppData\\Local\\Temp\\tmp06y8ckvx\\output.csv`\n",
      "WARNING:pystan:Automatic Differentiation Variational Inference (ADVI) is an EXPERIMENTAL ALGORITHM.\n",
      "WARNING:pystan:ADVI samples may be found on the filesystem in the file `C:\\Users\\my\\AppData\\Local\\Temp\\tmp39tha8i1\\output.csv`\n",
      "WARNING:pystan:Automatic Differentiation Variational Inference (ADVI) is an EXPERIMENTAL ALGORITHM.\n",
      "WARNING:pystan:ADVI samples may be found on the filesystem in the file `C:\\Users\\my\\AppData\\Local\\Temp\\tmp4bgpvdrz\\output.csv`\n",
      "WARNING:pystan:Automatic Differentiation Variational Inference (ADVI) is an EXPERIMENTAL ALGORITHM.\n",
      "WARNING:pystan:ADVI samples may be found on the filesystem in the file `C:\\Users\\my\\AppData\\Local\\Temp\\tmp1cbdxigw\\output.csv`\n",
      "WARNING:pystan:Automatic Differentiation Variational Inference (ADVI) is an EXPERIMENTAL ALGORITHM.\n",
      "WARNING:pystan:ADVI samples may be found on the filesystem in the file `C:\\Users\\my\\AppData\\Local\\Temp\\tmp0kq801u5\\output.csv`\n",
      "WARNING:pystan:Automatic Differentiation Variational Inference (ADVI) is an EXPERIMENTAL ALGORITHM.\n",
      "WARNING:pystan:ADVI samples may be found on the filesystem in the file `C:\\Users\\my\\AppData\\Local\\Temp\\tmp5gd0bnrg\\output.csv`\n",
      "WARNING:pystan:Automatic Differentiation Variational Inference (ADVI) is an EXPERIMENTAL ALGORITHM.\n",
      "WARNING:pystan:ADVI samples may be found on the filesystem in the file `C:\\Users\\my\\AppData\\Local\\Temp\\tmptia6pqht\\output.csv`\n",
      "WARNING:pystan:Automatic Differentiation Variational Inference (ADVI) is an EXPERIMENTAL ALGORITHM.\n",
      "WARNING:pystan:ADVI samples may be found on the filesystem in the file `C:\\Users\\my\\AppData\\Local\\Temp\\tmp6g6w7nlp\\output.csv`\n",
      "WARNING:pystan:Automatic Differentiation Variational Inference (ADVI) is an EXPERIMENTAL ALGORITHM.\n",
      "WARNING:pystan:ADVI samples may be found on the filesystem in the file `C:\\Users\\my\\AppData\\Local\\Temp\\tmpj0elpous\\output.csv`\n",
      "WARNING:pystan:Automatic Differentiation Variational Inference (ADVI) is an EXPERIMENTAL ALGORITHM.\n",
      "WARNING:pystan:ADVI samples may be found on the filesystem in the file `C:\\Users\\my\\AppData\\Local\\Temp\\tmppq4oa6b4\\output.csv`\n",
      "WARNING:pystan:Automatic Differentiation Variational Inference (ADVI) is an EXPERIMENTAL ALGORITHM.\n",
      "WARNING:pystan:ADVI samples may be found on the filesystem in the file `C:\\Users\\my\\AppData\\Local\\Temp\\tmpynpffinl\\output.csv`\n",
      "WARNING:pystan:Automatic Differentiation Variational Inference (ADVI) is an EXPERIMENTAL ALGORITHM.\n",
      "WARNING:pystan:ADVI samples may be found on the filesystem in the file `C:\\Users\\my\\AppData\\Local\\Temp\\tmpozxf5iut\\output.csv`\n",
      "WARNING:pystan:Automatic Differentiation Variational Inference (ADVI) is an EXPERIMENTAL ALGORITHM.\n",
      "WARNING:pystan:ADVI samples may be found on the filesystem in the file `C:\\Users\\my\\AppData\\Local\\Temp\\tmp4eyavrjs\\output.csv`\n",
      "WARNING:pystan:Automatic Differentiation Variational Inference (ADVI) is an EXPERIMENTAL ALGORITHM.\n",
      "WARNING:pystan:ADVI samples may be found on the filesystem in the file `C:\\Users\\my\\AppData\\Local\\Temp\\tmpxg_lgeh0\\output.csv`\n",
      "WARNING:pystan:Automatic Differentiation Variational Inference (ADVI) is an EXPERIMENTAL ALGORITHM.\n",
      "WARNING:pystan:ADVI samples may be found on the filesystem in the file `C:\\Users\\my\\AppData\\Local\\Temp\\tmpcvzobgz0\\output.csv`\n",
      "WARNING:pystan:Automatic Differentiation Variational Inference (ADVI) is an EXPERIMENTAL ALGORITHM.\n",
      "WARNING:pystan:ADVI samples may be found on the filesystem in the file `C:\\Users\\my\\AppData\\Local\\Temp\\tmpe9nxu4mw\\output.csv`\n",
      "WARNING:pystan:Automatic Differentiation Variational Inference (ADVI) is an EXPERIMENTAL ALGORITHM.\n",
      "WARNING:pystan:ADVI samples may be found on the filesystem in the file `C:\\Users\\my\\AppData\\Local\\Temp\\tmpxf5zmznn\\output.csv`\n",
      "WARNING:pystan:Automatic Differentiation Variational Inference (ADVI) is an EXPERIMENTAL ALGORITHM.\n",
      "WARNING:pystan:ADVI samples may be found on the filesystem in the file `C:\\Users\\my\\AppData\\Local\\Temp\\tmpygmw2uh7\\output.csv`\n",
      "WARNING:pystan:Automatic Differentiation Variational Inference (ADVI) is an EXPERIMENTAL ALGORITHM.\n",
      "WARNING:pystan:ADVI samples may be found on the filesystem in the file `C:\\Users\\my\\AppData\\Local\\Temp\\tmp9qhhofo0\\output.csv`\n",
      "WARNING:pystan:Automatic Differentiation Variational Inference (ADVI) is an EXPERIMENTAL ALGORITHM.\n",
      "WARNING:pystan:ADVI samples may be found on the filesystem in the file `C:\\Users\\my\\AppData\\Local\\Temp\\tmpx0rxwj2r\\output.csv`\n",
      "WARNING:pystan:Automatic Differentiation Variational Inference (ADVI) is an EXPERIMENTAL ALGORITHM.\n",
      "WARNING:pystan:ADVI samples may be found on the filesystem in the file `C:\\Users\\my\\AppData\\Local\\Temp\\tmpffzsfjls\\output.csv`\n",
      "WARNING:pystan:Automatic Differentiation Variational Inference (ADVI) is an EXPERIMENTAL ALGORITHM.\n",
      "WARNING:pystan:ADVI samples may be found on the filesystem in the file `C:\\Users\\my\\AppData\\Local\\Temp\\tmpxo03rs4u\\output.csv`\n",
      "WARNING:pystan:Automatic Differentiation Variational Inference (ADVI) is an EXPERIMENTAL ALGORITHM.\n",
      "WARNING:pystan:ADVI samples may be found on the filesystem in the file `C:\\Users\\my\\AppData\\Local\\Temp\\tmpuax3sc12\\output.csv`\n",
      "WARNING:pystan:Automatic Differentiation Variational Inference (ADVI) is an EXPERIMENTAL ALGORITHM.\n",
      "WARNING:pystan:ADVI samples may be found on the filesystem in the file `C:\\Users\\my\\AppData\\Local\\Temp\\tmp8ueagdt0\\output.csv`\n",
      "WARNING:pystan:Automatic Differentiation Variational Inference (ADVI) is an EXPERIMENTAL ALGORITHM.\n",
      "WARNING:pystan:ADVI samples may be found on the filesystem in the file `C:\\Users\\my\\AppData\\Local\\Temp\\tmpz7d4qmua\\output.csv`\n",
      "WARNING:pystan:Automatic Differentiation Variational Inference (ADVI) is an EXPERIMENTAL ALGORITHM.\n",
      "WARNING:pystan:ADVI samples may be found on the filesystem in the file `C:\\Users\\my\\AppData\\Local\\Temp\\tmpe5fmn14o\\output.csv`\n",
      "WARNING:pystan:Automatic Differentiation Variational Inference (ADVI) is an EXPERIMENTAL ALGORITHM.\n",
      "WARNING:pystan:ADVI samples may be found on the filesystem in the file `C:\\Users\\my\\AppData\\Local\\Temp\\tmpdko1x6h8\\output.csv`\n",
      "WARNING:pystan:Automatic Differentiation Variational Inference (ADVI) is an EXPERIMENTAL ALGORITHM.\n",
      "WARNING:pystan:ADVI samples may be found on the filesystem in the file `C:\\Users\\my\\AppData\\Local\\Temp\\tmpfyj_ob47\\output.csv`\n",
      "WARNING:pystan:Automatic Differentiation Variational Inference (ADVI) is an EXPERIMENTAL ALGORITHM.\n"
     ]
    },
    {
     "name": "stderr",
     "output_type": "stream",
     "text": [
      "WARNING:pystan:ADVI samples may be found on the filesystem in the file `C:\\Users\\my\\AppData\\Local\\Temp\\tmpnmfdvo9x\\output.csv`\n",
      "WARNING:pystan:Automatic Differentiation Variational Inference (ADVI) is an EXPERIMENTAL ALGORITHM.\n",
      "WARNING:pystan:ADVI samples may be found on the filesystem in the file `C:\\Users\\my\\AppData\\Local\\Temp\\tmps8osyc2b\\output.csv`\n",
      "WARNING:pystan:Automatic Differentiation Variational Inference (ADVI) is an EXPERIMENTAL ALGORITHM.\n",
      "WARNING:pystan:ADVI samples may be found on the filesystem in the file `C:\\Users\\my\\AppData\\Local\\Temp\\tmp2t9hal6j\\output.csv`\n",
      "WARNING:pystan:Automatic Differentiation Variational Inference (ADVI) is an EXPERIMENTAL ALGORITHM.\n",
      "WARNING:pystan:ADVI samples may be found on the filesystem in the file `C:\\Users\\my\\AppData\\Local\\Temp\\tmpvix1av1y\\output.csv`\n",
      "WARNING:pystan:Automatic Differentiation Variational Inference (ADVI) is an EXPERIMENTAL ALGORITHM.\n",
      "WARNING:pystan:ADVI samples may be found on the filesystem in the file `C:\\Users\\my\\AppData\\Local\\Temp\\tmptfmuk9gs\\output.csv`\n",
      "WARNING:pystan:Automatic Differentiation Variational Inference (ADVI) is an EXPERIMENTAL ALGORITHM.\n",
      "WARNING:pystan:ADVI samples may be found on the filesystem in the file `C:\\Users\\my\\AppData\\Local\\Temp\\tmpj3wg1tvi\\output.csv`\n",
      "WARNING:pystan:Automatic Differentiation Variational Inference (ADVI) is an EXPERIMENTAL ALGORITHM.\n",
      "WARNING:pystan:ADVI samples may be found on the filesystem in the file `C:\\Users\\my\\AppData\\Local\\Temp\\tmp7mln_j40\\output.csv`\n",
      "WARNING:pystan:Automatic Differentiation Variational Inference (ADVI) is an EXPERIMENTAL ALGORITHM.\n",
      "WARNING:pystan:ADVI samples may be found on the filesystem in the file `C:\\Users\\my\\AppData\\Local\\Temp\\tmp0kpwc9qm\\output.csv`\n",
      "WARNING:pystan:Automatic Differentiation Variational Inference (ADVI) is an EXPERIMENTAL ALGORITHM.\n",
      "WARNING:pystan:ADVI samples may be found on the filesystem in the file `C:\\Users\\my\\AppData\\Local\\Temp\\tmptp3hasld\\output.csv`\n",
      "WARNING:pystan:Automatic Differentiation Variational Inference (ADVI) is an EXPERIMENTAL ALGORITHM.\n",
      "WARNING:pystan:ADVI samples may be found on the filesystem in the file `C:\\Users\\my\\AppData\\Local\\Temp\\tmpwm005dry\\output.csv`\n",
      "WARNING:pystan:Automatic Differentiation Variational Inference (ADVI) is an EXPERIMENTAL ALGORITHM.\n",
      "WARNING:pystan:ADVI samples may be found on the filesystem in the file `C:\\Users\\my\\AppData\\Local\\Temp\\tmp3i1gsvcj\\output.csv`\n",
      "WARNING:pystan:Automatic Differentiation Variational Inference (ADVI) is an EXPERIMENTAL ALGORITHM.\n",
      "WARNING:pystan:ADVI samples may be found on the filesystem in the file `C:\\Users\\my\\AppData\\Local\\Temp\\tmpwtrldimt\\output.csv`\n",
      "WARNING:pystan:Automatic Differentiation Variational Inference (ADVI) is an EXPERIMENTAL ALGORITHM.\n",
      "WARNING:pystan:ADVI samples may be found on the filesystem in the file `C:\\Users\\my\\AppData\\Local\\Temp\\tmp6dh81cxi\\output.csv`\n",
      "WARNING:pystan:Automatic Differentiation Variational Inference (ADVI) is an EXPERIMENTAL ALGORITHM.\n",
      "WARNING:pystan:ADVI samples may be found on the filesystem in the file `C:\\Users\\my\\AppData\\Local\\Temp\\tmphhev8xs0\\output.csv`\n",
      "WARNING:pystan:Automatic Differentiation Variational Inference (ADVI) is an EXPERIMENTAL ALGORITHM.\n",
      "WARNING:pystan:ADVI samples may be found on the filesystem in the file `C:\\Users\\my\\AppData\\Local\\Temp\\tmpksp_e0xi\\output.csv`\n",
      "WARNING:pystan:Automatic Differentiation Variational Inference (ADVI) is an EXPERIMENTAL ALGORITHM.\n",
      "WARNING:pystan:ADVI samples may be found on the filesystem in the file `C:\\Users\\my\\AppData\\Local\\Temp\\tmp2h6t33x1\\output.csv`\n",
      "WARNING:pystan:Automatic Differentiation Variational Inference (ADVI) is an EXPERIMENTAL ALGORITHM.\n",
      "WARNING:pystan:ADVI samples may be found on the filesystem in the file `C:\\Users\\my\\AppData\\Local\\Temp\\tmpjjfjsbpg\\output.csv`\n",
      "WARNING:pystan:Automatic Differentiation Variational Inference (ADVI) is an EXPERIMENTAL ALGORITHM.\n",
      "WARNING:pystan:ADVI samples may be found on the filesystem in the file `C:\\Users\\my\\AppData\\Local\\Temp\\tmpls6av6il\\output.csv`\n",
      "WARNING:pystan:Automatic Differentiation Variational Inference (ADVI) is an EXPERIMENTAL ALGORITHM.\n",
      "WARNING:pystan:ADVI samples may be found on the filesystem in the file `C:\\Users\\my\\AppData\\Local\\Temp\\tmp4s6948k1\\output.csv`\n",
      "WARNING:pystan:Automatic Differentiation Variational Inference (ADVI) is an EXPERIMENTAL ALGORITHM.\n",
      "WARNING:pystan:ADVI samples may be found on the filesystem in the file `C:\\Users\\my\\AppData\\Local\\Temp\\tmpkoukyxgp\\output.csv`\n",
      "WARNING:pystan:Automatic Differentiation Variational Inference (ADVI) is an EXPERIMENTAL ALGORITHM.\n",
      "WARNING:pystan:ADVI samples may be found on the filesystem in the file `C:\\Users\\my\\AppData\\Local\\Temp\\tmpqqy3pxmb\\output.csv`\n",
      "WARNING:pystan:Automatic Differentiation Variational Inference (ADVI) is an EXPERIMENTAL ALGORITHM.\n",
      "WARNING:pystan:ADVI samples may be found on the filesystem in the file `C:\\Users\\my\\AppData\\Local\\Temp\\tmppu7abi0c\\output.csv`\n",
      "WARNING:pystan:Automatic Differentiation Variational Inference (ADVI) is an EXPERIMENTAL ALGORITHM.\n",
      "WARNING:pystan:ADVI samples may be found on the filesystem in the file `C:\\Users\\my\\AppData\\Local\\Temp\\tmpwv60_075\\output.csv`\n",
      "WARNING:pystan:Automatic Differentiation Variational Inference (ADVI) is an EXPERIMENTAL ALGORITHM.\n",
      "WARNING:pystan:ADVI samples may be found on the filesystem in the file `C:\\Users\\my\\AppData\\Local\\Temp\\tmpn3cpm5p6\\output.csv`\n",
      "WARNING:pystan:Automatic Differentiation Variational Inference (ADVI) is an EXPERIMENTAL ALGORITHM.\n",
      "WARNING:pystan:ADVI samples may be found on the filesystem in the file `C:\\Users\\my\\AppData\\Local\\Temp\\tmplnl054no\\output.csv`\n",
      "WARNING:pystan:Automatic Differentiation Variational Inference (ADVI) is an EXPERIMENTAL ALGORITHM.\n",
      "WARNING:pystan:ADVI samples may be found on the filesystem in the file `C:\\Users\\my\\AppData\\Local\\Temp\\tmpcqc6d7tk\\output.csv`\n",
      "WARNING:pystan:Automatic Differentiation Variational Inference (ADVI) is an EXPERIMENTAL ALGORITHM.\n",
      "WARNING:pystan:ADVI samples may be found on the filesystem in the file `C:\\Users\\my\\AppData\\Local\\Temp\\tmpkizzangw\\output.csv`\n",
      "WARNING:pystan:Automatic Differentiation Variational Inference (ADVI) is an EXPERIMENTAL ALGORITHM.\n",
      "WARNING:pystan:ADVI samples may be found on the filesystem in the file `C:\\Users\\my\\AppData\\Local\\Temp\\tmp3mjc6eun\\output.csv`\n",
      "WARNING:pystan:Automatic Differentiation Variational Inference (ADVI) is an EXPERIMENTAL ALGORITHM.\n",
      "WARNING:pystan:ADVI samples may be found on the filesystem in the file `C:\\Users\\my\\AppData\\Local\\Temp\\tmpw7lxqlvf\\output.csv`\n",
      "WARNING:pystan:Automatic Differentiation Variational Inference (ADVI) is an EXPERIMENTAL ALGORITHM.\n",
      "WARNING:pystan:ADVI samples may be found on the filesystem in the file `C:\\Users\\my\\AppData\\Local\\Temp\\tmp1aadj58n\\output.csv`\n",
      "WARNING:pystan:Automatic Differentiation Variational Inference (ADVI) is an EXPERIMENTAL ALGORITHM.\n",
      "WARNING:pystan:ADVI samples may be found on the filesystem in the file `C:\\Users\\my\\AppData\\Local\\Temp\\tmpwpzyhpon\\output.csv`\n",
      "WARNING:pystan:Automatic Differentiation Variational Inference (ADVI) is an EXPERIMENTAL ALGORITHM.\n",
      "WARNING:pystan:ADVI samples may be found on the filesystem in the file `C:\\Users\\my\\AppData\\Local\\Temp\\tmptwh0p0v_\\output.csv`\n",
      "WARNING:pystan:Automatic Differentiation Variational Inference (ADVI) is an EXPERIMENTAL ALGORITHM.\n",
      "WARNING:pystan:ADVI samples may be found on the filesystem in the file `C:\\Users\\my\\AppData\\Local\\Temp\\tmpiiz6wsnq\\output.csv`\n",
      "WARNING:pystan:Automatic Differentiation Variational Inference (ADVI) is an EXPERIMENTAL ALGORITHM.\n",
      "WARNING:pystan:ADVI samples may be found on the filesystem in the file `C:\\Users\\my\\AppData\\Local\\Temp\\tmp_mlttphv\\output.csv`\n",
      "WARNING:pystan:Automatic Differentiation Variational Inference (ADVI) is an EXPERIMENTAL ALGORITHM.\n",
      "WARNING:pystan:ADVI samples may be found on the filesystem in the file `C:\\Users\\my\\AppData\\Local\\Temp\\tmp_vhuzlu2\\output.csv`\n",
      "WARNING:pystan:Automatic Differentiation Variational Inference (ADVI) is an EXPERIMENTAL ALGORITHM.\n",
      "WARNING:pystan:ADVI samples may be found on the filesystem in the file `C:\\Users\\my\\AppData\\Local\\Temp\\tmpflkdrysz\\output.csv`\n",
      "WARNING:pystan:Automatic Differentiation Variational Inference (ADVI) is an EXPERIMENTAL ALGORITHM.\n",
      "WARNING:pystan:ADVI samples may be found on the filesystem in the file `C:\\Users\\my\\AppData\\Local\\Temp\\tmp1o_de04h\\output.csv`\n"
     ]
    },
    {
     "name": "stderr",
     "output_type": "stream",
     "text": [
      "WARNING:pystan:Automatic Differentiation Variational Inference (ADVI) is an EXPERIMENTAL ALGORITHM.\n",
      "WARNING:pystan:ADVI samples may be found on the filesystem in the file `C:\\Users\\my\\AppData\\Local\\Temp\\tmpn6_ndi24\\output.csv`\n",
      "WARNING:pystan:Automatic Differentiation Variational Inference (ADVI) is an EXPERIMENTAL ALGORITHM.\n",
      "WARNING:pystan:ADVI samples may be found on the filesystem in the file `C:\\Users\\my\\AppData\\Local\\Temp\\tmpfxkf1ljw\\output.csv`\n",
      "WARNING:pystan:Automatic Differentiation Variational Inference (ADVI) is an EXPERIMENTAL ALGORITHM.\n",
      "WARNING:pystan:ADVI samples may be found on the filesystem in the file `C:\\Users\\my\\AppData\\Local\\Temp\\tmpca37zxz2\\output.csv`\n",
      "WARNING:pystan:Automatic Differentiation Variational Inference (ADVI) is an EXPERIMENTAL ALGORITHM.\n",
      "WARNING:pystan:ADVI samples may be found on the filesystem in the file `C:\\Users\\my\\AppData\\Local\\Temp\\tmpfd14_fm0\\output.csv`\n",
      "WARNING:pystan:Automatic Differentiation Variational Inference (ADVI) is an EXPERIMENTAL ALGORITHM.\n",
      "WARNING:pystan:ADVI samples may be found on the filesystem in the file `C:\\Users\\my\\AppData\\Local\\Temp\\tmp_neoqgjh\\output.csv`\n",
      "WARNING:pystan:Automatic Differentiation Variational Inference (ADVI) is an EXPERIMENTAL ALGORITHM.\n",
      "WARNING:pystan:ADVI samples may be found on the filesystem in the file `C:\\Users\\my\\AppData\\Local\\Temp\\tmp4hosg1jd\\output.csv`\n",
      "WARNING:pystan:Automatic Differentiation Variational Inference (ADVI) is an EXPERIMENTAL ALGORITHM.\n",
      "WARNING:pystan:ADVI samples may be found on the filesystem in the file `C:\\Users\\my\\AppData\\Local\\Temp\\tmp24ih8fzi\\output.csv`\n",
      "WARNING:pystan:Automatic Differentiation Variational Inference (ADVI) is an EXPERIMENTAL ALGORITHM.\n",
      "WARNING:pystan:ADVI samples may be found on the filesystem in the file `C:\\Users\\my\\AppData\\Local\\Temp\\tmp59egr67g\\output.csv`\n",
      "WARNING:pystan:Automatic Differentiation Variational Inference (ADVI) is an EXPERIMENTAL ALGORITHM.\n",
      "WARNING:pystan:ADVI samples may be found on the filesystem in the file `C:\\Users\\my\\AppData\\Local\\Temp\\tmp_a_tpue6\\output.csv`\n",
      "WARNING:pystan:Automatic Differentiation Variational Inference (ADVI) is an EXPERIMENTAL ALGORITHM.\n",
      "WARNING:pystan:ADVI samples may be found on the filesystem in the file `C:\\Users\\my\\AppData\\Local\\Temp\\tmpqrpza77i\\output.csv`\n",
      "WARNING:pystan:Automatic Differentiation Variational Inference (ADVI) is an EXPERIMENTAL ALGORITHM.\n",
      "WARNING:pystan:ADVI samples may be found on the filesystem in the file `C:\\Users\\my\\AppData\\Local\\Temp\\tmpka4eti21\\output.csv`\n",
      "WARNING:pystan:Automatic Differentiation Variational Inference (ADVI) is an EXPERIMENTAL ALGORITHM.\n",
      "WARNING:pystan:ADVI samples may be found on the filesystem in the file `C:\\Users\\my\\AppData\\Local\\Temp\\tmp6zyydbc1\\output.csv`\n",
      "WARNING:pystan:Automatic Differentiation Variational Inference (ADVI) is an EXPERIMENTAL ALGORITHM.\n",
      "WARNING:pystan:ADVI samples may be found on the filesystem in the file `C:\\Users\\my\\AppData\\Local\\Temp\\tmpf64xjy9u\\output.csv`\n",
      "WARNING:pystan:Automatic Differentiation Variational Inference (ADVI) is an EXPERIMENTAL ALGORITHM.\n",
      "WARNING:pystan:ADVI samples may be found on the filesystem in the file `C:\\Users\\my\\AppData\\Local\\Temp\\tmp1p1nrpna\\output.csv`\n",
      "WARNING:pystan:Automatic Differentiation Variational Inference (ADVI) is an EXPERIMENTAL ALGORITHM.\n",
      "WARNING:pystan:ADVI samples may be found on the filesystem in the file `C:\\Users\\my\\AppData\\Local\\Temp\\tmp65h37pn4\\output.csv`\n",
      "WARNING:pystan:Automatic Differentiation Variational Inference (ADVI) is an EXPERIMENTAL ALGORITHM.\n",
      "WARNING:pystan:ADVI samples may be found on the filesystem in the file `C:\\Users\\my\\AppData\\Local\\Temp\\tmpkspo2y66\\output.csv`\n",
      "WARNING:pystan:Automatic Differentiation Variational Inference (ADVI) is an EXPERIMENTAL ALGORITHM.\n",
      "WARNING:pystan:ADVI samples may be found on the filesystem in the file `C:\\Users\\my\\AppData\\Local\\Temp\\tmpxbzksdx8\\output.csv`\n",
      "WARNING:pystan:Automatic Differentiation Variational Inference (ADVI) is an EXPERIMENTAL ALGORITHM.\n",
      "WARNING:pystan:ADVI samples may be found on the filesystem in the file `C:\\Users\\my\\AppData\\Local\\Temp\\tmp27quuugv\\output.csv`\n",
      "WARNING:pystan:Automatic Differentiation Variational Inference (ADVI) is an EXPERIMENTAL ALGORITHM.\n",
      "WARNING:pystan:ADVI samples may be found on the filesystem in the file `C:\\Users\\my\\AppData\\Local\\Temp\\tmpta93z1pc\\output.csv`\n",
      "WARNING:pystan:Automatic Differentiation Variational Inference (ADVI) is an EXPERIMENTAL ALGORITHM.\n",
      "WARNING:pystan:ADVI samples may be found on the filesystem in the file `C:\\Users\\my\\AppData\\Local\\Temp\\tmpehwpwnck\\output.csv`\n",
      "WARNING:pystan:Automatic Differentiation Variational Inference (ADVI) is an EXPERIMENTAL ALGORITHM.\n",
      "WARNING:pystan:ADVI samples may be found on the filesystem in the file `C:\\Users\\my\\AppData\\Local\\Temp\\tmpau1z1tee\\output.csv`\n",
      "WARNING:pystan:Automatic Differentiation Variational Inference (ADVI) is an EXPERIMENTAL ALGORITHM.\n",
      "WARNING:pystan:ADVI samples may be found on the filesystem in the file `C:\\Users\\my\\AppData\\Local\\Temp\\tmp5v062lru\\output.csv`\n",
      "WARNING:pystan:Automatic Differentiation Variational Inference (ADVI) is an EXPERIMENTAL ALGORITHM.\n",
      "WARNING:pystan:ADVI samples may be found on the filesystem in the file `C:\\Users\\my\\AppData\\Local\\Temp\\tmpkn0ad4tp\\output.csv`\n",
      "WARNING:pystan:Automatic Differentiation Variational Inference (ADVI) is an EXPERIMENTAL ALGORITHM.\n",
      "WARNING:pystan:ADVI samples may be found on the filesystem in the file `C:\\Users\\my\\AppData\\Local\\Temp\\tmp8588amb0\\output.csv`\n",
      "WARNING:pystan:Automatic Differentiation Variational Inference (ADVI) is an EXPERIMENTAL ALGORITHM.\n",
      "WARNING:pystan:ADVI samples may be found on the filesystem in the file `C:\\Users\\my\\AppData\\Local\\Temp\\tmpe76r3c25\\output.csv`\n",
      "WARNING:pystan:Automatic Differentiation Variational Inference (ADVI) is an EXPERIMENTAL ALGORITHM.\n",
      "WARNING:pystan:ADVI samples may be found on the filesystem in the file `C:\\Users\\my\\AppData\\Local\\Temp\\tmpt_44aw16\\output.csv`\n",
      "WARNING:pystan:Automatic Differentiation Variational Inference (ADVI) is an EXPERIMENTAL ALGORITHM.\n",
      "WARNING:pystan:ADVI samples may be found on the filesystem in the file `C:\\Users\\my\\AppData\\Local\\Temp\\tmpdd_gm9y6\\output.csv`\n",
      "WARNING:pystan:Automatic Differentiation Variational Inference (ADVI) is an EXPERIMENTAL ALGORITHM.\n",
      "WARNING:pystan:ADVI samples may be found on the filesystem in the file `C:\\Users\\my\\AppData\\Local\\Temp\\tmpk71eowf5\\output.csv`\n",
      "WARNING:pystan:Automatic Differentiation Variational Inference (ADVI) is an EXPERIMENTAL ALGORITHM.\n",
      "WARNING:pystan:ADVI samples may be found on the filesystem in the file `C:\\Users\\my\\AppData\\Local\\Temp\\tmpu7bawq83\\output.csv`\n",
      "WARNING:pystan:Automatic Differentiation Variational Inference (ADVI) is an EXPERIMENTAL ALGORITHM.\n",
      "WARNING:pystan:ADVI samples may be found on the filesystem in the file `C:\\Users\\my\\AppData\\Local\\Temp\\tmpv26ei1pb\\output.csv`\n",
      "WARNING:pystan:Automatic Differentiation Variational Inference (ADVI) is an EXPERIMENTAL ALGORITHM.\n",
      "WARNING:pystan:ADVI samples may be found on the filesystem in the file `C:\\Users\\my\\AppData\\Local\\Temp\\tmpbpuo7hpq\\output.csv`\n",
      "WARNING:pystan:Automatic Differentiation Variational Inference (ADVI) is an EXPERIMENTAL ALGORITHM.\n",
      "WARNING:pystan:ADVI samples may be found on the filesystem in the file `C:\\Users\\my\\AppData\\Local\\Temp\\tmptismruz2\\output.csv`\n",
      "WARNING:pystan:Automatic Differentiation Variational Inference (ADVI) is an EXPERIMENTAL ALGORITHM.\n",
      "WARNING:pystan:ADVI samples may be found on the filesystem in the file `C:\\Users\\my\\AppData\\Local\\Temp\\tmpetxgaokh\\output.csv`\n",
      "WARNING:pystan:Automatic Differentiation Variational Inference (ADVI) is an EXPERIMENTAL ALGORITHM.\n",
      "WARNING:pystan:ADVI samples may be found on the filesystem in the file `C:\\Users\\my\\AppData\\Local\\Temp\\tmpmrxjqu38\\output.csv`\n",
      "WARNING:pystan:Automatic Differentiation Variational Inference (ADVI) is an EXPERIMENTAL ALGORITHM.\n",
      "WARNING:pystan:ADVI samples may be found on the filesystem in the file `C:\\Users\\my\\AppData\\Local\\Temp\\tmpv0_3m6hs\\output.csv`\n",
      "WARNING:pystan:Automatic Differentiation Variational Inference (ADVI) is an EXPERIMENTAL ALGORITHM.\n",
      "WARNING:pystan:ADVI samples may be found on the filesystem in the file `C:\\Users\\my\\AppData\\Local\\Temp\\tmpykhz66s1\\output.csv`\n",
      "WARNING:pystan:Automatic Differentiation Variational Inference (ADVI) is an EXPERIMENTAL ALGORITHM.\n"
     ]
    },
    {
     "name": "stderr",
     "output_type": "stream",
     "text": [
      "WARNING:pystan:ADVI samples may be found on the filesystem in the file `C:\\Users\\my\\AppData\\Local\\Temp\\tmpofsulu42\\output.csv`\n",
      "WARNING:pystan:Automatic Differentiation Variational Inference (ADVI) is an EXPERIMENTAL ALGORITHM.\n",
      "WARNING:pystan:ADVI samples may be found on the filesystem in the file `C:\\Users\\my\\AppData\\Local\\Temp\\tmpu0hw2h6t\\output.csv`\n",
      "WARNING:pystan:Automatic Differentiation Variational Inference (ADVI) is an EXPERIMENTAL ALGORITHM.\n",
      "WARNING:pystan:ADVI samples may be found on the filesystem in the file `C:\\Users\\my\\AppData\\Local\\Temp\\tmphmxolp_4\\output.csv`\n",
      "WARNING:pystan:Automatic Differentiation Variational Inference (ADVI) is an EXPERIMENTAL ALGORITHM.\n",
      "WARNING:pystan:ADVI samples may be found on the filesystem in the file `C:\\Users\\my\\AppData\\Local\\Temp\\tmpyh3g859w\\output.csv`\n",
      "WARNING:pystan:Automatic Differentiation Variational Inference (ADVI) is an EXPERIMENTAL ALGORITHM.\n",
      "WARNING:pystan:ADVI samples may be found on the filesystem in the file `C:\\Users\\my\\AppData\\Local\\Temp\\tmpql6rqomz\\output.csv`\n",
      "WARNING:pystan:Automatic Differentiation Variational Inference (ADVI) is an EXPERIMENTAL ALGORITHM.\n",
      "WARNING:pystan:ADVI samples may be found on the filesystem in the file `C:\\Users\\my\\AppData\\Local\\Temp\\tmpm7l93a6e\\output.csv`\n",
      "WARNING:pystan:Automatic Differentiation Variational Inference (ADVI) is an EXPERIMENTAL ALGORITHM.\n",
      "WARNING:pystan:ADVI samples may be found on the filesystem in the file `C:\\Users\\my\\AppData\\Local\\Temp\\tmp6w_0r4dw\\output.csv`\n",
      "WARNING:pystan:Automatic Differentiation Variational Inference (ADVI) is an EXPERIMENTAL ALGORITHM.\n",
      "WARNING:pystan:ADVI samples may be found on the filesystem in the file `C:\\Users\\my\\AppData\\Local\\Temp\\tmptf_l60ci\\output.csv`\n",
      "WARNING:pystan:Automatic Differentiation Variational Inference (ADVI) is an EXPERIMENTAL ALGORITHM.\n",
      "WARNING:pystan:ADVI samples may be found on the filesystem in the file `C:\\Users\\my\\AppData\\Local\\Temp\\tmppzn4nol_\\output.csv`\n",
      "WARNING:pystan:Automatic Differentiation Variational Inference (ADVI) is an EXPERIMENTAL ALGORITHM.\n",
      "WARNING:pystan:ADVI samples may be found on the filesystem in the file `C:\\Users\\my\\AppData\\Local\\Temp\\tmpuc2rycci\\output.csv`\n",
      "WARNING:pystan:Automatic Differentiation Variational Inference (ADVI) is an EXPERIMENTAL ALGORITHM.\n",
      "WARNING:pystan:ADVI samples may be found on the filesystem in the file `C:\\Users\\my\\AppData\\Local\\Temp\\tmpuoxm7ugh\\output.csv`\n",
      "WARNING:pystan:Automatic Differentiation Variational Inference (ADVI) is an EXPERIMENTAL ALGORITHM.\n",
      "WARNING:pystan:ADVI samples may be found on the filesystem in the file `C:\\Users\\my\\AppData\\Local\\Temp\\tmp3l29tqyj\\output.csv`\n",
      "WARNING:pystan:Automatic Differentiation Variational Inference (ADVI) is an EXPERIMENTAL ALGORITHM.\n",
      "WARNING:pystan:ADVI samples may be found on the filesystem in the file `C:\\Users\\my\\AppData\\Local\\Temp\\tmpg7ts0qzz\\output.csv`\n",
      "WARNING:pystan:Automatic Differentiation Variational Inference (ADVI) is an EXPERIMENTAL ALGORITHM.\n",
      "WARNING:pystan:ADVI samples may be found on the filesystem in the file `C:\\Users\\my\\AppData\\Local\\Temp\\tmp_0pt_7zf\\output.csv`\n",
      "WARNING:pystan:Automatic Differentiation Variational Inference (ADVI) is an EXPERIMENTAL ALGORITHM.\n",
      "WARNING:pystan:ADVI samples may be found on the filesystem in the file `C:\\Users\\my\\AppData\\Local\\Temp\\tmp44skpj8f\\output.csv`\n",
      "WARNING:pystan:Automatic Differentiation Variational Inference (ADVI) is an EXPERIMENTAL ALGORITHM.\n",
      "WARNING:pystan:ADVI samples may be found on the filesystem in the file `C:\\Users\\my\\AppData\\Local\\Temp\\tmpaq2cx2ux\\output.csv`\n",
      "WARNING:pystan:Automatic Differentiation Variational Inference (ADVI) is an EXPERIMENTAL ALGORITHM.\n",
      "WARNING:pystan:ADVI samples may be found on the filesystem in the file `C:\\Users\\my\\AppData\\Local\\Temp\\tmpypl_sk57\\output.csv`\n",
      "WARNING:pystan:Automatic Differentiation Variational Inference (ADVI) is an EXPERIMENTAL ALGORITHM.\n",
      "WARNING:pystan:ADVI samples may be found on the filesystem in the file `C:\\Users\\my\\AppData\\Local\\Temp\\tmpvma7r3ta\\output.csv`\n",
      "WARNING:pystan:Automatic Differentiation Variational Inference (ADVI) is an EXPERIMENTAL ALGORITHM.\n",
      "WARNING:pystan:ADVI samples may be found on the filesystem in the file `C:\\Users\\my\\AppData\\Local\\Temp\\tmpgboemwci\\output.csv`\n",
      "WARNING:pystan:Automatic Differentiation Variational Inference (ADVI) is an EXPERIMENTAL ALGORITHM.\n",
      "WARNING:pystan:ADVI samples may be found on the filesystem in the file `C:\\Users\\my\\AppData\\Local\\Temp\\tmp43dmqpzd\\output.csv`\n",
      "WARNING:pystan:Automatic Differentiation Variational Inference (ADVI) is an EXPERIMENTAL ALGORITHM.\n",
      "WARNING:pystan:ADVI samples may be found on the filesystem in the file `C:\\Users\\my\\AppData\\Local\\Temp\\tmp9biwd_ln\\output.csv`\n",
      "WARNING:pystan:Automatic Differentiation Variational Inference (ADVI) is an EXPERIMENTAL ALGORITHM.\n",
      "WARNING:pystan:ADVI samples may be found on the filesystem in the file `C:\\Users\\my\\AppData\\Local\\Temp\\tmpavmdhkys\\output.csv`\n",
      "WARNING:pystan:Automatic Differentiation Variational Inference (ADVI) is an EXPERIMENTAL ALGORITHM.\n",
      "WARNING:pystan:ADVI samples may be found on the filesystem in the file `C:\\Users\\my\\AppData\\Local\\Temp\\tmpqpdlznn5\\output.csv`\n",
      "WARNING:pystan:Automatic Differentiation Variational Inference (ADVI) is an EXPERIMENTAL ALGORITHM.\n",
      "WARNING:pystan:ADVI samples may be found on the filesystem in the file `C:\\Users\\my\\AppData\\Local\\Temp\\tmpg7k0o9hh\\output.csv`\n",
      "WARNING:pystan:Automatic Differentiation Variational Inference (ADVI) is an EXPERIMENTAL ALGORITHM.\n",
      "WARNING:pystan:ADVI samples may be found on the filesystem in the file `C:\\Users\\my\\AppData\\Local\\Temp\\tmpar6btu60\\output.csv`\n",
      "WARNING:pystan:Automatic Differentiation Variational Inference (ADVI) is an EXPERIMENTAL ALGORITHM.\n",
      "WARNING:pystan:ADVI samples may be found on the filesystem in the file `C:\\Users\\my\\AppData\\Local\\Temp\\tmp_0b4aeu1\\output.csv`\n",
      "WARNING:pystan:Automatic Differentiation Variational Inference (ADVI) is an EXPERIMENTAL ALGORITHM.\n",
      "WARNING:pystan:ADVI samples may be found on the filesystem in the file `C:\\Users\\my\\AppData\\Local\\Temp\\tmpdo9a2yju\\output.csv`\n",
      "WARNING:pystan:Automatic Differentiation Variational Inference (ADVI) is an EXPERIMENTAL ALGORITHM.\n",
      "WARNING:pystan:ADVI samples may be found on the filesystem in the file `C:\\Users\\my\\AppData\\Local\\Temp\\tmp5p8zokg2\\output.csv`\n",
      "WARNING:pystan:Automatic Differentiation Variational Inference (ADVI) is an EXPERIMENTAL ALGORITHM.\n",
      "WARNING:pystan:ADVI samples may be found on the filesystem in the file `C:\\Users\\my\\AppData\\Local\\Temp\\tmpm1eiqltx\\output.csv`\n",
      "WARNING:pystan:Automatic Differentiation Variational Inference (ADVI) is an EXPERIMENTAL ALGORITHM.\n",
      "WARNING:pystan:ADVI samples may be found on the filesystem in the file `C:\\Users\\my\\AppData\\Local\\Temp\\tmplipr1nr0\\output.csv`\n",
      "WARNING:pystan:Automatic Differentiation Variational Inference (ADVI) is an EXPERIMENTAL ALGORITHM.\n",
      "WARNING:pystan:ADVI samples may be found on the filesystem in the file `C:\\Users\\my\\AppData\\Local\\Temp\\tmp301na3dn\\output.csv`\n",
      "WARNING:pystan:Automatic Differentiation Variational Inference (ADVI) is an EXPERIMENTAL ALGORITHM.\n",
      "WARNING:pystan:ADVI samples may be found on the filesystem in the file `C:\\Users\\my\\AppData\\Local\\Temp\\tmpywil5r7y\\output.csv`\n",
      "WARNING:pystan:Automatic Differentiation Variational Inference (ADVI) is an EXPERIMENTAL ALGORITHM.\n",
      "WARNING:pystan:ADVI samples may be found on the filesystem in the file `C:\\Users\\my\\AppData\\Local\\Temp\\tmpyq_taz23\\output.csv`\n",
      "WARNING:pystan:Automatic Differentiation Variational Inference (ADVI) is an EXPERIMENTAL ALGORITHM.\n",
      "WARNING:pystan:ADVI samples may be found on the filesystem in the file `C:\\Users\\my\\AppData\\Local\\Temp\\tmp6gnrf7s3\\output.csv`\n",
      "WARNING:pystan:Automatic Differentiation Variational Inference (ADVI) is an EXPERIMENTAL ALGORITHM.\n",
      "WARNING:pystan:ADVI samples may be found on the filesystem in the file `C:\\Users\\my\\AppData\\Local\\Temp\\tmpzzd3u_81\\output.csv`\n",
      "WARNING:pystan:Automatic Differentiation Variational Inference (ADVI) is an EXPERIMENTAL ALGORITHM.\n",
      "WARNING:pystan:ADVI samples may be found on the filesystem in the file `C:\\Users\\my\\AppData\\Local\\Temp\\tmpxozr2mh0\\output.csv`\n",
      "WARNING:pystan:Automatic Differentiation Variational Inference (ADVI) is an EXPERIMENTAL ALGORITHM.\n",
      "WARNING:pystan:ADVI samples may be found on the filesystem in the file `C:\\Users\\my\\AppData\\Local\\Temp\\tmp0zpi_gb6\\output.csv`\n"
     ]
    },
    {
     "name": "stderr",
     "output_type": "stream",
     "text": [
      "WARNING:pystan:Automatic Differentiation Variational Inference (ADVI) is an EXPERIMENTAL ALGORITHM.\n",
      "WARNING:pystan:ADVI samples may be found on the filesystem in the file `C:\\Users\\my\\AppData\\Local\\Temp\\tmpa1fpfdav\\output.csv`\n",
      "WARNING:pystan:Automatic Differentiation Variational Inference (ADVI) is an EXPERIMENTAL ALGORITHM.\n",
      "WARNING:pystan:ADVI samples may be found on the filesystem in the file `C:\\Users\\my\\AppData\\Local\\Temp\\tmpj06z31kq\\output.csv`\n",
      "WARNING:pystan:Automatic Differentiation Variational Inference (ADVI) is an EXPERIMENTAL ALGORITHM.\n",
      "WARNING:pystan:ADVI samples may be found on the filesystem in the file `C:\\Users\\my\\AppData\\Local\\Temp\\tmprhhwdqva\\output.csv`\n",
      "WARNING:pystan:Automatic Differentiation Variational Inference (ADVI) is an EXPERIMENTAL ALGORITHM.\n",
      "WARNING:pystan:ADVI samples may be found on the filesystem in the file `C:\\Users\\my\\AppData\\Local\\Temp\\tmpnyp05p5y\\output.csv`\n",
      "WARNING:pystan:Automatic Differentiation Variational Inference (ADVI) is an EXPERIMENTAL ALGORITHM.\n",
      "WARNING:pystan:ADVI samples may be found on the filesystem in the file `C:\\Users\\my\\AppData\\Local\\Temp\\tmp72vp740w\\output.csv`\n",
      "WARNING:pystan:Automatic Differentiation Variational Inference (ADVI) is an EXPERIMENTAL ALGORITHM.\n",
      "WARNING:pystan:ADVI samples may be found on the filesystem in the file `C:\\Users\\my\\AppData\\Local\\Temp\\tmp1bta8_xq\\output.csv`\n",
      "WARNING:pystan:Automatic Differentiation Variational Inference (ADVI) is an EXPERIMENTAL ALGORITHM.\n",
      "WARNING:pystan:ADVI samples may be found on the filesystem in the file `C:\\Users\\my\\AppData\\Local\\Temp\\tmp65g5te8v\\output.csv`\n",
      "WARNING:pystan:Automatic Differentiation Variational Inference (ADVI) is an EXPERIMENTAL ALGORITHM.\n",
      "WARNING:pystan:ADVI samples may be found on the filesystem in the file `C:\\Users\\my\\AppData\\Local\\Temp\\tmp3k74safg\\output.csv`\n",
      "WARNING:pystan:Automatic Differentiation Variational Inference (ADVI) is an EXPERIMENTAL ALGORITHM.\n",
      "WARNING:pystan:ADVI samples may be found on the filesystem in the file `C:\\Users\\my\\AppData\\Local\\Temp\\tmp_07se7bx\\output.csv`\n",
      "WARNING:pystan:Automatic Differentiation Variational Inference (ADVI) is an EXPERIMENTAL ALGORITHM.\n",
      "WARNING:pystan:ADVI samples may be found on the filesystem in the file `C:\\Users\\my\\AppData\\Local\\Temp\\tmp8r4rkcrs\\output.csv`\n",
      "WARNING:pystan:Automatic Differentiation Variational Inference (ADVI) is an EXPERIMENTAL ALGORITHM.\n",
      "WARNING:pystan:ADVI samples may be found on the filesystem in the file `C:\\Users\\my\\AppData\\Local\\Temp\\tmps3c36gx7\\output.csv`\n",
      "WARNING:pystan:Automatic Differentiation Variational Inference (ADVI) is an EXPERIMENTAL ALGORITHM.\n",
      "WARNING:pystan:ADVI samples may be found on the filesystem in the file `C:\\Users\\my\\AppData\\Local\\Temp\\tmpuo_v72no\\output.csv`\n",
      "WARNING:pystan:Automatic Differentiation Variational Inference (ADVI) is an EXPERIMENTAL ALGORITHM.\n",
      "WARNING:pystan:ADVI samples may be found on the filesystem in the file `C:\\Users\\my\\AppData\\Local\\Temp\\tmpw6n1keuf\\output.csv`\n",
      "WARNING:pystan:Automatic Differentiation Variational Inference (ADVI) is an EXPERIMENTAL ALGORITHM.\n",
      "WARNING:pystan:ADVI samples may be found on the filesystem in the file `C:\\Users\\my\\AppData\\Local\\Temp\\tmpfix01gow\\output.csv`\n",
      "WARNING:pystan:Automatic Differentiation Variational Inference (ADVI) is an EXPERIMENTAL ALGORITHM.\n",
      "WARNING:pystan:ADVI samples may be found on the filesystem in the file `C:\\Users\\my\\AppData\\Local\\Temp\\tmp4v28ybn3\\output.csv`\n",
      "WARNING:pystan:Automatic Differentiation Variational Inference (ADVI) is an EXPERIMENTAL ALGORITHM.\n",
      "WARNING:pystan:ADVI samples may be found on the filesystem in the file `C:\\Users\\my\\AppData\\Local\\Temp\\tmpi9yc38ad\\output.csv`\n",
      "WARNING:pystan:Automatic Differentiation Variational Inference (ADVI) is an EXPERIMENTAL ALGORITHM.\n",
      "WARNING:pystan:ADVI samples may be found on the filesystem in the file `C:\\Users\\my\\AppData\\Local\\Temp\\tmpizzlz8pc\\output.csv`\n",
      "WARNING:pystan:Automatic Differentiation Variational Inference (ADVI) is an EXPERIMENTAL ALGORITHM.\n",
      "WARNING:pystan:ADVI samples may be found on the filesystem in the file `C:\\Users\\my\\AppData\\Local\\Temp\\tmp_m13ku77\\output.csv`\n",
      "WARNING:pystan:Automatic Differentiation Variational Inference (ADVI) is an EXPERIMENTAL ALGORITHM.\n",
      "WARNING:pystan:ADVI samples may be found on the filesystem in the file `C:\\Users\\my\\AppData\\Local\\Temp\\tmpnwor54_t\\output.csv`\n",
      "WARNING:pystan:Automatic Differentiation Variational Inference (ADVI) is an EXPERIMENTAL ALGORITHM.\n",
      "WARNING:pystan:ADVI samples may be found on the filesystem in the file `C:\\Users\\my\\AppData\\Local\\Temp\\tmp1xuanp8n\\output.csv`\n",
      "WARNING:pystan:Automatic Differentiation Variational Inference (ADVI) is an EXPERIMENTAL ALGORITHM.\n",
      "WARNING:pystan:ADVI samples may be found on the filesystem in the file `C:\\Users\\my\\AppData\\Local\\Temp\\tmplqmc51q8\\output.csv`\n",
      "WARNING:pystan:Automatic Differentiation Variational Inference (ADVI) is an EXPERIMENTAL ALGORITHM.\n",
      "WARNING:pystan:ADVI samples may be found on the filesystem in the file `C:\\Users\\my\\AppData\\Local\\Temp\\tmpap2l6eir\\output.csv`\n",
      "WARNING:pystan:Automatic Differentiation Variational Inference (ADVI) is an EXPERIMENTAL ALGORITHM.\n",
      "WARNING:pystan:ADVI samples may be found on the filesystem in the file `C:\\Users\\my\\AppData\\Local\\Temp\\tmp9sibns60\\output.csv`\n",
      "WARNING:pystan:Automatic Differentiation Variational Inference (ADVI) is an EXPERIMENTAL ALGORITHM.\n",
      "WARNING:pystan:ADVI samples may be found on the filesystem in the file `C:\\Users\\my\\AppData\\Local\\Temp\\tmpw3nmepxh\\output.csv`\n",
      "WARNING:pystan:Automatic Differentiation Variational Inference (ADVI) is an EXPERIMENTAL ALGORITHM.\n",
      "WARNING:pystan:ADVI samples may be found on the filesystem in the file `C:\\Users\\my\\AppData\\Local\\Temp\\tmpv0zgve6h\\output.csv`\n",
      "WARNING:pystan:Automatic Differentiation Variational Inference (ADVI) is an EXPERIMENTAL ALGORITHM.\n",
      "WARNING:pystan:ADVI samples may be found on the filesystem in the file `C:\\Users\\my\\AppData\\Local\\Temp\\tmpunobywe6\\output.csv`\n",
      "WARNING:pystan:Automatic Differentiation Variational Inference (ADVI) is an EXPERIMENTAL ALGORITHM.\n",
      "WARNING:pystan:ADVI samples may be found on the filesystem in the file `C:\\Users\\my\\AppData\\Local\\Temp\\tmpkg6mzc4z\\output.csv`\n",
      "WARNING:pystan:Automatic Differentiation Variational Inference (ADVI) is an EXPERIMENTAL ALGORITHM.\n",
      "WARNING:pystan:ADVI samples may be found on the filesystem in the file `C:\\Users\\my\\AppData\\Local\\Temp\\tmp38skqg23\\output.csv`\n",
      "WARNING:pystan:Automatic Differentiation Variational Inference (ADVI) is an EXPERIMENTAL ALGORITHM.\n",
      "WARNING:pystan:ADVI samples may be found on the filesystem in the file `C:\\Users\\my\\AppData\\Local\\Temp\\tmp0z_6mdun\\output.csv`\n",
      "WARNING:pystan:Automatic Differentiation Variational Inference (ADVI) is an EXPERIMENTAL ALGORITHM.\n",
      "WARNING:pystan:ADVI samples may be found on the filesystem in the file `C:\\Users\\my\\AppData\\Local\\Temp\\tmpsvr6axs1\\output.csv`\n",
      "WARNING:pystan:Automatic Differentiation Variational Inference (ADVI) is an EXPERIMENTAL ALGORITHM.\n",
      "WARNING:pystan:ADVI samples may be found on the filesystem in the file `C:\\Users\\my\\AppData\\Local\\Temp\\tmplt9ya5bv\\output.csv`\n",
      "WARNING:pystan:Automatic Differentiation Variational Inference (ADVI) is an EXPERIMENTAL ALGORITHM.\n",
      "WARNING:pystan:ADVI samples may be found on the filesystem in the file `C:\\Users\\my\\AppData\\Local\\Temp\\tmppn6rqq6h\\output.csv`\n",
      "WARNING:pystan:Automatic Differentiation Variational Inference (ADVI) is an EXPERIMENTAL ALGORITHM.\n",
      "WARNING:pystan:ADVI samples may be found on the filesystem in the file `C:\\Users\\my\\AppData\\Local\\Temp\\tmp_1m08rrm\\output.csv`\n",
      "WARNING:pystan:Automatic Differentiation Variational Inference (ADVI) is an EXPERIMENTAL ALGORITHM.\n",
      "WARNING:pystan:ADVI samples may be found on the filesystem in the file `C:\\Users\\my\\AppData\\Local\\Temp\\tmp8pka0wr3\\output.csv`\n",
      "WARNING:pystan:Automatic Differentiation Variational Inference (ADVI) is an EXPERIMENTAL ALGORITHM.\n",
      "WARNING:pystan:ADVI samples may be found on the filesystem in the file `C:\\Users\\my\\AppData\\Local\\Temp\\tmpzfo3o3h8\\output.csv`\n",
      "WARNING:pystan:Automatic Differentiation Variational Inference (ADVI) is an EXPERIMENTAL ALGORITHM.\n",
      "WARNING:pystan:ADVI samples may be found on the filesystem in the file `C:\\Users\\my\\AppData\\Local\\Temp\\tmpe8praoav\\output.csv`\n",
      "WARNING:pystan:Automatic Differentiation Variational Inference (ADVI) is an EXPERIMENTAL ALGORITHM.\n"
     ]
    },
    {
     "name": "stderr",
     "output_type": "stream",
     "text": [
      "WARNING:pystan:ADVI samples may be found on the filesystem in the file `C:\\Users\\my\\AppData\\Local\\Temp\\tmp4y51f10l\\output.csv`\n",
      "WARNING:pystan:Automatic Differentiation Variational Inference (ADVI) is an EXPERIMENTAL ALGORITHM.\n",
      "WARNING:pystan:ADVI samples may be found on the filesystem in the file `C:\\Users\\my\\AppData\\Local\\Temp\\tmpbgefc3of\\output.csv`\n",
      "WARNING:pystan:Automatic Differentiation Variational Inference (ADVI) is an EXPERIMENTAL ALGORITHM.\n",
      "WARNING:pystan:ADVI samples may be found on the filesystem in the file `C:\\Users\\my\\AppData\\Local\\Temp\\tmpu4dmdv58\\output.csv`\n",
      "WARNING:pystan:Automatic Differentiation Variational Inference (ADVI) is an EXPERIMENTAL ALGORITHM.\n",
      "WARNING:pystan:ADVI samples may be found on the filesystem in the file `C:\\Users\\my\\AppData\\Local\\Temp\\tmpzl65zx7_\\output.csv`\n",
      "WARNING:pystan:Automatic Differentiation Variational Inference (ADVI) is an EXPERIMENTAL ALGORITHM.\n",
      "WARNING:pystan:ADVI samples may be found on the filesystem in the file `C:\\Users\\my\\AppData\\Local\\Temp\\tmp0z5jy7cn\\output.csv`\n",
      "WARNING:pystan:Automatic Differentiation Variational Inference (ADVI) is an EXPERIMENTAL ALGORITHM.\n",
      "WARNING:pystan:ADVI samples may be found on the filesystem in the file `C:\\Users\\my\\AppData\\Local\\Temp\\tmpbw89svl8\\output.csv`\n",
      "WARNING:pystan:Automatic Differentiation Variational Inference (ADVI) is an EXPERIMENTAL ALGORITHM.\n",
      "WARNING:pystan:ADVI samples may be found on the filesystem in the file `C:\\Users\\my\\AppData\\Local\\Temp\\tmphrfju0ey\\output.csv`\n",
      "WARNING:pystan:Automatic Differentiation Variational Inference (ADVI) is an EXPERIMENTAL ALGORITHM.\n",
      "WARNING:pystan:ADVI samples may be found on the filesystem in the file `C:\\Users\\my\\AppData\\Local\\Temp\\tmparfv8919\\output.csv`\n",
      "WARNING:pystan:Automatic Differentiation Variational Inference (ADVI) is an EXPERIMENTAL ALGORITHM.\n",
      "WARNING:pystan:ADVI samples may be found on the filesystem in the file `C:\\Users\\my\\AppData\\Local\\Temp\\tmpql7z29jl\\output.csv`\n",
      "WARNING:pystan:Automatic Differentiation Variational Inference (ADVI) is an EXPERIMENTAL ALGORITHM.\n",
      "WARNING:pystan:ADVI samples may be found on the filesystem in the file `C:\\Users\\my\\AppData\\Local\\Temp\\tmp5sjhymdh\\output.csv`\n",
      "WARNING:pystan:Automatic Differentiation Variational Inference (ADVI) is an EXPERIMENTAL ALGORITHM.\n",
      "WARNING:pystan:ADVI samples may be found on the filesystem in the file `C:\\Users\\my\\AppData\\Local\\Temp\\tmpflft2luo\\output.csv`\n",
      "WARNING:pystan:Automatic Differentiation Variational Inference (ADVI) is an EXPERIMENTAL ALGORITHM.\n",
      "WARNING:pystan:ADVI samples may be found on the filesystem in the file `C:\\Users\\my\\AppData\\Local\\Temp\\tmpr04sduto\\output.csv`\n",
      "WARNING:pystan:Automatic Differentiation Variational Inference (ADVI) is an EXPERIMENTAL ALGORITHM.\n",
      "WARNING:pystan:ADVI samples may be found on the filesystem in the file `C:\\Users\\my\\AppData\\Local\\Temp\\tmp2mf51u3b\\output.csv`\n",
      "WARNING:pystan:Automatic Differentiation Variational Inference (ADVI) is an EXPERIMENTAL ALGORITHM.\n",
      "WARNING:pystan:ADVI samples may be found on the filesystem in the file `C:\\Users\\my\\AppData\\Local\\Temp\\tmpjr9l59o1\\output.csv`\n",
      "WARNING:pystan:Automatic Differentiation Variational Inference (ADVI) is an EXPERIMENTAL ALGORITHM.\n",
      "WARNING:pystan:ADVI samples may be found on the filesystem in the file `C:\\Users\\my\\AppData\\Local\\Temp\\tmpyt8tdvyu\\output.csv`\n",
      "WARNING:pystan:Automatic Differentiation Variational Inference (ADVI) is an EXPERIMENTAL ALGORITHM.\n",
      "WARNING:pystan:ADVI samples may be found on the filesystem in the file `C:\\Users\\my\\AppData\\Local\\Temp\\tmpmt23qqyg\\output.csv`\n",
      "WARNING:pystan:Automatic Differentiation Variational Inference (ADVI) is an EXPERIMENTAL ALGORITHM.\n",
      "WARNING:pystan:ADVI samples may be found on the filesystem in the file `C:\\Users\\my\\AppData\\Local\\Temp\\tmpgwrd5358\\output.csv`\n"
     ]
    }
   ],
   "source": [
    "ppost_stan = []\n",
    "for i in range(1000):\n",
    "    fit = sm.vb(data = dict(y=y2, N = len(y2)))\n",
    "    ppost_stan.append([np.mean(fit['sampler_params'][0]),np.std(fit['sampler_params'][0])])"
   ]
  },
  {
   "cell_type": "markdown",
   "metadata": {},
   "source": [
    "“随机”梯度下降依据：\n",
    "\n",
    "期望变分参数之梯度\n",
    "$$\n",
    "\\nabla_\\mu \\mathscr{L} = \\mathbf{E}_{\\mathscr{N}(\\mathbf{\\eta})} (\\nabla_\\theta \\log p(\\mathbf{x},\\mathbf{\\theta}) \\nabla_\\xi T^{-1}(\\xi)+\n",
    "\\nabla_\\xi \\log \\mid \\det J_{T^{-1}}(\\xi) \\mid)\n",
    "$$\n",
    "\n",
    "$\\omega$变分参数（$\\omega = \\log \\sigma$,$\\omega$为平均场设定下设定的向量，满秩设定采用chol分解因子$L$一般）参数之梯度\n",
    "$$\n",
    "\\nabla_\\omega \\mathscr{L} = \\mathbf{E}_{\\mathscr{N}(\\mathbf{\\eta})} (\\nabla_\\theta \\log p(\\mathbf{x},\\mathbf{\\theta}) \\nabla_\\xi T^{-1}(\\xi)+\n",
    "\\nabla_\\xi \\log \\mid \\det J_{T^{-1}}(\\xi) \\mid)\\eta^T \\mathrm{diag}(\\exp(\\omega)) + \\mathbf{1} \\\\\n",
    "\\nabla_\\mathbf{L} \\mathscr{L} = \\mathbf{E}_{\\mathscr{N}(\\mathbf{\\eta})} (\\nabla_\\theta \\log p(\\mathbf{x},\\mathbf{\\theta}) \\nabla_\\xi T^{-1}(\\xi)+\n",
    "\\nabla_\\xi \\log \\mid \\det J_{T^{-1}}(\\xi) \\mid)\\eta^T ) + \\mathbf{L}^{-1}\n",
    "$$"
   ]
  },
  {
   "cell_type": "code",
   "execution_count": 23,
   "metadata": {
    "collapsed": true
   },
   "outputs": [],
   "source": [
    "#mu_q_mu = Variable(torch.zeros(1),requires_grad=True)\n",
    "#mu_q_sigma = Variable(torch.ones(1),requires_grad=True)\n",
    "mu_q_mu = 0.0\n",
    "mu_q_omega = 1.0 # omega = log(sigma)"
   ]
  },
  {
   "cell_type": "code",
   "execution_count": 25,
   "metadata": {},
   "outputs": [],
   "source": [
    "q_size = 10\n",
    "#mu_q_samples = np.random.normal(loc=mu_q_mu.data.numpy(),scale=mu_q_sigma.data.numpy(),size=q_size)\n",
    "mu_q_samples_eta = np.random.normal(size=q_size) # theta(constrained) -> xi(unconstrained) ~ normal -> eta(standarded) ~ Normal(0,1)\n",
    "mu_q_samples = mu_q_samples_eta*np.exp(mu_q_omega) + mu_q_mu"
   ]
  },
  {
   "cell_type": "code",
   "execution_count": 33,
   "metadata": {},
   "outputs": [],
   "source": [
    "mu_q_mu_grad = 0.0\n",
    "mu_q_omega_grad = 0.0\n",
    "\n",
    "for mu_q_samples_eta,mu_q_sample in zip(mu_q_samples_eta,mu_q_samples):\n",
    "    mu_q = Variable(torch.ones(1)*mu_q_sample, requires_grad=True)\n",
    "    target = normal_lp(y,mu_q,1)\n",
    "    loss = -target\n",
    "    loss.backward()\n",
    "    mu_q_mu_grad += mu_q.grad.data.numpy()\n",
    "    \n",
    "    mu_q_omega_grad += mu_q.grad.data.numpy() * mu_q_samples_eta *np.exp(mu_q_omega)\n",
    "    \n",
    "mu_q_mu_grad /= q_size\n",
    "mu_q_omega_grad /= q_size\n",
    "mu_q_omega_grad += 1\n"
   ]
  },
  {
   "cell_type": "code",
   "execution_count": 34,
   "metadata": {},
   "outputs": [
    {
     "data": {
      "text/plain": [
       "array([-27.935236], dtype=float32)"
      ]
     },
     "execution_count": 34,
     "metadata": {},
     "output_type": "execute_result"
    }
   ],
   "source": [
    "mu_q_mu_grad"
   ]
  },
  {
   "cell_type": "code",
   "execution_count": 35,
   "metadata": {},
   "outputs": [
    {
     "data": {
      "text/plain": [
       "array([226.88248], dtype=float32)"
      ]
     },
     "execution_count": 35,
     "metadata": {},
     "output_type": "execute_result"
    }
   ],
   "source": [
    "mu_q_omega_grad"
   ]
  },
  {
   "cell_type": "code",
   "execution_count": 136,
   "metadata": {},
   "outputs": [
    {
     "data": {
      "text/plain": [
       "-1.6151079632521659"
      ]
     },
     "execution_count": 136,
     "metadata": {},
     "output_type": "execute_result"
    }
   ],
   "source": [
    "mu_q_samples_eta"
   ]
  },
  {
   "cell_type": "code",
   "execution_count": 184,
   "metadata": {
    "collapsed": true
   },
   "outputs": [],
   "source": [
    "def grad_q(mu_q_mu, mu_q_omega, q_size = 10):\n",
    "    \n",
    "    mu_q_samples_eta = np.random.normal(size=q_size) # theta(constrained) -> xi(unconstrained) ~ normal -> eta(standarded) ~ Normal(0,1)\n",
    "    mu_q_samples = mu_q_samples_eta*np.exp(mu_q_omega) + mu_q_mu\n",
    "    \n",
    "    mu_q_mu_grad = 0.0\n",
    "    mu_q_omega_grad = 0.0\n",
    "\n",
    "    for mu_q_samples_eta,mu_q_sample in zip(mu_q_samples_eta,mu_q_samples):\n",
    "        mu_q = Variable(torch.ones(1)*mu_q_sample, requires_grad=True)\n",
    "        target = normal_lp(y,mu_q,1)\n",
    "        target.backward()\n",
    "        #loss = -target\n",
    "        #loss.backward()\n",
    "        mu_q_mu_grad += mu_q.grad.data.numpy()\n",
    "        \n",
    "        #print(target.data[0],mu_q.grad.data.numpy(), mu_q_samples_eta, np.exp(mu_q_omega))\n",
    "        mu_q_omega_grad += mu_q.grad.data.numpy() * mu_q_samples_eta #*np.exp(mu_q_omega)\n",
    "\n",
    "    mu_q_mu_grad /= q_size\n",
    "    mu_q_omega_grad /= q_size\n",
    "    mu_q_omega_grad *= np.exp(mu_q_omega)\n",
    "    mu_q_omega_grad += 1.0\n",
    "    return mu_q_mu_grad,mu_q_omega_grad"
   ]
  },
  {
   "cell_type": "code",
   "execution_count": 180,
   "metadata": {},
   "outputs": [
    {
     "name": "stdout",
     "output_type": "stream",
     "text": [
      "-7.533953666687012 [-4.2036176e-05] 0.2226337797113641 [9.871969e-06]\n",
      "-7.533953666687012 [-4.298985e-05] 0.2302885023425095 [9.871969e-06]\n",
      "-7.533953666687012 [0.00010817] -0.536077660940225 [9.871969e-06]\n",
      "-7.533953666687012 [-0.00010343] 0.5335959700874251 [9.871969e-06]\n",
      "-7.533953666687012 [0.00022499] -1.1281482983177094 [9.871969e-06]\n",
      "-7.53395414352417 [-6.170571e-05] 0.32224425188157674 [9.871969e-06]\n",
      "-7.533953666687012 [0.00019829] -0.9937985887459845 [9.871969e-06]\n",
      "-7.533953666687012 [-8.657575e-06] 0.053218432497989285 [9.871969e-06]\n",
      "-7.533953666687012 [-0.00021227] 1.0875599515138579 [9.871969e-06]\n",
      "-7.53395414352417 [0.0002145] -1.0757209786479593 [9.871969e-06]\n"
     ]
    },
    {
     "data": {
      "text/plain": [
       "(array([2.7486682e-05], dtype=float32), array([1.], dtype=float32))"
      ]
     },
     "execution_count": 180,
     "metadata": {},
     "output_type": "execute_result"
    }
   ],
   "source": [
    "grad_q(mu_q_mu, mu_q_omega)"
   ]
  },
  {
   "cell_type": "code",
   "execution_count": 181,
   "metadata": {},
   "outputs": [
    {
     "name": "stdout",
     "output_type": "stream",
     "text": [
      "-7.534194469451904 [0.09814732] 0.0014952808221046854 1.0\n",
      "-7.536289215087891 [0.3056382] -0.008879246810882868 1.0\n",
      "-39.210514068603516 [35.59582] -1.7733883470758618 1.0\n",
      "-13.829805374145508 [15.869281] -0.7870613821166278 1.0\n",
      "-13.446975708007812 [-15.379235] 0.7753644691900808 1.0\n",
      "-12.326577186584473 [-13.845756] 0.6986904397637416 1.0\n",
      "-30.111600875854492 [-30.05172] 1.508988574791585 1.0\n",
      "-17.526914596557617 [19.992958] -0.9932453141417751 1.0\n",
      "-8.411796569824219 [5.9256825] -0.2898814874361849 1.0\n",
      "-11.739463806152344 [-12.96998] 0.65490166189617 1.0\n"
     ]
    },
    {
     "data": {
      "text/plain": [
       "(array([0.5540838], dtype=float32), array([-16.26337], dtype=float32))"
      ]
     },
     "execution_count": 181,
     "metadata": {},
     "output_type": "execute_result"
    }
   ],
   "source": [
    "grad_q(0.36,0)"
   ]
  },
  {
   "cell_type": "code",
   "execution_count": 182,
   "metadata": {
    "scrolled": true
   },
   "outputs": [
    {
     "name": "stdout",
     "output_type": "stream",
     "text": [
      "-8.404897689819336 [5.902353] -0.7848087269967956 0.36787944117144233\n",
      "-7.925912857055664 [3.9595919] -0.5207601299133467 0.36787944117144233\n",
      "-7.746644973754883 [-2.9167876] 0.413836683781184 0.36787944117144233\n",
      "-7.858697891235352 [-3.6041305] 0.5072562783682488 0.36787944117144233\n",
      "-9.109000205993652 [-7.9373713] 1.0962048420341968 0.36787944117144233\n",
      "-7.5340070724487305 [-0.0462857] 0.023695054489860024 0.36787944117144233\n",
      "-12.00731372833252 [-13.3766365] 1.8354775102756988 0.36787944117144233\n",
      "-7.543758392333984 [0.62625796] -0.06771309829082954 0.36787944117144233\n",
      "-10.791436195373535 [11.414872] -1.5340378263753989 0.36787944117144233\n",
      "-7.563039779663086 [-1.0786263] 0.1640046835282517 0.36787944117144233\n"
     ]
    },
    {
     "data": {
      "text/plain": [
       "(array([-0.7056763], dtype=float32), array([-1.2335527], dtype=float32))"
      ]
     },
     "execution_count": 182,
     "metadata": {},
     "output_type": "execute_result"
    }
   ],
   "source": [
    "grad_q(0.36,-1)"
   ]
  },
  {
   "cell_type": "code",
   "execution_count": 183,
   "metadata": {},
   "outputs": [
    {
     "name": "stdout",
     "output_type": "stream",
     "text": [
      "-7.543975353240967 [-0.6331364] 0.4636590738460825 0.0820849986238988\n",
      "-7.55221700668335 [0.85470706] -0.44262310102131475 0.0820849986238988\n",
      "-7.550801753997803 [0.82092613] -0.4220460816665051 0.0820849986238988\n",
      "-7.5506486892700195 [-0.81719077] 0.5757711347821525 0.0820849986238988\n",
      "-7.570662498474121 [1.2117562] -0.660110470888259 0.0820849986238988\n",
      "-7.546915054321289 [0.7200317] -0.36058896964296 0.0820849986238988\n",
      "-7.533953666687012 [0.00268261] 0.07636605866997537 0.0820849986238988\n",
      "-7.546417236328125 [-0.70607436] 0.5080875985790488 0.0820849986238988\n",
      "-7.561623573303223 [-1.052043] 0.7188257289694143 0.0820849986238988\n",
      "-7.630311489105225 [-1.9632394] 1.2738578308957338 0.0820849986238988\n"
     ]
    },
    {
     "data": {
      "text/plain": [
       "(array([-0.156158], dtype=float32), array([0.9494024], dtype=float32))"
      ]
     },
     "execution_count": 183,
     "metadata": {},
     "output_type": "execute_result"
    }
   ],
   "source": [
    "grad_q(0.36,-2.5)"
   ]
  },
  {
   "cell_type": "code",
   "execution_count": 158,
   "metadata": {},
   "outputs": [
    {
     "name": "stdout",
     "output_type": "stream",
     "text": [
      "[-0.13578029] -0.05734153856805679 0.006737946999085467\n",
      "[-0.26619285] -1.0250902609660595 0.006737946999085467\n",
      "[-0.01381795] 0.8477007740016017 0.006737946999085467\n",
      "[-0.22332112] -0.7069538564709593 0.006737946999085467\n",
      "[-0.20960797] -0.6051907547991681 0.006737946999085467\n",
      "[-0.06845085] 0.4422873962230695 0.006737946999085467\n",
      "[-0.02473383] 0.7666948836202403 0.006737946999085467\n",
      "[-0.1794671] -0.38152417060047134 0.006737946999085467\n",
      "[0.08567245] 1.5859805823816426 0.006737946999085467\n",
      "[-0.25378454] -0.9330128622048296 0.006737946999085467\n"
     ]
    },
    {
     "data": {
      "text/plain": [
       "(array([-0.1289484], dtype=float32), array([0.00063712], dtype=float32))"
      ]
     },
     "execution_count": 158,
     "metadata": {},
     "output_type": "execute_result"
    }
   ],
   "source": [
    "grad_q(0.36,-5)"
   ]
  },
  {
   "cell_type": "code",
   "execution_count": 159,
   "metadata": {},
   "outputs": [
    {
     "name": "stdout",
     "output_type": "stream",
     "text": [
      "[-0.12714414] 1.0005218139705558 4.5399929762484854e-05\n",
      "[-0.12824206] -0.20869664062225887 4.5399929762484854e-05\n",
      "[-0.12856404] -0.5630704022049372 4.5399929762484854e-05\n",
      "[-0.12793343] 0.13149534999830156 4.5399929762484854e-05\n",
      "[-0.12819092] -0.15197463658548493 4.5399929762484854e-05\n",
      "[-0.12752335] 0.5833494949150893 4.5399929762484854e-05\n",
      "[-0.1291594] -1.2183812923499213 4.5399929762484854e-05\n",
      "[-0.12689342] 1.2773605145341744 4.5399929762484854e-05\n",
      "[-0.12801398] 0.04287152818783283 4.5399929762484854e-05\n",
      "[-0.12809198] -0.04327223739896249 4.5399929762484854e-05\n"
     ]
    },
    {
     "data": {
      "text/plain": [
       "(array([-0.12797567], dtype=float32), array([-4.7423106e-07], dtype=float32))"
      ]
     },
     "execution_count": 159,
     "metadata": {},
     "output_type": "execute_result"
    }
   ],
   "source": [
    "grad_q(0.36,-10)"
   ]
  },
  {
   "cell_type": "code",
   "execution_count": 145,
   "metadata": {},
   "outputs": [
    {
     "name": "stdout",
     "output_type": "stream",
     "text": [
      "[-0.12805264] -0.3739058200818378 3.720075976020836e-44\n",
      "[-0.12805264] -1.1252546862048873 3.720075976020836e-44\n",
      "[-0.12805264] 1.1743753581122953 3.720075976020836e-44\n",
      "[-0.12805264] 0.2168079444574901 3.720075976020836e-44\n",
      "[-0.12805264] -1.189568289129904 3.720075976020836e-44\n",
      "[-0.12805264] 0.4786041197869711 3.720075976020836e-44\n",
      "[-0.12805264] -0.2648865850212951 3.720075976020836e-44\n",
      "[-0.12805264] -1.182598209022306 3.720075976020836e-44\n",
      "[-0.12805264] -1.2357593785415266 3.720075976020836e-44\n",
      "[-0.12805264] 1.9043439303917344 3.720075976020836e-44\n"
     ]
    },
    {
     "data": {
      "text/plain": [
       "(array([-0.12805262], dtype=float32), array([1.], dtype=float32))"
      ]
     },
     "execution_count": 145,
     "metadata": {},
     "output_type": "execute_result"
    }
   ],
   "source": [
    "grad_q(0.36,-100)"
   ]
  },
  {
   "cell_type": "code",
   "execution_count": 55,
   "metadata": {
    "collapsed": true
   },
   "outputs": [],
   "source": [
    "lr = 0.001"
   ]
  },
  {
   "cell_type": "code",
   "execution_count": 80,
   "metadata": {
    "collapsed": true
   },
   "outputs": [],
   "source": [
    "for epoch in range(100):\n",
    "    mu_q_mu_grad, mu_q_omega_grad = grad_q(mu_q_mu, mu_q_omega)\n",
    "    mu_q_mu -= mu_q_mu_grad * lr\n",
    "    mu_q_omega -= mu_q_omega_grad * lr"
   ]
  },
  {
   "cell_type": "code",
   "execution_count": 81,
   "metadata": {},
   "outputs": [
    {
     "data": {
      "text/plain": [
       "array([0.36268085], dtype=float32)"
      ]
     },
     "execution_count": 81,
     "metadata": {},
     "output_type": "execute_result"
    }
   ],
   "source": [
    "mu_q_mu"
   ]
  },
  {
   "cell_type": "code",
   "execution_count": 82,
   "metadata": {},
   "outputs": [
    {
     "data": {
      "text/plain": [
       "array([-2.0681887], dtype=float32)"
      ]
     },
     "execution_count": 82,
     "metadata": {},
     "output_type": "execute_result"
    }
   ],
   "source": [
    "mu_q_omega"
   ]
  },
  {
   "cell_type": "code",
   "execution_count": 83,
   "metadata": {},
   "outputs": [
    {
     "data": {
      "text/plain": [
       "array([0.12641455], dtype=float32)"
      ]
     },
     "execution_count": 83,
     "metadata": {},
     "output_type": "execute_result"
    }
   ],
   "source": [
    "np.exp(mu_q_omega)"
   ]
  },
  {
   "cell_type": "code",
   "execution_count": 188,
   "metadata": {
    "collapsed": true
   },
   "outputs": [],
   "source": [
    "mu_q_mu = 0.0\n",
    "mu_q_omega = 0.0"
   ]
  },
  {
   "cell_type": "code",
   "execution_count": 189,
   "metadata": {},
   "outputs": [],
   "source": [
    "ppost_torch = []\n",
    "for i in range(100):\n",
    "    for epoch in range(100):\n",
    "        mu_q_mu_grad, mu_q_omega_grad = grad_q(mu_q_mu, mu_q_omega)\n",
    "        mu_q_mu += mu_q_mu_grad * lr\n",
    "        mu_q_omega += mu_q_omega_grad * lr\n",
    "    ppost_torch.append([mu_q_mu,np.exp(mu_q_omega)])"
   ]
  },
  {
   "cell_type": "code",
   "execution_count": 190,
   "metadata": {},
   "outputs": [
    {
     "data": {
      "text/plain": [
       "array([0.37196043], dtype=float32)"
      ]
     },
     "execution_count": 190,
     "metadata": {},
     "output_type": "execute_result"
    }
   ],
   "source": [
    "mu_q_mu"
   ]
  },
  {
   "cell_type": "code",
   "execution_count": 191,
   "metadata": {},
   "outputs": [
    {
     "data": {
      "text/plain": [
       "array([-1.68484273e+76,  1.43333369e+78])"
      ]
     },
     "execution_count": 191,
     "metadata": {},
     "output_type": "execute_result"
    }
   ],
   "source": [
    "np.mean(np.array(ppost_stan),axis=0)"
   ]
  },
  {
   "cell_type": "code",
   "execution_count": 163,
   "metadata": {},
   "outputs": [],
   "source": [
    "_ppost_stan = np.clip(ppost_stan,0.0,1.0)"
   ]
  },
  {
   "cell_type": "code",
   "execution_count": 164,
   "metadata": {},
   "outputs": [
    {
     "data": {
      "text/plain": [
       "array([0.37015113, 0.22651429])"
      ]
     },
     "execution_count": 164,
     "metadata": {},
     "output_type": "execute_result"
    }
   ],
   "source": [
    "np.mean(np.array(_ppost_stan),axis=0) # stan这种不靠谱的东西当然日常出一些溢出异常值"
   ]
  },
  {
   "cell_type": "code",
   "execution_count": 192,
   "metadata": {},
   "outputs": [
    {
     "data": {
      "text/plain": [
       "array([[0.37196007],\n",
       "       [0.23125193]], dtype=float32)"
      ]
     },
     "execution_count": 192,
     "metadata": {},
     "output_type": "execute_result"
    }
   ],
   "source": [
    "np.mean(np.array(ppost_torch),axis=0)"
   ]
  },
  {
   "cell_type": "markdown",
   "metadata": {},
   "source": [
    "# 采样"
   ]
  },
  {
   "cell_type": "code",
   "execution_count": 165,
   "metadata": {},
   "outputs": [
    {
     "name": "stderr",
     "output_type": "stream",
     "text": [
      "D:\\anaconda\\lib\\site-packages\\pystan\\misc.py:399: FutureWarning: Conversion of the second argument of issubdtype from `float` to `np.floating` is deprecated. In future, it will be treated as `np.float64 == np.dtype(float).type`.\n",
      "  elif np.issubdtype(np.asarray(v).dtype, float):\n"
     ]
    }
   ],
   "source": [
    "fit = sm.sampling(data = dict(y=y2, N = len(y2)))"
   ]
  },
  {
   "cell_type": "code",
   "execution_count": 166,
   "metadata": {},
   "outputs": [
    {
     "name": "stdout",
     "output_type": "stream",
     "text": [
      "Inference for Stan model: anon_model_3aaa1aff3be33470f8a5bfa56085d51c.\n",
      "4 chains, each with iter=2000; warmup=1000; thin=1; \n",
      "post-warmup draws per chain=1000, total post-warmup draws=4000.\n",
      "\n",
      "       mean se_mean     sd   2.5%    25%    50%    75%  97.5%  n_eff   Rhat\n",
      "mu     0.37  5.7e-3   0.22  -0.05   0.21   0.37   0.52   0.81   1494    1.0\n",
      "lp__  -8.03    0.02   0.67  -9.95   -8.2  -7.76  -7.59  -7.53   1664    1.0\n",
      "\n",
      "Samples were drawn using NUTS at Mon Apr  9 09:01:32 2018.\n",
      "For each parameter, n_eff is a crude measure of effective sample size,\n",
      "and Rhat is the potential scale reduction factor on split chains (at \n",
      "convergence, Rhat=1).\n"
     ]
    }
   ],
   "source": [
    "print(fit)"
   ]
  },
  {
   "cell_type": "markdown",
   "metadata": {},
   "source": [
    "虽然stan默认用的是NUTS采样器，但我们实现较为简单的哈密尔顿蒙特卡洛采样法（HMC）\n",
    "\n",
    "<img src=\"HMC.png\">"
   ]
  },
  {
   "cell_type": "code",
   "execution_count": 211,
   "metadata": {
    "collapsed": true
   },
   "outputs": [],
   "source": [
    "def hmc_grad(mu):\n",
    "    #mu_q = Variable(torch.ones(1)*mu, requires_grad=True)\n",
    "    mu_q = Variable(torch.from_numpy(mu).float(), requires_grad=True)\n",
    "    target = normal_lp(y,mu_q,1)\n",
    "    target.backward()\n",
    "    return mu_q.data.numpy()\n",
    "\n",
    "def hmc_L(mu):\n",
    "    mu_q = Variable(torch.from_numpy(mu).float(), requires_grad=True)\n",
    "    target = normal_lp(y,mu_q,1)\n",
    "    return target.data.numpy()\n",
    "\n",
    "def hmc(mu_q,epsilon=0.01,L=20,M=100):\n",
    "    mu_q = np.array(mu_q)\n",
    "    sample = [mu_q]\n",
    "    for m in range(1,M):\n",
    "        r = np.random.normal()\n",
    "        #sample[m] = sample[m-1]\n",
    "        sample.append(sample[m-1])\n",
    "        mu_q_ = sample[m-1]\n",
    "        r_ = r\n",
    "        for i in range(L):\n",
    "            r_ = r_ + epsilon/2.0 * hmc_grad(mu_q_)\n",
    "            mu_q_ = mu_q_ + epsilon * r_\n",
    "            r_ = r_ + epsilon/2.0 * hmc_grad(mu_q_)\n",
    "        p = np.exp(hmc_L(mu_q_) -0.5*r_*r_)/ np.exp(hmc_L(sample[m-1])-0.5*r*r)\n",
    "        alpha = np.min([1,p])\n",
    "        if np.random.random() < alpha:\n",
    "            sample[m] = mu_q_\n",
    "    return sample"
   ]
  },
  {
   "cell_type": "code",
   "execution_count": 212,
   "metadata": {},
   "outputs": [],
   "source": [
    "fit2 = hmc([0.36],M=1000)"
   ]
  },
  {
   "cell_type": "code",
   "execution_count": 213,
   "metadata": {},
   "outputs": [
    {
     "data": {
      "text/plain": [
       "(0.34214126220486607, 0.22397032206471484)"
      ]
     },
     "execution_count": 213,
     "metadata": {},
     "output_type": "execute_result"
    }
   ],
   "source": [
    "np.mean(fit2),np.std(fit2)"
   ]
  },
  {
   "cell_type": "code",
   "execution_count": null,
   "metadata": {
    "collapsed": true
   },
   "outputs": [],
   "source": []
  }
 ],
 "metadata": {
  "kernelspec": {
   "display_name": "Python 3",
   "language": "python",
   "name": "python3"
  },
  "language_info": {
   "codemirror_mode": {
    "name": "ipython",
    "version": 3
   },
   "file_extension": ".py",
   "mimetype": "text/x-python",
   "name": "python",
   "nbconvert_exporter": "python",
   "pygments_lexer": "ipython3",
   "version": "3.6.2"
  }
 },
 "nbformat": 4,
 "nbformat_minor": 2
}
