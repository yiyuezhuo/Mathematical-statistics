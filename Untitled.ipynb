{
 "cells": [
  {
   "cell_type": "markdown",
   "metadata": {},
   "source": [
    "# Statistic\n",
    "\n",
    "## C-R inequality \n",
    "\n",
    "If we want to make sure that a estimator is a UMVUE(Uniformly Minimum Variance Unbiased Estimator).In fact,\n",
    "the estimator is comparing all possible estimator whenever you don't know it.How we compare it to a unknow one?\n",
    "Yes, if we get a low bound of variance in every possible estimator,and we found variance of the estmator equal to \n",
    "this bound.Then we can derived the conclusion that the estimator is UMVUE one.\n",
    "\n",
    "However,C-R inquality give a low bound for that."
   ]
  },
  {
   "cell_type": "code",
   "execution_count": null,
   "metadata": {
    "collapsed": true
   },
   "outputs": [],
   "source": []
  }
 ],
 "metadata": {
  "kernelspec": {
   "display_name": "Python 2",
   "language": "python",
   "name": "python2"
  },
  "language_info": {
   "codemirror_mode": {
    "name": "ipython",
    "version": 2
   },
   "file_extension": ".py",
   "mimetype": "text/x-python",
   "name": "python",
   "nbconvert_exporter": "python",
   "pygments_lexer": "ipython2",
   "version": "2.7.11"
  }
 },
 "nbformat": 4,
 "nbformat_minor": 0
}
